{
 "cells": [
  {
   "cell_type": "code",
   "execution_count": 2,
   "metadata": {},
   "outputs": [],
   "source": [
    "###Packages\n",
    "import pandas as pd\n",
    "import numpy as np\n",
    "import matplotlib.pyplot as plt\n",
    "import matplotlib.mlab as mlab\n",
    "from IPython.display import Image\n",
    "from IPython.core.display import HTML\n",
    "import datetime\n",
    "import math\n",
    "import scipy.optimize as optimize\n",
    "import statistics\n",
    "from sklearn.linear_model import LinearRegression\n",
    "import statsmodels.api as sm\n",
    "from statsmodels.formula.api import ols\n",
    "from statsmodels.stats.anova import anova_lm\n",
    "from scipy import stats\n",
    "import scipy\n",
    "import warnings\n",
    "from scipy.stats import norm\n",
    "from sklearn import datasets, linear_model\n",
    "from sklearn.model_selection import train_test_split, KFold\n",
    "from sklearn import ensemble\n",
    "from sklearn import datasets\n",
    "from sklearn.utils import shuffle\n",
    "from sklearn.metrics import mean_squared_error\n",
    "from sklearn.neural_network import MLPRegressor\n",
    "from sklearn.model_selection import KFold \n",
    "warnings.filterwarnings('ignore')\n",
    "plt.style.use('ggplot')\n",
    "from IPython.display import Image\n",
    "from IPython.core.display import HTML \n",
    "import xgboost"
   ]
  },
  {
   "cell_type": "code",
   "execution_count": 3,
   "metadata": {
    "collapsed": true
   },
   "outputs": [],
   "source": [
    "### data loading \n",
    "df = pd.read_csv('./data/loan.csv', low_memory=False)"
   ]
  },
  {
   "cell_type": "code",
   "execution_count": 4,
   "metadata": {
    "collapsed": true
   },
   "outputs": [],
   "source": [
    "### data loading & cleaning\n",
    "df = df.drop_duplicates(subset='id').reset_index(drop=True)\n",
    "df.replace([np.inf, -np.inf], np.nan)\n",
    "df = df.dropna(subset=['id', 'funded_amnt','int_rate','installment','grade'])\n",
    "df = df[np.isfinite(df['annual_inc']) & np.isfinite(df['int_rate']) &  np.isfinite(df['funded_amnt'])].copy()"
   ]
  },
  {
   "cell_type": "code",
   "execution_count": 5,
   "metadata": {
    "collapsed": true
   },
   "outputs": [],
   "source": [
    "###changing data type to appropriate date type \n",
    "df['last_pymnt_d']=pd.to_datetime(df.last_pymnt_d)\n",
    "df['issue_d']=pd.to_datetime(df.issue_d)"
   ]
  },
  {
   "cell_type": "code",
   "execution_count": 6,
   "metadata": {
    "collapsed": true
   },
   "outputs": [],
   "source": [
    "###fill missing last_payments(no payments) with issue date, may want a separete column for this treatment\n",
    "###This is for calculation of IRRs later\n",
    "df['last_pymnt_d'].fillna(df.issue_d,inplace=True)"
   ]
  },
  {
   "cell_type": "code",
   "execution_count": 7,
   "metadata": {
    "collapsed": true
   },
   "outputs": [],
   "source": [
    "###Some pre-processing for ease of calculations\n",
    "df['issue_yr'] = df.issue_d.dt.year\n",
    "df['issue_mo']= df.issue_d.dt.month\n",
    "df['last_pymnt_yr'] = df.last_pymnt_d.dt.year\n",
    "df['last_pymnt_mo']= df.last_pymnt_d.dt.month\n",
    "df['mo_diff'] = pd.to_numeric((df['last_pymnt_yr'] - \n",
    "                          df['issue_yr'])*12 + df['last_pymnt_mo'] -df['issue_mo'])"
   ]
  },
  {
   "cell_type": "code",
   "execution_count": 8,
   "metadata": {
    "collapsed": true
   },
   "outputs": [],
   "source": [
    "###Flag for completed loans\n",
    "searchfor = ['Fully Paid', 'Charged Off', 'Default']\n",
    "defaults = ['Charged Off', 'Default']\n",
    "df['loan_completion_flag']=  np.where(df['loan_status'].str.contains('|'.join(searchfor)) ,1, np.nan)\n",
    "###Flag for fully paid loans\n",
    "df['fully_paid'] = np.where(df['loan_status'].str.contains('Fully Paid') ,1, \n",
    "                                  np.where(df['loan_status'].str.contains('|'.join(defaults)) ,0,np.nan))\n"
   ]
  },
  {
   "cell_type": "code",
   "execution_count": 9,
   "metadata": {
    "collapsed": true
   },
   "outputs": [],
   "source": [
    "###Average payment = Total payment - recoveries - last payment amount over the life -1 month of the investment\n",
    "df['avg_pymnt'] = (df['total_pymnt']-df['recoveries']-df['last_pymnt_amnt'])/(np.maximum((df['mo_diff']-1),0))\n",
    "###Treating infinites that appear when there is no payment or only 1 payment \n",
    "df['avg_pymnt'] = (df['avg_pymnt']).replace(np.Inf,0)\n",
    "df['avg_pymnt'] = (df['avg_pymnt']).replace(-np.Inf,0)"
   ]
  },
  {
   "cell_type": "code",
   "execution_count": 10,
   "metadata": {
    "collapsed": true
   },
   "outputs": [],
   "source": [
    "###IRR calculations\n",
    "###Input: a row of a dataframe with lending data \n",
    "def irr_calc(x):  \n",
    "    ##varible initialization\n",
    "    initial_invest = -x['funded_amnt']\n",
    "    avg_payment = x['avg_pymnt']\n",
    "    num_payments = np.max(int(x['mo_diff'])-1,0)\n",
    "    recovery = x['recoveries'] -x['collection_recovery_fee']\n",
    "    recovery_duration = np.maximum(36 - num_payments + 1 + 12,12)\n",
    "    avg_recovery = recovery/recovery_duration\n",
    "    last_payment_amount = x['last_pymnt_amnt']\n",
    "    ###IRR calculation, input: series of cash flows, total payment - recoveries\n",
    "    ###evenly divided and spread across the life of the loan and finally recovery and chargeoff fees\n",
    "    return ((np.irr([initial_invest]+[avg_payment]*num_payments + [last_payment_amount] +\n",
    "                    [avg_recovery]*recovery_duration)+1)**12-1)"
   ]
  },
  {
   "cell_type": "code",
   "execution_count": 11,
   "metadata": {
    "collapsed": true
   },
   "outputs": [],
   "source": [
    "###Calculating at a row level, individual security IRRs. Method will be faulty for loans that didn't mature.\n",
    "###Warning: the calculation takes a fair amount of time ~few minutes\n",
    "df['irr']=df.apply(irr_calc, axis=1)"
   ]
  },
  {
   "cell_type": "code",
   "execution_count": 12,
   "metadata": {
    "collapsed": true
   },
   "outputs": [],
   "source": [
    "##NaNs returned from IRRs with 0 payments should be -100% return \n",
    "df['irr']=df['irr'].replace(np.NaN,-1)"
   ]
  },
  {
   "cell_type": "code",
   "execution_count": 13,
   "metadata": {
    "collapsed": true
   },
   "outputs": [],
   "source": [
    "####Filter down to completed loans and has at least 36 months of possible history\n",
    "df_filtered = df[df['loan_status'].str.contains('|'.join(searchfor))].query(\"term == ' 36 months' and issue_yr <=2012\").copy()"
   ]
  },
  {
   "cell_type": "code",
   "execution_count": 37,
   "metadata": {},
   "outputs": [],
   "source": [
    "##making grade flags\n",
    "grade_flags = pd.get_dummies(df_filtered.grade) \n",
    "home_flag = pd.get_dummies(df_filtered.home_ownership) \n",
    "purpose_flag = pd.get_dummies(df_filtered.purpose)\n",
    "df_filtered=pd.concat([df_filtered,grade_flags,home_flag,purpose_flag], axis=1)\n"
   ]
  },
  {
   "cell_type": "markdown",
   "metadata": {},
   "source": [
    "# Model Testing"
   ]
  },
  {
   "cell_type": "code",
   "execution_count": 35,
   "metadata": {},
   "outputs": [
    {
     "data": {
      "text/plain": [
       "array(['Jan-1985', 'Nov-2001', 'Feb-1996', 'Nov-2004', 'Jan-2007',\n",
       "       'Oct-1989', 'Apr-2004', 'Jul-2003', 'May-1991', 'Sep-2007',\n",
       "       'Oct-1998', 'Aug-1993', 'Oct-2003', 'Jan-2001', 'Feb-1983',\n",
       "       'Jul-1985', 'Apr-2003', 'Jun-2001', 'Feb-2002', 'Aug-1984',\n",
       "       'Nov-2006', 'Dec-1987', 'Nov-1981', 'Apr-2005', 'Oct-2007',\n",
       "       'Jul-2005', 'Dec-2000', 'Apr-2007', 'Jan-2003', 'Mar-1994',\n",
       "       'Sep-1998', 'Jun-2004', 'Nov-1995', 'Jul-1999', 'Jun-1995',\n",
       "       'Sep-1992', 'Jan-2002', 'Apr-1992', 'Oct-2006', 'May-2000',\n",
       "       'Dec-2004', 'Oct-2000', 'Jul-2006', 'Oct-2005', 'Oct-2002',\n",
       "       'Dec-1994', 'Sep-2005', 'Dec-1984', 'Dec-1999', 'Nov-2003',\n",
       "       'Oct-1996', 'May-2003', 'Jun-2002', 'Dec-1996', 'Jan-1986',\n",
       "       'May-1998', 'Jan-1997', 'Jun-2005', 'Feb-1990', 'Mar-2004',\n",
       "       'Jul-1995', 'Aug-1994', 'Jun-1992', 'Mar-1997', 'Apr-2006',\n",
       "       'Jan-2000', 'Apr-1990', 'Jun-2003', 'Sep-2000', 'Feb-2001',\n",
       "       'Feb-1999', 'Aug-2000', 'Oct-2004', 'Aug-2004', 'Feb-2005',\n",
       "       'Nov-2005', 'Nov-2000', 'May-2007', 'Jan-1991', 'Jun-2000',\n",
       "       'Aug-2006', 'Dec-2002', 'Jun-1993', 'May-1997', 'Jun-2006',\n",
       "       'Mar-2000', 'Jul-2001', 'Apr-2002', 'Sep-2006', 'May-1999',\n",
       "       'Aug-1998', 'Dec-2005', 'May-2004', 'Jun-1983', 'Feb-1995',\n",
       "       'Mar-1986', 'Apr-1980', 'Jul-2004', 'Jul-2008', 'May-1996',\n",
       "       'Jan-2004', 'Sep-2004', 'Aug-2002', 'Aug-2001', 'Mar-1991',\n",
       "       'Sep-1994', 'Dec-1998', 'Sep-1999', 'Aug-2005', 'Dec-1986',\n",
       "       'Dec-2001', 'Nov-1998', 'Feb-2006', 'May-1994', 'Nov-2007',\n",
       "       'Feb-1993', 'Nov-1991', 'May-2005', 'Mar-1990', 'Mar-1996',\n",
       "       'Jun-1981', 'Mar-2001', 'Jun-1999', 'Nov-1993', 'Jan-2006',\n",
       "       'Dec-1997', 'Nov-1994', 'Jul-1997', 'Oct-1991', 'Jun-1994',\n",
       "       'Sep-1996', 'Apr-1991', 'Aug-1999', 'Jul-1993', 'Apr-2000',\n",
       "       'Sep-1987', 'Mar-2006', 'Oct-2001', 'Mar-2003', 'Oct-1999',\n",
       "       'Jul-2002', 'May-2002', 'Jul-1996', 'Sep-2003', 'Dec-2003',\n",
       "       'Mar-1998', 'Nov-2002', 'Feb-2007', 'Dec-1992', 'Jan-1995',\n",
       "       'Jul-1998', 'Jul-1989', 'Jul-1994', 'Sep-2001', 'May-2006',\n",
       "       'Sep-2002', 'Nov-1999', 'Mar-2007', 'Mar-2008', 'Apr-1994',\n",
       "       'Jan-2005', 'Jul-1986', 'Apr-1999', 'May-1992', 'Jul-2000',\n",
       "       'May-1983', 'Apr-1993', 'Jan-1998', 'Feb-2000', 'Dec-1981',\n",
       "       'Mar-1992', 'Dec-1988', 'Jan-1981', 'Sep-1990', 'Jun-1998',\n",
       "       'May-1993', 'May-2001', 'Feb-1997', 'Jan-1992', 'Mar-2002',\n",
       "       'Jan-1988', 'Aug-2008', 'Feb-1994', 'Feb-1998', 'Nov-2008',\n",
       "       'Apr-1998', 'Jul-1979', 'Jan-1993', 'May-1987', 'Jul-1971',\n",
       "       'Jun-1996', 'Aug-2007', 'Jun-1997', 'Mar-1980', 'Dec-2006',\n",
       "       'Jul-2007', 'Aug-1997', 'Jun-2007', 'Oct-1995', 'Jul-1991',\n",
       "       'Jul-1992', 'Nov-1996', 'Jan-1999', 'Feb-2003', 'Dec-1995',\n",
       "       'Aug-1987', 'Jun-1989', 'Jul-1990', 'Mar-1970', 'Oct-1994',\n",
       "       'Nov-1984', 'Apr-1984', 'Apr-2001', 'Aug-1995', 'Mar-1999',\n",
       "       'Sep-1988', 'Mar-1989', 'Oct-1997', 'Dec-1980', 'Nov-1997',\n",
       "       'Aug-2003', 'Mar-2005', 'Jan-1989', 'Apr-1996', 'Oct-1986',\n",
       "       'Feb-1992', 'Nov-1990', 'Mar-1969', 'Jun-1975', 'Mar-1985',\n",
       "       'Dec-2007', 'Sep-1995', 'Oct-1993', 'Dec-1989', 'Sep-1980',\n",
       "       'Jun-1988', 'Mar-1987', 'May-1978', 'Dec-1993', 'Jan-1996',\n",
       "       'Oct-1990', 'Sep-1991', 'Feb-2004', 'Feb-1982', 'Nov-1985',\n",
       "       'Mar-1995', 'Jan-1994', 'Jul-1988', 'Oct-1985', 'Mar-1983',\n",
       "       'Aug-1991', 'Sep-1986', 'Jun-1990', 'Feb-1986', 'Jun-1984',\n",
       "       'Sep-1981', 'Aug-1989', 'Apr-1986', 'Aug-1979', 'Aug-1988',\n",
       "       'Feb-1987', 'Nov-1992', 'Sep-1993', 'Jun-1987', 'Apr-1997',\n",
       "       'Feb-1984', 'Aug-1992', 'Jul-1983', 'Dec-1983', 'Jan-1987',\n",
       "       'Nov-1978', 'Aug-1996', 'Nov-1989', 'Sep-1976', 'Nov-1986',\n",
       "       'Oct-1987', 'Sep-2008', 'May-1986', 'Jan-1983', 'Sep-1989',\n",
       "       'Oct-1983', 'Sep-1962', 'Jan-1990', 'Apr-1995', 'Jun-1985',\n",
       "       'May-1982', 'Feb-1988', 'Oct-1992', 'Sep-1997', 'Apr-1985',\n",
       "       'Dec-1990', 'Sep-1968', 'Jul-1974', 'Nov-1987', 'Mar-1993',\n",
       "       'Jun-2008', 'Jul-1980', 'Dec-1982', 'Mar-1975', 'Oct-1984',\n",
       "       'Mar-1988', 'May-1995', 'Feb-1980', 'Sep-1985', 'May-1990',\n",
       "       'Oct-1988', 'Sep-1971', 'Mar-1978', 'Feb-2008', 'Aug-1978',\n",
       "       'Nov-1970', 'Jun-1979', 'Mar-1981', 'Jun-1980', 'Apr-1989',\n",
       "       'Feb-1989', 'Dec-1991', 'Apr-1988', 'Aug-1986', 'May-1988',\n",
       "       'Dec-1985', 'Jan-1982', 'Aug-1990', 'Dec-1976', 'May-1984',\n",
       "       'Apr-2008', 'Feb-1979', 'Jan-2008', 'Jul-1987', 'Jan-1978',\n",
       "       'May-1989', 'Dec-1975', 'Jul-1984', 'Oct-2008', 'Aug-1985',\n",
       "       'Nov-1982', 'Dec-1972', 'May-1975', 'May-1985', 'Feb-1971',\n",
       "       'Jun-1977', 'Sep-1983', 'Feb-1985', 'Apr-1981', 'May-1979',\n",
       "       'Jan-1972', 'Jun-1986', 'Sep-1967', 'Apr-1978', 'Jan-1984',\n",
       "       'Feb-1965', 'Sep-1979', 'Dec-1979', 'Sep-1984', 'Aug-1982',\n",
       "       'May-1981', 'May-2008', 'Oct-1973', 'Dec-1963', 'Jan-1980',\n",
       "       'Oct-1979', 'Jul-1977', 'Mar-1977', 'Nov-1969', 'Jul-1978',\n",
       "       'Jan-1976', 'Mar-1982', 'Apr-1987', 'Nov-1983', 'Dec-1969',\n",
       "       'May-1974', 'Aug-1974', 'Jun-1972', 'Mar-1963', 'May-1977',\n",
       "       'Apr-1982', 'Aug-1969', 'Oct-1980', 'Aug-1983', 'Aug-1975',\n",
       "       'Sep-1982', 'Jun-1991', 'Sep-1977', 'Aug-1981', 'Nov-1976',\n",
       "       'May-1973', 'Sep-1973', 'Mar-1973', 'Nov-1988', 'Dec-1977',\n",
       "       'Oct-1976', 'Feb-1991', 'Jan-1974', 'Jan-1970', 'Apr-1983',\n",
       "       'Oct-1982', 'Jan-1975', 'Dec-1974', 'Feb-1973', 'Nov-1965',\n",
       "       'Oct-1981', 'Jun-1974', 'Apr-1976', 'Apr-1977', 'Aug-1980',\n",
       "       'Sep-1978', 'Oct-1978', 'Oct-1954', 'Feb-1981', 'Aug-1976',\n",
       "       'Jul-1972', 'Mar-1984', 'Dec-1973', 'Oct-1972', 'Jun-1969',\n",
       "       'May-1980', 'Nov-1974', 'Apr-1966', 'Jun-1976', 'Feb-1972',\n",
       "       'May-1976', 'Jun-1982', 'Mar-1976', 'Jul-1970', 'Mar-1979',\n",
       "       'Apr-1973', 'Jul-1976', 'Sep-1965', 'Apr-1967', 'Jan-1979',\n",
       "       'Oct-1963', 'Feb-1970', 'Feb-1978', 'Nov-1971', 'Jul-1973',\n",
       "       'Aug-1972', 'Aug-1977', 'Jul-1981', 'Sep-1972', 'Jan-1977',\n",
       "       'May-1970', 'May-1963', 'Apr-1975', 'Nov-1980', 'Jul-1967',\n",
       "       'Dec-1978', 'Apr-1971', 'Nov-1977', 'Nov-1966', 'Jun-1978',\n",
       "       'May-1971', 'Mar-1968', 'Dec-1970', 'May-1972', 'Jul-1975',\n",
       "       'Nov-1967', 'Oct-1970', 'Apr-1964', 'Apr-1979', 'Feb-1975',\n",
       "       'Jun-1959', 'Sep-1956', 'Jun-1966', 'Jan-1946', 'Mar-1966',\n",
       "       'Nov-1973', 'Jun-1970', 'Feb-1968', 'Jan-1973', 'Oct-1971',\n",
       "       'Oct-1977', 'Sep-1964', 'Oct-1965', 'Apr-1974', 'Feb-1977',\n",
       "       'Aug-1970', 'Sep-1969', 'Aug-1968', 'Sep-1975', 'Dec-1968',\n",
       "       'Feb-1976', 'Nov-1954', 'Jan-1971', 'Nov-1975', 'Jul-1982',\n",
       "       'Mar-1972', 'Oct-1969', 'Mar-1974', 'Apr-1970', 'Feb-1974',\n",
       "       'Sep-1963', 'Apr-1969', 'Nov-1979', 'Jan-1963', 'Sep-1970',\n",
       "       'Oct-1967', 'Nov-1972', 'Apr-1972', 'Jun-1971', 'May-1967',\n",
       "       'Nov-1961', 'Feb-1967', 'Nov-1968', 'Oct-1975', 'Mar-1971',\n",
       "       'Feb-1969', 'Aug-1971', 'Jun-1973', 'Jan-1968', 'Dec-1966',\n",
       "       'Oct-1968', 'Oct-1974', 'Sep-1974', 'Apr-1968', 'May-1969',\n",
       "       'Nov-1959', nan, 'Apr-2009', 'Jan-2009', 'Oct-2009', 'Dec-2008',\n",
       "       'Nov-2009', 'Mar-1964', 'Oct-1962', 'Jun-2009', 'Aug-1973',\n",
       "       'Aug-1962', 'Dec-1967', 'Feb-2009', 'Aug-1965', 'Jul-2009',\n",
       "       'May-2009', 'Sep-1966', 'Mar-2009', 'Oct-1958', 'Jun-1965',\n",
       "       'Mar-1967', 'Dec-1971', 'Nov-1960', 'Aug-2009', 'Dec-1960',\n",
       "       'Aug-1967', 'Jun-1968', 'Dec-1965', 'Oct-1964', 'Feb-1964',\n",
       "       'Oct-1960', 'Sep-2009', 'Jul-1965', 'Nov-1958', 'Jul-1966',\n",
       "       'May-1962', 'Jan-1969', 'Jun-1967', 'Nov-1962', 'May-1968',\n",
       "       'May-1966'], dtype=object)"
      ]
     },
     "execution_count": 35,
     "metadata": {},
     "output_type": "execute_result"
    }
   ],
   "source": [
    "df_filtered.earliest_cr_line.unique()"
   ]
  },
  {
   "cell_type": "code",
   "execution_count": 38,
   "metadata": {},
   "outputs": [
    {
     "data": {
      "text/plain": [
       "['id',\n",
       " 'member_id',\n",
       " 'loan_amnt',\n",
       " 'funded_amnt',\n",
       " 'funded_amnt_inv',\n",
       " 'term',\n",
       " 'int_rate',\n",
       " 'installment',\n",
       " 'grade',\n",
       " 'sub_grade',\n",
       " 'emp_title',\n",
       " 'emp_length',\n",
       " 'home_ownership',\n",
       " 'annual_inc',\n",
       " 'verification_status',\n",
       " 'issue_d',\n",
       " 'loan_status',\n",
       " 'pymnt_plan',\n",
       " 'url',\n",
       " 'desc',\n",
       " 'purpose',\n",
       " 'title',\n",
       " 'zip_code',\n",
       " 'addr_state',\n",
       " 'dti',\n",
       " 'delinq_2yrs',\n",
       " 'earliest_cr_line',\n",
       " 'inq_last_6mths',\n",
       " 'mths_since_last_delinq',\n",
       " 'mths_since_last_record',\n",
       " 'open_acc',\n",
       " 'pub_rec',\n",
       " 'revol_bal',\n",
       " 'revol_util',\n",
       " 'total_acc',\n",
       " 'initial_list_status',\n",
       " 'out_prncp',\n",
       " 'out_prncp_inv',\n",
       " 'total_pymnt',\n",
       " 'total_pymnt_inv',\n",
       " 'total_rec_prncp',\n",
       " 'total_rec_int',\n",
       " 'total_rec_late_fee',\n",
       " 'recoveries',\n",
       " 'collection_recovery_fee',\n",
       " 'last_pymnt_d',\n",
       " 'last_pymnt_amnt',\n",
       " 'next_pymnt_d',\n",
       " 'last_credit_pull_d',\n",
       " 'collections_12_mths_ex_med',\n",
       " 'mths_since_last_major_derog',\n",
       " 'policy_code',\n",
       " 'application_type',\n",
       " 'annual_inc_joint',\n",
       " 'dti_joint',\n",
       " 'verification_status_joint',\n",
       " 'acc_now_delinq',\n",
       " 'tot_coll_amt',\n",
       " 'tot_cur_bal',\n",
       " 'open_acc_6m',\n",
       " 'open_il_6m',\n",
       " 'open_il_12m',\n",
       " 'open_il_24m',\n",
       " 'mths_since_rcnt_il',\n",
       " 'total_bal_il',\n",
       " 'il_util',\n",
       " 'open_rv_12m',\n",
       " 'open_rv_24m',\n",
       " 'max_bal_bc',\n",
       " 'all_util',\n",
       " 'total_rev_hi_lim',\n",
       " 'inq_fi',\n",
       " 'total_cu_tl',\n",
       " 'inq_last_12m',\n",
       " 'issue_yr',\n",
       " 'issue_mo',\n",
       " 'last_pymnt_yr',\n",
       " 'last_pymnt_mo',\n",
       " 'mo_diff',\n",
       " 'loan_completion_flag',\n",
       " 'fully_paid',\n",
       " 'avg_pymnt',\n",
       " 'irr',\n",
       " 'A',\n",
       " 'B',\n",
       " 'C',\n",
       " 'D',\n",
       " 'E',\n",
       " 'F',\n",
       " 'G',\n",
       " 'MORTGAGE',\n",
       " 'NONE',\n",
       " 'OTHER',\n",
       " 'OWN',\n",
       " 'RENT',\n",
       " 'A',\n",
       " 'B',\n",
       " 'C',\n",
       " 'D',\n",
       " 'E',\n",
       " 'F',\n",
       " 'G',\n",
       " 'MORTGAGE',\n",
       " 'NONE',\n",
       " 'OTHER',\n",
       " 'OWN',\n",
       " 'RENT',\n",
       " 'car',\n",
       " 'credit_card',\n",
       " 'debt_consolidation',\n",
       " 'educational',\n",
       " 'home_improvement',\n",
       " 'house',\n",
       " 'major_purchase',\n",
       " 'medical',\n",
       " 'moving',\n",
       " 'other',\n",
       " 'renewable_energy',\n",
       " 'small_business',\n",
       " 'vacation',\n",
       " 'wedding']"
      ]
     },
     "execution_count": 38,
     "metadata": {},
     "output_type": "execute_result"
    }
   ],
   "source": [
    "list(df_filtered)"
   ]
  },
  {
   "cell_type": "code",
   "execution_count": 39,
   "metadata": {
    "collapsed": true
   },
   "outputs": [],
   "source": [
    "columns= [\"int_rate\",\"annual_inc\",\"funded_amnt\",\"A\",\"B\",\"C\",\"D\",\"E\"\"F\",\"G\",\"MORTGAGE\",\"NONE\",\n",
    "          \"OTHER\",\"OWN\",\"RENT\",\"car\",\"credit_card\",\"debt_consolidation\",\"educational\",\"home_improvement\",\"house\",\n",
    "         \"major_purchase\",\"medical\",\"moving\",\"other\",\"renewable_energy\",\"small_business\",\"vacation\",\"wedding\"]"
   ]
  },
  {
   "cell_type": "code",
   "execution_count": 40,
   "metadata": {},
   "outputs": [
    {
     "name": "stdout",
     "output_type": "stream",
     "text": [
      "KFold(n_splits=10, random_state=None, shuffle=False)\n"
     ]
    }
   ],
   "source": [
    "kf = KFold(n_splits=10) # Define the split - into 2 folds \n",
    "kf.get_n_splits(df_filtered) # returns the number of splitting iterations in the cross-validator\n",
    "print(kf) "
   ]
  },
  {
   "cell_type": "markdown",
   "metadata": {},
   "source": [
    "In the last [post](http://jameslee.posthaven.com/peer-to-peer-lending-markets-part-2-using-linear-regression-and-gradient-boosting-regression-to-outperform-the-market), gbm regression model and linear regression were pitted against random loan selection method to see if we can outperform a well diversified market portfolio, and we saw that our models dramatically outperformed the market portfolio. So with that exploratory work out of the way, I will aim to build an excellent model that can potentially be used in practice. First order of the business is feature selection. We will again employ KFold cross validation to curb overfitting. "
   ]
  },
  {
   "cell_type": "code",
   "execution_count": 17,
   "metadata": {},
   "outputs": [
    {
     "data": {
      "text/plain": [
       "10"
      ]
     },
     "execution_count": 17,
     "metadata": {},
     "output_type": "execute_result"
    }
   ],
   "source": [
    "kf = KFold(n_splits=10) # Define the split - into 10 folds \n",
    "kf.get_n_splits(df_filtered) # returns the number of splitting iterations in the cross-validator"
   ]
  },
  {
   "cell_type": "code",
   "execution_count": 25,
   "metadata": {},
   "outputs": [
    {
     "data": {
      "text/plain": [
       "array([ 0.29215347,  0.36709207,  0.26032194,  0.04832037,  0.03211215])"
      ]
     },
     "execution_count": 25,
     "metadata": {},
     "output_type": "execute_result"
    }
   ],
   "source": [
    "clf.feature_importances_"
   ]
  },
  {
   "cell_type": "code",
   "execution_count": 18,
   "metadata": {
    "collapsed": true
   },
   "outputs": [],
   "source": [
    "all_trials = []\n",
    "for index, (train, test) in enumerate(kf.split(df_filtered)):\n",
    "    x_train = df_filtered.iloc[train][columns]\n",
    "    y_train = df_filtered.iloc[train]['irr']\n",
    "    y_test = df_filtered.iloc[test]['irr']\n",
    "    x_test = df_filtered.iloc[test][columns]\n",
    "    ###GBM\n",
    "    params = {'n_estimators': 500, 'max_depth': 4, 'min_samples_split': 2,\n",
    "          'learning_rate': 0.01, 'loss': 'ls'}\n",
    "    clf = ensemble.GradientBoostingRegressor(**params)\n",
    "    clf.fit(x_train, y_train)\n",
    "    gbm_predictions = clf.predict(x_test)\n",
    "    gbm_mse = mean_squared_error(y_test, gbm_predictions)\n",
    "    \n",
    "    ##Linear Model\n",
    "    lm = linear_model.LinearRegression()\n",
    "    lm.fit(x_train, y_train)\n",
    "    lm_predictions = lm.predict(x_test)\n",
    "    lm_mse = mean_squared_error(y_test, lm_predictions)\n",
    "    \n",
    "    ##Xgboost\n",
    "    xgb = xgboost.XGBRegressor(n_estimators=100, learning_rate=0.08, gamma=0, subsample=0.75,\n",
    "                           colsample_bytree=1, max_depth=7)\n",
    "    xgb.fit(x_train,y_train)\n",
    "    xgb_predictions = xgb.predict(x_test)\n",
    "    xgb_mse = mean_squared_error(y_test, xgb_predictions)\n",
    "    \n",
    "    df_temp = pd.DataFrame({'irr':y_test, 'gbm_predictions':gbm_predictions, 'lm_predictions':lm_predictions, 'xgb_predictions':xgb_predictions})\n",
    "    lm_returns = np.mean(df_temp.nlargest(100, 'gbm_predictions')['irr'])\n",
    "    gbm_returns= np.mean(df_temp.nlargest(100, 'lm_predictions')['irr'])\n",
    "    xgb_returns= np.mean(df_temp.nlargest(100, 'xgb_predictions')['irr'])\n",
    "    \n",
    "    ##Random Sampling\n",
    "    rs_returns = np.mean(y_test.sample(100,replace=False))\n",
    "    \n",
    "    all_trials.append({\n",
    "        'index': index,\n",
    "        'gbm_mse': gbm_mse,\n",
    "        'gbm_returns': gbm_returns,\n",
    "        'lm_mse': lm_mse,\n",
    "        'lm_returns': lm_returns,\n",
    "        'rs_returns': rs_returns,\n",
    "        'xgb_mse': xgb_mse,\n",
    "        'xgb_returns': xgb_returns\n",
    "    })\n",
    "    \n",
    "output=pd.DataFrame.from_records(all_trials)"
   ]
  },
  {
   "cell_type": "markdown",
   "metadata": {},
   "source": [
    "Below are the average accuracies(mean squared error) and returns over our 10 validation sets. It seems that linear regression won out on both metrics. "
   ]
  },
  {
   "cell_type": "code",
   "execution_count": 20,
   "metadata": {},
   "outputs": [
    {
     "name": "stdout",
     "output_type": "stream",
     "text": [
      "gbm_accuracy: 0.0458416092504146 , linear regression accuracy: 0.0460898257975774 , xgb accuracy: 0.04623096395676446\n"
     ]
    }
   ],
   "source": [
    "print('gbm_accuracy:', np.mean(output['gbm_mse']),', linear regression accuracy:' ,np.mean(output['lm_mse']),', xgb accuracy:' ,np.mean(output['xgb_mse']))  "
   ]
  },
  {
   "cell_type": "code",
   "execution_count": 21,
   "metadata": {},
   "outputs": [
    {
     "name": "stdout",
     "output_type": "stream",
     "text": [
      "gbm_returns: 0.10226936194421943 , linear regression returns: 0.11078926336649356 , xgb returns: 0.10312736470708257\n"
     ]
    }
   ],
   "source": [
    "print('gbm_returns:', np.mean(output['gbm_returns']),', linear regression returns:' ,np.mean(output['lm_returns']),', xgb returns:' ,np.mean(output['xgb_returns']))"
   ]
  },
  {
   "cell_type": "markdown",
   "metadata": {},
   "source": [
    "Since we collected 10 trials across 10 validation sets, we can plot these accuracy and return measures. "
   ]
  },
  {
   "cell_type": "code",
   "execution_count": 22,
   "metadata": {},
   "outputs": [
    {
     "data": {
      "image/png": "[encoded data removed]",
      "text/plain": [
       "<Figure size 432x288 with 1 Axes>"
      ]
     },
     "metadata": {},
     "output_type": "display_data"
    }
   ],
   "source": [
    "output[['gbm_mse', 'lm_mse','xgb_mse']].boxplot(vert=False)\n",
    "plt.title('Model MSE Distribution')\n",
    "plt.show()"
   ]
  },
  {
   "cell_type": "code",
   "execution_count": 23,
   "metadata": {},
   "outputs": [
    {
     "data": {
      "image/png": "[encoded data removed]",
      "text/plain": [
       "<Figure size 432x288 with 1 Axes>"
      ]
     },
     "metadata": {},
     "output_type": "display_data"
    }
   ],
   "source": [
    "output[['gbm_returns', 'lm_returns', 'xgb_returns','rs_returns']].boxplot(vert=False)\n",
    "plt.title('Model Return Distributions')\n",
    "plt.show()"
   ]
  },
  {
   "cell_type": "markdown",
   "metadata": {},
   "source": [
    "Both of our models far outperformed the random sampling method, almost doubling the returns. This is a strong indication that our model can garner insights from the features to select loans that are less likely to default, and yield higher returns. Should you invest into a peer-to-peer lending market, I would advise using signals to try to get a better return rather than using one of the platform's proprietary automated investment strategy. One thing we must be cognizant of is that even though we applied cross validation to minimize bias, there may be some look ahead bias in our dataset in a sense that we are using complete information of the loans that would otherwise not be available at the time of investment. So further testing would be required by employing these models on new loans, and then observing its returns over its life time. However, that would be an unrealistic effort.\n",
    "\n",
    "In terms of the models, Linear regression not only yields consistently better accuracies but also yields higher returns than the GBM method. However, we chose our features using nested model testing on linear regression models and then used the same features for the GBM method. In the next post, we will investigate hyperparameter tuning and feature selection to try to build a GBM model that can outperform the linear regression model.\n"
   ]
  }
 ],
 "metadata": {
  "kernelspec": {
   "display_name": "Python 3",
   "language": "python",
   "name": "python3"
  },
  "language_info": {
   "codemirror_mode": {
    "name": "ipython",
    "version": 3
   },
   "file_extension": ".py",
   "mimetype": "text/x-python",
   "name": "python",
   "nbconvert_exporter": "python",
   "pygments_lexer": "ipython3",
   "version": "3.6.3"
  }
 },
 "nbformat": 4,
 "nbformat_minor": 2
}
