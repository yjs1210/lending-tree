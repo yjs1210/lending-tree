{
 "cells": [
  {
   "cell_type": "code",
   "execution_count": 432,
   "metadata": {},
   "outputs": [],
   "source": [
    "###Packages\n",
    "import pandas as pd\n",
    "import numpy as np\n",
    "import matplotlib.pyplot as plt\n",
    "import matplotlib.mlab as mlab\n",
    "from IPython.display import Image\n",
    "from IPython.core.display import HTML\n",
    "import datetime\n",
    "import math\n",
    "import scipy.optimize as optimize\n",
    "import statistics\n",
    "from sklearn.linear_model import LinearRegression\n",
    "import statsmodels.api as sm\n",
    "from statsmodels.formula.api import ols\n",
    "from statsmodels.stats.anova import anova_lm\n",
    "from scipy import stats\n",
    "import scipy\n",
    "import warnings\n",
    "from scipy.stats import norm\n",
    "from sklearn import datasets, linear_model, cross_validation\n",
    "from sklearn.model_selection import train_test_split, KFold, GridSearchCV\n",
    "from sklearn import ensemble\n",
    "from sklearn import datasets\n",
    "from sklearn.utils import shuffle\n",
    "from sklearn.metrics import mean_squared_error\n",
    "from sklearn.neural_network import MLPRegressor\n",
    "from sklearn.model_selection import KFold \n",
    "warnings.filterwarnings('ignore')\n",
    "plt.style.use('ggplot')\n",
    "from IPython.display import Image\n",
    "from IPython.core.display import HTML \n",
    "import xgboost\n",
    "from pprint import pprint"
   ]
  },
  {
   "cell_type": "code",
   "execution_count": 53,
   "metadata": {
    "collapsed": true
   },
   "outputs": [],
   "source": [
    "### data loading \n",
    "df = pd.read_csv('./data/loan.csv', low_memory=False)"
   ]
  },
  {
   "cell_type": "code",
   "execution_count": 54,
   "metadata": {
    "collapsed": true
   },
   "outputs": [],
   "source": [
    "### data loading & cleaning\n",
    "df = df.drop_duplicates(subset='id').reset_index(drop=True)\n",
    "df.replace([np.inf, -np.inf], np.nan)\n",
    "df = df.dropna(subset=['id', 'funded_amnt','int_rate','installment','grade'])\n",
    "df = df[np.isfinite(df['annual_inc']) & np.isfinite(df['int_rate']) &  np.isfinite(df['funded_amnt'])].copy()"
   ]
  },
  {
   "cell_type": "code",
   "execution_count": 244,
   "metadata": {
    "collapsed": true
   },
   "outputs": [],
   "source": [
    "###changing data type to appropriate date type \n",
    "df['last_pymnt_d']=pd.to_datetime(df.last_pymnt_d)\n",
    "df['issue_d']=pd.to_datetime(df.issue_d)\n",
    "df['earliest_cr_line']= pd.to_datetime(df.earliest_cr_line)"
   ]
  },
  {
   "cell_type": "code",
   "execution_count": 56,
   "metadata": {
    "collapsed": true
   },
   "outputs": [],
   "source": [
    "###fill missing last_payments(no payments) with issue date, may want a separete column for this treatment\n",
    "###This is for calculation of IRRs later\n",
    "df['last_pymnt_d'].fillna(df.issue_d,inplace=True)"
   ]
  },
  {
   "cell_type": "code",
   "execution_count": 57,
   "metadata": {
    "collapsed": true
   },
   "outputs": [],
   "source": [
    "###Some pre-processing for ease of calculations\n",
    "df['issue_yr'] = df.issue_d.dt.year\n",
    "df['issue_mo']= df.issue_d.dt.month\n",
    "df['last_pymnt_yr'] = df.last_pymnt_d.dt.year\n",
    "df['last_pymnt_mo']= df.last_pymnt_d.dt.month\n",
    "df['mo_diff'] = pd.to_numeric((df['last_pymnt_yr'] - \n",
    "                          df['issue_yr'])*12 + df['last_pymnt_mo'] -df['issue_mo'])"
   ]
  },
  {
   "cell_type": "code",
   "execution_count": 349,
   "metadata": {
    "collapsed": true
   },
   "outputs": [],
   "source": [
    "###Credit History Length\n",
    "df['cl_yr'] = df.earliest_cr_line.dt.year\n",
    "df['cl_mo']= df.earliest_cr_line.dt.month\n",
    "df['cl_hist'] = pd.to_numeric((df['issue_yr'] - \n",
    "                          df['cl_yr'])*12 + df['issue_mo'] -df['cl_mo'])"
   ]
  },
  {
   "cell_type": "code",
   "execution_count": 350,
   "metadata": {
    "collapsed": true
   },
   "outputs": [],
   "source": [
    "###Flag for completed loans\n",
    "searchfor = ['Fully Paid', 'Charged Off', 'Default']\n",
    "defaults = ['Charged Off', 'Default']\n",
    "df['loan_completion_flag']=  np.where(df['loan_status'].str.contains('|'.join(searchfor)) ,1, np.nan)\n",
    "###Flag for fully paid loans\n",
    "df['fully_paid'] = np.where(df['loan_status'].str.contains('Fully Paid') ,1, \n",
    "                                  np.where(df['loan_status'].str.contains('|'.join(defaults)) ,0,np.nan))\n"
   ]
  },
  {
   "cell_type": "code",
   "execution_count": 351,
   "metadata": {
    "collapsed": true
   },
   "outputs": [],
   "source": [
    "###Average payment = Total payment - recoveries - last payment amount over the life -1 month of the investment\n",
    "df['avg_pymnt'] = (df['total_pymnt']-df['recoveries']-df['last_pymnt_amnt'])/(np.maximum((df['mo_diff']-1),0))\n",
    "###Treating infinites that appear when there is no payment or only 1 payment \n",
    "df['avg_pymnt'] = (df['avg_pymnt']).replace(np.Inf,0)\n",
    "df['avg_pymnt'] = (df['avg_pymnt']).replace(-np.Inf,0)"
   ]
  },
  {
   "cell_type": "code",
   "execution_count": 60,
   "metadata": {
    "collapsed": true
   },
   "outputs": [],
   "source": [
    "###IRR calculations\n",
    "###Input: a row of a dataframe with lending data \n",
    "def irr_calc(x):  \n",
    "    ##varible initialization\n",
    "    initial_invest = -x['funded_amnt']\n",
    "    avg_payment = x['avg_pymnt']\n",
    "    num_payments = np.max(int(x['mo_diff'])-1,0)\n",
    "    recovery = x['recoveries'] -x['collection_recovery_fee']\n",
    "    recovery_duration = np.maximum(36 - num_payments + 1 + 12,12)\n",
    "    avg_recovery = recovery/recovery_duration\n",
    "    last_payment_amount = x['last_pymnt_amnt']\n",
    "    ###IRR calculation, input: series of cash flows, total payment - recoveries\n",
    "    ###evenly divided and spread across the life of the loan and finally recovery and chargeoff fees\n",
    "    return ((np.irr([initial_invest]+[avg_payment]*num_payments + [last_payment_amount] +\n",
    "                    [avg_recovery]*recovery_duration)+1)**12-1)"
   ]
  },
  {
   "cell_type": "code",
   "execution_count": 61,
   "metadata": {
    "collapsed": true
   },
   "outputs": [],
   "source": [
    "###Calculating at a row level, individual security IRRs. Method will be faulty for loans that didn't mature.\n",
    "###Warning: the calculation takes a fair amount of time ~few minutes\n",
    "df['irr']=df.apply(irr_calc, axis=1)"
   ]
  },
  {
   "cell_type": "code",
   "execution_count": 62,
   "metadata": {
    "collapsed": true
   },
   "outputs": [],
   "source": [
    "##NaNs returned from IRRs with 0 payments should be -100% return \n",
    "df['irr']=df['irr'].replace(np.NaN,-1)"
   ]
  },
  {
   "cell_type": "code",
   "execution_count": 265,
   "metadata": {
    "collapsed": true
   },
   "outputs": [],
   "source": [
    "####Filter down to completed loans and has at least 36 months of possible history\n",
    "df_filtered = df[df['loan_status'].str.contains('|'.join(searchfor))].query(\"term == ' 36 months' and issue_yr <=2012\").copy()"
   ]
  },
  {
   "cell_type": "code",
   "execution_count": 266,
   "metadata": {
    "collapsed": true
   },
   "outputs": [],
   "source": [
    "##making grade flags\n",
    "grade_flags = pd.get_dummies(df_filtered.grade) \n",
    "home_flag = pd.get_dummies(df_filtered.home_ownership) \n",
    "purpose_flag = pd.get_dummies(df_filtered.purpose)\n",
    "emp_length_flag = pd.get_dummies(df_filtered.emp_length)\n",
    "verification_flag = pd.get_dummies(df_filtered.verification_status)\n",
    "df_filtered=pd.concat([df_filtered,grade_flags,home_flag,purpose_flag,emp_length_flag,verification_flag], axis=1)\n"
   ]
  },
  {
   "cell_type": "code",
   "execution_count": 386,
   "metadata": {
    "collapsed": true
   },
   "outputs": [],
   "source": [
    "columns= [\"int_rate\",\"annual_inc\",\"dti\",\"funded_amnt\",\"A\",\"B\",\"C\",\"D\",\"E\",\"F\",\"G\",\"MORTGAGE\",\"NONE\",\n",
    "          \"OTHER\",\"OWN\",\"RENT\",\"car\",\"credit_card\",\"debt_consolidation\",\"educational\",\"home_improvement\",\"house\",\n",
    "         \"major_purchase\",\"medical\",\"moving\",\"other\",\"renewable_energy\",\"small_business\",\"vacation\",\"wedding\"]"
   ]
  },
  {
   "cell_type": "code",
   "execution_count": 403,
   "metadata": {
    "collapsed": true
   },
   "outputs": [],
   "source": [
    "columns_all = [\"int_rate\",\"annual_inc\",\"dti\",\"funded_amnt\",\"A\",\"B\",\"C\",\"D\",\"E\",\"F\",\"G\",\"MORTGAGE\",\"NONE\",\n",
    "          \"OTHER\",\"OWN\",\"RENT\",\"car\",\"credit_card\",\"debt_consolidation\",\"educational\",\"home_improvement\",\"house\",\n",
    "         \"major_purchase\",\"medical\",\"moving\",\"other\",\"renewable_energy\",\"small_business\",\"vacation\",\"wedding\",\"cl_hist\",'1 year', '10+ years', '2 years', '3 years', '4 years', '5 years',\n",
    "       '6 years', '7 years', '8 years', '9 years', '< 1 year', 'Not Verified', 'Source Verified', 'Verified' ,'pub_rec','revol_bal','revol_util']"
   ]
  },
  {
   "cell_type": "code",
   "execution_count": 65,
   "metadata": {
    "collapsed": true
   },
   "outputs": [],
   "source": [
    "def calc_train_error(X_train, y_train, model):\n",
    "    '''returns in-sample error for already fit model.'''\n",
    "    predictions = model.predict(X_train)\n",
    "    mse = mean_squared_error(y_train, predictions)\n",
    "    rmse = np.sqrt(mse)\n",
    "    return mse\n",
    "    \n",
    "def calc_validation_error(X_test, y_test, model):\n",
    "    '''returns out-of-sample error for already fit model.'''\n",
    "    predictions = model.predict(X_test)\n",
    "    mse = mean_squared_error(y_test, predictions)\n",
    "    rmse = np.sqrt(mse)\n",
    "    return mse\n",
    "    \n",
    "def calc_metrics(X_train, y_train, X_test, y_test, model):\n",
    "    '''fits model and returns the RMSE for in-sample error and out-of-sample error'''\n",
    "    model.fit(X_train, y_train)\n",
    "    train_error = calc_train_error(X_train, y_train, model)\n",
    "    validation_error = calc_validation_error(X_test, y_test, model)\n",
    "    return train_error, validation_error"
   ]
  },
  {
   "cell_type": "markdown",
   "metadata": {},
   "source": [
    "Feature selection is a critical step in machine learning. It allows the model to generalize better on datasets that it hasn't seen while training and improve overall accuracy by helping it learn from true signals rather than noise. However, a lot of modern techniques such as GBM has built-in regularization functionality that makes feature selection unnecessary at times. If we aggressively remove variables that have incremental utility in prediction despite their short-comings such as multicollinearity, cumulatively it can cause a significant negative effect in our model's prediction power.\n",
    "\n",
    "When a problem is as complicated and opaque as feature selection can be, we can utilize sampling and cross-validation to get unbiased distribution of performances across different methodologies that can be used to compare different models. For this exercise, I continue looking at the peer to peer lending data and aim to build a GBM model that can outperform the linear model, which defeated the GBM model in the last [post](http://jameslee.posthaven.com/peer-to-peer-lending-markets-part-2-using-linear-regression-and-gradient-boosting-regression-to-outperform-the-market). By comparing models via cross-validation, one that utilizes feature selection versus the one that doesn't, we can be rest assured that we didn't leave any stones unturned. \n",
    "\n",
    "There are many ways to engineer and select features, but two diametrically opposite approaches are used in conjunction. One is through inspection, winnowing down our features to ones that intuitively make sense in predicting loan performance, and the other is a blackbox approach using feature importance metric and sampling through cross-validation. \n",
    "\n",
    "Below are all the data available at our disposal. Some engineering was done to clean up the data and transform them into a machine-readable format."
   ]
  },
  {
   "cell_type": "code",
   "execution_count": 433,
   "metadata": {},
   "outputs": [
    {
     "name": "stdout",
     "output_type": "stream",
     "text": [
      "Index(['id', 'member_id', 'loan_amnt', 'funded_amnt', 'funded_amnt_inv',\n",
      "       'term', 'int_rate', 'installment', 'grade', 'sub_grade', 'emp_title',\n",
      "       'emp_length', 'home_ownership', 'annual_inc', 'verification_status',\n",
      "       'issue_d', 'loan_status', 'pymnt_plan', 'url', 'desc', 'purpose',\n",
      "       'title', 'zip_code', 'addr_state', 'dti', 'delinq_2yrs',\n",
      "       'earliest_cr_line', 'inq_last_6mths', 'mths_since_last_delinq',\n",
      "       'mths_since_last_record', 'open_acc', 'pub_rec', 'revol_bal',\n",
      "       'revol_util', 'total_acc', 'initial_list_status', 'out_prncp',\n",
      "       'out_prncp_inv', 'total_pymnt', 'total_pymnt_inv', 'total_rec_prncp',\n",
      "       'total_rec_int', 'total_rec_late_fee', 'recoveries',\n",
      "       'collection_recovery_fee', 'last_pymnt_d', 'last_pymnt_amnt',\n",
      "       'next_pymnt_d', 'last_credit_pull_d', 'collections_12_mths_ex_med',\n",
      "       'mths_since_last_major_derog', 'policy_code', 'application_type',\n",
      "       'annual_inc_joint', 'dti_joint', 'verification_status_joint',\n",
      "       'acc_now_delinq', 'tot_coll_amt', 'tot_cur_bal', 'open_acc_6m',\n",
      "       'open_il_6m', 'open_il_12m', 'open_il_24m', 'mths_since_rcnt_il',\n",
      "       'total_bal_il', 'il_util', 'open_rv_12m', 'open_rv_24m', 'max_bal_bc',\n",
      "       'all_util', 'total_rev_hi_lim', 'inq_fi', 'total_cu_tl', 'inq_last_12m',\n",
      "       'issue_yr', 'issue_mo', 'last_pymnt_yr', 'last_pymnt_mo', 'mo_diff',\n",
      "       'loan_completion_flag', 'fully_paid', 'avg_pymnt', 'irr', 'cl_yr',\n",
      "       'cl_mo', 'cl_hist'],\n",
      "      dtype='object')\n"
     ]
    }
   ],
   "source": [
    "print(df.columns)"
   ]
  },
  {
   "cell_type": "markdown",
   "metadata": {},
   "source": [
    "Some obvious candidates that can explain loan returns are debt-to-income ratio, annual income, interest rate, loan size and loan grade. Loan grade is an encapsulation of many factors that can affect the credibility of the borrower such as their credit history. Lending tree defines their loan grade as follows. \n",
    "\n",
    "\"The loan grade is the result of a formula that takes into account not only credit score, but also a combination of several indicators of credit risk from the credit report and loan application. All loans have either a 36- or 60-month term, with fixed interest rates and equal payments.\"\n",
    "\n",
    "We can infer that credit score is a huge factor into their loan grade scoring. Let's look at the components of the credit score. "
   ]
  },
  {
   "cell_type": "code",
   "execution_count": 174,
   "metadata": {},
   "outputs": [
    {
     "data": {
      "text/html": [
       "<img src=\"https://www.myfico.com/static/images/education/ce_FICO-Score-chart.png\"/>"
      ],
      "text/plain": [
       "<IPython.core.display.Image object>"
      ]
     },
     "execution_count": 174,
     "metadata": {},
     "output_type": "execute_result"
    }
   ],
   "source": [
    "Image(url= \"https://www.myfico.com/static/images/education/ce_FICO-Score-chart.png\")"
   ]
  },
  {
   "cell_type": "markdown",
   "metadata": {},
   "source": [
    "What we need to take away is that since the loan grade captures a lot of our potential features, it's important to remove features such as credit history in our feature sets to reduce multicollinearity in our model, but we will include other variables such as loan purpose which can capture insights that loan grade cannot. For example, a loan taken out to service a credit card debt is more likely to default than loans taken out for education.\n",
    "\n",
    "All in all, these are the features that will be included in the model. We perform hot one encoding to convert categorical variables into a feature that our algorithm can understand. We will further narrow these features down using feature importance and threshold method."
   ]
  },
  {
   "cell_type": "code",
   "execution_count": 434,
   "metadata": {},
   "outputs": [
    {
     "name": "stdout",
     "output_type": "stream",
     "text": [
      "['int_rate',\n",
      " 'annual_inc',\n",
      " 'dti',\n",
      " 'funded_amnt',\n",
      " 'A',\n",
      " 'B',\n",
      " 'C',\n",
      " 'D',\n",
      " 'E',\n",
      " 'F',\n",
      " 'G',\n",
      " 'MORTGAGE',\n",
      " 'NONE',\n",
      " 'OTHER',\n",
      " 'OWN',\n",
      " 'RENT',\n",
      " 'car',\n",
      " 'credit_card',\n",
      " 'debt_consolidation',\n",
      " 'educational',\n",
      " 'home_improvement',\n",
      " 'house',\n",
      " 'major_purchase',\n",
      " 'medical',\n",
      " 'moving',\n",
      " 'other',\n",
      " 'renewable_energy',\n",
      " 'small_business',\n",
      " 'vacation',\n",
      " 'wedding']\n"
     ]
    }
   ],
   "source": [
    "columns"
   ]
  },
  {
   "cell_type": "code",
   "execution_count": 408,
   "metadata": {},
   "outputs": [],
   "source": [
    "get_cols = columns_all.copy()\n",
    "get_cols.append('irr')"
   ]
  },
  {
   "cell_type": "code",
   "execution_count": 409,
   "metadata": {},
   "outputs": [],
   "source": [
    "df_filtered_dropped = df_filtered.copy()[get_cols].dropna()"
   ]
  },
  {
   "cell_type": "code",
   "execution_count": 410,
   "metadata": {},
   "outputs": [
    {
     "data": {
      "text/plain": [
       "(74874, 74751)"
      ]
     },
     "execution_count": 410,
     "metadata": {},
     "output_type": "execute_result"
    }
   ],
   "source": [
    "len(df_filtered), len(df_filtered_dropped)"
   ]
  },
  {
   "cell_type": "code",
   "execution_count": 413,
   "metadata": {
    "collapsed": true
   },
   "outputs": [],
   "source": [
    "df_train, df_test = cross_validation.train_test_split(df_filtered_dropped,test_size=.3)"
   ]
  },
  {
   "cell_type": "markdown",
   "metadata": {},
   "source": [
    "We first establish a standard set of parameters and train an initial model to calculate feature importance, which is a built-in metric provided by GBM algorithm that tells you how influential the features were. "
   ]
  },
  {
   "cell_type": "code",
   "execution_count": 414,
   "metadata": {},
   "outputs": [
    {
     "data": {
      "text/plain": [
       "GradientBoostingRegressor(alpha=0.9, criterion='friedman_mse', init=None,\n",
       "             learning_rate=0.01, loss='ls', max_depth=4, max_features=None,\n",
       "             max_leaf_nodes=None, min_impurity_decrease=0.0,\n",
       "             min_impurity_split=None, min_samples_leaf=1,\n",
       "             min_samples_split=2, min_weight_fraction_leaf=0.0,\n",
       "             n_estimators=500, presort='auto', random_state=None,\n",
       "             subsample=1.0, verbose=0, warm_start=False)"
      ]
     },
     "execution_count": 414,
     "metadata": {},
     "output_type": "execute_result"
    }
   ],
   "source": [
    "params = {'n_estimators': 500, 'max_depth': 4, 'min_samples_split': 2,\n",
    "          'learning_rate': 0.01, 'loss': 'ls'}\n",
    "clf = ensemble.GradientBoostingRegressor(**params)\n",
    "clf.fit(df_train[columns], df_train['irr'])"
   ]
  },
  {
   "cell_type": "code",
   "execution_count": 415,
   "metadata": {
    "collapsed": true
   },
   "outputs": [],
   "source": [
    "importance = clf.feature_importances_"
   ]
  },
  {
   "cell_type": "code",
   "execution_count": 416,
   "metadata": {},
   "outputs": [
    {
     "data": {
      "text/plain": [
       "array([ 0.17455462,  0.22307073,  0.15930349,  0.12287988,  0.00057328,\n",
       "        0.01162901,  0.0129365 ,  0.02576675,  0.0157758 ,  0.03267067,\n",
       "        0.03357703,  0.00174292,  0.        ,  0.00055117,  0.00626372,\n",
       "        0.00123417,  0.00950443,  0.0307704 ,  0.01770299,  0.01006844,\n",
       "        0.00315873,  0.00353244,  0.0116074 ,  0.01252817,  0.00241643,\n",
       "        0.01510553,  0.00625816,  0.04810297,  0.00182496,  0.00488921])"
      ]
     },
     "execution_count": 416,
     "metadata": {},
     "output_type": "execute_result"
    }
   ],
   "source": [
    "importance"
   ]
  },
  {
   "cell_type": "markdown",
   "metadata": {},
   "source": [
    "Feature importance is graphed below. Interest rate, annual income, debt-to-income ratio and loan sizes are the most importance features. Loans taken out for small business, credit card payment and some of the loan grade features were also important. "
   ]
  },
  {
   "cell_type": "code",
   "execution_count": 417,
   "metadata": {},
   "outputs": [
    {
     "data": {
      "image/png": "[encoded data removed]",
      "text/plain": [
       "<Figure size 432x288 with 1 Axes>"
      ]
     },
     "metadata": {},
     "output_type": "display_data"
    }
   ],
   "source": [
    "plt.bar(range(len(columns)),importance)\n",
    "plt.show()"
   ]
  },
  {
   "cell_type": "code",
   "execution_count": 418,
   "metadata": {},
   "outputs": [
    {
     "data": {
      "text/html": [
       "<div>\n",
       "<style>\n",
       "    .dataframe thead tr:only-child th {\n",
       "        text-align: right;\n",
       "    }\n",
       "\n",
       "    .dataframe thead th {\n",
       "        text-align: left;\n",
       "    }\n",
       "\n",
       "    .dataframe tbody tr th {\n",
       "        vertical-align: top;\n",
       "    }\n",
       "</style>\n",
       "<table border=\"1\" class=\"dataframe\">\n",
       "  <thead>\n",
       "    <tr style=\"text-align: right;\">\n",
       "      <th></th>\n",
       "      <th>features</th>\n",
       "      <th>label</th>\n",
       "    </tr>\n",
       "  </thead>\n",
       "  <tbody>\n",
       "    <tr>\n",
       "      <th>0</th>\n",
       "      <td>int_rate</td>\n",
       "      <td>0</td>\n",
       "    </tr>\n",
       "    <tr>\n",
       "      <th>1</th>\n",
       "      <td>annual_inc</td>\n",
       "      <td>1</td>\n",
       "    </tr>\n",
       "    <tr>\n",
       "      <th>2</th>\n",
       "      <td>dti</td>\n",
       "      <td>2</td>\n",
       "    </tr>\n",
       "    <tr>\n",
       "      <th>3</th>\n",
       "      <td>funded_amnt</td>\n",
       "      <td>3</td>\n",
       "    </tr>\n",
       "    <tr>\n",
       "      <th>4</th>\n",
       "      <td>A</td>\n",
       "      <td>4</td>\n",
       "    </tr>\n",
       "    <tr>\n",
       "      <th>5</th>\n",
       "      <td>B</td>\n",
       "      <td>5</td>\n",
       "    </tr>\n",
       "    <tr>\n",
       "      <th>6</th>\n",
       "      <td>C</td>\n",
       "      <td>6</td>\n",
       "    </tr>\n",
       "    <tr>\n",
       "      <th>7</th>\n",
       "      <td>D</td>\n",
       "      <td>7</td>\n",
       "    </tr>\n",
       "    <tr>\n",
       "      <th>8</th>\n",
       "      <td>E</td>\n",
       "      <td>8</td>\n",
       "    </tr>\n",
       "    <tr>\n",
       "      <th>9</th>\n",
       "      <td>F</td>\n",
       "      <td>9</td>\n",
       "    </tr>\n",
       "    <tr>\n",
       "      <th>10</th>\n",
       "      <td>G</td>\n",
       "      <td>10</td>\n",
       "    </tr>\n",
       "    <tr>\n",
       "      <th>11</th>\n",
       "      <td>MORTGAGE</td>\n",
       "      <td>11</td>\n",
       "    </tr>\n",
       "    <tr>\n",
       "      <th>12</th>\n",
       "      <td>NONE</td>\n",
       "      <td>12</td>\n",
       "    </tr>\n",
       "    <tr>\n",
       "      <th>13</th>\n",
       "      <td>OTHER</td>\n",
       "      <td>13</td>\n",
       "    </tr>\n",
       "    <tr>\n",
       "      <th>14</th>\n",
       "      <td>OWN</td>\n",
       "      <td>14</td>\n",
       "    </tr>\n",
       "    <tr>\n",
       "      <th>15</th>\n",
       "      <td>RENT</td>\n",
       "      <td>15</td>\n",
       "    </tr>\n",
       "    <tr>\n",
       "      <th>16</th>\n",
       "      <td>car</td>\n",
       "      <td>16</td>\n",
       "    </tr>\n",
       "    <tr>\n",
       "      <th>17</th>\n",
       "      <td>credit_card</td>\n",
       "      <td>17</td>\n",
       "    </tr>\n",
       "    <tr>\n",
       "      <th>18</th>\n",
       "      <td>debt_consolidation</td>\n",
       "      <td>18</td>\n",
       "    </tr>\n",
       "    <tr>\n",
       "      <th>19</th>\n",
       "      <td>educational</td>\n",
       "      <td>19</td>\n",
       "    </tr>\n",
       "    <tr>\n",
       "      <th>20</th>\n",
       "      <td>home_improvement</td>\n",
       "      <td>20</td>\n",
       "    </tr>\n",
       "    <tr>\n",
       "      <th>21</th>\n",
       "      <td>house</td>\n",
       "      <td>21</td>\n",
       "    </tr>\n",
       "    <tr>\n",
       "      <th>22</th>\n",
       "      <td>major_purchase</td>\n",
       "      <td>22</td>\n",
       "    </tr>\n",
       "    <tr>\n",
       "      <th>23</th>\n",
       "      <td>medical</td>\n",
       "      <td>23</td>\n",
       "    </tr>\n",
       "    <tr>\n",
       "      <th>24</th>\n",
       "      <td>moving</td>\n",
       "      <td>24</td>\n",
       "    </tr>\n",
       "    <tr>\n",
       "      <th>25</th>\n",
       "      <td>other</td>\n",
       "      <td>25</td>\n",
       "    </tr>\n",
       "    <tr>\n",
       "      <th>26</th>\n",
       "      <td>renewable_energy</td>\n",
       "      <td>26</td>\n",
       "    </tr>\n",
       "    <tr>\n",
       "      <th>27</th>\n",
       "      <td>small_business</td>\n",
       "      <td>27</td>\n",
       "    </tr>\n",
       "    <tr>\n",
       "      <th>28</th>\n",
       "      <td>vacation</td>\n",
       "      <td>28</td>\n",
       "    </tr>\n",
       "    <tr>\n",
       "      <th>29</th>\n",
       "      <td>wedding</td>\n",
       "      <td>29</td>\n",
       "    </tr>\n",
       "  </tbody>\n",
       "</table>\n",
       "</div>"
      ],
      "text/plain": [
       "              features  label\n",
       "0             int_rate      0\n",
       "1           annual_inc      1\n",
       "2                  dti      2\n",
       "3          funded_amnt      3\n",
       "4                    A      4\n",
       "5                    B      5\n",
       "6                    C      6\n",
       "7                    D      7\n",
       "8                    E      8\n",
       "9                    F      9\n",
       "10                   G     10\n",
       "11            MORTGAGE     11\n",
       "12                NONE     12\n",
       "13               OTHER     13\n",
       "14                 OWN     14\n",
       "15                RENT     15\n",
       "16                 car     16\n",
       "17         credit_card     17\n",
       "18  debt_consolidation     18\n",
       "19         educational     19\n",
       "20    home_improvement     20\n",
       "21               house     21\n",
       "22      major_purchase     22\n",
       "23             medical     23\n",
       "24              moving     24\n",
       "25               other     25\n",
       "26    renewable_energy     26\n",
       "27      small_business     27\n",
       "28            vacation     28\n",
       "29             wedding     29"
      ]
     },
     "execution_count": 418,
     "metadata": {},
     "output_type": "execute_result"
    }
   ],
   "source": [
    "labels = pd.DataFrame({'features':columns, 'label':range(len(columns))})\n",
    "labels"
   ]
  },
  {
   "cell_type": "markdown",
   "metadata": {},
   "source": [
    "We then remove 20% of the features at a time in a ranked order based on GBM's feature importance metric then see how the new models perform using k-fold cross validation. "
   ]
  },
  {
   "cell_type": "code",
   "execution_count": 419,
   "metadata": {
    "collapsed": true
   },
   "outputs": [],
   "source": [
    "kf = KFold(n_splits=10) # Define the split - into 4\n",
    "all_trials = []\n",
    "for i in range(int(np.ceil(len(columns)/6))):\n",
    "    sorted_features = importance.argsort()[-(len(importance)-i*6):][::-1]\n",
    "    for index, (train, test) in enumerate(kf.split(df_train)):\n",
    "        x_train = df_train.iloc[train][columns].iloc[:,sorted_features]\n",
    "        y_train = df_train.iloc[train]['irr']\n",
    "        y_test = df_train.iloc[test]['irr']\n",
    "        x_test = df_train.iloc[test][columns].iloc[:,sorted_features]\n",
    "\n",
    "        params = {'n_estimators': 500, 'max_depth': 4, 'min_samples_split': 2,\n",
    "              'learning_rate': 0.01, 'loss': 'ls'}\n",
    "\n",
    "        clf = ensemble.GradientBoostingRegressor(**params)\n",
    "        clf.fit(x_train, y_train)\n",
    "        gbm_predictions = clf.predict(x_test)\n",
    "        df_temp = pd.DataFrame({'irr':y_test, 'gbm_predictions':gbm_predictions})\n",
    "        gbm_returns = np.mean(df_temp.nlargest(1000, 'gbm_predictions')['irr'])\n",
    "        all_trials.append({\n",
    "            'n_features': len(x_train.columns),\n",
    "            'mse': calc_train_error(x_test,y_test,clf),\n",
    "            'returns': gbm_returns\n",
    "        })"
   ]
  },
  {
   "cell_type": "code",
   "execution_count": 420,
   "metadata": {
    "collapsed": true
   },
   "outputs": [],
   "source": [
    "output=pd.DataFrame.from_records(all_trials)"
   ]
  },
  {
   "cell_type": "code",
   "execution_count": 421,
   "metadata": {
    "scrolled": true
   },
   "outputs": [
    {
     "data": {
      "text/plain": [
       "(                 mse   returns\n",
       " n_features                    \n",
       " 6           0.045751  0.094097\n",
       " 12          0.045558  0.096423\n",
       " 18          0.045562  0.096966\n",
       " 24          0.045561  0.096399\n",
       " 30          0.045564  0.096527,                  mse   returns\n",
       " n_features                    \n",
       " 6           0.000005  0.000048\n",
       " 12          0.000005  0.000030\n",
       " 18          0.000005  0.000032\n",
       " 24          0.000005  0.000048\n",
       " 30          0.000005  0.000042)"
      ]
     },
     "execution_count": 421,
     "metadata": {},
     "output_type": "execute_result"
    }
   ],
   "source": [
    "output.groupby(['n_features'])['mse','returns'].mean() , output.groupby(['n_features'])['mse','returns'].var()"
   ]
  },
  {
   "cell_type": "markdown",
   "metadata": {},
   "source": [
    "It's not clear which option is the best however we can see that 18 features beat out the 30 features in both MSE and returns while only marginally losing in accuracy to others. Below are the features that made the cut for 18 features. Below we will train a model all the features available to us and see how that performs versus the vetted model. "
   ]
  },
  {
   "cell_type": "code",
   "execution_count": 422,
   "metadata": {},
   "outputs": [
    {
     "data": {
      "text/html": [
       "<div>\n",
       "<style>\n",
       "    .dataframe thead tr:only-child th {\n",
       "        text-align: right;\n",
       "    }\n",
       "\n",
       "    .dataframe thead th {\n",
       "        text-align: left;\n",
       "    }\n",
       "\n",
       "    .dataframe tbody tr th {\n",
       "        vertical-align: top;\n",
       "    }\n",
       "</style>\n",
       "<table border=\"1\" class=\"dataframe\">\n",
       "  <thead>\n",
       "    <tr style=\"text-align: right;\">\n",
       "      <th></th>\n",
       "      <th>features</th>\n",
       "      <th>label</th>\n",
       "    </tr>\n",
       "  </thead>\n",
       "  <tbody>\n",
       "    <tr>\n",
       "      <th>0</th>\n",
       "      <td>int_rate</td>\n",
       "      <td>0</td>\n",
       "    </tr>\n",
       "    <tr>\n",
       "      <th>1</th>\n",
       "      <td>annual_inc</td>\n",
       "      <td>1</td>\n",
       "    </tr>\n",
       "    <tr>\n",
       "      <th>2</th>\n",
       "      <td>dti</td>\n",
       "      <td>2</td>\n",
       "    </tr>\n",
       "    <tr>\n",
       "      <th>3</th>\n",
       "      <td>funded_amnt</td>\n",
       "      <td>3</td>\n",
       "    </tr>\n",
       "    <tr>\n",
       "      <th>5</th>\n",
       "      <td>B</td>\n",
       "      <td>5</td>\n",
       "    </tr>\n",
       "    <tr>\n",
       "      <th>6</th>\n",
       "      <td>C</td>\n",
       "      <td>6</td>\n",
       "    </tr>\n",
       "    <tr>\n",
       "      <th>7</th>\n",
       "      <td>D</td>\n",
       "      <td>7</td>\n",
       "    </tr>\n",
       "    <tr>\n",
       "      <th>8</th>\n",
       "      <td>E</td>\n",
       "      <td>8</td>\n",
       "    </tr>\n",
       "    <tr>\n",
       "      <th>9</th>\n",
       "      <td>F</td>\n",
       "      <td>9</td>\n",
       "    </tr>\n",
       "    <tr>\n",
       "      <th>10</th>\n",
       "      <td>G</td>\n",
       "      <td>10</td>\n",
       "    </tr>\n",
       "    <tr>\n",
       "      <th>16</th>\n",
       "      <td>car</td>\n",
       "      <td>16</td>\n",
       "    </tr>\n",
       "    <tr>\n",
       "      <th>17</th>\n",
       "      <td>credit_card</td>\n",
       "      <td>17</td>\n",
       "    </tr>\n",
       "    <tr>\n",
       "      <th>18</th>\n",
       "      <td>debt_consolidation</td>\n",
       "      <td>18</td>\n",
       "    </tr>\n",
       "    <tr>\n",
       "      <th>19</th>\n",
       "      <td>educational</td>\n",
       "      <td>19</td>\n",
       "    </tr>\n",
       "    <tr>\n",
       "      <th>22</th>\n",
       "      <td>major_purchase</td>\n",
       "      <td>22</td>\n",
       "    </tr>\n",
       "    <tr>\n",
       "      <th>23</th>\n",
       "      <td>medical</td>\n",
       "      <td>23</td>\n",
       "    </tr>\n",
       "    <tr>\n",
       "      <th>25</th>\n",
       "      <td>other</td>\n",
       "      <td>25</td>\n",
       "    </tr>\n",
       "    <tr>\n",
       "      <th>27</th>\n",
       "      <td>small_business</td>\n",
       "      <td>27</td>\n",
       "    </tr>\n",
       "  </tbody>\n",
       "</table>\n",
       "</div>"
      ],
      "text/plain": [
       "              features  label\n",
       "0             int_rate      0\n",
       "1           annual_inc      1\n",
       "2                  dti      2\n",
       "3          funded_amnt      3\n",
       "5                    B      5\n",
       "6                    C      6\n",
       "7                    D      7\n",
       "8                    E      8\n",
       "9                    F      9\n",
       "10                   G     10\n",
       "16                 car     16\n",
       "17         credit_card     17\n",
       "18  debt_consolidation     18\n",
       "19         educational     19\n",
       "22      major_purchase     22\n",
       "23             medical     23\n",
       "25               other     25\n",
       "27      small_business     27"
      ]
     },
     "execution_count": 422,
     "metadata": {},
     "output_type": "execute_result"
    }
   ],
   "source": [
    "labels[labels['label'].isin(importance.argsort()[-(18):][::-1])]"
   ]
  },
  {
   "cell_type": "code",
   "execution_count": 423,
   "metadata": {},
   "outputs": [],
   "source": [
    "kf = KFold(n_splits=10) # Define the split - into 4\n",
    "all_features_trials = []\n",
    "for index, (train, test) in enumerate(kf.split(df_train)):\n",
    "    x_train = df_train.iloc[train][columns_all]\n",
    "    y_train = df_train.iloc[train]['irr']\n",
    "    y_test = df_train.iloc[test]['irr']\n",
    "    x_test = df_train.iloc[test][columns_all]\n",
    "\n",
    "    params = {'n_estimators': 500, 'max_depth': 4, 'min_samples_split': 2,\n",
    "          'learning_rate': 0.01, 'loss': 'ls'}\n",
    "\n",
    "    clf = ensemble.GradientBoostingRegressor(**params)\n",
    "    clf.fit(x_train, y_train)\n",
    "    gbm_predictions = clf.predict(x_test)\n",
    "    df_temp = pd.DataFrame({'irr':y_test, 'gbm_predictions':gbm_predictions})\n",
    "    gbm_returns = np.mean(df_temp.nlargest(1000, 'gbm_predictions')['irr'])\n",
    "    all_features_trials.append({\n",
    "        'n_features': len(x_train.columns),\n",
    "        'mse': calc_train_error(x_test,y_test,clf),\n",
    "        'returns': gbm_returns\n",
    "    })"
   ]
  },
  {
   "cell_type": "code",
   "execution_count": 425,
   "metadata": {},
   "outputs": [
    {
     "data": {
      "text/plain": [
       "(                 mse   returns\n",
       " n_features                    \n",
       " 48          0.045504  0.099542,                  mse   returns\n",
       " n_features                    \n",
       " 48          0.000005  0.000039)"
      ]
     },
     "execution_count": 425,
     "metadata": {},
     "output_type": "execute_result"
    }
   ],
   "source": [
    "output2=pd.DataFrame.from_records(all_features_trials)\n",
    "output2.groupby(['n_features'])['mse','returns'].mean() , output2.groupby(['n_features'])['mse','returns'].var()"
   ]
  },
  {
   "cell_type": "markdown",
   "metadata": {},
   "source": [
    "Throwing in all the features into our model significantly outperformed the vetted model. This demonstrates the power of modern machine learning techniques. Although many of our features are clearly correlated and by traditionalist standards, often are discouraged from being used together, marginal predictive utility of each features added up to improve the prediction significantly. Also, the built-in regularization ability of GBM help curb the negative variance tradeoffs. As such, often, additional time invested in careful feature selection can sometimes make your model worse. With this confirmation in mind, I will employ all 48 features but improve the model further by tuning the parameters of the model in the next post."
   ]
  },
  {
   "cell_type": "code",
   "execution_count": null,
   "metadata": {
    "collapsed": true
   },
   "outputs": [],
   "source": []
  },
  {
   "cell_type": "code",
   "execution_count": null,
   "metadata": {
    "collapsed": true
   },
   "outputs": [],
   "source": []
  },
  {
   "cell_type": "markdown",
   "metadata": {},
   "source": [
    "Title: parameter tuning in Gradient Boosting"
   ]
  },
  {
   "attachments": {},
   "cell_type": "markdown",
   "metadata": {},
   "source": [
    "In the last [post](http://jameslee.posthaven.com/peer-to-peer-lending-markets-part-3-feature-selection), I discussed methods for feature selection and its merits in modern machine learning. It was apparent that while feature selection is important, methods such as Gradient Boosting has built-in regularization methods that can make aggressive pruning counterproductive. Incremental predictive utility from the features despite their short-comings such as multicoliniearty add up to make a big difference in prediction performance. As a demonstration, a model with vetted features and model with all the features were pitted against each other using performance samples from cross-validation where the one with all the features dominated the other. We will take the winning set of features and take it a step further with parameter tuning and see if it can outperform a regression model, which beat out the GBM model in this [post](http://jameslee.posthaven.com/peer-to-peer-lending-markets-part-2-using-linear-regression-and-gradient-boosting-regression-to-outperform-the-market).\n",
    "\n",
    "Hyperparameters are model specific parameters that dictate how the training should be done. It is important to get this step right to harness the full power of the algorithm. We will use GridSearchCV function from scikitlearn which exhaustively considers all possibilities of the parameters the user provides. In an ideal scenario, different combinations of the parameters are tuned together, but that requires a lot of computation resources. So, the parametesr are tuned sequentially. \n",
    "\n",
    "First, we chooes a learning rate. Learning rate determines how fast or slow we travel down the downward slope in gradient descent with respect to the loss function. A lower learning rate will almost surely improve the model's performance but require more computation power. "
   ]
  },
  {
   "cell_type": "code",
   "execution_count": 436,
   "metadata": {},
   "outputs": [
    {
     "data": {
      "text/html": [
       "<img src=\"https://cdn-images-1.medium.com/max/1600/0*00BrbBeDrFOjocpK.\"/>"
      ],
      "text/plain": [
       "<IPython.core.display.Image object>"
      ]
     },
     "execution_count": 436,
     "metadata": {},
     "output_type": "execute_result"
    }
   ],
   "source": [
    "Image(url= \"https://cdn-images-1.medium.com/max/1600/0*00BrbBeDrFOjocpK.\")"
   ]
  },
  {
   "cell_type": "markdown",
   "metadata": {},
   "source": [
    "Source: Professor Andrew Ng's Machine Learning Course"
   ]
  },
  {
   "cell_type": "markdown",
   "metadata": {},
   "source": [
    "I found .01 to be sufficiently low enough and doesn't take too long for my computer. As a reference, default value is .1. With our learning rate set in place, first the number of estimators are tuned. This parameter dictates the numbe of trees that are added to the model and generally large numbers improve performance. GBM is fairly robus to overfitting so a large number can be utilized but a trade off is longer computation time. "
   ]
  },
  {
   "cell_type": "code",
   "execution_count": 437,
   "metadata": {
    "collapsed": true
   },
   "outputs": [],
   "source": [
    "parameters = {\n",
    "    \"n_estimators\":[50, 100, 200, 500, 1000,2000]\n",
    "    }\n",
    "clf_ntrees = GridSearchCV(ensemble.GradientBoostingRegressor(learning_rate=0.01, min_samples_split=300,\n",
    "                                                      min_samples_leaf=50,max_depth=8,max_features='sqrt',\n",
    "                                                      subsample=0.8,random_state=10), parameters, cv=5, n_jobs=-1)"
   ]
  },
  {
   "cell_type": "code",
   "execution_count": null,
   "metadata": {},
   "outputs": [],
   "source": [
    "clf_ntrees.fit(df_train[columns_all], df_train['irr'])"
   ]
  },
  {
   "cell_type": "code",
   "execution_count": 75,
   "metadata": {},
   "outputs": [
    {
     "name": "stdout",
     "output_type": "stream",
     "text": [
      "{'n_estimators': 100} 0.0175480686076\n"
     ]
    }
   ],
   "source": [
    "print(clf_ntrees.best_params_, clf_ntrees.best_score_)"
   ]
  },
  {
   "cell_type": "code",
   "execution_count": 76,
   "metadata": {},
   "outputs": [
    {
     "data": {
      "text/plain": [
       "array([ 60,  70,  80,  90, 100, 110, 120, 130, 140, 150])"
      ]
     },
     "execution_count": 76,
     "metadata": {},
     "output_type": "execute_result"
    }
   ],
   "source": [
    " np.linspace(60, 150, 10).astype(int)"
   ]
  },
  {
   "cell_type": "code",
   "execution_count": 77,
   "metadata": {
    "collapsed": true
   },
   "outputs": [],
   "source": [
    "parameters = {\n",
    "    \"n_estimators\": np.linspace(60, 150, 10).astype(int)\n",
    "    }\n",
    "clf_ntrees2 = GridSearchCV(ensemble.GradientBoostingRegressor(learning_rate=0.05, min_samples_split=300,\n",
    "                                                      min_samples_leaf=50,max_depth=8,max_features='sqrt',\n",
    "                                                      subsample=0.8,random_state=10), parameters, cv=5, n_jobs=-1)"
   ]
  },
  {
   "cell_type": "code",
   "execution_count": 78,
   "metadata": {},
   "outputs": [
    {
     "data": {
      "text/plain": [
       "GridSearchCV(cv=5, error_score='raise',\n",
       "       estimator=GradientBoostingRegressor(alpha=0.9, criterion='friedman_mse', init=None,\n",
       "             learning_rate=0.05, loss='ls', max_depth=8,\n",
       "             max_features='sqrt', max_leaf_nodes=None,\n",
       "             min_impurity_decrease=0.0, min_impurity_split=None,\n",
       "             min_samples_leaf=50, min_samples_split=300,\n",
       "             min_weight_fraction_leaf=0.0, n_estimators=100,\n",
       "             presort='auto', random_state=10, subsample=0.8, verbose=0,\n",
       "             warm_start=False),\n",
       "       fit_params=None, iid=True, n_jobs=-1,\n",
       "       param_grid={'n_estimators': array([ 60,  70,  80,  90, 100, 110, 120, 130, 140, 150])},\n",
       "       pre_dispatch='2*n_jobs', refit=True, return_train_score='warn',\n",
       "       scoring=None, verbose=0)"
      ]
     },
     "execution_count": 78,
     "metadata": {},
     "output_type": "execute_result"
    }
   ],
   "source": [
    "clf_ntrees2.fit(df_train[columns].iloc[:,importance.argsort()[-17:][::-1]], df_train['irr'])"
   ]
  },
  {
   "cell_type": "code",
   "execution_count": 250,
   "metadata": {},
   "outputs": [
    {
     "name": "stdout",
     "output_type": "stream",
     "text": [
      "{'n_estimators': 80}\n"
     ]
    }
   ],
   "source": [
    "print(clf_ntrees2.best_params_, clf_ntrees2.best_score_)"
   ]
  },
  {
   "cell_type": "markdown",
   "metadata": {},
   "source": [
    "80 is the best n_trees we will move onto other parameters. The order of tuning variables should be decided carefully. You should take the variables with a higher impact on outcome first. For instance, max_depth and min_samples_split have a significant impact and we’re tuning those first."
   ]
  },
  {
   "cell_type": "code",
   "execution_count": 80,
   "metadata": {},
   "outputs": [
    {
     "data": {
      "text/plain": [
       "array([ 200,  400,  600,  800, 1000])"
      ]
     },
     "execution_count": 80,
     "metadata": {},
     "output_type": "execute_result"
    }
   ],
   "source": [
    "np.linspace(200,1000, 5).astype(int)"
   ]
  },
  {
   "cell_type": "code",
   "execution_count": 81,
   "metadata": {
    "collapsed": true
   },
   "outputs": [],
   "source": [
    "parameters2= {\n",
    "    'max_depth':  np.linspace(4, 16, 7).astype(int), 'min_samples_split': np.linspace(200,1000, 5).astype(int)\n",
    "}\n",
    "clf_max_min = GridSearchCV(ensemble.GradientBoostingRegressor(learning_rate=0.05, \n",
    "                                                      min_samples_leaf=50,max_features='sqrt',\n",
    "                                                      subsample=0.8,random_state=10, n_estimators = 80), parameters2, cv=5, n_jobs=-1)"
   ]
  },
  {
   "cell_type": "code",
   "execution_count": 82,
   "metadata": {},
   "outputs": [
    {
     "data": {
      "text/plain": [
       "GridSearchCV(cv=5, error_score='raise',\n",
       "       estimator=GradientBoostingRegressor(alpha=0.9, criterion='friedman_mse', init=None,\n",
       "             learning_rate=0.05, loss='ls', max_depth=3,\n",
       "             max_features='sqrt', max_leaf_nodes=None,\n",
       "             min_impurity_decrease=0.0, min_impurity_split=None,\n",
       "             min_samples_leaf=50, min_samples_split=2,\n",
       "             min_weight_fraction_leaf=0.0, n_estimators=80, presort='auto',\n",
       "             random_state=10, subsample=0.8, verbose=0, warm_start=False),\n",
       "       fit_params=None, iid=True, n_jobs=-1,\n",
       "       param_grid={'max_depth': array([ 4,  6,  8, 10, 12, 14, 16]), 'min_samples_split': array([ 200,  400,  600,  800, 1000])},\n",
       "       pre_dispatch='2*n_jobs', refit=True, return_train_score='warn',\n",
       "       scoring=None, verbose=0)"
      ]
     },
     "execution_count": 82,
     "metadata": {},
     "output_type": "execute_result"
    }
   ],
   "source": [
    "clf_max_min.fit(df_train[columns].iloc[:,importance.argsort()[-17:][::-1]], df_train['irr'])"
   ]
  },
  {
   "cell_type": "code",
   "execution_count": 85,
   "metadata": {},
   "outputs": [
    {
     "name": "stdout",
     "output_type": "stream",
     "text": [
      "{'max_depth': 10, 'min_samples_split': 1000} 0.0185504482691\n"
     ]
    }
   ],
   "source": [
    "print(clf_max_min.best_params_, clf_max_min.best_score_)"
   ]
  },
  {
   "cell_type": "code",
   "execution_count": 32,
   "metadata": {},
   "outputs": [
    {
     "data": {
      "text/plain": [
       "array([ 30.,  40.,  50.,  60.,  70.,  80.])"
      ]
     },
     "execution_count": 32,
     "metadata": {},
     "output_type": "execute_result"
    }
   ],
   "source": [
    "np.linspace(30,80,6)"
   ]
  },
  {
   "cell_type": "code",
   "execution_count": 93,
   "metadata": {},
   "outputs": [
    {
     "data": {
      "text/plain": [
       "array([ 1000.,  1250.,  1500.,  1750.,  2000.])"
      ]
     },
     "execution_count": 93,
     "metadata": {},
     "output_type": "execute_result"
    }
   ],
   "source": [
    "np.linspace(1000,2000, 5)"
   ]
  },
  {
   "cell_type": "code",
   "execution_count": 94,
   "metadata": {
    "collapsed": true
   },
   "outputs": [],
   "source": [
    "parameters3= {\n",
    "    'max_depth':  np.linspace(9,11,3).astype(int), 'min_samples_split': np.linspace(1000,2000, 5).astype(int), 'min_samples_leaf': np.linspace(30,80,6).astype(int)\n",
    "}\n",
    "clf_max_min_leaves = GridSearchCV(ensemble.GradientBoostingRegressor(learning_rate=0.05, \n",
    "                                                      max_features='sqrt',\n",
    "                                                      subsample=0.8,random_state=10, n_estimators = 80), parameters3, cv=5, n_jobs=-1)"
   ]
  },
  {
   "cell_type": "code",
   "execution_count": 95,
   "metadata": {},
   "outputs": [
    {
     "data": {
      "text/plain": [
       "GridSearchCV(cv=5, error_score='raise',\n",
       "       estimator=GradientBoostingRegressor(alpha=0.9, criterion='friedman_mse', init=None,\n",
       "             learning_rate=0.05, loss='ls', max_depth=3,\n",
       "             max_features='sqrt', max_leaf_nodes=None,\n",
       "             min_impurity_decrease=0.0, min_impurity_split=None,\n",
       "             min_samples_leaf=1, min_samples_split=2,\n",
       "             min_weight_fraction_leaf=0.0, n_estimators=80, presort='auto',\n",
       "             random_state=10, subsample=0.8, verbose=0, warm_start=False),\n",
       "       fit_params=None, iid=True, n_jobs=-1,\n",
       "       param_grid={'max_depth': array([ 9, 10, 11]), 'min_samples_split': array([1000, 1250, 1500, 1750, 2000]), 'min_samples_leaf': array([30, 40, 50, 60, 70, 80])},\n",
       "       pre_dispatch='2*n_jobs', refit=True, return_train_score='warn',\n",
       "       scoring=None, verbose=0)"
      ]
     },
     "execution_count": 95,
     "metadata": {},
     "output_type": "execute_result"
    }
   ],
   "source": [
    "clf_max_min_leaves.fit(df_train[columns].iloc[:,importance.argsort()[-17:][::-1]], df_train['irr'])"
   ]
  },
  {
   "cell_type": "code",
   "execution_count": 96,
   "metadata": {},
   "outputs": [
    {
     "data": {
      "text/plain": [
       "({'max_depth': 10, 'min_samples_leaf': 50, 'min_samples_split': 1750},\n",
       " 0.01894229830211043)"
      ]
     },
     "execution_count": 96,
     "metadata": {},
     "output_type": "execute_result"
    }
   ],
   "source": [
    "clf_max_min_leaves.best_params_, clf_max_min_leaves.best_score_"
   ]
  },
  {
   "cell_type": "code",
   "execution_count": 99,
   "metadata": {},
   "outputs": [
    {
     "data": {
      "text/plain": [
       "array([ 1500.,  1600.,  1700.,  1800.,  1900.,  2000.])"
      ]
     },
     "execution_count": 99,
     "metadata": {},
     "output_type": "execute_result"
    }
   ],
   "source": [
    " np.linspace(1500,2000,6)"
   ]
  },
  {
   "cell_type": "code",
   "execution_count": 100,
   "metadata": {
    "collapsed": true
   },
   "outputs": [],
   "source": [
    "parameters4= {\n",
    "    'max_features':  np.linspace(1,17,17).astype(int), 'min_samples_split':   np.linspace(1500,2000,6).astype(int)\n",
    "}\n",
    "clf_max_min_leaves_feature = GridSearchCV(ensemble.GradientBoostingRegressor(learning_rate=0.05, \n",
    "                                                      max_depth = 10, min_samples_leaf = 50, \n",
    "                                                      subsample=0.8,random_state=10, n_estimators = 80), parameters4, cv=5, n_jobs=-1)"
   ]
  },
  {
   "cell_type": "code",
   "execution_count": 101,
   "metadata": {},
   "outputs": [
    {
     "data": {
      "text/plain": [
       "GridSearchCV(cv=5, error_score='raise',\n",
       "       estimator=GradientBoostingRegressor(alpha=0.9, criterion='friedman_mse', init=None,\n",
       "             learning_rate=0.05, loss='ls', max_depth=10,\n",
       "             max_features=None, max_leaf_nodes=None,\n",
       "             min_impurity_decrease=0.0, min_impurity_split=None,\n",
       "             min_samples_leaf=50, min_samples_split=2,\n",
       "             min_weight_fraction_leaf=0.0, n_estimators=80, presort='auto',\n",
       "             random_state=10, subsample=0.8, verbose=0, warm_start=False),\n",
       "       fit_params=None, iid=True, n_jobs=-1,\n",
       "       param_grid={'max_features': array([ 1,  2,  3,  4,  5,  6,  7,  8,  9, 10, 11, 12, 13, 14, 15, 16, 17]), 'min_samples_split': array([1500, 1600, 1700, 1800, 1900, 2000])},\n",
       "       pre_dispatch='2*n_jobs', refit=True, return_train_score='warn',\n",
       "       scoring=None, verbose=0)"
      ]
     },
     "execution_count": 101,
     "metadata": {},
     "output_type": "execute_result"
    }
   ],
   "source": [
    "clf_max_min_leaves_feature.fit(df_train[columns].iloc[:,importance.argsort()[-17:][::-1]], df_train['irr'])"
   ]
  },
  {
   "cell_type": "code",
   "execution_count": 102,
   "metadata": {},
   "outputs": [
    {
     "data": {
      "text/plain": [
       "({'max_features': 5, 'min_samples_split': 1900}, 0.018976727153825361)"
      ]
     },
     "execution_count": 102,
     "metadata": {},
     "output_type": "execute_result"
    }
   ],
   "source": [
    "clf_max_min_leaves_feature.best_params_, clf_max_min_leaves_feature.best_score_ "
   ]
  },
  {
   "cell_type": "code",
   "execution_count": 103,
   "metadata": {
    "collapsed": true
   },
   "outputs": [],
   "source": [
    "parameters5= {\n",
    "    'subsample':  np.linspace(.5,1,6)\n",
    "}\n",
    "clf_5 = GridSearchCV(ensemble.GradientBoostingRegressor(learning_rate=0.05, max_features=5,\n",
    "                                                      max_depth = 10, min_samples_leaf = 50, min_samples_split = 1900,\n",
    "                                                      random_state=10, n_estimators = 80), parameters5, cv=5, n_jobs=-1)"
   ]
  },
  {
   "cell_type": "code",
   "execution_count": 104,
   "metadata": {},
   "outputs": [
    {
     "data": {
      "text/plain": [
       "(0.018976727153825361, {'subsample': 0.80000000000000004})"
      ]
     },
     "execution_count": 104,
     "metadata": {},
     "output_type": "execute_result"
    }
   ],
   "source": [
    "clf_5.fit(df_train[columns].iloc[:,importance.argsort()[-17:][::-1]], df_train['irr'])\n",
    "clf_5.best_score_ , clf_5.best_params_"
   ]
  },
  {
   "cell_type": "code",
   "execution_count": 133,
   "metadata": {},
   "outputs": [
    {
     "data": {
      "text/plain": [
       "array([400, 420, 440, 460, 480, 500, 520, 540, 560, 580, 600])"
      ]
     },
     "execution_count": 133,
     "metadata": {},
     "output_type": "execute_result"
    }
   ],
   "source": [
    "np.linspace(400,600,11).astype(int)"
   ]
  },
  {
   "cell_type": "code",
   "execution_count": 134,
   "metadata": {
    "collapsed": true
   },
   "outputs": [],
   "source": [
    "parameters6= {\n",
    "    'n_estimators':   np.linspace(400,600,11).astype(int)\n",
    "}\n",
    "clf_6 = GridSearchCV(ensemble.GradientBoostingRegressor(learning_rate=0.005, max_features=5, subsample = .8,\n",
    "                                                      max_depth = 10, min_samples_leaf = 50, min_samples_split = 1900,\n",
    "                                                      random_state=10), parameters6, cv=5, n_jobs=-1)"
   ]
  },
  {
   "cell_type": "code",
   "execution_count": 135,
   "metadata": {},
   "outputs": [
    {
     "data": {
      "text/plain": [
       "(0.018932724498527384, {'n_estimators': 480})"
      ]
     },
     "execution_count": 135,
     "metadata": {},
     "output_type": "execute_result"
    }
   ],
   "source": [
    "clf_6.fit(df_train[columns].iloc[:,importance.argsort()[-17:][::-1]], df_train['irr'])\n",
    "clf_6.best_score_ , clf_6.best_params_"
   ]
  },
  {
   "cell_type": "code",
   "execution_count": 137,
   "metadata": {},
   "outputs": [
    {
     "data": {
      "text/plain": [
       "array([  100.,   200.,   300.,   400.,   500.,   600.,   700.,   800.,\n",
       "         900.,  1000.])"
      ]
     },
     "execution_count": 137,
     "metadata": {},
     "output_type": "execute_result"
    }
   ],
   "source": [
    "np.linspace(100,1000,10)"
   ]
  },
  {
   "cell_type": "code",
   "execution_count": 138,
   "metadata": {
    "collapsed": true
   },
   "outputs": [],
   "source": [
    "parameters7= {\n",
    "    'n_estimators':   np.linspace(100,1000,10).astype(int)\n",
    "}\n",
    "clf_7 = GridSearchCV(ensemble.GradientBoostingRegressor(learning_rate=0.005, max_features=5, subsample = .8,\n",
    "                                                      max_depth = 10, min_samples_leaf = 50, min_samples_split = 1900,\n",
    "                                                      random_state=10), parameters7, cv=5, n_jobs=-1)"
   ]
  },
  {
   "cell_type": "code",
   "execution_count": 151,
   "metadata": {
    "collapsed": true
   },
   "outputs": [],
   "source": [
    "y_test = df_test['irr']\n",
    "x_test = df_test[columns].iloc[:,importance.argsort()[-17:][::-1]]\n",
    "x_train = df_train[columns].iloc[:,importance.argsort()[-17:][::-1]]\n",
    "y_train = df_train['irr']"
   ]
  },
  {
   "cell_type": "code",
   "execution_count": 152,
   "metadata": {
    "collapsed": true
   },
   "outputs": [],
   "source": [
    "gbm_predictions  = clf_6.predict(x_test)\n",
    "gbm_mse = mean_squared_error(y_test, gbm_predictions)"
   ]
  },
  {
   "cell_type": "code",
   "execution_count": 153,
   "metadata": {
    "collapsed": true
   },
   "outputs": [],
   "source": [
    "lm = linear_model.LinearRegression()\n",
    "lm.fit(x_train, y_train)\n",
    "lm_predictions = lm.predict(x_test)\n",
    "lm_mse = mean_squared_error(y_test, lm_predictions)\n",
    "df_temp = pd.DataFrame({'irr':y_test, 'gbm_predictions':gbm_predictions, 'lm_predictions':lm_predictions})\n",
    "lm_returns = np.mean(df_temp.nlargest(100, 'gbm_predictions')['irr'])"
   ]
  },
  {
   "cell_type": "code",
   "execution_count": null,
   "metadata": {
    "collapsed": true
   },
   "outputs": [],
   "source": []
  },
  {
   "cell_type": "code",
   "execution_count": 154,
   "metadata": {
    "collapsed": true
   },
   "outputs": [],
   "source": [
    "df_temp = pd.DataFrame({'irr':y_test, 'gbm_predictions':gbm_predictions, 'lm_predictions':lm_predictions})"
   ]
  },
  {
   "cell_type": "code",
   "execution_count": 156,
   "metadata": {},
   "outputs": [
    {
     "data": {
      "text/plain": [
       "(0.1259941460563475, 0.045362766734791934)"
      ]
     },
     "execution_count": 156,
     "metadata": {},
     "output_type": "execute_result"
    }
   ],
   "source": [
    "gbm_returns= np.mean(df_temp.nlargest(100, 'gbm_predictions')['irr'])\n",
    "gbm_returns, gbm_mse"
   ]
  },
  {
   "cell_type": "code",
   "execution_count": 158,
   "metadata": {},
   "outputs": [
    {
     "data": {
      "text/plain": [
       "(0.11034439297170945, 0.045644792304723548)"
      ]
     },
     "execution_count": 158,
     "metadata": {},
     "output_type": "execute_result"
    }
   ],
   "source": [
    "lm_returns = np.mean(df_temp.nlargest(100, 'lm_predictions')['irr'])\n",
    "lm_returns, lm_mse"
   ]
  },
  {
   "cell_type": "code",
   "execution_count": 163,
   "metadata": {
    "collapsed": true
   },
   "outputs": [],
   "source": [
    "returns_trials = []\n",
    "for i in range(1000):\n",
    "    df_sample = df_temp.sample(1000,replace=False)\n",
    "    gbm_returns= np.mean(df_sample.nlargest(100, 'gbm_predictions')['irr'])\n",
    "    lm_returns = np.mean(df_sample.nlargest(100, 'lm_predictions')['irr'])\n",
    "    returns_trials.append({\n",
    "        'index': i,\n",
    "        'gbm_returns': gbm_returns,\n",
    "        'lm_returns': lm_returns\n",
    "    })"
   ]
  },
  {
   "cell_type": "code",
   "execution_count": 164,
   "metadata": {
    "collapsed": true
   },
   "outputs": [],
   "source": [
    "returns_output=pd.DataFrame.from_records(returns_trials)"
   ]
  },
  {
   "cell_type": "code",
   "execution_count": 167,
   "metadata": {},
   "outputs": [
    {
     "name": "stdout",
     "output_type": "stream",
     "text": [
      "gbm_returns: 0.10082720053696367 , linear regression returns: 0.09114647290786594\n"
     ]
    }
   ],
   "source": [
    "print('gbm_returns:', np.mean(returns_output['gbm_returns']),', linear regression returns:' ,np.mean(returns_output['lm_returns']))"
   ]
  },
  {
   "cell_type": "code",
   "execution_count": 166,
   "metadata": {},
   "outputs": [
    {
     "data": {
      "image/png": "[encoded data removed]",
      "text/plain": [
       "<Figure size 432x288 with 1 Axes>"
      ]
     },
     "metadata": {},
     "output_type": "display_data"
    }
   ],
   "source": [
    "returns_output[['gbm_returns', 'lm_returns']].boxplot(vert=False)\n",
    "plt.title('Model Return Distributions')\n",
    "plt.show()"
   ]
  }
 ],
 "metadata": {
  "kernelspec": {
   "display_name": "Python 3",
   "language": "python",
   "name": "python3"
  },
  "language_info": {
   "codemirror_mode": {
    "name": "ipython",
    "version": 3
   },
   "file_extension": ".py",
   "mimetype": "text/x-python",
   "name": "python",
   "nbconvert_exporter": "python",
   "pygments_lexer": "ipython3",
   "version": "3.6.3"
  }
 },
 "nbformat": 4,
 "nbformat_minor": 2
}
