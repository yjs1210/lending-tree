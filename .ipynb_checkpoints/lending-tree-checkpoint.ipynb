{
 "cells": [
  {
   "cell_type": "markdown",
   "metadata": {},
   "source": [
    "## Lending Club Loan Analysis"
   ]
  },
  {
   "cell_type": "markdown",
   "metadata": {},
   "source": [
    "To Dos: ML on number of loans pulled form each grade\n",
    "Show individual security by grade - talk about its limitations\n",
    "Talk about pooling method & show CI graph = CLT -> approaches normality & easier for us to conduct tests\n",
    "End with market volume graph on entire dataset\n",
    "\n",
    "Answer questions using both approaches\n",
    "\n",
    "Present the simplest method - take the best sharpe ratio class for 2009-2011 and use that for 2012\n",
    "Present couple other approaches\n",
    "\n",
    "\n",
    "Rational for taking out the bad classes - we may be trading on noises rather than confident signals\n",
    "We may be violating the assumptions of t-test, so we can try a non-parametric test\n",
    "import scipy.optimize as optimize\n",
    "\n",
    "\n",
    "import scipy.optimize as optimize\n",
    "\n",
    "\n",
    "def f(params):\n",
    "    # print(params)  # <-- you'll see that params is a NumPy array\n",
    "    a, b, c = params # <-- for readability you may wish to assign names to the component variables\n",
    "    return a**2 + b**2 + c**2\n",
    "\n",
    "initial_guess = [1, 1, 1]\n",
    "result = optimize.minimize(f, initial_guess, bounds = [(.25, 1), (-1, 20),(0,1)])\n",
    "if result.success:\n",
    "    fitted_params = result.x\n",
    "    print(fitted_params)\n",
    "else:\n",
    "    raise ValueError(result.message)\n",
    "\n",
    "May want to check average sizes of loans and change proportions accordingly\n",
    "\n",
    "https://towardsdatascience.com/efficient-frontier-portfolio-optimisation-in-python-e7844051e7f"
   ]
  },
  {
   "cell_type": "markdown",
   "metadata": {
    "collapsed": true
   },
   "source": [
    "## Summary"
   ]
  },
  {
   "cell_type": "markdown",
   "metadata": {},
   "source": [
    "We approach this analysis from a perspective of an accredited or institutional investors, whose interests are maximizing risk-adjusted returns. Exploratory data analysis reveals that the market is growing at a healthy clip which is a positive factor for these investors who have liquidity needs. We also see that at an individual security level, these loans are highly volatile- making it a bad risk-adjusted investment without proper diversification. \n",
    "\n",
    "With that in mind, we take the approach of collecting a pool of investments, effectively creating a CDO of p2p lending securities. By Central Limit Theorem, these pool of investments approach normality and accompany other mathematically satisfying results. We will then take 80% of the data to derive insights onto how to construct a portfolio that can outperform a randomly selected pool of investments. We can measure the success by conducting either pooled t-test or looking at distribution of the randomly collected returns\n",
    "\n",
    "Result show that by [ ] we can outperform a random selection\n",
    "\n",
    "\n",
    "Because of the nature of this analysis, we are only able to use loans that have matured already to either defaulting or fully paid. An interesting follow up can be to looking a shorter term- buy hold then sell strategy by leveraging the note trading platform. This will allow us to model the loans with an assumption that they will be sold after, for example, 6 months of holding. This way, we can use data upto 6 months old to train our models"
   ]
  },
  {
   "cell_type": "markdown",
   "metadata": {},
   "source": [
    "## Data Cleaning & Environment Set Up"
   ]
  },
  {
   "cell_type": "markdown",
   "metadata": {},
   "source": [
    "##### Packages & Data Loading"
   ]
  },
  {
   "cell_type": "code",
   "execution_count": 419,
   "metadata": {
    "code_folding": [],
    "scrolled": true
   },
   "outputs": [
    {
     "name": "stderr",
     "output_type": "stream",
     "text": [
      "C:\\Users\\James\\Anaconda3\\lib\\site-packages\\statsmodels\\compat\\pandas.py:56: FutureWarning: The pandas.core.datetools module is deprecated and will be removed in a future version. Please use the pandas.tseries module instead.\n",
      "  from pandas.core import datetools\n"
     ]
    }
   ],
   "source": [
    "###Packages\n",
    "import pandas as pd\n",
    "import numpy as np\n",
    "import matplotlib.pyplot as plt\n",
    "import matplotlib.mlab as mlab\n",
    "from IPython.display import Image\n",
    "from IPython.core.display import HTML\n",
    "import datetime\n",
    "import math\n",
    "import scipy.optimize as optimize\n",
    "import statistics\n",
    "import statsmodels.api as sm\n",
    "from sklearn.linear_model import LinearRegression\n",
    "plt.style.use('ggplot')"
   ]
  },
  {
   "cell_type": "code",
   "execution_count": 53,
   "metadata": {
    "code_folding": [],
    "collapsed": true,
    "scrolled": false
   },
   "outputs": [],
   "source": [
    "### data loading \n",
    "df = pd.read_csv('./data/loan.csv', low_memory=False)"
   ]
  },
  {
   "cell_type": "markdown",
   "metadata": {
    "heading_collapsed": true
   },
   "source": [
    "##### Data Processing & Manipulation"
   ]
  },
  {
   "cell_type": "code",
   "execution_count": 54,
   "metadata": {
    "code_folding": [],
    "collapsed": true,
    "hidden": true,
    "scrolled": false
   },
   "outputs": [],
   "source": [
    "###changing data type to appropriate date type \n",
    "df['last_pymnt_d']=pd.to_datetime(df.last_pymnt_d)\n",
    "df['issue_d']=pd.to_datetime(df.issue_d)"
   ]
  },
  {
   "cell_type": "code",
   "execution_count": 55,
   "metadata": {
    "code_folding": [],
    "collapsed": true,
    "hidden": true,
    "scrolled": false
   },
   "outputs": [],
   "source": [
    "###fill missing last_payments(no payments) with issue date, may want a separete column for this treatmet\n",
    "###This is for calculation of IRRs later\n",
    "df['last_pymnt_d'].fillna(df.issue_d,inplace=True)"
   ]
  },
  {
   "cell_type": "code",
   "execution_count": 56,
   "metadata": {
    "code_folding": [],
    "collapsed": true,
    "hidden": true,
    "scrolled": false
   },
   "outputs": [],
   "source": [
    "###Some pre-processing for ease of calculations\n",
    "df['issue_yr'] = df.issue_d.dt.year\n",
    "df['issue_mo']= df.issue_d.dt.month\n",
    "df['last_pymnt_yr'] = df.last_pymnt_d.dt.year\n",
    "df['last_pymnt_mo']= df.last_pymnt_d.dt.month\n",
    "df['mo_diff'] = pd.to_numeric((df['last_pymnt_yr'] - \n",
    "                          df['issue_yr'])*12 + df['last_pymnt_mo'] -df['issue_mo'])"
   ]
  },
  {
   "cell_type": "code",
   "execution_count": 143,
   "metadata": {
    "collapsed": true,
    "hidden": true,
    "scrolled": false
   },
   "outputs": [],
   "source": [
    "###Flag for completed loans\n",
    "searchfor = ['Fully Paid', 'Charged Off', 'Default']\n",
    "defaults = ['Charged Off', 'Default']\n",
    "df['loan_completion_flag']=  np.where(df['loan_status'].str.contains('|'.join(searchfor)) ,1, np.nan)\n",
    "###Flag for fully paid loans\n",
    "df['fully_paid'] = np.where(df['loan_status'].str.contains('Fully Paid') ,1, \n",
    "                                  np.where(df['loan_status'].str.contains('|'.join(defaults)) ,0,np.nan))\n"
   ]
  },
  {
   "cell_type": "code",
   "execution_count": 58,
   "metadata": {
    "hidden": true,
    "scrolled": false
   },
   "outputs": [
    {
     "data": {
      "text/html": [
       "<div>\n",
       "<style>\n",
       "    .dataframe thead tr:only-child th {\n",
       "        text-align: right;\n",
       "    }\n",
       "\n",
       "    .dataframe thead th {\n",
       "        text-align: left;\n",
       "    }\n",
       "\n",
       "    .dataframe tbody tr th {\n",
       "        vertical-align: top;\n",
       "    }\n",
       "</style>\n",
       "<table border=\"1\" class=\"dataframe\">\n",
       "  <thead>\n",
       "    <tr style=\"text-align: right;\">\n",
       "      <th></th>\n",
       "      <th>loan_status</th>\n",
       "      <th>loan_completion_flag</th>\n",
       "      <th>fully_paid</th>\n",
       "    </tr>\n",
       "  </thead>\n",
       "  <tbody>\n",
       "    <tr>\n",
       "      <th>0</th>\n",
       "      <td>Fully Paid</td>\n",
       "      <td>1.0</td>\n",
       "      <td>1.0</td>\n",
       "    </tr>\n",
       "    <tr>\n",
       "      <th>1</th>\n",
       "      <td>Charged Off</td>\n",
       "      <td>1.0</td>\n",
       "      <td>0.0</td>\n",
       "    </tr>\n",
       "    <tr>\n",
       "      <th>2</th>\n",
       "      <td>Fully Paid</td>\n",
       "      <td>1.0</td>\n",
       "      <td>1.0</td>\n",
       "    </tr>\n",
       "    <tr>\n",
       "      <th>3</th>\n",
       "      <td>Fully Paid</td>\n",
       "      <td>1.0</td>\n",
       "      <td>1.0</td>\n",
       "    </tr>\n",
       "    <tr>\n",
       "      <th>4</th>\n",
       "      <td>Current</td>\n",
       "      <td>NaN</td>\n",
       "      <td>NaN</td>\n",
       "    </tr>\n",
       "  </tbody>\n",
       "</table>\n",
       "</div>"
      ],
      "text/plain": [
       "   loan_status  loan_completion_flag  fully_paid\n",
       "0   Fully Paid                   1.0         1.0\n",
       "1  Charged Off                   1.0         0.0\n",
       "2   Fully Paid                   1.0         1.0\n",
       "3   Fully Paid                   1.0         1.0\n",
       "4      Current                   NaN         NaN"
      ]
     },
     "execution_count": 58,
     "metadata": {},
     "output_type": "execute_result"
    }
   ],
   "source": [
    "###Example output of above manipulation\n",
    "df.head()[['loan_status','loan_completion_flag','fully_paid']]"
   ]
  },
  {
   "cell_type": "markdown",
   "metadata": {},
   "source": [
    "## Exploratory Data Analysis"
   ]
  },
  {
   "cell_type": "markdown",
   "metadata": {},
   "source": [
    "### Calculations & Assumptions"
   ]
  },
  {
   "cell_type": "markdown",
   "metadata": {},
   "source": [
    "We calculate the return of a loan by looking at the IRR of its cash flows. We make an assumption that a total payment net recoveries and last payment(to account for edge cases) are spread evenly aross the life of the loan(last payment - issue date) -1 month.\n",
    "\n",
    "For most loans, this is almost identical to installment payments. We then add back in the last payment amount, and then\n",
    "Then any recoveries and recovery fee collections are added as another cash flow spread across twelve months after the last payment month. We, then calculate the IRR of this series of cashflows. \n",
    "\n",
    "The reason why last payment amount is taken out is because often times the early payments are paid off with a large lump sum. So it would inflate the IRR unless it is properly placed as the last payment. Ideally, we can pin point exactly where each cash flow were, but this is not an option we have with our data ."
   ]
  },
  {
   "cell_type": "code",
   "execution_count": 106,
   "metadata": {
    "collapsed": true,
    "scrolled": false
   },
   "outputs": [],
   "source": [
    "###Average payment = Total payment - recoveries - last payment amount over the life -1 month of the investment\n",
    "###Average payment roughly equates to installment \n",
    "df['avg_pymnt'] = (df['total_pymnt']-df['recoveries']-df['last_pymnt_amnt'])/(np.maximum((df['mo_diff']-1),0))\n",
    "###Infinite treatment for when there is no payment or only 1 payment \n",
    "df['avg_pymnt'] = (df['avg_pymnt']).replace(np.Inf,0)\n",
    "df['avg_pymnt'] = (df['avg_pymnt']).replace(-np.Inf,0)"
   ]
  },
  {
   "cell_type": "code",
   "execution_count": 109,
   "metadata": {
    "code_folding": [],
    "collapsed": true,
    "scrolled": false
   },
   "outputs": [],
   "source": [
    "###IRR calculations\n",
    "def irr_calc(x):  \n",
    "    ##varible initialization\n",
    "    initial_invest = -x['funded_amnt']\n",
    "    avg_payment = x['avg_pymnt']\n",
    "    num_payments = np.max(int(x['mo_diff'])-1,0)\n",
    "    recovery = x['recoveries'] -x['collection_recovery_fee']\n",
    "    recovery_duration = np.maximum(36 - num_payments + 1 + 12,12)\n",
    "    avg_recovery = recovery/recovery_duration\n",
    "    last_payment_amount = x['last_pymnt_amnt']\n",
    "    ###IRR calculation, input: series of cash flows, total payment - recoveries\n",
    "    ###evenly divided and spread across the life of the loan and finally recovery and chargeoff fees\n",
    "    return ((np.irr([initial_invest]+[avg_payment]*num_payments + [last_payment_amount] +\n",
    "                    [avg_recovery]*recovery_duration)+1)**12-1)"
   ]
  },
  {
   "cell_type": "code",
   "execution_count": 110,
   "metadata": {
    "code_folding": [],
    "scrolled": false
   },
   "outputs": [],
   "source": [
    "###Calculating at a row level, individual security IRRs. Method will be faulty for loans that didn't mature.\n",
    "###Warning the calculation takes a fair amount of time ~few minutes\n",
    "df['irr']=df.apply(irr_calc, axis=1)"
   ]
  },
  {
   "cell_type": "code",
   "execution_count": 116,
   "metadata": {
    "collapsed": true,
    "scrolled": false
   },
   "outputs": [],
   "source": [
    "##NaNs returned from IRRs with 0 payments should be -100% return \n",
    "df['irr']=df['irr'].replace(np.NaN,-1)"
   ]
  },
  {
   "cell_type": "markdown",
   "metadata": {
    "heading_collapsed": true
   },
   "source": [
    "### Summary Statistics on Overall Market by Year"
   ]
  },
  {
   "cell_type": "code",
   "execution_count": 156,
   "metadata": {
    "hidden": true,
    "scrolled": false
   },
   "outputs": [
    {
     "data": {
      "text/html": [
       "<div>\n",
       "<style>\n",
       "    .dataframe thead tr:only-child th {\n",
       "        text-align: right;\n",
       "    }\n",
       "\n",
       "    .dataframe thead th {\n",
       "        text-align: left;\n",
       "    }\n",
       "\n",
       "    .dataframe tbody tr th {\n",
       "        vertical-align: top;\n",
       "    }\n",
       "</style>\n",
       "<table border=\"1\" class=\"dataframe\">\n",
       "  <thead>\n",
       "    <tr style=\"text-align: right;\">\n",
       "      <th></th>\n",
       "      <th>issue_yr</th>\n",
       "      <th>2007</th>\n",
       "      <th>2008</th>\n",
       "      <th>2009</th>\n",
       "      <th>2010</th>\n",
       "      <th>2011</th>\n",
       "      <th>2012</th>\n",
       "      <th>2013</th>\n",
       "      <th>2014</th>\n",
       "      <th>2015</th>\n",
       "    </tr>\n",
       "  </thead>\n",
       "  <tbody>\n",
       "    <tr>\n",
       "      <th rowspan=\"4\" valign=\"top\">mo_diff</th>\n",
       "      <th>mean</th>\n",
       "      <td>26.308458</td>\n",
       "      <td>26.661931</td>\n",
       "      <td>26.246355</td>\n",
       "      <td>29.661243</td>\n",
       "      <td>29.182174</td>\n",
       "      <td>26.310135</td>\n",
       "      <td>22.436258</td>\n",
       "      <td>15.473382</td>\n",
       "      <td>5.513693</td>\n",
       "    </tr>\n",
       "    <tr>\n",
       "      <th>len</th>\n",
       "      <td>603.000000</td>\n",
       "      <td>2393.000000</td>\n",
       "      <td>5281.000000</td>\n",
       "      <td>12537.000000</td>\n",
       "      <td>21721.000000</td>\n",
       "      <td>53367.000000</td>\n",
       "      <td>134755.000000</td>\n",
       "      <td>235628.000000</td>\n",
       "      <td>421094.000000</td>\n",
       "    </tr>\n",
       "    <tr>\n",
       "      <th>median</th>\n",
       "      <td>33.000000</td>\n",
       "      <td>32.000000</td>\n",
       "      <td>31.000000</td>\n",
       "      <td>32.000000</td>\n",
       "      <td>32.000000</td>\n",
       "      <td>29.000000</td>\n",
       "      <td>25.000000</td>\n",
       "      <td>16.000000</td>\n",
       "      <td>5.000000</td>\n",
       "    </tr>\n",
       "    <tr>\n",
       "      <th>std</th>\n",
       "      <td>11.727996</td>\n",
       "      <td>11.520294</td>\n",
       "      <td>11.445312</td>\n",
       "      <td>14.648194</td>\n",
       "      <td>14.103763</td>\n",
       "      <td>11.360228</td>\n",
       "      <td>8.804633</td>\n",
       "      <td>5.069411</td>\n",
       "      <td>3.435963</td>\n",
       "    </tr>\n",
       "    <tr>\n",
       "      <th rowspan=\"4\" valign=\"top\">funded_amnt</th>\n",
       "      <th>mean</th>\n",
       "      <td>7946.185738</td>\n",
       "      <td>8347.273297</td>\n",
       "      <td>9811.541375</td>\n",
       "      <td>10078.262343</td>\n",
       "      <td>11848.609640</td>\n",
       "      <td>13452.932055</td>\n",
       "      <td>14708.051649</td>\n",
       "      <td>14870.177462</td>\n",
       "      <td>15240.255561</td>\n",
       "    </tr>\n",
       "    <tr>\n",
       "      <th>len</th>\n",
       "      <td>603.000000</td>\n",
       "      <td>2393.000000</td>\n",
       "      <td>5281.000000</td>\n",
       "      <td>12537.000000</td>\n",
       "      <td>21721.000000</td>\n",
       "      <td>53367.000000</td>\n",
       "      <td>134755.000000</td>\n",
       "      <td>235628.000000</td>\n",
       "      <td>421094.000000</td>\n",
       "    </tr>\n",
       "    <tr>\n",
       "      <th>median</th>\n",
       "      <td>6000.000000</td>\n",
       "      <td>7000.000000</td>\n",
       "      <td>8650.000000</td>\n",
       "      <td>9000.000000</td>\n",
       "      <td>10000.000000</td>\n",
       "      <td>12000.000000</td>\n",
       "      <td>13000.000000</td>\n",
       "      <td>13000.000000</td>\n",
       "      <td>14000.000000</td>\n",
       "    </tr>\n",
       "    <tr>\n",
       "      <th>std</th>\n",
       "      <td>5897.897343</td>\n",
       "      <td>5556.902423</td>\n",
       "      <td>5987.161795</td>\n",
       "      <td>6186.399743</td>\n",
       "      <td>7895.098134</td>\n",
       "      <td>8078.326704</td>\n",
       "      <td>8099.065957</td>\n",
       "      <td>8438.330135</td>\n",
       "      <td>8571.313525</td>\n",
       "    </tr>\n",
       "    <tr>\n",
       "      <th rowspan=\"4\" valign=\"top\">fully_paid</th>\n",
       "      <th>mean</th>\n",
       "      <td>0.737977</td>\n",
       "      <td>0.792729</td>\n",
       "      <td>0.863094</td>\n",
       "      <td>0.859938</td>\n",
       "      <td>0.836763</td>\n",
       "      <td>0.836422</td>\n",
       "      <td>0.789705</td>\n",
       "      <td>0.789430</td>\n",
       "      <td>0.879131</td>\n",
       "    </tr>\n",
       "    <tr>\n",
       "      <th>len</th>\n",
       "      <td>603.000000</td>\n",
       "      <td>2393.000000</td>\n",
       "      <td>5281.000000</td>\n",
       "      <td>12537.000000</td>\n",
       "      <td>21721.000000</td>\n",
       "      <td>53367.000000</td>\n",
       "      <td>134755.000000</td>\n",
       "      <td>235628.000000</td>\n",
       "      <td>421094.000000</td>\n",
       "    </tr>\n",
       "    <tr>\n",
       "      <th>median</th>\n",
       "      <td>1.000000</td>\n",
       "      <td>1.000000</td>\n",
       "      <td>1.000000</td>\n",
       "      <td>1.000000</td>\n",
       "      <td>1.000000</td>\n",
       "      <td>1.000000</td>\n",
       "      <td>0.000000</td>\n",
       "      <td>NaN</td>\n",
       "      <td>NaN</td>\n",
       "    </tr>\n",
       "    <tr>\n",
       "      <th>std</th>\n",
       "      <td>0.440100</td>\n",
       "      <td>0.405436</td>\n",
       "      <td>0.343781</td>\n",
       "      <td>0.347065</td>\n",
       "      <td>0.369591</td>\n",
       "      <td>0.369896</td>\n",
       "      <td>0.407521</td>\n",
       "      <td>0.407717</td>\n",
       "      <td>0.325981</td>\n",
       "    </tr>\n",
       "    <tr>\n",
       "      <th rowspan=\"4\" valign=\"top\">irr</th>\n",
       "      <th>mean</th>\n",
       "      <td>-0.031609</td>\n",
       "      <td>-0.003648</td>\n",
       "      <td>0.049158</td>\n",
       "      <td>0.049033</td>\n",
       "      <td>0.040954</td>\n",
       "      <td>0.049310</td>\n",
       "      <td>-0.028577</td>\n",
       "      <td>-0.382607</td>\n",
       "      <td>-0.904201</td>\n",
       "    </tr>\n",
       "    <tr>\n",
       "      <th>len</th>\n",
       "      <td>603.000000</td>\n",
       "      <td>2393.000000</td>\n",
       "      <td>5281.000000</td>\n",
       "      <td>12537.000000</td>\n",
       "      <td>21721.000000</td>\n",
       "      <td>53367.000000</td>\n",
       "      <td>134755.000000</td>\n",
       "      <td>235628.000000</td>\n",
       "      <td>421094.000000</td>\n",
       "    </tr>\n",
       "    <tr>\n",
       "      <th>median</th>\n",
       "      <td>0.107518</td>\n",
       "      <td>0.114199</td>\n",
       "      <td>0.125278</td>\n",
       "      <td>0.112849</td>\n",
       "      <td>0.105541</td>\n",
       "      <td>0.119900</td>\n",
       "      <td>0.048285</td>\n",
       "      <td>-0.465180</td>\n",
       "      <td>-0.996545</td>\n",
       "    </tr>\n",
       "    <tr>\n",
       "      <th>std</th>\n",
       "      <td>0.303864</td>\n",
       "      <td>0.296726</td>\n",
       "      <td>0.244018</td>\n",
       "      <td>0.225909</td>\n",
       "      <td>0.227265</td>\n",
       "      <td>0.225935</td>\n",
       "      <td>0.229724</td>\n",
       "      <td>0.339233</td>\n",
       "      <td>0.261512</td>\n",
       "    </tr>\n",
       "    <tr>\n",
       "      <th rowspan=\"4\" valign=\"top\">int_rate</th>\n",
       "      <th>mean</th>\n",
       "      <td>11.825108</td>\n",
       "      <td>12.061964</td>\n",
       "      <td>12.437247</td>\n",
       "      <td>11.985268</td>\n",
       "      <td>12.223746</td>\n",
       "      <td>13.637676</td>\n",
       "      <td>14.531745</td>\n",
       "      <td>13.771245</td>\n",
       "      <td>12.601731</td>\n",
       "    </tr>\n",
       "    <tr>\n",
       "      <th>len</th>\n",
       "      <td>603.000000</td>\n",
       "      <td>2393.000000</td>\n",
       "      <td>5281.000000</td>\n",
       "      <td>12537.000000</td>\n",
       "      <td>21721.000000</td>\n",
       "      <td>53367.000000</td>\n",
       "      <td>134755.000000</td>\n",
       "      <td>235628.000000</td>\n",
       "      <td>421094.000000</td>\n",
       "    </tr>\n",
       "    <tr>\n",
       "      <th>median</th>\n",
       "      <td>11.540000</td>\n",
       "      <td>11.910000</td>\n",
       "      <td>12.530000</td>\n",
       "      <td>11.860000</td>\n",
       "      <td>11.990000</td>\n",
       "      <td>13.670000</td>\n",
       "      <td>14.330000</td>\n",
       "      <td>13.650000</td>\n",
       "      <td>12.290000</td>\n",
       "    </tr>\n",
       "    <tr>\n",
       "      <th>std</th>\n",
       "      <td>2.730695</td>\n",
       "      <td>2.528280</td>\n",
       "      <td>2.670839</td>\n",
       "      <td>3.487358</td>\n",
       "      <td>4.148980</td>\n",
       "      <td>4.371890</td>\n",
       "      <td>4.437612</td>\n",
       "      <td>4.325532</td>\n",
       "      <td>4.317873</td>\n",
       "    </tr>\n",
       "  </tbody>\n",
       "</table>\n",
       "</div>"
      ],
      "text/plain": [
       "issue_yr                   2007         2008         2009          2010  \\\n",
       "mo_diff     mean      26.308458    26.661931    26.246355     29.661243   \n",
       "            len      603.000000  2393.000000  5281.000000  12537.000000   \n",
       "            median    33.000000    32.000000    31.000000     32.000000   \n",
       "            std       11.727996    11.520294    11.445312     14.648194   \n",
       "funded_amnt mean    7946.185738  8347.273297  9811.541375  10078.262343   \n",
       "            len      603.000000  2393.000000  5281.000000  12537.000000   \n",
       "            median  6000.000000  7000.000000  8650.000000   9000.000000   \n",
       "            std     5897.897343  5556.902423  5987.161795   6186.399743   \n",
       "fully_paid  mean       0.737977     0.792729     0.863094      0.859938   \n",
       "            len      603.000000  2393.000000  5281.000000  12537.000000   \n",
       "            median     1.000000     1.000000     1.000000      1.000000   \n",
       "            std        0.440100     0.405436     0.343781      0.347065   \n",
       "irr         mean      -0.031609    -0.003648     0.049158      0.049033   \n",
       "            len      603.000000  2393.000000  5281.000000  12537.000000   \n",
       "            median     0.107518     0.114199     0.125278      0.112849   \n",
       "            std        0.303864     0.296726     0.244018      0.225909   \n",
       "int_rate    mean      11.825108    12.061964    12.437247     11.985268   \n",
       "            len      603.000000  2393.000000  5281.000000  12537.000000   \n",
       "            median    11.540000    11.910000    12.530000     11.860000   \n",
       "            std        2.730695     2.528280     2.670839      3.487358   \n",
       "\n",
       "issue_yr                    2011          2012           2013           2014  \\\n",
       "mo_diff     mean       29.182174     26.310135      22.436258      15.473382   \n",
       "            len     21721.000000  53367.000000  134755.000000  235628.000000   \n",
       "            median     32.000000     29.000000      25.000000      16.000000   \n",
       "            std        14.103763     11.360228       8.804633       5.069411   \n",
       "funded_amnt mean    11848.609640  13452.932055   14708.051649   14870.177462   \n",
       "            len     21721.000000  53367.000000  134755.000000  235628.000000   \n",
       "            median  10000.000000  12000.000000   13000.000000   13000.000000   \n",
       "            std      7895.098134   8078.326704    8099.065957    8438.330135   \n",
       "fully_paid  mean        0.836763      0.836422       0.789705       0.789430   \n",
       "            len     21721.000000  53367.000000  134755.000000  235628.000000   \n",
       "            median      1.000000      1.000000       0.000000            NaN   \n",
       "            std         0.369591      0.369896       0.407521       0.407717   \n",
       "irr         mean        0.040954      0.049310      -0.028577      -0.382607   \n",
       "            len     21721.000000  53367.000000  134755.000000  235628.000000   \n",
       "            median      0.105541      0.119900       0.048285      -0.465180   \n",
       "            std         0.227265      0.225935       0.229724       0.339233   \n",
       "int_rate    mean       12.223746     13.637676      14.531745      13.771245   \n",
       "            len     21721.000000  53367.000000  134755.000000  235628.000000   \n",
       "            median     11.990000     13.670000      14.330000      13.650000   \n",
       "            std         4.148980      4.371890       4.437612       4.325532   \n",
       "\n",
       "issue_yr                     2015  \n",
       "mo_diff     mean         5.513693  \n",
       "            len     421094.000000  \n",
       "            median       5.000000  \n",
       "            std          3.435963  \n",
       "funded_amnt mean     15240.255561  \n",
       "            len     421094.000000  \n",
       "            median   14000.000000  \n",
       "            std       8571.313525  \n",
       "fully_paid  mean         0.879131  \n",
       "            len     421094.000000  \n",
       "            median            NaN  \n",
       "            std          0.325981  \n",
       "irr         mean        -0.904201  \n",
       "            len     421094.000000  \n",
       "            median      -0.996545  \n",
       "            std          0.261512  \n",
       "int_rate    mean        12.601731  \n",
       "            len     421094.000000  \n",
       "            median      12.290000  \n",
       "            std          4.317873  "
      ]
     },
     "execution_count": 156,
     "metadata": {},
     "output_type": "execute_result"
    }
   ],
   "source": [
    "df_group = df.groupby(['issue_yr'])\n",
    "#df_group.describe(percentiles=[])[['mo_diff','loan_amnt','loan_status_flag','irr','int_rate']].loc[['count','max']]\n",
    "df_group.agg([np.mean, len, statistics.median, np.std])[['mo_diff','funded_amnt','fully_paid','irr','int_rate']].transpose()"
   ]
  },
  {
   "cell_type": "markdown",
   "metadata": {
    "hidden": true
   },
   "source": [
    "Few things to note here:\n",
    "    1. Market is growing(number of loans and loan size) at a healthy clip - this is positive for institutional investors with liquidity needs.\n",
    "    2. Standard Deviation of the IRRs are huge likely due to defaults. So any serious investors looking for good risk/reward trade-off should mitigate the risk by pooling lots of loans.\n",
    "    3. 2007-2008 loans have unusually negative returns accompanied with high default rates(1- fully_paid). This is likely due to market conditions. This is a good indication that p2p lending maket is not recession proof.\n",
    "    4. We see that recent IRRs are in the negatives because non-defaulting loans haven't matured yet. This limits our training dataset for buy and hold strategy to just loans that are 2012 and older. An interesting follow up would be to look at buy-hold-sell strategy leveraging the note trading platform. We can then incorporate much more recent data into our model."
   ]
  },
  {
   "cell_type": "code",
   "execution_count": 131,
   "metadata": {
    "code_folding": [],
    "collapsed": true,
    "hidden": true,
    "scrolled": false
   },
   "outputs": [],
   "source": [
    "####Filter down to completed loans, has at least 36 months of possible history\n",
    "df_filtered = df[df['loan_status'].str.contains('|'.join(searchfor))].query(\"term == ' 36 months' and issue_yr <=2012\").copy()"
   ]
  },
  {
   "cell_type": "markdown",
   "metadata": {},
   "source": [
    "### Distribution of Matured Returns "
   ]
  },
  {
   "cell_type": "code",
   "execution_count": 133,
   "metadata": {
    "code_folding": [],
    "scrolled": true
   },
   "outputs": [
    {
     "data": {
      "image/png": "[encoded data removed]",
      "text/plain": [
       "<matplotlib.figure.Figure at 0x1fb23fdb828>"
      ]
     },
     "metadata": {},
     "output_type": "display_data"
    }
   ],
   "source": [
    "####Histogram of returns\n",
    "plt.hist(df_filtered['irr'],bins=20) \n",
    "plt.xlabel('Return')\n",
    "plt.ylabel('Frequency')\n",
    "plt.show()"
   ]
  },
  {
   "cell_type": "markdown",
   "metadata": {},
   "source": [
    "There are few things to note here\n",
    "    1. Lending returns are clearly not normally distributed and very long tailed skewed to the left. \n",
    "    2. That means extreme losses are possible. Again, pooling loans to spread the default risk out is a key to a successful investment strategy.\n",
    "    3. We have some unusually high return loans. These tend to be high interest and low grade loans that were prepaid very early. An example is shown below. I don't think there is a need to remove them since they are real loans, and our IRR calculation models their performance in a reasonable manner."
   ]
  },
  {
   "cell_type": "markdown",
   "metadata": {
    "heading_collapsed": true
   },
   "source": [
    "###### High Return Outlier Example"
   ]
  },
  {
   "cell_type": "code",
   "execution_count": 134,
   "metadata": {
    "hidden": true,
    "scrolled": true
   },
   "outputs": [
    {
     "data": {
      "text/plain": [
       "loan_status                         Fully Paid\n",
       "total_pymnt                            38426.6\n",
       "loan_amnt                                30000\n",
       "last_pymnt_amnt                         554.46\n",
       "installment                            1160.51\n",
       "issue_d                    2012-07-01 00:00:00\n",
       "int_rate                                 22.95\n",
       "last_pymnt_d               2014-02-01 00:00:00\n",
       "total_pymnt                            38426.6\n",
       "mo_diff                                     19\n",
       "avg_pymnt                              2104.01\n",
       "irr                                   0.377928\n",
       "collection_recovery_fee                      0\n",
       "recoveries                                   0\n",
       "total_rec_late_fee                           0\n",
       "grade                                        F\n",
       "Name: 210832, dtype: object"
      ]
     },
     "execution_count": 134,
     "metadata": {},
     "output_type": "execute_result"
    }
   ],
   "source": [
    "df_filtered.loc[df_filtered.irr.argmax()][['loan_status','total_pymnt','loan_amnt','last_pymnt_amnt','installment','issue_d','int_rate'\n",
    "                                                 ,'last_pymnt_d', 'total_pymnt','mo_diff','avg_pymnt','irr'\n",
    "                                               ,'collection_recovery_fee','recoveries','total_rec_late_fee','grade']]"
   ]
  },
  {
   "cell_type": "markdown",
   "metadata": {
    "heading_collapsed": true
   },
   "source": [
    "### Weighted Average IRR of all Completed Loans Originated from 2007-2012"
   ]
  },
  {
   "cell_type": "code",
   "execution_count": 135,
   "metadata": {
    "hidden": true,
    "scrolled": false
   },
   "outputs": [
    {
     "data": {
      "text/plain": [
       "0.061408379614021645"
      ]
     },
     "execution_count": 135,
     "metadata": {},
     "output_type": "execute_result"
    }
   ],
   "source": [
    "###Weight the returns by funded amount to get more accurate representation\n",
    "weighted_avg = np.average(df_filtered['irr'], weights=df_filtered['funded_amnt'])\n",
    "weighted_avg"
   ]
  },
  {
   "cell_type": "markdown",
   "metadata": {
    "hidden": true
   },
   "source": [
    "it's important to note how the weighted average is higher than the raw averages. This is an indication that higher balance loans are better performing. We will investigate that next."
   ]
  },
  {
   "cell_type": "markdown",
   "metadata": {},
   "source": [
    "### Weighted Average IRR Bucketed by Size of the Loan "
   ]
  },
  {
   "cell_type": "code",
   "execution_count": 345,
   "metadata": {},
   "outputs": [
    {
     "data": {
      "text/plain": [
       "array([  7000.,  12000.,  35000.])"
      ]
     },
     "execution_count": 345,
     "metadata": {},
     "output_type": "execute_result"
    }
   ],
   "source": [
    "### we bucket by using 33% 66% and 100% tiles\n",
    "bucket = df_filtered['funded_amnt']\n",
    "np.percentile(bucket,[33,66,100])"
   ]
  },
  {
   "cell_type": "code",
   "execution_count": 346,
   "metadata": {},
   "outputs": [
    {
     "data": {
      "text/plain": [
       "size_bucket  grade\n",
       "large        A        0.049669\n",
       "             B        0.065870\n",
       "             C        0.076904\n",
       "             D        0.081483\n",
       "             E        0.090408\n",
       "             F       -0.002948\n",
       "             G        0.020432\n",
       "medium       A        0.045830\n",
       "             B        0.063098\n",
       "             C        0.057808\n",
       "             D        0.064582\n",
       "             E        0.040169\n",
       "             F       -0.012536\n",
       "             G       -0.152169\n",
       "small        A        0.041511\n",
       "             B        0.056825\n",
       "             C        0.055104\n",
       "             D        0.052604\n",
       "             E        0.035092\n",
       "             F        0.044018\n",
       "             G        0.045941\n",
       "dtype: float64"
      ]
     },
     "execution_count": 346,
     "metadata": {},
     "output_type": "execute_result"
    }
   ],
   "source": [
    "df_filtered['size_bucket'] = np.where(df_filtered['funded_amnt']<=7000 ,'small',\n",
    "                            np.where(df_filtered['funded_amnt']<=12000  ,'medium','large'))\n",
    "df_group_size = df_filtered.groupby(['size_bucket','grade'])\n",
    "# df_group_size.[np.mean, len, statistics.median, np.std]\n",
    "df_group_size_irr = df_group_size.apply(lambda x: np.average(x['irr'],weights = x['funded_amnt']))\n",
    "df_group_size_irr"
   ]
  },
  {
   "cell_type": "markdown",
   "metadata": {},
   "source": [
    "Large loans had much higher profitability. In fact, medium and small sized loans across grades A through D which are more investable loans"
   ]
  },
  {
   "cell_type": "markdown",
   "metadata": {},
   "source": [
    "We sanity check to make sure that this is not due to higher distribution of larger loans in later years"
   ]
  },
  {
   "cell_type": "code",
   "execution_count": 347,
   "metadata": {},
   "outputs": [
    {
     "data": {
      "text/html": [
       "<div>\n",
       "<style>\n",
       "    .dataframe thead tr:only-child th {\n",
       "        text-align: right;\n",
       "    }\n",
       "\n",
       "    .dataframe thead th {\n",
       "        text-align: left;\n",
       "    }\n",
       "\n",
       "    .dataframe tbody tr th {\n",
       "        vertical-align: top;\n",
       "    }\n",
       "</style>\n",
       "<table border=\"1\" class=\"dataframe\">\n",
       "  <thead>\n",
       "    <tr>\n",
       "      <th></th>\n",
       "      <th></th>\n",
       "      <th colspan=\"4\" halign=\"left\">irr</th>\n",
       "    </tr>\n",
       "    <tr>\n",
       "      <th></th>\n",
       "      <th></th>\n",
       "      <th>mean</th>\n",
       "      <th>len</th>\n",
       "      <th>median</th>\n",
       "      <th>std</th>\n",
       "    </tr>\n",
       "    <tr>\n",
       "      <th>issue_yr</th>\n",
       "      <th>size_bucket</th>\n",
       "      <th></th>\n",
       "      <th></th>\n",
       "      <th></th>\n",
       "      <th></th>\n",
       "    </tr>\n",
       "  </thead>\n",
       "  <tbody>\n",
       "    <tr>\n",
       "      <th rowspan=\"3\" valign=\"top\">2007</th>\n",
       "      <th>large</th>\n",
       "      <td>-0.073341</td>\n",
       "      <td>108.0</td>\n",
       "      <td>0.106005</td>\n",
       "      <td>0.323120</td>\n",
       "    </tr>\n",
       "    <tr>\n",
       "      <th>medium</th>\n",
       "      <td>-0.077874</td>\n",
       "      <td>150.0</td>\n",
       "      <td>0.107714</td>\n",
       "      <td>0.362295</td>\n",
       "    </tr>\n",
       "    <tr>\n",
       "      <th>small</th>\n",
       "      <td>0.001569</td>\n",
       "      <td>345.0</td>\n",
       "      <td>0.104255</td>\n",
       "      <td>0.263952</td>\n",
       "    </tr>\n",
       "    <tr>\n",
       "      <th rowspan=\"3\" valign=\"top\">2008</th>\n",
       "      <th>large</th>\n",
       "      <td>-0.062259</td>\n",
       "      <td>439.0</td>\n",
       "      <td>0.115679</td>\n",
       "      <td>0.362274</td>\n",
       "    </tr>\n",
       "    <tr>\n",
       "      <th>medium</th>\n",
       "      <td>-0.009975</td>\n",
       "      <td>749.0</td>\n",
       "      <td>0.116040</td>\n",
       "      <td>0.306989</td>\n",
       "    </tr>\n",
       "    <tr>\n",
       "      <th>small</th>\n",
       "      <td>0.021638</td>\n",
       "      <td>1205.0</td>\n",
       "      <td>0.112507</td>\n",
       "      <td>0.258285</td>\n",
       "    </tr>\n",
       "    <tr>\n",
       "      <th rowspan=\"3\" valign=\"top\">2009</th>\n",
       "      <th>large</th>\n",
       "      <td>0.041719</td>\n",
       "      <td>1504.0</td>\n",
       "      <td>0.129858</td>\n",
       "      <td>0.267604</td>\n",
       "    </tr>\n",
       "    <tr>\n",
       "      <th>medium</th>\n",
       "      <td>0.048393</td>\n",
       "      <td>1621.0</td>\n",
       "      <td>0.124828</td>\n",
       "      <td>0.244041</td>\n",
       "    </tr>\n",
       "    <tr>\n",
       "      <th>small</th>\n",
       "      <td>0.054922</td>\n",
       "      <td>2156.0</td>\n",
       "      <td>0.122735</td>\n",
       "      <td>0.226060</td>\n",
       "    </tr>\n",
       "    <tr>\n",
       "      <th rowspan=\"3\" valign=\"top\">2010</th>\n",
       "      <th>large</th>\n",
       "      <td>0.066630</td>\n",
       "      <td>2438.0</td>\n",
       "      <td>0.117552</td>\n",
       "      <td>0.213647</td>\n",
       "    </tr>\n",
       "    <tr>\n",
       "      <th>medium</th>\n",
       "      <td>0.057175</td>\n",
       "      <td>2720.0</td>\n",
       "      <td>0.105410</td>\n",
       "      <td>0.198692</td>\n",
       "    </tr>\n",
       "    <tr>\n",
       "      <th>small</th>\n",
       "      <td>0.051121</td>\n",
       "      <td>3998.0</td>\n",
       "      <td>0.106397</td>\n",
       "      <td>0.205551</td>\n",
       "    </tr>\n",
       "    <tr>\n",
       "      <th rowspan=\"3\" valign=\"top\">2011</th>\n",
       "      <th>large</th>\n",
       "      <td>0.073465</td>\n",
       "      <td>3195.0</td>\n",
       "      <td>0.108311</td>\n",
       "      <td>0.169111</td>\n",
       "    </tr>\n",
       "    <tr>\n",
       "      <th>medium</th>\n",
       "      <td>0.053774</td>\n",
       "      <td>4572.0</td>\n",
       "      <td>0.093618</td>\n",
       "      <td>0.184794</td>\n",
       "    </tr>\n",
       "    <tr>\n",
       "      <th>small</th>\n",
       "      <td>0.039789</td>\n",
       "      <td>6334.0</td>\n",
       "      <td>0.092963</td>\n",
       "      <td>0.208128</td>\n",
       "    </tr>\n",
       "    <tr>\n",
       "      <th rowspan=\"3\" valign=\"top\">2012</th>\n",
       "      <th>large</th>\n",
       "      <td>0.069377</td>\n",
       "      <td>15012.0</td>\n",
       "      <td>0.128149</td>\n",
       "      <td>0.212427</td>\n",
       "    </tr>\n",
       "    <tr>\n",
       "      <th>medium</th>\n",
       "      <td>0.061155</td>\n",
       "      <td>15853.0</td>\n",
       "      <td>0.128009</td>\n",
       "      <td>0.213255</td>\n",
       "    </tr>\n",
       "    <tr>\n",
       "      <th>small</th>\n",
       "      <td>0.055753</td>\n",
       "      <td>12479.0</td>\n",
       "      <td>0.117241</td>\n",
       "      <td>0.211060</td>\n",
       "    </tr>\n",
       "  </tbody>\n",
       "</table>\n",
       "</div>"
      ],
      "text/plain": [
       "                           irr                             \n",
       "                          mean      len    median       std\n",
       "issue_yr size_bucket                                       \n",
       "2007     large       -0.073341    108.0  0.106005  0.323120\n",
       "         medium      -0.077874    150.0  0.107714  0.362295\n",
       "         small        0.001569    345.0  0.104255  0.263952\n",
       "2008     large       -0.062259    439.0  0.115679  0.362274\n",
       "         medium      -0.009975    749.0  0.116040  0.306989\n",
       "         small        0.021638   1205.0  0.112507  0.258285\n",
       "2009     large        0.041719   1504.0  0.129858  0.267604\n",
       "         medium       0.048393   1621.0  0.124828  0.244041\n",
       "         small        0.054922   2156.0  0.122735  0.226060\n",
       "2010     large        0.066630   2438.0  0.117552  0.213647\n",
       "         medium       0.057175   2720.0  0.105410  0.198692\n",
       "         small        0.051121   3998.0  0.106397  0.205551\n",
       "2011     large        0.073465   3195.0  0.108311  0.169111\n",
       "         medium       0.053774   4572.0  0.093618  0.184794\n",
       "         small        0.039789   6334.0  0.092963  0.208128\n",
       "2012     large        0.069377  15012.0  0.128149  0.212427\n",
       "         medium       0.061155  15853.0  0.128009  0.213255\n",
       "         small        0.055753  12479.0  0.117241  0.211060"
      ]
     },
     "execution_count": 347,
     "metadata": {},
     "output_type": "execute_result"
    }
   ],
   "source": [
    "df_group_check = df_filtered.groupby(['issue_yr','size_bucket'])\n",
    "df_group_check.agg([np.mean, len, statistics.median, np.std])[['irr']]"
   ]
  },
  {
   "cell_type": "markdown",
   "metadata": {},
   "source": [
    "We can conclude few things\n",
    "\n",
    "    1. Larger loans perform better across grades A-D \n",
    "    2. Larger loans perform better across 2010 - 2012\n",
    "    3. Size of the loans may be important for our loan selection criteria\n"
   ]
  },
  {
   "cell_type": "markdown",
   "metadata": {
    "heading_collapsed": true
   },
   "source": [
    "### Weighted Average of IRRs Bucketed by Year and Grade"
   ]
  },
  {
   "cell_type": "code",
   "execution_count": 176,
   "metadata": {
    "hidden": true,
    "scrolled": false
   },
   "outputs": [
    {
     "data": {
      "text/plain": [
       "(2012, 'G')"
      ]
     },
     "execution_count": 176,
     "metadata": {},
     "output_type": "execute_result"
    }
   ],
   "source": [
    "df_group_grade = df_filtered.groupby(['issue_yr','grade'])\n",
    "df_group_irr = df_group_grade.apply(lambda x: np.average(x['irr'],weights = x['funded_amnt']))\n",
    "df_group_irr.argmax()"
   ]
  },
  {
   "cell_type": "markdown",
   "metadata": {
    "hidden": true
   },
   "source": [
    "G Grade in 2012 were the most profitable in terms of returns. Next in line were grade E loans in 2011."
   ]
  },
  {
   "cell_type": "code",
   "execution_count": 177,
   "metadata": {
    "hidden": true
   },
   "outputs": [
    {
     "data": {
      "text/plain": [
       "issue_yr  grade\n",
       "2007      A        0.079712\n",
       "          B       -0.011396\n",
       "          C       -0.019417\n",
       "          D       -0.067096\n",
       "          E       -0.084850\n",
       "          F       -0.199889\n",
       "          G       -0.139833\n",
       "2008      A        0.055883\n",
       "          B       -0.004535\n",
       "          C       -0.030417\n",
       "          D       -0.071440\n",
       "          E       -0.000634\n",
       "          F       -0.132702\n",
       "          G       -0.086513\n",
       "2009      A        0.053644\n",
       "          B        0.043685\n",
       "          C        0.045890\n",
       "          D        0.048454\n",
       "          E        0.032890\n",
       "          F       -0.000887\n",
       "          G        0.046063\n",
       "2010      A        0.054654\n",
       "          B        0.065036\n",
       "          C        0.068223\n",
       "          D        0.063619\n",
       "          E        0.063012\n",
       "          F       -0.023619\n",
       "          G        0.030864\n",
       "2011      A        0.044842\n",
       "          B        0.067759\n",
       "          C        0.065826\n",
       "          D        0.087835\n",
       "          E        0.110945\n",
       "          F        0.072805\n",
       "          G       -0.079724\n",
       "2012      A        0.045479\n",
       "          B        0.066229\n",
       "          C        0.075211\n",
       "          D        0.085971\n",
       "          E        0.106208\n",
       "          F        0.119820\n",
       "          G        0.164098\n",
       "dtype: float64"
      ]
     },
     "execution_count": 177,
     "metadata": {},
     "output_type": "execute_result"
    }
   ],
   "source": [
    "df_group_irr"
   ]
  },
  {
   "cell_type": "markdown",
   "metadata": {
    "hidden": true
   },
   "source": [
    "Except in 2009, there is a general trend of lower grade loans performing better than the higher grade loans"
   ]
  },
  {
   "cell_type": "markdown",
   "metadata": {},
   "source": [
    "## Model for Portfolio Construction"
   ]
  },
  {
   "cell_type": "markdown",
   "metadata": {},
   "source": [
    "So far throughout our EDA, we talked heavily about returns and how certain characteristics of the loans may help explain better returns. However, institutional investors generally want to maximize risk-adjusted returns.\n",
    "\n",
    "We approach this problem by thinking in terms of pool of loans. Had an investor invested in 100 loans at a time, how would his expectation look like and the distribution of his expectations? This is also a better representation of a strategy of large investors who will invest in lots of loans to ensure there is adqquate exposure to the market. \n",
    "\n",
    "Other satisfying effects of using this approach is that, our samples converge to normal distribution, per Central Limit Theorem. We can the conduct two sampled t-tests to gain confidence in whether our new portfolio construction criteria is outperfoming or not.\n",
    "\n",
    "We will set aside 80% of the data for observations and training and 20% of the data for testing. We will create 1000 samples of 100 randomly selected loans. Then we will create 1000 samples of 100 loans that are selected using our selection criteria on validation dataset. \n",
    "\n",
    "Our decision criteria will NOT span across time frame because this is not a realistic representation of a real life investment. Investors will be able to decide on information that is known at the time of investment. While there are a ton of variables, grade, size and interest rates of the loan should cover most of the ground.\n",
    "\n",
    "We go over three selection criteria from simplest to most technical. \n",
    "    1. Heuristic method using observations of mean & standard deviations of bucket data. \n",
    "    2. Blackbox optimization method that will tweak the parameters of the sampling until cost function is sufficiently decreased. \n",
    "    3. Collecting data on samples, tallying their characteristics and fitting a regression machine learning algorithm such as the gradient boosting method\n"
   ]
  },
  {
   "cell_type": "code",
   "execution_count": 183,
   "metadata": {
    "collapsed": true,
    "scrolled": true
   },
   "outputs": [],
   "source": [
    "def cash_flow(row,max_n):\n",
    "    initial_invest = -row['funded_amnt']\n",
    "    avg_payment = row['avg_pymnt']\n",
    "    num_payments = np.max(int(row['mo_diff'])-1,0)\n",
    "    recovery = row['recoveries'] -row['collection_recovery_fee']\n",
    "    recovery_duration = np.maximum(36 - num_payments + 1 + 12,12)\n",
    "    avg_recovery = recovery/recovery_duration\n",
    "    last_payment_amount = row['last_pymnt_amnt']\n",
    "    dummy_cfs = int(max_n -(1+num_payments+recovery_duration))\n",
    "    return [initial_invest]+[avg_payment]*num_payments+[last_payment_amount]+[avg_recovery]*recovery_duration+ [0]*dummy_cfs"
   ]
  },
  {
   "cell_type": "code",
   "execution_count": 185,
   "metadata": {
    "collapsed": true,
    "scrolled": true
   },
   "outputs": [],
   "source": [
    "def irr_pool(df):\n",
    "    list_length = df['mo_diff'].max()+12\n",
    "    cfs=[]\n",
    "    for index, row in df.iterrows(): \n",
    "        cfs.append(cash_flow(row,list_length))\n",
    "    result = [sum(x) for x in zip(*cfs)]\n",
    "    return (np.irr(result)+1)**12 -1"
   ]
  },
  {
   "cell_type": "code",
   "execution_count": 186,
   "metadata": {
    "collapsed": true,
    "scrolled": false
   },
   "outputs": [],
   "source": [
    "def pool(df,pool_size):  \n",
    "    pool_running = 0 \n",
    "    df_pool = df.copy()\n",
    "    df_out = pd.DataFrame()\n",
    "    while (pool_running < pool_size):\n",
    "        df_subset = df_pool.sample(1)\n",
    "        ###no replacement\n",
    "        df_pool = df_pool.drop(df_subset.index)\n",
    "        pool_running += df_subset.iloc[0]['funded_amnt']\n",
    "        df_out = df_out.append(df_subset)\n",
    "    return df_out"
   ]
  },
  {
   "cell_type": "code",
   "execution_count": 187,
   "metadata": {
    "collapsed": true,
    "scrolled": false
   },
   "outputs": [],
   "source": [
    "def collect_n(df,n,pool_size):\n",
    "    returns_list = []\n",
    "    for x in range(0,n):\n",
    "        df_out = pool(df,pool_size)\n",
    "        returns_list.append(irr_pool(df_out))   \n",
    "    return returns_list"
   ]
  },
  {
   "cell_type": "code",
   "execution_count": 188,
   "metadata": {
    "collapsed": true,
    "scrolled": false
   },
   "outputs": [],
   "source": [
    "def collect_n_random(df,n,size):\n",
    "    returns_list = []\n",
    "    for x in range(0,n):\n",
    "        df_out = df.sample(size)\n",
    "        returns_list.append(irr_pool(df_out))   \n",
    "    return returns_list"
   ]
  },
  {
   "cell_type": "code",
   "execution_count": 239,
   "metadata": {
    "collapsed": true,
    "scrolled": false
   },
   "outputs": [],
   "source": [
    "def collect_n_random_stats(df,n,size):\n",
    "    returns_list = []\n",
    "    for x in range(0,n):\n",
    "        df_out = df.sample(size,replace=False)\n",
    "        returns_list.append(irr_pool(df_out))   \n",
    "    return [np.average(returns_list)] +[math.sqrt(np.var(returns_list))]"
   ]
  },
  {
   "cell_type": "code",
   "execution_count": null,
   "metadata": {
    "collapsed": true
   },
   "outputs": [],
   "source": []
  },
  {
   "cell_type": "code",
   "execution_count": 341,
   "metadata": {},
   "outputs": [
    {
     "data": {
      "text/plain": [
       "35000.0"
      ]
     },
     "execution_count": 341,
     "metadata": {},
     "output_type": "execute_result"
    }
   ],
   "source": []
  },
  {
   "cell_type": "code",
   "execution_count": 365,
   "metadata": {
    "collapsed": true,
    "scrolled": false
   },
   "outputs": [],
   "source": [
    "out=collect_n_random_stats(df_filtered,100,100)"
   ]
  },
  {
   "cell_type": "code",
   "execution_count": 366,
   "metadata": {
    "scrolled": false
   },
   "outputs": [
    {
     "data": {
      "text/plain": [
       "[0.070274024538974911, 0.021164041894929448]"
      ]
     },
     "execution_count": 366,
     "metadata": {},
     "output_type": "execute_result"
    }
   ],
   "source": [
    "out"
   ]
  },
  {
   "cell_type": "markdown",
   "metadata": {},
   "source": [
    "This is the result of 100 loans sampled 1000 times. Given our loans"
   ]
  },
  {
   "cell_type": "code",
   "execution_count": 367,
   "metadata": {
    "scrolled": false
   },
   "outputs": [
    {
     "data": {
      "image/png": "[encoded data removed]",
      "text/plain": [
       "<matplotlib.figure.Figure at 0x1fb2895c128>"
      ]
     },
     "metadata": {},
     "output_type": "display_data"
    }
   ],
   "source": [
    "mu = out[0]\n",
    "sigma = out[1]\n",
    "x = np.linspace(mu - 3*sigma, mu + 3*sigma, 100)\n",
    "plt.plot(x,mlab.normpdf(x, mu, sigma))\n",
    "plt.show()"
   ]
  },
  {
   "cell_type": "code",
   "execution_count": 368,
   "metadata": {
    "collapsed": true,
    "scrolled": false
   },
   "outputs": [],
   "source": [
    "cust = lambda g: collect_n_random_stats"
   ]
  },
  {
   "cell_type": "code",
   "execution_count": 369,
   "metadata": {
    "scrolled": false
   },
   "outputs": [],
   "source": [
    "df_group = df_filtered.groupby(['issue_yr'])\n",
    "df_group.count()\n",
    "df_sharpe =df_group.apply(lambda x: collect_n_random_stats(x,100,100))\n",
    "#df_group_irr = df_group.apply(lambda x:collect_n_random_stats(x,10,np.min(1000, x.count().loc[0]/10)))"
   ]
  },
  {
   "cell_type": "code",
   "execution_count": 370,
   "metadata": {
    "collapsed": true,
    "scrolled": false
   },
   "outputs": [],
   "source": [
    "mean = [sublist[0] for sublist in df_sharpe.values]\n",
    "stdev = [sublist[1] for sublist in df_sharpe.values]"
   ]
  },
  {
   "cell_type": "code",
   "execution_count": 371,
   "metadata": {
    "scrolled": false
   },
   "outputs": [
    {
     "data": {
      "text/plain": [
       "array([list([-0.013802499850378815, 0.03084735598841729]),\n",
       "       list([0.011532178258146288, 0.03156378135349493]),\n",
       "       list([0.060933189749798465, 0.023499820316474917]),\n",
       "       list([0.075458850714611281, 0.0181953212266881]),\n",
       "       list([0.069131655917265805, 0.017610625783419934]),\n",
       "       list([0.078742308379338266, 0.02256802500838665])], dtype=object)"
      ]
     },
     "execution_count": 371,
     "metadata": {},
     "output_type": "execute_result"
    }
   ],
   "source": [
    "df_sharpe.values"
   ]
  },
  {
   "cell_type": "code",
   "execution_count": 254,
   "metadata": {
    "scrolled": false
   },
   "outputs": [
    {
     "data": {
      "image/png": "[encoded data removed]",
      "text/plain": [
       "<matplotlib.figure.Figure at 0x1faff8afd30>"
      ]
     },
     "metadata": {},
     "output_type": "display_data"
    }
   ],
   "source": [
    "x = df_sharpe.index\n",
    "y = [sublist[0] for sublist in df_sharpe.values]\n",
    "yerr = [sublist[1]*2 for sublist in df_sharpe.values]\n",
    "fig, ax = plt.subplots()\n",
    "ax.errorbar(x, y,  yerr=yerr)\n",
    "plt.show()"
   ]
  },
  {
   "cell_type": "markdown",
   "metadata": {},
   "source": [
    "From here on we will split our data and try to draw insights from our training data"
   ]
  },
  {
   "cell_type": "code",
   "execution_count": 349,
   "metadata": {
    "collapsed": true
   },
   "outputs": [],
   "source": [
    "msk = np.random.rand(len(df_filtered)) < 0.8\n",
    "train = df_filtered[msk].copy()\n",
    "test = df_filtered[~msk].copy()"
   ]
  },
  {
   "cell_type": "code",
   "execution_count": 350,
   "metadata": {},
   "outputs": [
    {
     "data": {
      "text/plain": [
       "59934"
      ]
     },
     "execution_count": 350,
     "metadata": {},
     "output_type": "execute_result"
    }
   ],
   "source": [
    "len(train)"
   ]
  },
  {
   "cell_type": "code",
   "execution_count": 351,
   "metadata": {},
   "outputs": [
    {
     "data": {
      "text/plain": [
       "14944"
      ]
     },
     "execution_count": 351,
     "metadata": {},
     "output_type": "execute_result"
    }
   ],
   "source": [
    "len(test)"
   ]
  },
  {
   "cell_type": "code",
   "execution_count": 381,
   "metadata": {
    "scrolled": false
   },
   "outputs": [],
   "source": [
    "train_year = train[(train['issue_yr'] >=2009) & (~train['grade'].isin(['F','G']))].copy()\n",
    "df_group_grade = train_year.groupby(['grade','size_bucket'])\n",
    "df_sharpe_grade =df_group_grade.apply(lambda x: collect_n_random_stats(x,100,100))\n"
   ]
  },
  {
   "cell_type": "code",
   "execution_count": 382,
   "metadata": {},
   "outputs": [
    {
     "data": {
      "text/html": [
       "<div>\n",
       "<style>\n",
       "    .dataframe thead tr:only-child th {\n",
       "        text-align: right;\n",
       "    }\n",
       "\n",
       "    .dataframe thead th {\n",
       "        text-align: left;\n",
       "    }\n",
       "\n",
       "    .dataframe tbody tr th {\n",
       "        vertical-align: top;\n",
       "    }\n",
       "</style>\n",
       "<table border=\"1\" class=\"dataframe\">\n",
       "  <thead>\n",
       "    <tr style=\"text-align: right;\">\n",
       "      <th></th>\n",
       "      <th></th>\n",
       "      <th>count</th>\n",
       "      <th>mean</th>\n",
       "      <th>std</th>\n",
       "      <th>min</th>\n",
       "      <th>25%</th>\n",
       "      <th>50%</th>\n",
       "      <th>75%</th>\n",
       "      <th>max</th>\n",
       "    </tr>\n",
       "    <tr>\n",
       "      <th>grade</th>\n",
       "      <th>size_bucket</th>\n",
       "      <th></th>\n",
       "      <th></th>\n",
       "      <th></th>\n",
       "      <th></th>\n",
       "      <th></th>\n",
       "      <th></th>\n",
       "      <th></th>\n",
       "      <th></th>\n",
       "    </tr>\n",
       "  </thead>\n",
       "  <tbody>\n",
       "    <tr>\n",
       "      <th rowspan=\"3\" valign=\"top\">A</th>\n",
       "      <th>large</th>\n",
       "      <td>4022.0</td>\n",
       "      <td>0.048825</td>\n",
       "      <td>0.139760</td>\n",
       "      <td>-1.0</td>\n",
       "      <td>0.068156</td>\n",
       "      <td>0.079492</td>\n",
       "      <td>0.084862</td>\n",
       "      <td>0.149798</td>\n",
       "    </tr>\n",
       "    <tr>\n",
       "      <th>medium</th>\n",
       "      <td>5523.0</td>\n",
       "      <td>0.046412</td>\n",
       "      <td>0.139111</td>\n",
       "      <td>-1.0</td>\n",
       "      <td>0.063393</td>\n",
       "      <td>0.075126</td>\n",
       "      <td>0.081863</td>\n",
       "      <td>0.151898</td>\n",
       "    </tr>\n",
       "    <tr>\n",
       "      <th>small</th>\n",
       "      <td>6566.0</td>\n",
       "      <td>0.039266</td>\n",
       "      <td>0.152529</td>\n",
       "      <td>-1.0</td>\n",
       "      <td>0.062174</td>\n",
       "      <td>0.075310</td>\n",
       "      <td>0.081848</td>\n",
       "      <td>0.158994</td>\n",
       "    </tr>\n",
       "    <tr>\n",
       "      <th rowspan=\"3\" valign=\"top\">B</th>\n",
       "      <th>large</th>\n",
       "      <td>6224.0</td>\n",
       "      <td>0.065038</td>\n",
       "      <td>0.195424</td>\n",
       "      <td>-1.0</td>\n",
       "      <td>0.106353</td>\n",
       "      <td>0.120681</td>\n",
       "      <td>0.134134</td>\n",
       "      <td>0.247801</td>\n",
       "    </tr>\n",
       "    <tr>\n",
       "      <th>medium</th>\n",
       "      <td>7259.0</td>\n",
       "      <td>0.064989</td>\n",
       "      <td>0.196694</td>\n",
       "      <td>-1.0</td>\n",
       "      <td>0.106467</td>\n",
       "      <td>0.121709</td>\n",
       "      <td>0.133817</td>\n",
       "      <td>0.245614</td>\n",
       "    </tr>\n",
       "    <tr>\n",
       "      <th>small</th>\n",
       "      <td>7042.0</td>\n",
       "      <td>0.053738</td>\n",
       "      <td>0.207662</td>\n",
       "      <td>-1.0</td>\n",
       "      <td>0.104024</td>\n",
       "      <td>0.117244</td>\n",
       "      <td>0.128248</td>\n",
       "      <td>0.227495</td>\n",
       "    </tr>\n",
       "    <tr>\n",
       "      <th rowspan=\"3\" valign=\"top\">C</th>\n",
       "      <th>large</th>\n",
       "      <td>3837.0</td>\n",
       "      <td>0.075988</td>\n",
       "      <td>0.228340</td>\n",
       "      <td>-1.0</td>\n",
       "      <td>0.138196</td>\n",
       "      <td>0.152862</td>\n",
       "      <td>0.164537</td>\n",
       "      <td>0.301750</td>\n",
       "    </tr>\n",
       "    <tr>\n",
       "      <th>medium</th>\n",
       "      <td>4438.0</td>\n",
       "      <td>0.058574</td>\n",
       "      <td>0.247848</td>\n",
       "      <td>-1.0</td>\n",
       "      <td>0.135435</td>\n",
       "      <td>0.152305</td>\n",
       "      <td>0.164314</td>\n",
       "      <td>0.298753</td>\n",
       "    </tr>\n",
       "    <tr>\n",
       "      <th>small</th>\n",
       "      <td>4129.0</td>\n",
       "      <td>0.061136</td>\n",
       "      <td>0.244736</td>\n",
       "      <td>-1.0</td>\n",
       "      <td>0.133594</td>\n",
       "      <td>0.148468</td>\n",
       "      <td>0.164206</td>\n",
       "      <td>0.285465</td>\n",
       "    </tr>\n",
       "    <tr>\n",
       "      <th rowspan=\"3\" valign=\"top\">D</th>\n",
       "      <th>large</th>\n",
       "      <td>2744.0</td>\n",
       "      <td>0.080342</td>\n",
       "      <td>0.265311</td>\n",
       "      <td>-1.0</td>\n",
       "      <td>0.155315</td>\n",
       "      <td>0.186990</td>\n",
       "      <td>0.201403</td>\n",
       "      <td>0.341714</td>\n",
       "    </tr>\n",
       "    <tr>\n",
       "      <th>medium</th>\n",
       "      <td>2251.0</td>\n",
       "      <td>0.069785</td>\n",
       "      <td>0.267882</td>\n",
       "      <td>-1.0</td>\n",
       "      <td>0.152555</td>\n",
       "      <td>0.180693</td>\n",
       "      <td>0.196534</td>\n",
       "      <td>0.331271</td>\n",
       "    </tr>\n",
       "    <tr>\n",
       "      <th>small</th>\n",
       "      <td>1742.0</td>\n",
       "      <td>0.057886</td>\n",
       "      <td>0.280105</td>\n",
       "      <td>-1.0</td>\n",
       "      <td>0.149753</td>\n",
       "      <td>0.166746</td>\n",
       "      <td>0.192717</td>\n",
       "      <td>0.303220</td>\n",
       "    </tr>\n",
       "    <tr>\n",
       "      <th rowspan=\"3\" valign=\"top\">E</th>\n",
       "      <th>large</th>\n",
       "      <td>790.0</td>\n",
       "      <td>0.093864</td>\n",
       "      <td>0.279214</td>\n",
       "      <td>-1.0</td>\n",
       "      <td>0.171219</td>\n",
       "      <td>0.204013</td>\n",
       "      <td>0.229707</td>\n",
       "      <td>0.345518</td>\n",
       "    </tr>\n",
       "    <tr>\n",
       "      <th>medium</th>\n",
       "      <td>260.0</td>\n",
       "      <td>0.070083</td>\n",
       "      <td>0.301084</td>\n",
       "      <td>-1.0</td>\n",
       "      <td>0.164643</td>\n",
       "      <td>0.179998</td>\n",
       "      <td>0.222909</td>\n",
       "      <td>0.352886</td>\n",
       "    </tr>\n",
       "    <tr>\n",
       "      <th>small</th>\n",
       "      <td>336.0</td>\n",
       "      <td>0.039555</td>\n",
       "      <td>0.319158</td>\n",
       "      <td>-1.0</td>\n",
       "      <td>0.149923</td>\n",
       "      <td>0.178215</td>\n",
       "      <td>0.212140</td>\n",
       "      <td>0.297601</td>\n",
       "    </tr>\n",
       "  </tbody>\n",
       "</table>\n",
       "</div>"
      ],
      "text/plain": [
       "                    count      mean       std  min       25%       50%  \\\n",
       "grade size_bucket                                                        \n",
       "A     large        4022.0  0.048825  0.139760 -1.0  0.068156  0.079492   \n",
       "      medium       5523.0  0.046412  0.139111 -1.0  0.063393  0.075126   \n",
       "      small        6566.0  0.039266  0.152529 -1.0  0.062174  0.075310   \n",
       "B     large        6224.0  0.065038  0.195424 -1.0  0.106353  0.120681   \n",
       "      medium       7259.0  0.064989  0.196694 -1.0  0.106467  0.121709   \n",
       "      small        7042.0  0.053738  0.207662 -1.0  0.104024  0.117244   \n",
       "C     large        3837.0  0.075988  0.228340 -1.0  0.138196  0.152862   \n",
       "      medium       4438.0  0.058574  0.247848 -1.0  0.135435  0.152305   \n",
       "      small        4129.0  0.061136  0.244736 -1.0  0.133594  0.148468   \n",
       "D     large        2744.0  0.080342  0.265311 -1.0  0.155315  0.186990   \n",
       "      medium       2251.0  0.069785  0.267882 -1.0  0.152555  0.180693   \n",
       "      small        1742.0  0.057886  0.280105 -1.0  0.149753  0.166746   \n",
       "E     large         790.0  0.093864  0.279214 -1.0  0.171219  0.204013   \n",
       "      medium        260.0  0.070083  0.301084 -1.0  0.164643  0.179998   \n",
       "      small         336.0  0.039555  0.319158 -1.0  0.149923  0.178215   \n",
       "\n",
       "                        75%       max  \n",
       "grade size_bucket                      \n",
       "A     large        0.084862  0.149798  \n",
       "      medium       0.081863  0.151898  \n",
       "      small        0.081848  0.158994  \n",
       "B     large        0.134134  0.247801  \n",
       "      medium       0.133817  0.245614  \n",
       "      small        0.128248  0.227495  \n",
       "C     large        0.164537  0.301750  \n",
       "      medium       0.164314  0.298753  \n",
       "      small        0.164206  0.285465  \n",
       "D     large        0.201403  0.341714  \n",
       "      medium       0.196534  0.331271  \n",
       "      small        0.192717  0.303220  \n",
       "E     large        0.229707  0.345518  \n",
       "      medium       0.222909  0.352886  \n",
       "      small        0.212140  0.297601  "
      ]
     },
     "execution_count": 382,
     "metadata": {},
     "output_type": "execute_result"
    }
   ],
   "source": [
    "df_group_grade.describe()['irr']"
   ]
  },
  {
   "cell_type": "code",
   "execution_count": null,
   "metadata": {
    "collapsed": true
   },
   "outputs": [],
   "source": []
  },
  {
   "cell_type": "code",
   "execution_count": 383,
   "metadata": {
    "scrolled": false
   },
   "outputs": [
    {
     "data": {
      "text/plain": [
       "[[('A', 'large'), 4.7830931386931228],\n",
       " [('A', 'medium'), 3.6001769022129424],\n",
       " [('A', 'small'), 3.1404517922202464],\n",
       " [('B', 'large'), 3.6455022536625159],\n",
       " [('B', 'medium'), 4.68738296081942],\n",
       " [('B', 'small'), 3.7751483898437472],\n",
       " [('C', 'large'), 4.7951191733915977],\n",
       " [('C', 'medium'), 3.0130417336078064],\n",
       " [('C', 'small'), 3.1493764271554867],\n",
       " [('D', 'large'), 4.2337483820861266],\n",
       " [('D', 'medium'), 3.3890800677923703],\n",
       " [('D', 'small'), 2.9025973266415765],\n",
       " [('E', 'large'), 4.4570258016441198],\n",
       " [('E', 'medium'), 4.396181771003671],\n",
       " [('E', 'small'), 2.003007811090558]]"
      ]
     },
     "execution_count": 383,
     "metadata": {},
     "output_type": "execute_result"
    }
   ],
   "source": [
    "df_sharpe_grade\n",
    "grade_mean = [sublist[0] for sublist in df_sharpe_grade.values]\n",
    "grade_sdev = [sublist[1] for sublist in df_sharpe_grade.values]\n",
    "# grade_year = [year  for year in df_sharpe_grade.index.get_level_values(0)]\n",
    "# grade_grade = [grade  for grade in df_sharpe_grade.index.get_level_values(1)]\n",
    "##Sharpe\n",
    "# [[str(a) + str(b)] + [c/d] for a,b,c,d in zip(grade_year, grade_grade,grade_mean,grade_sdev)]\n",
    "[[a]+[(c-.01)/d] for a,c,d in zip(df_sharpe_grade.index, grade_mean,grade_sdev)]\n",
    "\n"
   ]
  },
  {
   "cell_type": "markdown",
   "metadata": {},
   "source": [
    "These are the respective risk-adjusted returns. We will choose a very simple approach of choosing the top size bucket from each grade without grade E which has very poor population size. So we will make 25% of our samples come from large A, medium B, large C and large D each. "
   ]
  },
  {
   "cell_type": "code",
   "execution_count": 386,
   "metadata": {},
   "outputs": [],
   "source": [
    "test_year = test[(test['issue_yr'] >=2009) & (~test['grade'].isin(['F','G']))].copy()\n",
    "# df_group_grade = test_year.groupby(['grade','size_bucket'])\n",
    "# df_sharpe_grade =df_group_grade.apply(lambda x: collect_n_random_stats(x,100,100))\n"
   ]
  },
  {
   "cell_type": "code",
   "execution_count": 416,
   "metadata": {
    "scrolled": false
   },
   "outputs": [
    {
     "data": {
      "text/plain": [
       "[0.074343108615582562, 0.020497384398604542]"
      ]
     },
     "execution_count": 416,
     "metadata": {},
     "output_type": "execute_result"
    }
   ],
   "source": [
    "##Portfolio Optimization\n",
    "out=collect_n_random_stats(test_year,100,100)\n",
    "out"
   ]
  },
  {
   "cell_type": "code",
   "execution_count": 413,
   "metadata": {},
   "outputs": [],
   "source": [
    "def collect_n_random_test(df,n,size):\n",
    "    returns_list = []\n",
    "    for x in range(0,n):\n",
    "        ###pool large A\n",
    "        df_test = test[(test['grade'].isin(['A'])) & (test['size_bucket'].isin(['large']))].copy()\n",
    "        df_out = df_test.sample(int(size/4),replace=False)\n",
    "        returns_list.append(irr_pool(df_out))  \n",
    "        ###pool large A\n",
    "        df_test = test[(test['grade'].isin(['B'])) &  (test['size_bucket'].isin(['medium']))].copy()\n",
    "        df_out = df_test.sample(int(size/4),replace=False)\n",
    "        returns_list.append(irr_pool(df_out))  \n",
    " \n",
    "       ###pool large A\n",
    "        df_test = test[(test['grade'].isin(['C'])) & (test['size_bucket'].isin(['large']))].copy()\n",
    "        df_out = df_test.sample(int(size/4),replace=False)\n",
    "        returns_list.append(irr_pool(df_out))  \n",
    "                                                  \n",
    "        ###pool large A\n",
    "        df_test = test[(test['grade'].isin(['D'])) &(test['size_bucket'].isin(['large']))].copy()\n",
    "        df_out = df_test.sample(int(size/4),replace=False)\n",
    "        returns_list.append(irr_pool(df_out))  \n",
    "    return [np.average(returns_list)] +[math.sqrt(np.var(returns_list))]"
   ]
  },
  {
   "cell_type": "code",
   "execution_count": 417,
   "metadata": {},
   "outputs": [
    {
     "data": {
      "text/plain": [
       "[0.082703730836312689, 0.042273946245734294]"
      ]
     },
     "execution_count": 417,
     "metadata": {},
     "output_type": "execute_result"
    }
   ],
   "source": [
    "##Portfolio Optimization\n",
    "out_test_strat=collect_n_random_test(test_year,100,100)\n",
    "out_test_strat"
   ]
  },
  {
   "cell_type": "code",
   "execution_count": 410,
   "metadata": {
    "collapsed": true
   },
   "outputs": [],
   "source": [
    "##Sample only A\n",
    "def collect_n_random_test_a(df,n,size):\n",
    "    returns_list = []\n",
    "    for x in range(0,n):\n",
    "        ###pool large A\n",
    "        df_test = test[(test['issue_yr'] >=2009) & (test['grade'].isin(['A'])) &\n",
    "                                                      (test['size_bucket'].isin(['large']))].copy()\n",
    "        df_out = df_test.sample(int(size),replace=False)\n",
    "        returns_list.append(irr_pool(df_out))  \n",
    "    return [np.average(returns_list)] +[math.sqrt(np.var(returns_list))]"
   ]
  },
  {
   "cell_type": "code",
   "execution_count": 418,
   "metadata": {},
   "outputs": [
    {
     "data": {
      "text/plain": [
       "[0.052852260161618689, 0.011787626180513652]"
      ]
     },
     "execution_count": 418,
     "metadata": {},
     "output_type": "execute_result"
    }
   ],
   "source": [
    "out_test_strat=collect_n_random_test_a(test_year,100,100)\n",
    "out_test_strat"
   ]
  },
  {
   "cell_type": "code",
   "execution_count": null,
   "metadata": {
    "collapsed": true
   },
   "outputs": [],
   "source": [
    "def collect_n_random_test(df,n,size,a,b,c,d):\n",
    "    returns_list = []\n",
    "    for x in range(0,n):\n",
    "        ###pool large A\n",
    "        df_test = test[(test['grade'].isin(['A'])) & (test['size_bucket'].isin(['large']))].copy()\n",
    "        df_out = df_test.sample(int(size/4),replace=False)\n",
    "        returns_list.append(irr_pool(df_out))  \n",
    "        ###pool large A\n",
    "        df_test = test[(test['grade'].isin(['B'])) &  (test['size_bucket'].isin(['medium']))].copy()\n",
    "        df_out = df_test.sample(int(size/4),replace=False)\n",
    "        returns_list.append(irr_pool(df_out))  \n",
    " \n",
    "       ###pool large A\n",
    "        df_test = test[(test['grade'].isin(['C'])) & (test['size_bucket'].isin(['large']))].copy()\n",
    "        df_out = df_test.sample(int(size/4),replace=False)\n",
    "        returns_list.append(irr_pool(df_out))  \n",
    "                                                  \n",
    "        ###pool large A\n",
    "        df_test = test[(test['grade'].isin(['D'])) &(test['size_bucket'].isin(['large']))].copy()\n",
    "        df_out = df_test.sample(int(size/4),replace=False)\n",
    "        returns_list.append(irr_pool(df_out))  \n",
    "    return [np.average(returns_list)] +[math.sqrt(np.var(returns_list))]"
   ]
  },
  {
   "cell_type": "code",
   "execution_count": null,
   "metadata": {
    "collapsed": true
   },
   "outputs": [],
   "source": [
    "def  f(params):\n",
    "         # print(params)  # <-- you'll see that params is a NumPy array# print \n",
    "    a, b, c, d = params # <-- for readability you may wish to assign names to the component variables\n",
    "    return collect_n_random_test(test_year,1000,100,a,b,c,d)\n",
    "\n",
    "initial_guess = [1, 1, 1]\n",
    "result = optimize.minimize(f, initial_guess, bounds = [(.25, 1), (-1, 20),(0,1)])\n",
    "if result.success:\n",
    "    fitted_params = result.x\n",
    "    print(fitted_params)\n",
    "else:\n",
    "    raise ValueError(result.message)"
   ]
  },
  {
   "cell_type": "code",
   "execution_count": 461,
   "metadata": {},
   "outputs": [],
   "source": [
    "train_year = train[(train['issue_yr'] ==2011)].copy()"
   ]
  },
  {
   "cell_type": "code",
   "execution_count": 508,
   "metadata": {},
   "outputs": [
    {
     "data": {
      "text/plain": [
       "array([ 10.65,  15.96,  13.49, ...,   5.42,   5.79,  14.83])"
      ]
     },
     "execution_count": 508,
     "metadata": {},
     "output_type": "execute_result"
    }
   ],
   "source": [
    "scipy.array(ir,fa)"
   ]
  },
  {
   "cell_type": "code",
   "execution_count": 582,
   "metadata": {},
   "outputs": [],
   "source": [
    "# grade_predictors['A']\n",
    "train_sub = train.sample(5000)\n",
    "# train['annual_i\n",
    "grade_predictors=pd.get_dummies(train_sub['grade'])\n",
    "\n"
   ]
  },
  {
   "cell_type": "code",
   "execution_count": 568,
   "metadata": {},
   "outputs": [
    {
     "data": {
      "text/plain": [
       "array([ nan])"
      ]
     },
     "execution_count": 568,
     "metadata": {},
     "output_type": "execute_result"
    }
   ],
   "source": [
    "ai = scipy.array(train_sub['annual_inc'])\n",
    "ai[pd.isnull(ai)]"
   ]
  },
  {
   "cell_type": "code",
   "execution_count": 589,
   "metadata": {},
   "outputs": [
    {
     "data": {
      "text/plain": [
       "array([ 14.33,  13.11,  10.59, ...,   6.03,  12.49,   8.9 ])"
      ]
     },
     "execution_count": 589,
     "metadata": {},
     "output_type": "execute_result"
    }
   ],
   "source": [
    "ir"
   ]
  },
  {
   "cell_type": "markdown",
   "metadata": {},
   "source": [
    "### Linear Regression Model"
   ]
  },
  {
   "cell_type": "code",
   "execution_count": 619,
   "metadata": {},
   "outputs": [
    {
     "name": "stderr",
     "output_type": "stream",
     "text": [
      "C:\\Users\\James\\Anaconda3\\lib\\site-packages\\ipykernel_launcher.py:1: FutureWarning: reshape is deprecated and will raise in a subsequent release. Please use .values.reshape(...) instead\n",
      "  \"\"\"Entry point for launching an IPython kernel.\n",
      "C:\\Users\\James\\Anaconda3\\lib\\site-packages\\ipykernel_launcher.py:15: FutureWarning: reshape is deprecated and will raise in a subsequent release. Please use .values.reshape(...) instead\n",
      "  from ipykernel import kernelapp as app\n"
     ]
    },
    {
     "data": {
      "text/plain": [
       "LinearRegression(copy_X=True, fit_intercept=True, n_jobs=1, normalize=False)"
      ]
     },
     "execution_count": 619,
     "metadata": {},
     "output_type": "execute_result"
    }
   ],
   "source": [
    "ir = train_sub['int_rate'].reshape((-1,1))  # put your dates in here\n",
    "fa = scipy.array(train_sub['funded_amnt']).reshape((-1,1))\n",
    "# ai = scipy.array(train_sub['annual_inc'])\n",
    "A = scipy.array(grade_predictors['A'])\n",
    "B = scipy.array(grade_predictors['B'])\n",
    "C = scipy.array(grade_predictors['C'])\n",
    "D = scipy.array(grade_predictors['D'])\n",
    "E = scipy.array(grade_predictors['E'])\n",
    "F = scipy.array(grade_predictors['F'])\n",
    "G = scipy.array(grade_predictors['G'])\n",
    "\n",
    "irr = train_sub['irr']  # put your kwh in here\n",
    "\n",
    "model = LinearRegression()\n",
    "model.fit( ir+fa ,train_sub['irr'].reshape((5000,1)) )\n",
    "\n",
    "# X_predict = []  # put the dates of which you want to predict kwh here\n",
    "# y_predict = model.predict(X_predict)"
   ]
  },
  {
   "cell_type": "code",
   "execution_count": 574,
   "metadata": {
    "collapsed": true
   },
   "outputs": [],
   "source": [
    "grade_predictors=pd.get_dummies(test['grade'])"
   ]
  },
  {
   "cell_type": "code",
   "execution_count": null,
   "metadata": {
    "collapsed": true
   },
   "outputs": [],
   "source": [
    "# grade_predictors['A']\n",
    "test = train.sample(5000)\n",
    "# train['annual_i\n",
    "grade_predictors=pd.get_dummies(train_sub['grade'])\n",
    "\n"
   ]
  },
  {
   "cell_type": "code",
   "execution_count": 624,
   "metadata": {
    "collapsed": true
   },
   "outputs": [],
   "source": [
    "ir = scipy.array(test['int_rate']).reshape((-1,1))  # put your dates in here\n",
    "fa = scipy.array(test['funded_amnt']).reshape((-1,1))\n",
    "ai = scipy.array(test['annual_inc'])\n",
    "A = scipy.array(grade_predictors['A'])\n",
    "B = scipy.array(grade_predictors['B'])\n",
    "C = scipy.array(grade_predictors['C'])\n",
    "D = scipy.array(grade_predictors['D'])\n",
    "E = scipy.array(grade_predictors['E'])\n",
    "F = scipy.array(grade_predictors['F'])\n",
    "G = scipy.array(grade_predictors['G'])"
   ]
  },
  {
   "cell_type": "code",
   "execution_count": 626,
   "metadata": {},
   "outputs": [
    {
     "data": {
      "text/plain": [
       "14944"
      ]
     },
     "execution_count": 626,
     "metadata": {},
     "output_type": "execute_result"
    }
   ],
   "source": [
    "len(model.predict(ir+fa ))"
   ]
  },
  {
   "cell_type": "code",
   "execution_count": 627,
   "metadata": {},
   "outputs": [
    {
     "data": {
      "text/plain": [
       "14944"
      ]
     },
     "execution_count": 627,
     "metadata": {},
     "output_type": "execute_result"
    }
   ],
   "source": [
    "len(ir)"
   ]
  },
  {
   "cell_type": "code",
   "execution_count": 621,
   "metadata": {
    "collapsed": true
   },
   "outputs": [],
   "source": [
    "ir = train_sub['int_rate'].reshape((-1,1))  # put your dates in here\n",
    "fa = scipy.array(train_sub['funded_amnt']).reshape((-1,1))\n",
    "# ai = scipy.array(train_sub['annual_inc'])\n",
    "A = scipy.array(grade_predictors['A'])\n",
    "B = scipy.array(grade_predictors['B'])\n",
    "C = scipy.array(grade_predictors['C'])\n",
    "D = scipy.array(grade_predictors['D'])\n",
    "E = scipy.array(grade_predictors['E'])\n",
    "F = scipy.array(grade_predictors['F'])\n",
    "G = scipy.array(grade_predictors['G'])\n",
    "\n",
    "irr = train_sub['irr']  # put your kwh in here\n",
    "\n",
    "model = LinearRegression()\n",
    "model.fit( ir+fa ,train_sub['irr'].reshape((5000,1)) )\n",
    "\n",
    "# X_predict = []  # put the dates of which you want to predict kwh here\n",
    "# y_predict = model.predict(X_predict)"
   ]
  },
  {
   "cell_type": "code",
   "execution_count": 623,
   "metadata": {},
   "outputs": [
    {
     "ename": "AttributeError",
     "evalue": "'list' object has no attribute 'reshape'",
     "output_type": "error",
     "traceback": [
      "\u001b[1;31m---------------------------------------------------------------------------\u001b[0m",
      "\u001b[1;31mAttributeError\u001b[0m                            Traceback (most recent call last)",
      "\u001b[1;32m<ipython-input-623-23634afcf0d8>\u001b[0m in \u001b[0;36m<module>\u001b[1;34m()\u001b[0m\n\u001b[1;32m----> 1\u001b[1;33m \u001b[0mmodel\u001b[0m\u001b[1;33m.\u001b[0m\u001b[0mpredict\u001b[0m\u001b[1;33m(\u001b[0m\u001b[0mint_test\u001b[0m\u001b[1;33m.\u001b[0m\u001b[0mreshape\u001b[0m\u001b[1;33m(\u001b[0m\u001b[1;33m-\u001b[0m\u001b[1;36m1\u001b[0m\u001b[1;33m,\u001b[0m\u001b[1;36m1\u001b[0m\u001b[1;33m)\u001b[0m \u001b[1;33m)\u001b[0m\u001b[1;33m\u001b[0m\u001b[0m\n\u001b[0m",
      "\u001b[1;31mAttributeError\u001b[0m: 'list' object has no attribute 'reshape'"
     ]
    }
   ],
   "source": [
    "model.predict(int_test.reshape(-1,1) )"
   ]
  },
  {
   "cell_type": "code",
   "execution_count": null,
   "metadata": {
    "collapsed": true
   },
   "outputs": [],
   "source": []
  },
  {
   "cell_type": "code",
   "execution_count": null,
   "metadata": {
    "collapsed": true
   },
   "outputs": [],
   "source": []
  },
  {
   "cell_type": "code",
   "execution_count": null,
   "metadata": {
    "collapsed": true
   },
   "outputs": [],
   "source": []
  },
  {
   "cell_type": "markdown",
   "metadata": {
    "collapsed": true
   },
   "source": [
    "## Assumptions & Discussions\n",
    "1. Funded Amount vs Funded Amount Inv: Where there are differences, lending tree stepped in to make up for the differences between loan amount and funed amount invested by investors. We will go ahead and use funded amount as a basis for all our analysis.\n",
    "2. We assume all cash is deployed on year of x(has the most data) to reduce cash drag. We calculate IRR-> assuming we can reinvest at this rate \n",
    "3. Returns on the loans are most likely not normally distributed but a pool of randomly sampled loans should be"
   ]
  },
  {
   "cell_type": "code",
   "execution_count": null,
   "metadata": {
    "collapsed": true
   },
   "outputs": [],
   "source": [
    "Argument against just using bucketed means: bias vs variance trade off. "
   ]
  },
  {
   "cell_type": "code",
   "execution_count": null,
   "metadata": {
    "collapsed": true
   },
   "outputs": [],
   "source": [
    "####\n",
    "MAY WANT TO DO EQUAL SAMPLE POPULATION SIZES"
   ]
  },
  {
   "cell_type": "code",
   "execution_count": null,
   "metadata": {
    "collapsed": true,
    "scrolled": false
   },
   "outputs": [],
   "source": [
    "###appendix\n",
    "\n",
    "##limitation of individual IRR\n",
    "### 3 years is too much of a delay, cosnider a strategy where you hold for 12 months & sell.\n",
    "### This allows better modeling\n",
    "\n",
    "##check\n",
    "x= df.loc[0][['funded_amnt','loan_status','total_pymnt','loan_amnt','last_pymnt_amnt','installment','issue_d','int_rate'\n",
    "                                                 ,'last_pymnt_d', 'total_pymnt','mo_diff','avg_pymnt','irr'\n",
    "                                               ,'collection_recovery_fee','recoveries','total_rec_late_fee','grade']]\n",
    "# initial_invest = -x.loc['funded_amnt']\n",
    "# avg_payment = x.loc['avg_pymnt']\n",
    "# num_payments = np.max(int(x.loc['mo_diff'])-1,0)\n",
    "# recovery = x['recoveries'] -x.loc['collection_recovery_fee']\n",
    "# recovery_duration = np.maximum(36 - num_payments + 1 + 12,12)\n",
    "# avg_recovery = recovery/recovery_duration\n",
    "# last_payment_amount = x.loc['last_pymnt_amnt']\n",
    "# [initial_invest]+[avg_payment]*num_payments + [last_payment_amount] +[avg_recovery]*recovery_duration\n",
    "# (df['total_pymnt']-df['recoveries']-df['last_pymnt_amnt'])/(np.maximum((df['mo_diff']-1),0))\n",
    "x\n",
    "\n",
    "def nar_calc(x):\n",
    "    initial_invest = -x['funded_amnt']\n",
    "    avg_payment = x['avg_pymnt']\n",
    "    num_payments = int(x['mo_diff'])   \n",
    "    fully_paid = x['loan_status_flag']\n",
    "    charge_off = x['funded_amnt_inv'] - x['total_rec_prncp'] - x['recoveries'] + x['collection_recovery_fee']\n",
    "    chargeoff_fee = -x['collection_recovery_fee']\n",
    "    \n",
    "    balance = x['funded_amnt']\n",
    "    annual_interest_rate = x['int_rate']/100\n",
    "    monthly_interest_rate = annual_interest_rate / 12\n",
    "    monthly_payment = x['installment']\n",
    "    \n",
    "    for month in range(1, num_payments):\n",
    "        if(month != num_payments-1):\n",
    "            balance = (balance - monthly_payment) * (1 + monthly_interest_rate)\n",
    "        else: \n",
    "            balance = 0\n",
    "        print('Month: %d \\n Minimum monthly payment: %g \\n Remaining balance: %g'\\\n",
    "              % (month, round(monthly_payment, 2), round(balance,2)))\n"
   ]
  },
  {
   "cell_type": "code",
   "execution_count": 43,
   "metadata": {},
   "outputs": [
    {
     "data": {
      "text/plain": [
       "grade  issue_yr\n",
       "A      2007        0.097217\n",
       "       2008        0.050469\n",
       "       2009        0.063518\n",
       "       2010        0.061746\n",
       "       2011        0.049488\n",
       "       2012        0.047840\n",
       "B      2007       -0.039109\n",
       "       2008       -0.008372\n",
       "       2009        0.045722\n",
       "       2010        0.071959\n",
       "       2011        0.079730\n",
       "       2012        0.075244\n",
       "C      2007       -0.023057\n",
       "       2008       -0.037433\n",
       "       2009        0.046296\n",
       "       2010        0.079125\n",
       "       2011        0.073962\n",
       "       2012        0.083807\n",
       "D      2007       -0.071354\n",
       "       2008       -0.088469\n",
       "       2009        0.051466\n",
       "       2010        0.076116\n",
       "       2011        0.103879\n",
       "       2012        0.101165\n",
       "E      2007       -0.093475\n",
       "       2008       -0.016077\n",
       "       2009        0.025696\n",
       "       2010        0.075759\n",
       "       2011        0.131390\n",
       "       2012        0.119628\n",
       "F      2007       -0.223625\n",
       "       2008       -0.141651\n",
       "       2009       -0.011275\n",
       "       2010       -0.028241\n",
       "       2011        0.087206\n",
       "       2012        0.088481\n",
       "G      2007       -0.111510\n",
       "       2008       -0.086719\n",
       "       2009       -0.014164\n",
       "       2010       -0.003246\n",
       "       2011       -0.130249\n",
       "       2012        0.228952\n",
       "dtype: float64"
      ]
     },
     "execution_count": 43,
     "metadata": {},
     "output_type": "execute_result"
    }
   ],
   "source": [
    "df_group_irr"
   ]
  }
 ],
 "metadata": {
  "kernelspec": {
   "display_name": "Python 3",
   "language": "python",
   "name": "python3"
  },
  "language_info": {
   "codemirror_mode": {
    "name": "ipython",
    "version": 3
   },
   "file_extension": ".py",
   "mimetype": "text/x-python",
   "name": "python",
   "nbconvert_exporter": "python",
   "pygments_lexer": "ipython3",
   "version": "3.6.1"
  }
 },
 "nbformat": 4,
 "nbformat_minor": 2
}
