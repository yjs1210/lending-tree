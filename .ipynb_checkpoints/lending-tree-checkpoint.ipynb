{
 "cells": [
  {
   "cell_type": "code",
   "execution_count": 1,
   "metadata": {
    "collapsed": true
   },
   "outputs": [],
   "source": [
    "import pandas as pd\n",
    "import numpy as np\n",
    "import matplotlib.pyplot as plt\n",
    "import matplotlib.mlab as mlab\n",
    "from IPython.display import Image\n",
    "from IPython.core.display import HTML \n",
    "import datetime\n",
    "import math\n"
   ]
  },
  {
   "cell_type": "markdown",
   "metadata": {},
   "source": [
    "To Dos: ML on number of loans pulled form each grade"
   ]
  },
  {
   "cell_type": "markdown",
   "metadata": {},
   "source": [
    "Still include the IRR calcs "
   ]
  },
  {
   "cell_type": "markdown",
   "metadata": {},
   "source": [
    "Weighted average rather than just raw average for the IRR calcs using individual loans\n"
   ]
  },
  {
   "cell_type": "markdown",
   "metadata": {
    "collapsed": true
   },
   "source": [
    "# Premise\n",
    "\n",
    "We approach EDA from a perspective of an investor, whose interests are maximizing risk-adjusted returns. Here we will look at interest rate vs default rate, and then calculate a net adjusted annual return separated by the loan grade.\n",
    "\n",
    "Next, we answer the question, are 36 month loans \n",
    "\n",
    "\n",
    "Lastly, we will build a model that can create a basket of investments that can outperform the market basket. These are the steps done and assumptions made.\n",
    "\n",
    "    1. We first calculate the sharpe ratio using net adjusted return on all historical basket of loans. \n",
    "    2. We will build a regression model, using features chosen carefully through nested model testing, that will forecast the returns of all the loans in a validation dataset\n",
    "    3. We will then use linear programming to set constraint and build a portfolio that maximizes the sharpe ratio with 10% of market liquidity\n",
    "    4. We will then compare our model vs actual result to get a sense of whether we were able to outperform or not \n",
    "\n",
    "Additional analysis that can be done is accounting for changes in the risk free rate, and rebalancing of the portfolio year over year."
   ]
  },
  {
   "cell_type": "markdown",
   "metadata": {
    "collapsed": true
   },
   "source": []
  },
  {
   "cell_type": "markdown",
   "metadata": {},
   "source": [
    "# Assumptions & Discussions"
   ]
  },
  {
   "cell_type": "markdown",
   "metadata": {},
   "source": [
    "1. Funded Amount vs Funded Amount Inv: Where there are differences, lending tree stepped in to make up for the differences between loan amount and funed amount invested by investors. We will go ahead and use funded amount as a basis for all our analysis.\n",
    "2. We assume all cash is deployed on year of x(has the most data) to reduce cash drag. We calculate IRR-> assuming we can reinvest at this rate \n",
    "3. Returns on the loans are most likely not normally distributed but a pool of randomly sampled loans should be"
   ]
  },
  {
   "cell_type": "markdown",
   "metadata": {},
   "source": [
    "# Data Cleansing"
   ]
  },
  {
   "cell_type": "markdown",
   "metadata": {},
   "source": [
    "As an investor, you want to get a good grasp of two things of any investments, risk and reward. This analyis will mainly focus on that. "
   ]
  },
  {
   "cell_type": "markdown",
   "metadata": {},
   "source": [
    "Dissecting the data to too many categorical values can "
   ]
  },
  {
   "cell_type": "markdown",
   "metadata": {},
   "source": [
    "First we calculat the default percentage, we will include the \"does not meet...\" rows as valid loans, and throw out rest of the data that we don't have complete information on."
   ]
  },
  {
   "cell_type": "markdown",
   "metadata": {},
   "source": [
    "###data call outs\n",
    "You can't trade on information that is not there yet.... \n"
   ]
  },
  {
   "cell_type": "code",
   "execution_count": 78,
   "metadata": {
    "collapsed": true
   },
   "outputs": [],
   "source": [
    "###data load\n",
    "df = pd.read_csv('./data/loan.csv', low_memory=False)"
   ]
  },
  {
   "cell_type": "code",
   "execution_count": 79,
   "metadata": {
    "collapsed": true
   },
   "outputs": [],
   "source": [
    "###cleaning data \n",
    "df['last_pymnt_d']=pd.to_datetime(df.last_pymnt_d)\n",
    "df['issue_d']=pd.to_datetime(df.issue_d)"
   ]
  },
  {
   "cell_type": "code",
   "execution_count": 80,
   "metadata": {
    "collapsed": true
   },
   "outputs": [],
   "source": [
    "###fill missing last_payments(no payments) with issue date, may want a separete column for this treatme\n",
    "###This is for calculation of IRRs later\n",
    "df['last_pymnt_d'].fillna(df.issue_d,inplace=True)"
   ]
  },
  {
   "cell_type": "code",
   "execution_count": 81,
   "metadata": {
    "collapsed": true
   },
   "outputs": [],
   "source": [
    "###Some pre-processing for ease of calculations\n",
    "df['issue_yr'] = df.issue_d.dt.year\n",
    "df['issue_mo']= df.issue_d.dt.month\n",
    "df['last_pymnt_yr'] = df.last_pymnt_d.dt.year\n",
    "df['last_pymnt_mo']= df.last_pymnt_d.dt.month"
   ]
  },
  {
   "cell_type": "code",
   "execution_count": 156,
   "metadata": {
    "collapsed": true
   },
   "outputs": [],
   "source": [
    "###filter to loans we have complete data only\n",
    "searchfor = ['Fully Paid', 'Charged Off', 'Default']\n",
    "df_filtered = df[df['loan_status'].str.contains('|'.join(searchfor))].query(\"term == ' 36 months' and issue_yr <=2012\").copy()"
   ]
  },
  {
   "cell_type": "code",
   "execution_count": 157,
   "metadata": {
    "collapsed": true
   },
   "outputs": [],
   "source": [
    "###default flag \n",
    "df_filtered['loan_status_flag'] = np.where(df_filtered['loan_status'].str.contains('Fully Paid') ,1,0)"
   ]
  },
  {
   "cell_type": "markdown",
   "metadata": {},
   "source": [
    "### Overall Default Percentage"
   ]
  },
  {
   "cell_type": "code",
   "execution_count": 158,
   "metadata": {},
   "outputs": [
    {
     "data": {
      "text/plain": [
       "0.12997142017682095"
      ]
     },
     "execution_count": 158,
     "metadata": {},
     "output_type": "execute_result"
    }
   ],
   "source": [
    "1- df_filtered['loan_status_flag'].mean()"
   ]
  },
  {
   "cell_type": "markdown",
   "metadata": {},
   "source": [
    "### Overall Interest Rate"
   ]
  },
  {
   "cell_type": "code",
   "execution_count": 159,
   "metadata": {
    "scrolled": true
   },
   "outputs": [
    {
     "data": {
      "text/plain": [
       "12.033947888569795"
      ]
     },
     "execution_count": 159,
     "metadata": {},
     "output_type": "execute_result"
    }
   ],
   "source": [
    "df_filtered['int_rate'].mean()"
   ]
  },
  {
   "cell_type": "code",
   "execution_count": 332,
   "metadata": {
    "collapsed": true
   },
   "outputs": [],
   "source": [
    "### IRR Calculations\n",
    "###calculate differences in months for total duration of the loan \n",
    "df_filtered['mo_diff'] = pd.to_numeric((df_filtered['last_pymnt_yr'] - \n",
    "                          df_filtered['issue_yr'])*12 + df['last_pymnt_mo'] -df['issue_mo'])\n",
    "df_filtered['avg_pymnt'] = (df_filtered['total_pymnt']-df_filtered['recoveries'])/(df_filtered['mo_diff']-1)"
   ]
  },
  {
   "cell_type": "code",
   "execution_count": null,
   "metadata": {
    "collapsed": true
   },
   "outputs": [],
   "source": [
    "##we calculate return using a pool of cash flows \n",
    "##avoids IRR's drastic treatment of negative IRR \n",
    "##automatically does weighted adjustment based on size of the loan\n",
    "##we later can take many pools of data using functions built to effectively creat a derivative that is a pool of loans\n",
    "##Pool of loans returns should be normally distributed, allowing us to do interesting analysis around normality\n",
    "##and calculate things such as sharpe ratio\n",
    "##More representative for institutional investors who will have a set of funds for an asset class and not\n",
    "##investing in individual loans\n",
    "##Diversification"
   ]
  },
  {
   "cell_type": "code",
   "execution_count": 322,
   "metadata": {
    "collapsed": true
   },
   "outputs": [],
   "source": [
    "def cash_flow(row,max_n):\n",
    "    initial_invest = -row['funded_amnt'] \n",
    "    avg_payment = row['avg_pymnt'] or 0 \n",
    "    num_payments = int(row['mo_diff'])-1 \n",
    "    fully_paid =row['loan_status_flag'] or 0 \n",
    "    recovery = row['recoveries'] or 0 \n",
    "    chargeoff_fee = -row['collection_recovery_fee'] or 0 \n",
    "    dummy_cfs = int(max_n - row['mo_diff'])+2\n",
    "    return [initial_invest]+[avg_payment]*num_payments + [recovery+chargeoff_fee]+ [0]*dummy_cfs"
   ]
  },
  {
   "cell_type": "code",
   "execution_count": 323,
   "metadata": {
    "collapsed": true
   },
   "outputs": [],
   "source": [
    "def irr_pool(df):\n",
    "    list_length = df['mo_diff'].max()\n",
    "    cfs=[]\n",
    "    for index, row in df.iterrows(): \n",
    "        cfs.append(cash_flow(row,list_length))\n",
    "    result = [sum(x) for x in zip(*cfs)]\n",
    "    return (np.irr(result)+1)**12 -1"
   ]
  },
  {
   "cell_type": "code",
   "execution_count": 334,
   "metadata": {
    "collapsed": true
   },
   "outputs": [],
   "source": [
    "###IRR calculations at an indiviudal loans proved to be a bad exercise, because the bad loans were\n",
    "###a lot more pronounced. \n",
    "def irr_calc(x):  \n",
    "    ##varible initialization\n",
    "    initial_invest = -x['funded_amnt']\n",
    "    avg_payment = x['avg_pymnt']\n",
    "    num_payments = int(x['mo_diff'])-1\n",
    "    fully_paid = x['loan_status_flag']\n",
    "    recovery = x['recoveries']\n",
    "    chargeoff_fee = -x['collection_recovery_fee']\n",
    "    ##IRR calculation, input: series of cash flows, total payment evenly divided and spread across the life of the loan \n",
    "    return ((np.irr([initial_invest]+[avg_payment]*num_payments + [recovery+chargeoff_fee])+1)**12-1)"
   ]
  },
  {
   "cell_type": "code",
   "execution_count": 301,
   "metadata": {
    "collapsed": true
   },
   "outputs": [],
   "source": [
    "def nar_calc(x):\n",
    "\n",
    "    initial_invest = -x['funded_amnt']\n",
    "    avg_payment = x['avg_pymnt']\n",
    "    num_payments = int(x['mo_diff'])   \n",
    "    fully_paid = x['loan_status_flag']\n",
    "    charge_off = x['funded_amnt_inv'] - x['total_rec_prncp'] - x['recoveries'] + x['collection_recovery_fee']\n",
    "    chargeoff_fee = -x['collection_recovery_fee']\n",
    "    \n",
    "    balance = x['funded_amnt']\n",
    "    annual_interest_rate = x['int_rate']/100\n",
    "    monthly_interest_rate = annual_interest_rate / 12\n",
    "    monthly_payment = x['installment']\n",
    "    \n",
    "    for month in range(1, num_payments):\n",
    "        if(month != num_payments-1):\n",
    "            balance = (balance - monthly_payment) * (1 + monthly_interest_rate)\n",
    "        else: \n",
    "            balance = 0\n",
    "        print('Month: %d \\n Minimum monthly payment: %g \\n Remaining balance: %g'\\\n",
    "              % (month, round(monthly_payment, 2), round(balance,2)))"
   ]
  },
  {
   "cell_type": "markdown",
   "metadata": {},
   "source": [
    "### Pooled Method Overall IRR"
   ]
  },
  {
   "cell_type": "code",
   "execution_count": 333,
   "metadata": {},
   "outputs": [
    {
     "data": {
      "text/plain": [
       "0.07708614688635329"
      ]
     },
     "execution_count": 333,
     "metadata": {},
     "output_type": "execute_result"
    }
   ],
   "source": [
    "irr_pool(df_filtered)"
   ]
  },
  {
   "cell_type": "code",
   "execution_count": 335,
   "metadata": {},
   "outputs": [],
   "source": [
    "##NaNs returned from IRRs with 0 payments should be -100% return \n",
    "df_filtered['irr']=df_filtered.apply(irr_calc, axis=1)"
   ]
  },
  {
   "cell_type": "markdown",
   "metadata": {},
   "source": [
    "### Weighed Average of security level IRRs"
   ]
  },
  {
   "cell_type": "code",
   "execution_count": 337,
   "metadata": {},
   "outputs": [],
   "source": [
    "##NaNs returned from IRRs with 0 payments should be -100% return \n",
    "df_filtered['irr']=df_filtered['irr'].replace(np.NaN,-1)"
   ]
  },
  {
   "cell_type": "code",
   "execution_count": 338,
   "metadata": {},
   "outputs": [
    {
     "data": {
      "text/plain": [
       "0.068881413393099555"
      ]
     },
     "execution_count": 338,
     "metadata": {},
     "output_type": "execute_result"
    }
   ],
   "source": [
    "weighted_avg = np.average(df_filtered['irr'], weights=df_filtered['funded_amnt'])\n",
    "weighted_avg"
   ]
  },
  {
   "cell_type": "code",
   "execution_count": 318,
   "metadata": {},
   "outputs": [
    {
     "data": {
      "text/html": [
       "<div>\n",
       "<style>\n",
       "    .dataframe thead tr:only-child th {\n",
       "        text-align: right;\n",
       "    }\n",
       "\n",
       "    .dataframe thead th {\n",
       "        text-align: left;\n",
       "    }\n",
       "\n",
       "    .dataframe tbody tr th {\n",
       "        vertical-align: top;\n",
       "    }\n",
       "</style>\n",
       "<table border=\"1\" class=\"dataframe\">\n",
       "  <thead>\n",
       "    <tr style=\"text-align: right;\">\n",
       "      <th></th>\n",
       "      <th>loan_amnt</th>\n",
       "      <th>last_pymnt_amnt</th>\n",
       "      <th>installment</th>\n",
       "      <th>issue_d</th>\n",
       "      <th>int_rate</th>\n",
       "      <th>last_pymnt_d</th>\n",
       "      <th>total_pymnt</th>\n",
       "      <th>mo_diff</th>\n",
       "      <th>avg_pymnt</th>\n",
       "      <th>irr</th>\n",
       "      <th>collection_recovery_fee</th>\n",
       "      <th>recoveries</th>\n",
       "      <th>total_rec_late_fee</th>\n",
       "    </tr>\n",
       "  </thead>\n",
       "  <tbody>\n",
       "    <tr>\n",
       "      <th>0</th>\n",
       "      <td>5000.0</td>\n",
       "      <td>171.62</td>\n",
       "      <td>162.87</td>\n",
       "      <td>2011-12-01</td>\n",
       "      <td>10.65</td>\n",
       "      <td>2015-01-01</td>\n",
       "      <td>5861.071414</td>\n",
       "      <td>37.0</td>\n",
       "      <td>162.807539</td>\n",
       "      <td>0.129295</td>\n",
       "      <td>0.0</td>\n",
       "      <td>0.0</td>\n",
       "      <td>0.00</td>\n",
       "    </tr>\n",
       "    <tr>\n",
       "      <th>2</th>\n",
       "      <td>2400.0</td>\n",
       "      <td>649.91</td>\n",
       "      <td>84.33</td>\n",
       "      <td>2011-12-01</td>\n",
       "      <td>15.96</td>\n",
       "      <td>2014-06-01</td>\n",
       "      <td>3003.653644</td>\n",
       "      <td>30.0</td>\n",
       "      <td>103.574264</td>\n",
       "      <td>0.042008</td>\n",
       "      <td>0.0</td>\n",
       "      <td>0.0</td>\n",
       "      <td>0.00</td>\n",
       "    </tr>\n",
       "    <tr>\n",
       "      <th>3</th>\n",
       "      <td>10000.0</td>\n",
       "      <td>357.48</td>\n",
       "      <td>339.31</td>\n",
       "      <td>2011-12-01</td>\n",
       "      <td>13.49</td>\n",
       "      <td>2015-01-01</td>\n",
       "      <td>12226.302212</td>\n",
       "      <td>37.0</td>\n",
       "      <td>339.619506</td>\n",
       "      <td>0.162019</td>\n",
       "      <td>0.0</td>\n",
       "      <td>0.0</td>\n",
       "      <td>16.97</td>\n",
       "    </tr>\n",
       "    <tr>\n",
       "      <th>5</th>\n",
       "      <td>5000.0</td>\n",
       "      <td>161.03</td>\n",
       "      <td>156.46</td>\n",
       "      <td>2011-12-01</td>\n",
       "      <td>7.90</td>\n",
       "      <td>2015-01-01</td>\n",
       "      <td>5631.377753</td>\n",
       "      <td>37.0</td>\n",
       "      <td>156.427160</td>\n",
       "      <td>0.099424</td>\n",
       "      <td>0.0</td>\n",
       "      <td>0.0</td>\n",
       "      <td>0.00</td>\n",
       "    </tr>\n",
       "    <tr>\n",
       "      <th>7</th>\n",
       "      <td>3000.0</td>\n",
       "      <td>111.34</td>\n",
       "      <td>109.43</td>\n",
       "      <td>2011-12-01</td>\n",
       "      <td>18.64</td>\n",
       "      <td>2015-01-01</td>\n",
       "      <td>3938.144334</td>\n",
       "      <td>37.0</td>\n",
       "      <td>109.392898</td>\n",
       "      <td>0.220506</td>\n",
       "      <td>0.0</td>\n",
       "      <td>0.0</td>\n",
       "      <td>0.00</td>\n",
       "    </tr>\n",
       "    <tr>\n",
       "      <th>11</th>\n",
       "      <td>12000.0</td>\n",
       "      <td>6315.30</td>\n",
       "      <td>402.54</td>\n",
       "      <td>2011-12-01</td>\n",
       "      <td>12.69</td>\n",
       "      <td>2013-09-01</td>\n",
       "      <td>13943.080000</td>\n",
       "      <td>21.0</td>\n",
       "      <td>697.154000</td>\n",
       "      <td>-0.305017</td>\n",
       "      <td>0.0</td>\n",
       "      <td>0.0</td>\n",
       "      <td>0.00</td>\n",
       "    </tr>\n",
       "    <tr>\n",
       "      <th>13</th>\n",
       "      <td>3000.0</td>\n",
       "      <td>102.43</td>\n",
       "      <td>96.68</td>\n",
       "      <td>2011-12-01</td>\n",
       "      <td>9.91</td>\n",
       "      <td>2015-01-01</td>\n",
       "      <td>3478.981915</td>\n",
       "      <td>37.0</td>\n",
       "      <td>96.638387</td>\n",
       "      <td>0.121199</td>\n",
       "      <td>0.0</td>\n",
       "      <td>0.0</td>\n",
       "      <td>0.00</td>\n",
       "    </tr>\n",
       "    <tr>\n",
       "      <th>15</th>\n",
       "      <td>1000.0</td>\n",
       "      <td>36.32</td>\n",
       "      <td>35.31</td>\n",
       "      <td>2011-12-01</td>\n",
       "      <td>16.29</td>\n",
       "      <td>2015-01-01</td>\n",
       "      <td>1270.171106</td>\n",
       "      <td>37.0</td>\n",
       "      <td>35.282531</td>\n",
       "      <td>0.193176</td>\n",
       "      <td>0.0</td>\n",
       "      <td>0.0</td>\n",
       "      <td>0.00</td>\n",
       "    </tr>\n",
       "    <tr>\n",
       "      <th>16</th>\n",
       "      <td>10000.0</td>\n",
       "      <td>370.46</td>\n",
       "      <td>347.98</td>\n",
       "      <td>2011-12-01</td>\n",
       "      <td>15.27</td>\n",
       "      <td>2015-01-01</td>\n",
       "      <td>12519.260450</td>\n",
       "      <td>37.0</td>\n",
       "      <td>347.757235</td>\n",
       "      <td>0.181202</td>\n",
       "      <td>0.0</td>\n",
       "      <td>0.0</td>\n",
       "      <td>0.00</td>\n",
       "    </tr>\n",
       "    <tr>\n",
       "      <th>17</th>\n",
       "      <td>3600.0</td>\n",
       "      <td>583.45</td>\n",
       "      <td>109.57</td>\n",
       "      <td>2011-12-01</td>\n",
       "      <td>6.03</td>\n",
       "      <td>2013-05-01</td>\n",
       "      <td>3785.020000</td>\n",
       "      <td>17.0</td>\n",
       "      <td>236.563750</td>\n",
       "      <td>-0.553791</td>\n",
       "      <td>0.0</td>\n",
       "      <td>0.0</td>\n",
       "      <td>0.00</td>\n",
       "    </tr>\n",
       "    <tr>\n",
       "      <th>18</th>\n",
       "      <td>6000.0</td>\n",
       "      <td>16.98</td>\n",
       "      <td>198.46</td>\n",
       "      <td>2011-12-01</td>\n",
       "      <td>11.71</td>\n",
       "      <td>2015-02-01</td>\n",
       "      <td>7164.499852</td>\n",
       "      <td>38.0</td>\n",
       "      <td>193.635131</td>\n",
       "      <td>0.158953</td>\n",
       "      <td>0.0</td>\n",
       "      <td>0.0</td>\n",
       "      <td>15.00</td>\n",
       "    </tr>\n",
       "    <tr>\n",
       "      <th>19</th>\n",
       "      <td>9200.0</td>\n",
       "      <td>8061.10</td>\n",
       "      <td>280.01</td>\n",
       "      <td>2011-12-01</td>\n",
       "      <td>6.03</td>\n",
       "      <td>2012-07-01</td>\n",
       "      <td>9459.960000</td>\n",
       "      <td>7.0</td>\n",
       "      <td>1576.660000</td>\n",
       "      <td>-0.981691</td>\n",
       "      <td>0.0</td>\n",
       "      <td>0.0</td>\n",
       "      <td>0.00</td>\n",
       "    </tr>\n",
       "    <tr>\n",
       "      <th>22</th>\n",
       "      <td>10000.0</td>\n",
       "      <td>349.21</td>\n",
       "      <td>330.76</td>\n",
       "      <td>2011-12-01</td>\n",
       "      <td>11.71</td>\n",
       "      <td>2015-01-01</td>\n",
       "      <td>11902.561575</td>\n",
       "      <td>37.0</td>\n",
       "      <td>330.626710</td>\n",
       "      <td>0.140999</td>\n",
       "      <td>0.0</td>\n",
       "      <td>0.0</td>\n",
       "      <td>0.00</td>\n",
       "    </tr>\n",
       "    <tr>\n",
       "      <th>23</th>\n",
       "      <td>10000.0</td>\n",
       "      <td>4942.63</td>\n",
       "      <td>330.76</td>\n",
       "      <td>2011-12-01</td>\n",
       "      <td>11.71</td>\n",
       "      <td>2013-10-01</td>\n",
       "      <td>11536.310000</td>\n",
       "      <td>22.0</td>\n",
       "      <td>549.348095</td>\n",
       "      <td>-0.271745</td>\n",
       "      <td>0.0</td>\n",
       "      <td>0.0</td>\n",
       "      <td>0.00</td>\n",
       "    </tr>\n",
       "    <tr>\n",
       "      <th>25</th>\n",
       "      <td>15000.0</td>\n",
       "      <td>2447.05</td>\n",
       "      <td>483.38</td>\n",
       "      <td>2011-12-01</td>\n",
       "      <td>9.91</td>\n",
       "      <td>2012-09-01</td>\n",
       "      <td>15823.480000</td>\n",
       "      <td>9.0</td>\n",
       "      <td>1977.935000</td>\n",
       "      <td>-0.926104</td>\n",
       "      <td>0.0</td>\n",
       "      <td>0.0</td>\n",
       "      <td>0.00</td>\n",
       "    </tr>\n",
       "    <tr>\n",
       "      <th>28</th>\n",
       "      <td>4000.0</td>\n",
       "      <td>2638.77</td>\n",
       "      <td>132.31</td>\n",
       "      <td>2011-12-01</td>\n",
       "      <td>11.71</td>\n",
       "      <td>2013-04-01</td>\n",
       "      <td>4484.790000</td>\n",
       "      <td>16.0</td>\n",
       "      <td>298.986000</td>\n",
       "      <td>-0.562937</td>\n",
       "      <td>0.0</td>\n",
       "      <td>0.0</td>\n",
       "      <td>0.00</td>\n",
       "    </tr>\n",
       "    <tr>\n",
       "      <th>29</th>\n",
       "      <td>8500.0</td>\n",
       "      <td>581.59</td>\n",
       "      <td>281.15</td>\n",
       "      <td>2011-12-01</td>\n",
       "      <td>11.71</td>\n",
       "      <td>2014-12-01</td>\n",
       "      <td>10122.208614</td>\n",
       "      <td>36.0</td>\n",
       "      <td>289.205960</td>\n",
       "      <td>0.123606</td>\n",
       "      <td>0.0</td>\n",
       "      <td>0.0</td>\n",
       "      <td>0.00</td>\n",
       "    </tr>\n",
       "    <tr>\n",
       "      <th>30</th>\n",
       "      <td>4375.0</td>\n",
       "      <td>144.94</td>\n",
       "      <td>136.11</td>\n",
       "      <td>2011-12-01</td>\n",
       "      <td>7.51</td>\n",
       "      <td>2015-01-01</td>\n",
       "      <td>4898.543558</td>\n",
       "      <td>37.0</td>\n",
       "      <td>136.070654</td>\n",
       "      <td>0.095205</td>\n",
       "      <td>0.0</td>\n",
       "      <td>0.0</td>\n",
       "      <td>0.00</td>\n",
       "    </tr>\n",
       "    <tr>\n",
       "      <th>31</th>\n",
       "      <td>31825.0</td>\n",
       "      <td>16966.70</td>\n",
       "      <td>995.82</td>\n",
       "      <td>2011-12-01</td>\n",
       "      <td>7.90</td>\n",
       "      <td>2013-08-01</td>\n",
       "      <td>34886.080000</td>\n",
       "      <td>20.0</td>\n",
       "      <td>1836.109474</td>\n",
       "      <td>-0.395007</td>\n",
       "      <td>0.0</td>\n",
       "      <td>0.0</td>\n",
       "      <td>0.00</td>\n",
       "    </tr>\n",
       "    <tr>\n",
       "      <th>33</th>\n",
       "      <td>5000.0</td>\n",
       "      <td>163.64</td>\n",
       "      <td>158.77</td>\n",
       "      <td>2011-12-01</td>\n",
       "      <td>8.90</td>\n",
       "      <td>2015-01-01</td>\n",
       "      <td>5714.592129</td>\n",
       "      <td>37.0</td>\n",
       "      <td>158.738670</td>\n",
       "      <td>0.110186</td>\n",
       "      <td>0.0</td>\n",
       "      <td>0.0</td>\n",
       "      <td>0.00</td>\n",
       "    </tr>\n",
       "    <tr>\n",
       "      <th>34</th>\n",
       "      <td>7000.0</td>\n",
       "      <td>260.74</td>\n",
       "      <td>245.97</td>\n",
       "      <td>2011-12-01</td>\n",
       "      <td>15.96</td>\n",
       "      <td>2015-01-01</td>\n",
       "      <td>8848.940430</td>\n",
       "      <td>37.0</td>\n",
       "      <td>245.803901</td>\n",
       "      <td>0.189165</td>\n",
       "      <td>0.0</td>\n",
       "      <td>0.0</td>\n",
       "      <td>0.00</td>\n",
       "    </tr>\n",
       "    <tr>\n",
       "      <th>35</th>\n",
       "      <td>12400.0</td>\n",
       "      <td>417.61</td>\n",
       "      <td>403.91</td>\n",
       "      <td>2011-12-01</td>\n",
       "      <td>10.65</td>\n",
       "      <td>2015-01-01</td>\n",
       "      <td>14537.459527</td>\n",
       "      <td>37.0</td>\n",
       "      <td>403.818320</td>\n",
       "      <td>0.129280</td>\n",
       "      <td>0.0</td>\n",
       "      <td>0.0</td>\n",
       "      <td>0.00</td>\n",
       "    </tr>\n",
       "    <tr>\n",
       "      <th>36</th>\n",
       "      <td>10800.0</td>\n",
       "      <td>3483.79</td>\n",
       "      <td>348.03</td>\n",
       "      <td>2011-12-01</td>\n",
       "      <td>9.91</td>\n",
       "      <td>2013-11-01</td>\n",
       "      <td>12157.200000</td>\n",
       "      <td>23.0</td>\n",
       "      <td>552.600000</td>\n",
       "      <td>-0.249465</td>\n",
       "      <td>0.0</td>\n",
       "      <td>0.0</td>\n",
       "      <td>0.00</td>\n",
       "    </tr>\n",
       "    <tr>\n",
       "      <th>37</th>\n",
       "      <td>15000.0</td>\n",
       "      <td>5872.80</td>\n",
       "      <td>469.36</td>\n",
       "      <td>2011-12-01</td>\n",
       "      <td>7.90</td>\n",
       "      <td>2014-01-01</td>\n",
       "      <td>16662.600000</td>\n",
       "      <td>25.0</td>\n",
       "      <td>694.275000</td>\n",
       "      <td>-0.196447</td>\n",
       "      <td>0.0</td>\n",
       "      <td>0.0</td>\n",
       "      <td>0.00</td>\n",
       "    </tr>\n",
       "    <tr>\n",
       "      <th>38</th>\n",
       "      <td>6000.0</td>\n",
       "      <td>1923.53</td>\n",
       "      <td>200.50</td>\n",
       "      <td>2011-12-01</td>\n",
       "      <td>12.42</td>\n",
       "      <td>2014-04-01</td>\n",
       "      <td>7125.283165</td>\n",
       "      <td>28.0</td>\n",
       "      <td>263.899376</td>\n",
       "      <td>-0.053018</td>\n",
       "      <td>0.0</td>\n",
       "      <td>0.0</td>\n",
       "      <td>0.00</td>\n",
       "    </tr>\n",
       "  </tbody>\n",
       "</table>\n",
       "</div>"
      ],
      "text/plain": [
       "    loan_amnt  last_pymnt_amnt  installment    issue_d  int_rate last_pymnt_d  \\\n",
       "0      5000.0           171.62       162.87 2011-12-01     10.65   2015-01-01   \n",
       "2      2400.0           649.91        84.33 2011-12-01     15.96   2014-06-01   \n",
       "3     10000.0           357.48       339.31 2011-12-01     13.49   2015-01-01   \n",
       "5      5000.0           161.03       156.46 2011-12-01      7.90   2015-01-01   \n",
       "7      3000.0           111.34       109.43 2011-12-01     18.64   2015-01-01   \n",
       "11    12000.0          6315.30       402.54 2011-12-01     12.69   2013-09-01   \n",
       "13     3000.0           102.43        96.68 2011-12-01      9.91   2015-01-01   \n",
       "15     1000.0            36.32        35.31 2011-12-01     16.29   2015-01-01   \n",
       "16    10000.0           370.46       347.98 2011-12-01     15.27   2015-01-01   \n",
       "17     3600.0           583.45       109.57 2011-12-01      6.03   2013-05-01   \n",
       "18     6000.0            16.98       198.46 2011-12-01     11.71   2015-02-01   \n",
       "19     9200.0          8061.10       280.01 2011-12-01      6.03   2012-07-01   \n",
       "22    10000.0           349.21       330.76 2011-12-01     11.71   2015-01-01   \n",
       "23    10000.0          4942.63       330.76 2011-12-01     11.71   2013-10-01   \n",
       "25    15000.0          2447.05       483.38 2011-12-01      9.91   2012-09-01   \n",
       "28     4000.0          2638.77       132.31 2011-12-01     11.71   2013-04-01   \n",
       "29     8500.0           581.59       281.15 2011-12-01     11.71   2014-12-01   \n",
       "30     4375.0           144.94       136.11 2011-12-01      7.51   2015-01-01   \n",
       "31    31825.0         16966.70       995.82 2011-12-01      7.90   2013-08-01   \n",
       "33     5000.0           163.64       158.77 2011-12-01      8.90   2015-01-01   \n",
       "34     7000.0           260.74       245.97 2011-12-01     15.96   2015-01-01   \n",
       "35    12400.0           417.61       403.91 2011-12-01     10.65   2015-01-01   \n",
       "36    10800.0          3483.79       348.03 2011-12-01      9.91   2013-11-01   \n",
       "37    15000.0          5872.80       469.36 2011-12-01      7.90   2014-01-01   \n",
       "38     6000.0          1923.53       200.50 2011-12-01     12.42   2014-04-01   \n",
       "\n",
       "     total_pymnt  mo_diff    avg_pymnt       irr  collection_recovery_fee  \\\n",
       "0    5861.071414     37.0   162.807539  0.129295                      0.0   \n",
       "2    3003.653644     30.0   103.574264  0.042008                      0.0   \n",
       "3   12226.302212     37.0   339.619506  0.162019                      0.0   \n",
       "5    5631.377753     37.0   156.427160  0.099424                      0.0   \n",
       "7    3938.144334     37.0   109.392898  0.220506                      0.0   \n",
       "11  13943.080000     21.0   697.154000 -0.305017                      0.0   \n",
       "13   3478.981915     37.0    96.638387  0.121199                      0.0   \n",
       "15   1270.171106     37.0    35.282531  0.193176                      0.0   \n",
       "16  12519.260450     37.0   347.757235  0.181202                      0.0   \n",
       "17   3785.020000     17.0   236.563750 -0.553791                      0.0   \n",
       "18   7164.499852     38.0   193.635131  0.158953                      0.0   \n",
       "19   9459.960000      7.0  1576.660000 -0.981691                      0.0   \n",
       "22  11902.561575     37.0   330.626710  0.140999                      0.0   \n",
       "23  11536.310000     22.0   549.348095 -0.271745                      0.0   \n",
       "25  15823.480000      9.0  1977.935000 -0.926104                      0.0   \n",
       "28   4484.790000     16.0   298.986000 -0.562937                      0.0   \n",
       "29  10122.208614     36.0   289.205960  0.123606                      0.0   \n",
       "30   4898.543558     37.0   136.070654  0.095205                      0.0   \n",
       "31  34886.080000     20.0  1836.109474 -0.395007                      0.0   \n",
       "33   5714.592129     37.0   158.738670  0.110186                      0.0   \n",
       "34   8848.940430     37.0   245.803901  0.189165                      0.0   \n",
       "35  14537.459527     37.0   403.818320  0.129280                      0.0   \n",
       "36  12157.200000     23.0   552.600000 -0.249465                      0.0   \n",
       "37  16662.600000     25.0   694.275000 -0.196447                      0.0   \n",
       "38   7125.283165     28.0   263.899376 -0.053018                      0.0   \n",
       "\n",
       "    recoveries  total_rec_late_fee  \n",
       "0          0.0                0.00  \n",
       "2          0.0                0.00  \n",
       "3          0.0               16.97  \n",
       "5          0.0                0.00  \n",
       "7          0.0                0.00  \n",
       "11         0.0                0.00  \n",
       "13         0.0                0.00  \n",
       "15         0.0                0.00  \n",
       "16         0.0                0.00  \n",
       "17         0.0                0.00  \n",
       "18         0.0               15.00  \n",
       "19         0.0                0.00  \n",
       "22         0.0                0.00  \n",
       "23         0.0                0.00  \n",
       "25         0.0                0.00  \n",
       "28         0.0                0.00  \n",
       "29         0.0                0.00  \n",
       "30         0.0                0.00  \n",
       "31         0.0                0.00  \n",
       "33         0.0                0.00  \n",
       "34         0.0                0.00  \n",
       "35         0.0                0.00  \n",
       "36         0.0                0.00  \n",
       "37         0.0                0.00  \n",
       "38         0.0                0.00  "
      ]
     },
     "execution_count": 318,
     "metadata": {},
     "output_type": "execute_result"
    }
   ],
   "source": [
    "df_filtered[(df_filtered['loan_status_flag']==1) ][['loan_amnt','last_pymnt_amnt','installment','issue_d','int_rate'\n",
    "                                                 ,'last_pymnt_d', 'total_pymnt','mo_diff','avg_pymnt','irr'\n",
    "                                                ,'collection_recovery_fee','recoveries','total_rec_late_fee']].head(25)"
   ]
  },
  {
   "cell_type": "code",
   "execution_count": 339,
   "metadata": {},
   "outputs": [
    {
     "data": {
      "text/plain": [
       "0.07708614688635329"
      ]
     },
     "execution_count": 339,
     "metadata": {},
     "output_type": "execute_result"
    }
   ],
   "source": [
    "##Overall Returns\n",
    "irr_pool(df_filtered)"
   ]
  },
  {
   "cell_type": "code",
   "execution_count": 340,
   "metadata": {
    "collapsed": true
   },
   "outputs": [],
   "source": [
    "df_group = df_filtered.groupby(['grade','issue_yr'])\n",
    "df_group_irr = df_group.apply(irr_pool)"
   ]
  },
  {
   "cell_type": "markdown",
   "metadata": {},
   "source": [
    "### Pooled Method IRR Buckets"
   ]
  },
  {
   "cell_type": "code",
   "execution_count": 341,
   "metadata": {},
   "outputs": [
    {
     "data": {
      "text/plain": [
       "grade  issue_yr\n",
       "A      2007        0.085894\n",
       "       2008        0.052998\n",
       "       2009        0.066634\n",
       "       2010        0.061765\n",
       "       2011        0.052406\n",
       "       2012        0.051728\n",
       "B      2007       -0.018204\n",
       "       2008        0.022719\n",
       "       2009        0.057404\n",
       "       2010        0.076873\n",
       "       2011        0.082959\n",
       "       2012        0.082088\n",
       "C      2007        0.007516\n",
       "       2008        0.004002\n",
       "       2009        0.063086\n",
       "       2010        0.089088\n",
       "       2011        0.086319\n",
       "       2012        0.092011\n",
       "D      2007       -0.016531\n",
       "       2008       -0.021723\n",
       "       2009        0.073915\n",
       "       2010        0.090750\n",
       "       2011        0.111342\n",
       "       2012        0.110619\n",
       "E      2007       -0.019496\n",
       "       2008        0.022313\n",
       "       2009        0.053603\n",
       "       2010        0.094466\n",
       "       2011        0.140383\n",
       "       2012        0.133457\n",
       "F      2007       -0.143671\n",
       "       2008       -0.055813\n",
       "       2009        0.017345\n",
       "       2010        0.007917\n",
       "       2011        0.104254\n",
       "       2012        0.118903\n",
       "G      2007       -0.064915\n",
       "       2008       -0.001756\n",
       "       2009        0.020980\n",
       "       2010        0.058417\n",
       "       2011       -0.038284\n",
       "       2012        0.221485\n",
       "dtype: float64"
      ]
     },
     "execution_count": 341,
     "metadata": {},
     "output_type": "execute_result"
    }
   ],
   "source": [
    "df_group_irr"
   ]
  },
  {
   "cell_type": "code",
   "execution_count": 342,
   "metadata": {},
   "outputs": [
    {
     "data": {
      "text/plain": [
       "('G', 2012)"
      ]
     },
     "execution_count": 342,
     "metadata": {},
     "output_type": "execute_result"
    }
   ],
   "source": [
    "df_group_irr.argmax()"
   ]
  },
  {
   "cell_type": "code",
   "execution_count": 343,
   "metadata": {},
   "outputs": [
    {
     "data": {
      "text/plain": [
       "0.22148499252234632"
      ]
     },
     "execution_count": 343,
     "metadata": {},
     "output_type": "execute_result"
    }
   ],
   "source": [
    "df_group_irr.max()"
   ]
  },
  {
   "cell_type": "markdown",
   "metadata": {},
   "source": [
    "### Individual Security IRR Weighted Average Method"
   ]
  },
  {
   "cell_type": "code",
   "execution_count": 127,
   "metadata": {},
   "outputs": [
    {
     "data": {
      "text/plain": [
       "('G', 2012)"
      ]
     },
     "execution_count": 127,
     "metadata": {},
     "output_type": "execute_result"
    }
   ],
   "source": [
    "df_group_irr = df_group.apply(lambda x: np.average(x['irr'],weights = x['funded_amnt']))\n",
    "df_group_irr.argmax()"
   ]
  },
  {
   "cell_type": "code",
   "execution_count": 128,
   "metadata": {},
   "outputs": [
    {
     "data": {
      "text/plain": [
       "0.23068828758861901"
      ]
     },
     "execution_count": 128,
     "metadata": {},
     "output_type": "execute_result"
    }
   ],
   "source": [
    "df_group_irr.max()"
   ]
  },
  {
   "cell_type": "code",
   "execution_count": null,
   "metadata": {
    "collapsed": true
   },
   "outputs": [],
   "source": [
    "###may want to pool by size of portfolio not n random "
   ]
  },
  {
   "cell_type": "code",
   "execution_count": 344,
   "metadata": {
    "collapsed": true
   },
   "outputs": [],
   "source": [
    "def pool(df,pool_size):  \n",
    "    pool_running = 0 \n",
    "    df_pool = df \n",
    "    df_out = pd.DataFrame()\n",
    "    while (pool_running < pool_size):\n",
    "        df_subset = df_pool.sample(1)\n",
    "        ###no replacement\n",
    "        df_pool = df_pool.drop(df_subset.index)\n",
    "        pool_running += df_subset.iloc[0]['funded_amnt']\n",
    "        df_out = df_out.append(df_subset)\n",
    "    return df_out"
   ]
  },
  {
   "cell_type": "code",
   "execution_count": 345,
   "metadata": {
    "collapsed": true
   },
   "outputs": [],
   "source": [
    "def collect_n(df,n,pool_size):\n",
    "    returns_list = []\n",
    "    for x in range(0,n):\n",
    "        df_out = pool(df,pool_size)\n",
    "        returns_list.append(irr_pool(df_out))   \n",
    "    return returns_list"
   ]
  },
  {
   "cell_type": "code",
   "execution_count": 346,
   "metadata": {
    "collapsed": true
   },
   "outputs": [],
   "source": [
    "def collect_n_random(df,n,size):\n",
    "    returns_list = []\n",
    "    for x in range(0,n):\n",
    "        df_out = df.sample(size)\n",
    "        returns_list.append(irr_pool(df_out))   \n",
    "    return returns_list"
   ]
  },
  {
   "cell_type": "code",
   "execution_count": 352,
   "metadata": {
    "collapsed": true
   },
   "outputs": [],
   "source": [
    "def collect_n_random_stats(df,n,size):\n",
    "    returns_list = []\n",
    "    for x in range(0,n):\n",
    "        df_out = df.sample(size)\n",
    "        returns_list.append(irr_pool(df_out))   \n",
    "    return [np.average(returns_list)] +[math.sqrt(np.var(returns_list))]"
   ]
  },
  {
   "cell_type": "code",
   "execution_count": null,
   "metadata": {
    "collapsed": true
   },
   "outputs": [],
   "source": [
    "out=collect_n(df_filtered,100,10000000)"
   ]
  },
  {
   "cell_type": "code",
   "execution_count": 347,
   "metadata": {
    "collapsed": true
   },
   "outputs": [],
   "source": [
    "out=collect_n_random(df_filtered,100,1000)"
   ]
  },
  {
   "cell_type": "code",
   "execution_count": 354,
   "metadata": {},
   "outputs": [],
   "source": [
    "out=collect_n_random_stats(df_filtered,100,(1000)"
   ]
  },
  {
   "cell_type": "code",
   "execution_count": 356,
   "metadata": {},
   "outputs": [
    {
     "data": {
      "text/plain": [
       "0.008167044560313372"
      ]
     },
     "execution_count": 356,
     "metadata": {},
     "output_type": "execute_result"
    }
   ],
   "source": []
  },
  {
   "cell_type": "code",
   "execution_count": 349,
   "metadata": {},
   "outputs": [
    {
     "name": "stderr",
     "output_type": "stream",
     "text": [
      "C:\\Users\\james.lee\\AppData\\Local\\Continuum\\anaconda3\\lib\\site-packages\\ipykernel_launcher.py:5: MatplotlibDeprecationWarning: scipy.stats.norm.pdf\n",
      "  \"\"\"\n"
     ]
    },
    {
     "data": {
      "image/png": "[encoded data removed]",
      "text/plain": [
       "<Figure size 432x288 with 1 Axes>"
      ]
     },
     "metadata": {},
     "output_type": "display_data"
    }
   ],
   "source": [
    "mu = np.average(out)\n",
    "variance = np.var(out)\n",
    "sigma = math.sqrt(variance)\n",
    "x = np.linspace(mu - 3*sigma, mu + 3*sigma, 100)\n",
    "plt.plot(x,mlab.normpdf(x, mu, sigma))\n",
    "plt.show()"
   ]
  },
  {
   "cell_type": "code",
   "execution_count": 362,
   "metadata": {},
   "outputs": [
    {
     "ename": "TypeError",
     "evalue": "cannot do label indexing on <class 'pandas.core.indexes.base.Index'> with these indexers [0] of <class 'int'>",
     "output_type": "error",
     "traceback": [
      "\u001b[1;31m---------------------------------------------------------------------------\u001b[0m",
      "\u001b[1;31mTypeError\u001b[0m                                 Traceback (most recent call last)",
      "\u001b[1;32m<ipython-input-362-d9e9a9bbbf46>\u001b[0m in \u001b[0;36m<module>\u001b[1;34m()\u001b[0m\n\u001b[0;32m      1\u001b[0m \u001b[0mdf_group\u001b[0m \u001b[1;33m=\u001b[0m \u001b[0mdf_filtered\u001b[0m\u001b[1;33m.\u001b[0m\u001b[0mgroupby\u001b[0m\u001b[1;33m(\u001b[0m\u001b[1;33m[\u001b[0m\u001b[1;34m'grade'\u001b[0m\u001b[1;33m,\u001b[0m\u001b[1;34m'issue_yr'\u001b[0m\u001b[1;33m]\u001b[0m\u001b[1;33m)\u001b[0m\u001b[1;33m\u001b[0m\u001b[0m\n\u001b[0;32m      2\u001b[0m \u001b[1;31m#df_group.count()\u001b[0m\u001b[1;33m\u001b[0m\u001b[1;33m\u001b[0m\u001b[0m\n\u001b[1;32m----> 3\u001b[1;33m \u001b[0mdf_group_irr\u001b[0m \u001b[1;33m=\u001b[0m \u001b[0mdf_group\u001b[0m\u001b[1;33m.\u001b[0m\u001b[0mapply\u001b[0m\u001b[1;33m(\u001b[0m\u001b[1;32mlambda\u001b[0m \u001b[0mx\u001b[0m\u001b[1;33m:\u001b[0m\u001b[0mcollect_n_random_stats\u001b[0m\u001b[1;33m(\u001b[0m\u001b[0mx\u001b[0m\u001b[1;33m,\u001b[0m\u001b[1;36m10\u001b[0m\u001b[1;33m,\u001b[0m\u001b[0mnp\u001b[0m\u001b[1;33m.\u001b[0m\u001b[0mmin\u001b[0m\u001b[1;33m(\u001b[0m\u001b[1;36m1000\u001b[0m\u001b[1;33m,\u001b[0m \u001b[0mx\u001b[0m\u001b[1;33m.\u001b[0m\u001b[0mcount\u001b[0m\u001b[1;33m(\u001b[0m\u001b[1;33m)\u001b[0m\u001b[1;33m.\u001b[0m\u001b[0mloc\u001b[0m\u001b[1;33m[\u001b[0m\u001b[1;36m0\u001b[0m\u001b[1;33m]\u001b[0m\u001b[1;33m/\u001b[0m\u001b[1;36m10\u001b[0m\u001b[1;33m)\u001b[0m\u001b[1;33m)\u001b[0m\u001b[1;33m)\u001b[0m\u001b[1;33m\u001b[0m\u001b[0m\n\u001b[0m",
      "\u001b[1;32m~\\AppData\\Local\\Continuum\\anaconda3\\lib\\site-packages\\pandas\\core\\groupby.py\u001b[0m in \u001b[0;36mapply\u001b[1;34m(self, func, *args, **kwargs)\u001b[0m\n\u001b[0;32m    714\u001b[0m         \u001b[1;31m# ignore SettingWithCopy here in case the user mutates\u001b[0m\u001b[1;33m\u001b[0m\u001b[1;33m\u001b[0m\u001b[0m\n\u001b[0;32m    715\u001b[0m         \u001b[1;32mwith\u001b[0m \u001b[0moption_context\u001b[0m\u001b[1;33m(\u001b[0m\u001b[1;34m'mode.chained_assignment'\u001b[0m\u001b[1;33m,\u001b[0m \u001b[1;32mNone\u001b[0m\u001b[1;33m)\u001b[0m\u001b[1;33m:\u001b[0m\u001b[1;33m\u001b[0m\u001b[0m\n\u001b[1;32m--> 716\u001b[1;33m             \u001b[1;32mreturn\u001b[0m \u001b[0mself\u001b[0m\u001b[1;33m.\u001b[0m\u001b[0m_python_apply_general\u001b[0m\u001b[1;33m(\u001b[0m\u001b[0mf\u001b[0m\u001b[1;33m)\u001b[0m\u001b[1;33m\u001b[0m\u001b[0m\n\u001b[0m\u001b[0;32m    717\u001b[0m \u001b[1;33m\u001b[0m\u001b[0m\n\u001b[0;32m    718\u001b[0m     \u001b[1;32mdef\u001b[0m \u001b[0m_python_apply_general\u001b[0m\u001b[1;33m(\u001b[0m\u001b[0mself\u001b[0m\u001b[1;33m,\u001b[0m \u001b[0mf\u001b[0m\u001b[1;33m)\u001b[0m\u001b[1;33m:\u001b[0m\u001b[1;33m\u001b[0m\u001b[0m\n",
      "\u001b[1;32m~\\AppData\\Local\\Continuum\\anaconda3\\lib\\site-packages\\pandas\\core\\groupby.py\u001b[0m in \u001b[0;36m_python_apply_general\u001b[1;34m(self, f)\u001b[0m\n\u001b[0;32m    718\u001b[0m     \u001b[1;32mdef\u001b[0m \u001b[0m_python_apply_general\u001b[0m\u001b[1;33m(\u001b[0m\u001b[0mself\u001b[0m\u001b[1;33m,\u001b[0m \u001b[0mf\u001b[0m\u001b[1;33m)\u001b[0m\u001b[1;33m:\u001b[0m\u001b[1;33m\u001b[0m\u001b[0m\n\u001b[0;32m    719\u001b[0m         keys, values, mutated = self.grouper.apply(f, self._selected_obj,\n\u001b[1;32m--> 720\u001b[1;33m                                                    self.axis)\n\u001b[0m\u001b[0;32m    721\u001b[0m \u001b[1;33m\u001b[0m\u001b[0m\n\u001b[0;32m    722\u001b[0m         return self._wrap_applied_output(\n",
      "\u001b[1;32m~\\AppData\\Local\\Continuum\\anaconda3\\lib\\site-packages\\pandas\\core\\groupby.py\u001b[0m in \u001b[0;36mapply\u001b[1;34m(self, f, data, axis)\u001b[0m\n\u001b[0;32m   1800\u001b[0m             \u001b[1;31m# group might be modified\u001b[0m\u001b[1;33m\u001b[0m\u001b[1;33m\u001b[0m\u001b[0m\n\u001b[0;32m   1801\u001b[0m             \u001b[0mgroup_axes\u001b[0m \u001b[1;33m=\u001b[0m \u001b[0m_get_axes\u001b[0m\u001b[1;33m(\u001b[0m\u001b[0mgroup\u001b[0m\u001b[1;33m)\u001b[0m\u001b[1;33m\u001b[0m\u001b[0m\n\u001b[1;32m-> 1802\u001b[1;33m             \u001b[0mres\u001b[0m \u001b[1;33m=\u001b[0m \u001b[0mf\u001b[0m\u001b[1;33m(\u001b[0m\u001b[0mgroup\u001b[0m\u001b[1;33m)\u001b[0m\u001b[1;33m\u001b[0m\u001b[0m\n\u001b[0m\u001b[0;32m   1803\u001b[0m             \u001b[1;32mif\u001b[0m \u001b[1;32mnot\u001b[0m \u001b[0m_is_indexed_like\u001b[0m\u001b[1;33m(\u001b[0m\u001b[0mres\u001b[0m\u001b[1;33m,\u001b[0m \u001b[0mgroup_axes\u001b[0m\u001b[1;33m)\u001b[0m\u001b[1;33m:\u001b[0m\u001b[1;33m\u001b[0m\u001b[0m\n\u001b[0;32m   1804\u001b[0m                 \u001b[0mmutated\u001b[0m \u001b[1;33m=\u001b[0m \u001b[1;32mTrue\u001b[0m\u001b[1;33m\u001b[0m\u001b[0m\n",
      "\u001b[1;32m<ipython-input-362-d9e9a9bbbf46>\u001b[0m in \u001b[0;36m<lambda>\u001b[1;34m(x)\u001b[0m\n\u001b[0;32m      1\u001b[0m \u001b[0mdf_group\u001b[0m \u001b[1;33m=\u001b[0m \u001b[0mdf_filtered\u001b[0m\u001b[1;33m.\u001b[0m\u001b[0mgroupby\u001b[0m\u001b[1;33m(\u001b[0m\u001b[1;33m[\u001b[0m\u001b[1;34m'grade'\u001b[0m\u001b[1;33m,\u001b[0m\u001b[1;34m'issue_yr'\u001b[0m\u001b[1;33m]\u001b[0m\u001b[1;33m)\u001b[0m\u001b[1;33m\u001b[0m\u001b[0m\n\u001b[0;32m      2\u001b[0m \u001b[1;31m#df_group.count()\u001b[0m\u001b[1;33m\u001b[0m\u001b[1;33m\u001b[0m\u001b[0m\n\u001b[1;32m----> 3\u001b[1;33m \u001b[0mdf_group_irr\u001b[0m \u001b[1;33m=\u001b[0m \u001b[0mdf_group\u001b[0m\u001b[1;33m.\u001b[0m\u001b[0mapply\u001b[0m\u001b[1;33m(\u001b[0m\u001b[1;32mlambda\u001b[0m \u001b[0mx\u001b[0m\u001b[1;33m:\u001b[0m\u001b[0mcollect_n_random_stats\u001b[0m\u001b[1;33m(\u001b[0m\u001b[0mx\u001b[0m\u001b[1;33m,\u001b[0m\u001b[1;36m10\u001b[0m\u001b[1;33m,\u001b[0m\u001b[0mnp\u001b[0m\u001b[1;33m.\u001b[0m\u001b[0mmin\u001b[0m\u001b[1;33m(\u001b[0m\u001b[1;36m1000\u001b[0m\u001b[1;33m,\u001b[0m \u001b[0mx\u001b[0m\u001b[1;33m.\u001b[0m\u001b[0mcount\u001b[0m\u001b[1;33m(\u001b[0m\u001b[1;33m)\u001b[0m\u001b[1;33m.\u001b[0m\u001b[0mloc\u001b[0m\u001b[1;33m[\u001b[0m\u001b[1;36m0\u001b[0m\u001b[1;33m]\u001b[0m\u001b[1;33m/\u001b[0m\u001b[1;36m10\u001b[0m\u001b[1;33m)\u001b[0m\u001b[1;33m)\u001b[0m\u001b[1;33m)\u001b[0m\u001b[1;33m\u001b[0m\u001b[0m\n\u001b[0m",
      "\u001b[1;32m~\\AppData\\Local\\Continuum\\anaconda3\\lib\\site-packages\\pandas\\core\\indexing.py\u001b[0m in \u001b[0;36m__getitem__\u001b[1;34m(self, key)\u001b[0m\n\u001b[0;32m   1326\u001b[0m         \u001b[1;32melse\u001b[0m\u001b[1;33m:\u001b[0m\u001b[1;33m\u001b[0m\u001b[0m\n\u001b[0;32m   1327\u001b[0m             \u001b[0mkey\u001b[0m \u001b[1;33m=\u001b[0m \u001b[0mcom\u001b[0m\u001b[1;33m.\u001b[0m\u001b[0m_apply_if_callable\u001b[0m\u001b[1;33m(\u001b[0m\u001b[0mkey\u001b[0m\u001b[1;33m,\u001b[0m \u001b[0mself\u001b[0m\u001b[1;33m.\u001b[0m\u001b[0mobj\u001b[0m\u001b[1;33m)\u001b[0m\u001b[1;33m\u001b[0m\u001b[0m\n\u001b[1;32m-> 1328\u001b[1;33m             \u001b[1;32mreturn\u001b[0m \u001b[0mself\u001b[0m\u001b[1;33m.\u001b[0m\u001b[0m_getitem_axis\u001b[0m\u001b[1;33m(\u001b[0m\u001b[0mkey\u001b[0m\u001b[1;33m,\u001b[0m \u001b[0maxis\u001b[0m\u001b[1;33m=\u001b[0m\u001b[1;36m0\u001b[0m\u001b[1;33m)\u001b[0m\u001b[1;33m\u001b[0m\u001b[0m\n\u001b[0m\u001b[0;32m   1329\u001b[0m \u001b[1;33m\u001b[0m\u001b[0m\n\u001b[0;32m   1330\u001b[0m     \u001b[1;32mdef\u001b[0m \u001b[0m_is_scalar_access\u001b[0m\u001b[1;33m(\u001b[0m\u001b[0mself\u001b[0m\u001b[1;33m,\u001b[0m \u001b[0mkey\u001b[0m\u001b[1;33m)\u001b[0m\u001b[1;33m:\u001b[0m\u001b[1;33m\u001b[0m\u001b[0m\n",
      "\u001b[1;32m~\\AppData\\Local\\Continuum\\anaconda3\\lib\\site-packages\\pandas\\core\\indexing.py\u001b[0m in \u001b[0;36m_getitem_axis\u001b[1;34m(self, key, axis)\u001b[0m\n\u001b[0;32m   1549\u001b[0m \u001b[1;33m\u001b[0m\u001b[0m\n\u001b[0;32m   1550\u001b[0m         \u001b[1;31m# fall thru to straight lookup\u001b[0m\u001b[1;33m\u001b[0m\u001b[1;33m\u001b[0m\u001b[0m\n\u001b[1;32m-> 1551\u001b[1;33m         \u001b[0mself\u001b[0m\u001b[1;33m.\u001b[0m\u001b[0m_has_valid_type\u001b[0m\u001b[1;33m(\u001b[0m\u001b[0mkey\u001b[0m\u001b[1;33m,\u001b[0m \u001b[0maxis\u001b[0m\u001b[1;33m)\u001b[0m\u001b[1;33m\u001b[0m\u001b[0m\n\u001b[0m\u001b[0;32m   1552\u001b[0m         \u001b[1;32mreturn\u001b[0m \u001b[0mself\u001b[0m\u001b[1;33m.\u001b[0m\u001b[0m_get_label\u001b[0m\u001b[1;33m(\u001b[0m\u001b[0mkey\u001b[0m\u001b[1;33m,\u001b[0m \u001b[0maxis\u001b[0m\u001b[1;33m=\u001b[0m\u001b[0maxis\u001b[0m\u001b[1;33m)\u001b[0m\u001b[1;33m\u001b[0m\u001b[0m\n\u001b[0;32m   1553\u001b[0m \u001b[1;33m\u001b[0m\u001b[0m\n",
      "\u001b[1;32m~\\AppData\\Local\\Continuum\\anaconda3\\lib\\site-packages\\pandas\\core\\indexing.py\u001b[0m in \u001b[0;36m_has_valid_type\u001b[1;34m(self, key, axis)\u001b[0m\n\u001b[0;32m   1430\u001b[0m \u001b[1;33m\u001b[0m\u001b[0m\n\u001b[0;32m   1431\u001b[0m             \u001b[1;32mtry\u001b[0m\u001b[1;33m:\u001b[0m\u001b[1;33m\u001b[0m\u001b[0m\n\u001b[1;32m-> 1432\u001b[1;33m                 \u001b[0mkey\u001b[0m \u001b[1;33m=\u001b[0m \u001b[0mself\u001b[0m\u001b[1;33m.\u001b[0m\u001b[0m_convert_scalar_indexer\u001b[0m\u001b[1;33m(\u001b[0m\u001b[0mkey\u001b[0m\u001b[1;33m,\u001b[0m \u001b[0maxis\u001b[0m\u001b[1;33m)\u001b[0m\u001b[1;33m\u001b[0m\u001b[0m\n\u001b[0m\u001b[0;32m   1433\u001b[0m                 \u001b[1;32mif\u001b[0m \u001b[1;32mnot\u001b[0m \u001b[0max\u001b[0m\u001b[1;33m.\u001b[0m\u001b[0mcontains\u001b[0m\u001b[1;33m(\u001b[0m\u001b[0mkey\u001b[0m\u001b[1;33m)\u001b[0m\u001b[1;33m:\u001b[0m\u001b[1;33m\u001b[0m\u001b[0m\n\u001b[0;32m   1434\u001b[0m                     \u001b[0merror\u001b[0m\u001b[1;33m(\u001b[0m\u001b[1;33m)\u001b[0m\u001b[1;33m\u001b[0m\u001b[0m\n",
      "\u001b[1;32m~\\AppData\\Local\\Continuum\\anaconda3\\lib\\site-packages\\pandas\\core\\indexing.py\u001b[0m in \u001b[0;36m_convert_scalar_indexer\u001b[1;34m(self, key, axis)\u001b[0m\n\u001b[0;32m    234\u001b[0m         \u001b[0max\u001b[0m \u001b[1;33m=\u001b[0m \u001b[0mself\u001b[0m\u001b[1;33m.\u001b[0m\u001b[0mobj\u001b[0m\u001b[1;33m.\u001b[0m\u001b[0m_get_axis\u001b[0m\u001b[1;33m(\u001b[0m\u001b[0mmin\u001b[0m\u001b[1;33m(\u001b[0m\u001b[0maxis\u001b[0m\u001b[1;33m,\u001b[0m \u001b[0mself\u001b[0m\u001b[1;33m.\u001b[0m\u001b[0mndim\u001b[0m \u001b[1;33m-\u001b[0m \u001b[1;36m1\u001b[0m\u001b[1;33m)\u001b[0m\u001b[1;33m)\u001b[0m\u001b[1;33m\u001b[0m\u001b[0m\n\u001b[0;32m    235\u001b[0m         \u001b[1;31m# a scalar\u001b[0m\u001b[1;33m\u001b[0m\u001b[1;33m\u001b[0m\u001b[0m\n\u001b[1;32m--> 236\u001b[1;33m         \u001b[1;32mreturn\u001b[0m \u001b[0max\u001b[0m\u001b[1;33m.\u001b[0m\u001b[0m_convert_scalar_indexer\u001b[0m\u001b[1;33m(\u001b[0m\u001b[0mkey\u001b[0m\u001b[1;33m,\u001b[0m \u001b[0mkind\u001b[0m\u001b[1;33m=\u001b[0m\u001b[0mself\u001b[0m\u001b[1;33m.\u001b[0m\u001b[0mname\u001b[0m\u001b[1;33m)\u001b[0m\u001b[1;33m\u001b[0m\u001b[0m\n\u001b[0m\u001b[0;32m    237\u001b[0m \u001b[1;33m\u001b[0m\u001b[0m\n\u001b[0;32m    238\u001b[0m     \u001b[1;32mdef\u001b[0m \u001b[0m_convert_slice_indexer\u001b[0m\u001b[1;33m(\u001b[0m\u001b[0mself\u001b[0m\u001b[1;33m,\u001b[0m \u001b[0mkey\u001b[0m\u001b[1;33m,\u001b[0m \u001b[0maxis\u001b[0m\u001b[1;33m)\u001b[0m\u001b[1;33m:\u001b[0m\u001b[1;33m\u001b[0m\u001b[0m\n",
      "\u001b[1;32m~\\AppData\\Local\\Continuum\\anaconda3\\lib\\site-packages\\pandas\\core\\indexes\\base.py\u001b[0m in \u001b[0;36m_convert_scalar_indexer\u001b[1;34m(self, key, kind)\u001b[0m\n\u001b[0;32m   1333\u001b[0m             \u001b[1;32melif\u001b[0m \u001b[0mkind\u001b[0m \u001b[1;32min\u001b[0m \u001b[1;33m[\u001b[0m\u001b[1;34m'loc'\u001b[0m\u001b[1;33m]\u001b[0m \u001b[1;32mand\u001b[0m \u001b[0mis_integer\u001b[0m\u001b[1;33m(\u001b[0m\u001b[0mkey\u001b[0m\u001b[1;33m)\u001b[0m\u001b[1;33m:\u001b[0m\u001b[1;33m\u001b[0m\u001b[0m\n\u001b[0;32m   1334\u001b[0m                 \u001b[1;32mif\u001b[0m \u001b[1;32mnot\u001b[0m \u001b[0mself\u001b[0m\u001b[1;33m.\u001b[0m\u001b[0mholds_integer\u001b[0m\u001b[1;33m(\u001b[0m\u001b[1;33m)\u001b[0m\u001b[1;33m:\u001b[0m\u001b[1;33m\u001b[0m\u001b[0m\n\u001b[1;32m-> 1335\u001b[1;33m                     \u001b[1;32mreturn\u001b[0m \u001b[0mself\u001b[0m\u001b[1;33m.\u001b[0m\u001b[0m_invalid_indexer\u001b[0m\u001b[1;33m(\u001b[0m\u001b[1;34m'label'\u001b[0m\u001b[1;33m,\u001b[0m \u001b[0mkey\u001b[0m\u001b[1;33m)\u001b[0m\u001b[1;33m\u001b[0m\u001b[0m\n\u001b[0m\u001b[0;32m   1336\u001b[0m \u001b[1;33m\u001b[0m\u001b[0m\n\u001b[0;32m   1337\u001b[0m         \u001b[1;32mreturn\u001b[0m \u001b[0mkey\u001b[0m\u001b[1;33m\u001b[0m\u001b[0m\n",
      "\u001b[1;32m~\\AppData\\Local\\Continuum\\anaconda3\\lib\\site-packages\\pandas\\core\\indexes\\base.py\u001b[0m in \u001b[0;36m_invalid_indexer\u001b[1;34m(self, form, key)\u001b[0m\n\u001b[0;32m   1517\u001b[0m                         \"indexers [{key}] of {kind}\".format(\n\u001b[0;32m   1518\u001b[0m                             \u001b[0mform\u001b[0m\u001b[1;33m=\u001b[0m\u001b[0mform\u001b[0m\u001b[1;33m,\u001b[0m \u001b[0mklass\u001b[0m\u001b[1;33m=\u001b[0m\u001b[0mtype\u001b[0m\u001b[1;33m(\u001b[0m\u001b[0mself\u001b[0m\u001b[1;33m)\u001b[0m\u001b[1;33m,\u001b[0m \u001b[0mkey\u001b[0m\u001b[1;33m=\u001b[0m\u001b[0mkey\u001b[0m\u001b[1;33m,\u001b[0m\u001b[1;33m\u001b[0m\u001b[0m\n\u001b[1;32m-> 1519\u001b[1;33m                             kind=type(key)))\n\u001b[0m\u001b[0;32m   1520\u001b[0m \u001b[1;33m\u001b[0m\u001b[0m\n\u001b[0;32m   1521\u001b[0m     \u001b[1;32mdef\u001b[0m \u001b[0mget_duplicates\u001b[0m\u001b[1;33m(\u001b[0m\u001b[0mself\u001b[0m\u001b[1;33m)\u001b[0m\u001b[1;33m:\u001b[0m\u001b[1;33m\u001b[0m\u001b[0m\n",
      "\u001b[1;31mTypeError\u001b[0m: cannot do label indexing on <class 'pandas.core.indexes.base.Index'> with these indexers [0] of <class 'int'>"
     ]
    }
   ],
   "source": [
    "df_group = df_filtered.groupby(['grade','issue_yr'])\n",
    "#df_group.count()\n",
    "df_group_irr = df_group.apply(lambda x:collect_n_random_stats(x,10,np.min(1000, x.count().loc[0]/10)))"
   ]
  },
  {
   "cell_type": "code",
   "execution_count": 401,
   "metadata": {},
   "outputs": [
    {
     "data": {
      "image/png": "[encoded data removed]",
      "text/plain": [
       "<Figure size 432x288 with 1 Axes>"
      ]
     },
     "metadata": {},
     "output_type": "display_data"
    }
   ],
   "source": [
    "####Confidence Intervals on IRR of overall market\n",
    "df_conf_int = df_filtered.groupby(['issue_yr'])['irr'].describe()\n",
    "# example data\n",
    "x = df_conf_int.index\n",
    "y = df_conf_int.mean\n",
    "yerr = df_conf_int.std\n",
    "\n",
    "fig, ax = plt.subplots()\n",
    "ax.errorbar(x, y, xerr=0.2, yerr=0.4)\n",
    "plt.show()\n",
    "\n",
    "\n",
    "\n",
    "\n",
    "\n",
    "\n"
   ]
  },
  {
   "cell_type": "code",
   "execution_count": null,
   "metadata": {
    "collapsed": true
   },
   "outputs": [],
   "source": [
    "### Seems that recoveries are part of a total payment"
   ]
  },
  {
   "cell_type": "code",
   "execution_count": 140,
   "metadata": {},
   "outputs": [
    {
     "data": {
      "text/plain": [
       "1516.3800000000001"
      ]
     },
     "execution_count": 140,
     "metadata": {},
     "output_type": "execute_result"
    }
   ],
   "source": [
    "x=df_filtered.loc[df_filtered['irr'].argmax()]\n",
    "initial_invest = -x['funded_amnt']\n",
    "avg_payment = x['avg_pymnt']\n",
    "num_payments = int(x['mo_diff'])-1    \n",
    "fully_paid = x['loan_status_flag']\n",
    "recovery = x['recoveries']\n",
    "chargeoff_fee = -x['collection_recovery_fee']\n",
    "x['total_pymnt']\n",
    "x['recoveries']"
   ]
  },
  {
   "cell_type": "code",
   "execution_count": null,
   "metadata": {
    "collapsed": true
   },
   "outputs": [],
   "source": [
    "###appendix\n",
    "\n",
    "##limitation of individual IRR"
   ]
  }
 ],
 "metadata": {
  "kernelspec": {
   "display_name": "Python 3",
   "language": "python",
   "name": "python3"
  },
  "language_info": {
   "codemirror_mode": {
    "name": "ipython",
    "version": 3
   },
   "file_extension": ".py",
   "mimetype": "text/x-python",
   "name": "python",
   "nbconvert_exporter": "python",
   "pygments_lexer": "ipython3",
   "version": "3.6.3"
  }
 },
 "nbformat": 4,
 "nbformat_minor": 2
}
