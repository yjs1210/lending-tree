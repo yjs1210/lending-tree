{
 "cells": [
  {
   "cell_type": "code",
   "execution_count": 14,
   "metadata": {},
   "outputs": [],
   "source": [
    "import pandas as pd"
   ]
  },
  {
   "cell_type": "code",
   "execution_count": 3,
   "metadata": {
    "collapsed": true,
    "scrolled": false
   },
   "outputs": [],
   "source": [
    "df = pd.read_csv('./data/loan.csv', low_memory=False)"
   ]
  },
  {
   "cell_type": "code",
   "execution_count": 26,
   "metadata": {
    "scrolled": true
   },
   "outputs": [
    {
     "data": {
      "text/plain": [
       "['id',\n",
       " 'member_id',\n",
       " 'loan_amnt',\n",
       " 'funded_amnt',\n",
       " 'funded_amnt_inv',\n",
       " 'term',\n",
       " 'int_rate',\n",
       " 'installment',\n",
       " 'grade',\n",
       " 'sub_grade',\n",
       " 'emp_title',\n",
       " 'emp_length',\n",
       " 'home_ownership',\n",
       " 'annual_inc',\n",
       " 'verification_status',\n",
       " 'issue_d',\n",
       " 'loan_status',\n",
       " 'pymnt_plan',\n",
       " 'url',\n",
       " 'desc',\n",
       " 'purpose',\n",
       " 'title',\n",
       " 'zip_code',\n",
       " 'addr_state',\n",
       " 'dti',\n",
       " 'delinq_2yrs',\n",
       " 'earliest_cr_line',\n",
       " 'inq_last_6mths',\n",
       " 'mths_since_last_delinq',\n",
       " 'mths_since_last_record',\n",
       " 'open_acc',\n",
       " 'pub_rec',\n",
       " 'revol_bal',\n",
       " 'revol_util',\n",
       " 'total_acc',\n",
       " 'initial_list_status',\n",
       " 'out_prncp',\n",
       " 'out_prncp_inv',\n",
       " 'total_pymnt',\n",
       " 'total_pymnt_inv',\n",
       " 'total_rec_prncp',\n",
       " 'total_rec_int',\n",
       " 'total_rec_late_fee',\n",
       " 'recoveries',\n",
       " 'collection_recovery_fee',\n",
       " 'last_pymnt_d',\n",
       " 'last_pymnt_amnt',\n",
       " 'next_pymnt_d',\n",
       " 'last_credit_pull_d',\n",
       " 'collections_12_mths_ex_med',\n",
       " 'mths_since_last_major_derog',\n",
       " 'policy_code',\n",
       " 'application_type',\n",
       " 'annual_inc_joint',\n",
       " 'dti_joint',\n",
       " 'verification_status_joint',\n",
       " 'acc_now_delinq',\n",
       " 'tot_coll_amt',\n",
       " 'tot_cur_bal',\n",
       " 'open_acc_6m',\n",
       " 'open_il_6m',\n",
       " 'open_il_12m',\n",
       " 'open_il_24m',\n",
       " 'mths_since_rcnt_il',\n",
       " 'total_bal_il',\n",
       " 'il_util',\n",
       " 'open_rv_12m',\n",
       " 'open_rv_24m',\n",
       " 'max_bal_bc',\n",
       " 'all_util',\n",
       " 'total_rev_hi_lim',\n",
       " 'inq_fi',\n",
       " 'total_cu_tl',\n",
       " 'inq_last_12m']"
      ]
     },
     "execution_count": 26,
     "metadata": {},
     "output_type": "execute_result"
    }
   ],
   "source": [
    "list(df)"
   ]
  },
  {
   "cell_type": "code",
   "execution_count": 27,
   "metadata": {
    "scrolled": false
   },
   "outputs": [
    {
     "data": {
      "text/plain": [
       "id                                                                       1077501\n",
       "member_id                                                                1296599\n",
       "loan_amnt                                                                   5000\n",
       "funded_amnt                                                                 5000\n",
       "funded_amnt_inv                                                             4975\n",
       "term                                                                   36 months\n",
       "int_rate                                                                   10.65\n",
       "installment                                                               162.87\n",
       "grade                                                                          B\n",
       "sub_grade                                                                     B2\n",
       "emp_title                                                                    NaN\n",
       "emp_length                                                             10+ years\n",
       "home_ownership                                                              RENT\n",
       "annual_inc                                                                 24000\n",
       "verification_status                                                     Verified\n",
       "issue_d                                                                 Dec-2011\n",
       "loan_status                                                           Fully Paid\n",
       "pymnt_plan                                                                     n\n",
       "url                            https://www.lendingclub.com/browse/loanDetail....\n",
       "desc                             Borrower added on 12/22/11 > I need to upgra...\n",
       "purpose                                                              credit_card\n",
       "title                                                                   Computer\n",
       "zip_code                                                                   860xx\n",
       "addr_state                                                                    AZ\n",
       "dti                                                                        27.65\n",
       "delinq_2yrs                                                                    0\n",
       "earliest_cr_line                                                        Jan-1985\n",
       "inq_last_6mths                                                                 1\n",
       "mths_since_last_delinq                                                       NaN\n",
       "mths_since_last_record                                                       NaN\n",
       "                                                     ...                        \n",
       "collection_recovery_fee                                                        0\n",
       "last_pymnt_d                                                            Jan-2015\n",
       "last_pymnt_amnt                                                           171.62\n",
       "next_pymnt_d                                                                 NaN\n",
       "last_credit_pull_d                                                      Jan-2016\n",
       "collections_12_mths_ex_med                                                     0\n",
       "mths_since_last_major_derog                                                  NaN\n",
       "policy_code                                                                    1\n",
       "application_type                                                      INDIVIDUAL\n",
       "annual_inc_joint                                                             NaN\n",
       "dti_joint                                                                    NaN\n",
       "verification_status_joint                                                    NaN\n",
       "acc_now_delinq                                                                 0\n",
       "tot_coll_amt                                                                 NaN\n",
       "tot_cur_bal                                                                  NaN\n",
       "open_acc_6m                                                                  NaN\n",
       "open_il_6m                                                                   NaN\n",
       "open_il_12m                                                                  NaN\n",
       "open_il_24m                                                                  NaN\n",
       "mths_since_rcnt_il                                                           NaN\n",
       "total_bal_il                                                                 NaN\n",
       "il_util                                                                      NaN\n",
       "open_rv_12m                                                                  NaN\n",
       "open_rv_24m                                                                  NaN\n",
       "max_bal_bc                                                                   NaN\n",
       "all_util                                                                     NaN\n",
       "total_rev_hi_lim                                                             NaN\n",
       "inq_fi                                                                       NaN\n",
       "total_cu_tl                                                                  NaN\n",
       "inq_last_12m                                                                 NaN\n",
       "Name: 0, Length: 74, dtype: object"
      ]
     },
     "execution_count": 27,
     "metadata": {},
     "output_type": "execute_result"
    }
   ],
   "source": [
    "df.iloc[0]"
   ]
  },
  {
   "cell_type": "code",
   "execution_count": null,
   "metadata": {
    "collapsed": true
   },
   "outputs": [],
   "source": []
  },
  {
   "cell_type": "code",
   "execution_count": null,
   "metadata": {
    "collapsed": true
   },
   "outputs": [],
   "source": []
  },
  {
   "cell_type": "markdown",
   "metadata": {},
   "source": [
    "# Data Assumptions & Discussions"
   ]
  },
  {
   "cell_type": "markdown",
   "metadata": {},
   "source": [
    "1. Funded Amount vs Funded Amount Inv: Where there are differences, lending tree stepped in to make up for the differences between loan amount and funed amount invested by investors. We will go ahead and use funded amount as a basis for all our analysis.\n",
    "2. "
   ]
  },
  {
   "cell_type": "markdown",
   "metadata": {},
   "source": [
    "# Exploratory Analysis"
   ]
  },
  {
   "cell_type": "markdown",
   "metadata": {},
   "source": []
  },
  {
   "cell_type": "code",
   "execution_count": null,
   "metadata": {
    "collapsed": true
   },
   "outputs": [],
   "source": []
  },
  {
   "cell_type": "code",
   "execution_count": null,
   "metadata": {
    "collapsed": true
   },
   "outputs": [],
   "source": []
  },
  {
   "cell_type": "code",
   "execution_count": null,
   "metadata": {
    "collapsed": true
   },
   "outputs": [],
   "source": []
  }
 ],
 "metadata": {
  "kernelspec": {
   "display_name": "Python 3",
   "language": "python",
   "name": "python3"
  },
  "language_info": {
   "codemirror_mode": {
    "name": "ipython",
    "version": 3
   },
   "file_extension": ".py",
   "mimetype": "text/x-python",
   "name": "python",
   "nbconvert_exporter": "python",
   "pygments_lexer": "ipython3",
   "version": "3.6.3"
  }
 },
 "nbformat": 4,
 "nbformat_minor": 2
}
