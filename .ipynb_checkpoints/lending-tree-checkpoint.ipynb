{
 "cells": [
  {
   "cell_type": "raw",
   "metadata": {},
   "source": [
    "<script>\n",
    "  function code_toggle() {\n",
    "    if (code_shown){\n",
    "      $('div.input').hide('500');\n",
    "      $('#toggleButton').val('Show Code')\n",
    "    } else {\n",
    "      $('div.input').show('500');\n",
    "      $('#toggleButton').val('Hide Code')\n",
    "    }\n",
    "    code_shown = !code_shown\n",
    "  }\n",
    "\n",
    "  $( document ).ready(function(){\n",
    "    code_shown=false;\n",
    "    $('div.input').hide()\n",
    "  });\n",
    "</script>\n",
    "<form action=\"javascript:code_toggle()\">\n",
    "  <input type=\"submit\" id=\"toggleButton\" value=\"Show Code\">\n",
    "</form>"
   ]
  },
  {
   "cell_type": "markdown",
   "metadata": {},
   "source": [
    "# Lending Club Loan Data Analysis and Predictive Modeling"
   ]
  },
  {
   "cell_type": "markdown",
   "metadata": {
    "collapsed": true,
    "heading_collapsed": true
   },
   "source": [
    "## Summary"
   ]
  },
  {
   "cell_type": "markdown",
   "metadata": {
    "hidden": true
   },
   "source": [
    "We approach this analysis from a perspective of an accredited or institutional investors, whose interests are maximizing risk-adjusted returns. Exploratory data analysis reveals that the market is growing at a healthy clip which is a positive factor for these investors who have liquidity needs. We also see that at an individual security level, these loans are highly volatile- making it a bad risk-adjusted investment without proper diversification. Constructing a portfolio of loans showed that an investor can effectively diversify out the risk from the default rate.\n",
    "\n",
    "We then explore how we can generate alpha in our loan seletion criteria. We split our data into training and test sets, and build a prediction model, a simple approach using linear regression. Collecting top 1000 from our model's prediction in a test set dramatically outperformed 1000 randomly selected loans by as much as 5.6% in IRR. This was a suprising result given our R2 of the model was very low. However, that is understandable since return distribution in this asset class is very polarized. Any modeling that yields a point estimate is going to perform badly on paper since the real data will either overshoot(fully paid) or undershoot(default) but when you spread out the defaut rate, on average, our model fared well in extracting useful information out of the features.\n",
    "\n",
    "We acknowledge that our model can have a look ahead bias, training our model using data that we would other wise not have at the time. I recommend considering a buy-hold-sell strategy leveraging the marketplace. This way, we can use data for example, 6 months and older to build a model for 6 month holding strategy. I also recommend exploring more rigorous forecasting methods,d improving the code so it can scale better with growing market data and implementing unit testing."
   ]
  },
  {
   "cell_type": "markdown",
   "metadata": {
    "heading_collapsed": true
   },
   "source": [
    "## Data Cleaning & Environment Set Up"
   ]
  },
  {
   "cell_type": "markdown",
   "metadata": {
    "hidden": true
   },
   "source": [
    "### Packages & Data Loading"
   ]
  },
  {
   "cell_type": "code",
   "execution_count": 208,
   "metadata": {
    "code_folding": [],
    "hidden": true,
    "scrolled": true
   },
   "outputs": [],
   "source": [
    "###Packages\n",
    "import pandas as pd\n",
    "import numpy as np\n",
    "import matplotlib.pyplot as plt\n",
    "import matplotlib.mlab as mlab\n",
    "from IPython.display import Image\n",
    "from IPython.core.display import HTML\n",
    "import datetime\n",
    "import math\n",
    "import scipy.optimize as optimize\n",
    "import statistics\n",
    "from sklearn.linear_model import LinearRegression\n",
    "import statsmodels.api as sm\n",
    "from statsmodels.formula.api import ols\n",
    "from statsmodels.stats.anova import anova_lm\n",
    "from scipy import stats\n",
    "import scipy\n",
    "import warnings\n",
    "from scipy.stats import norm\n",
    "warnings.filterwarnings('ignore')\n",
    "plt.style.use('ggplot')"
   ]
  },
  {
   "cell_type": "code",
   "execution_count": null,
   "metadata": {
    "code_folding": [],
    "collapsed": true,
    "hidden": true,
    "scrolled": false
   },
   "outputs": [],
   "source": [
    "### data loading \n",
    "df = pd.read_csv('./data/loan.csv', low_memory=False)"
   ]
  },
  {
   "cell_type": "markdown",
   "metadata": {
    "hidden": true
   },
   "source": [
    "### Data Processing & Manipulation"
   ]
  },
  {
   "cell_type": "code",
   "execution_count": null,
   "metadata": {
    "code_folding": [],
    "collapsed": true,
    "hidden": true,
    "scrolled": false
   },
   "outputs": [],
   "source": [
    "###changing data type to appropriate date type \n",
    "df['last_pymnt_d']=pd.to_datetime(df.last_pymnt_d)\n",
    "df['issue_d']=pd.to_datetime(df.issue_d)"
   ]
  },
  {
   "cell_type": "code",
   "execution_count": null,
   "metadata": {
    "code_folding": [],
    "collapsed": true,
    "hidden": true,
    "scrolled": false
   },
   "outputs": [],
   "source": [
    "###fill missing last_payments(no payments) with issue date, may want a separete column for this treatment\n",
    "###This is for calculation of IRRs later\n",
    "df['last_pymnt_d'].fillna(df.issue_d,inplace=True)"
   ]
  },
  {
   "cell_type": "code",
   "execution_count": null,
   "metadata": {
    "code_folding": [],
    "collapsed": true,
    "hidden": true,
    "scrolled": false
   },
   "outputs": [],
   "source": [
    "###Some pre-processing for ease of calculations\n",
    "df['issue_yr'] = df.issue_d.dt.year\n",
    "df['issue_mo']= df.issue_d.dt.month\n",
    "df['last_pymnt_yr'] = df.last_pymnt_d.dt.year\n",
    "df['last_pymnt_mo']= df.last_pymnt_d.dt.month\n",
    "df['mo_diff'] = pd.to_numeric((df['last_pymnt_yr'] - \n",
    "                          df['issue_yr'])*12 + df['last_pymnt_mo'] -df['issue_mo'])"
   ]
  },
  {
   "cell_type": "code",
   "execution_count": null,
   "metadata": {
    "collapsed": true,
    "hidden": true,
    "scrolled": false
   },
   "outputs": [],
   "source": [
    "###Flag for completed loans\n",
    "searchfor = ['Fully Paid', 'Charged Off', 'Default']\n",
    "defaults = ['Charged Off', 'Default']\n",
    "df['loan_completion_flag']=  np.where(df['loan_status'].str.contains('|'.join(searchfor)) ,1, np.nan)\n",
    "###Flag for fully paid loans\n",
    "df['fully_paid'] = np.where(df['loan_status'].str.contains('Fully Paid') ,1, \n",
    "                                  np.where(df['loan_status'].str.contains('|'.join(defaults)) ,0,np.nan))\n"
   ]
  },
  {
   "cell_type": "code",
   "execution_count": null,
   "metadata": {
    "hidden": true,
    "scrolled": false
   },
   "outputs": [],
   "source": [
    "###Example output of above manipulation\n",
    "df.head()[['loan_status','loan_completion_flag','fully_paid']]"
   ]
  },
  {
   "cell_type": "markdown",
   "metadata": {},
   "source": [
    "## Exploratory Data Analysis"
   ]
  },
  {
   "cell_type": "markdown",
   "metadata": {},
   "source": [
    "### Calculations & Assumptions"
   ]
  },
  {
   "cell_type": "markdown",
   "metadata": {},
   "source": [
    "We calculate the return of a loan by looking at the IRR of its cash flows. We make an assumption that (total payment - recoveries - last payment) are spread evenly across the life of the loan(last payment - issue date) -1 month. We net out the last payment to account for edge cases such as when a lender prepays with a big lump sum. We should not be discounting these cash flows earlier than they occur. \n",
    "\n",
    "For most loans, this treatment is almost identical to installment payments. We then add back in the last payment amount. For recoveries, we make an assumption that it will take on average rest of the maturity of the loan + 1 year to recover. So any recovery and recovery collection fees are spread across the remaining duration of 36 month life of the loan plus additional 12 months. We give heavier penalties to loans that default earlier essentially. We, then calculate the IRR of these series of cashflows. \n",
    "\n",
    "Ideally, we can pin point exactly when each payment is made, but this is not an option we have with our data. So we leverage any information that we can use to get to a close of an approximation as possible. "
   ]
  },
  {
   "cell_type": "code",
   "execution_count": null,
   "metadata": {
    "collapsed": true,
    "scrolled": false
   },
   "outputs": [],
   "source": [
    "###Average payment = Total payment - recoveries - last payment amount over the life -1 month of the investment\n",
    "df['avg_pymnt'] = (df['total_pymnt']-df['recoveries']-df['last_pymnt_amnt'])/(np.maximum((df['mo_diff']-1),0))\n",
    "###Treating infinites that appear when there is no payment or only 1 payment \n",
    "df['avg_pymnt'] = (df['avg_pymnt']).replace(np.Inf,0)\n",
    "df['avg_pymnt'] = (df['avg_pymnt']).replace(-np.Inf,0)"
   ]
  },
  {
   "cell_type": "code",
   "execution_count": null,
   "metadata": {
    "code_folding": [],
    "collapsed": true,
    "scrolled": false
   },
   "outputs": [],
   "source": [
    "###IRR calculations\n",
    "###Input: a row of a dataframe with lending data \n",
    "def irr_calc(x):  \n",
    "    ##varible initialization\n",
    "    initial_invest = -x['funded_amnt']\n",
    "    avg_payment = x['avg_pymnt']\n",
    "    num_payments = np.max(int(x['mo_diff'])-1,0)\n",
    "    recovery = x['recoveries'] -x['collection_recovery_fee']\n",
    "    recovery_duration = np.maximum(36 - num_payments + 1 + 12,12)\n",
    "    avg_recovery = recovery/recovery_duration\n",
    "    last_payment_amount = x['last_pymnt_amnt']\n",
    "    ###IRR calculation, input: series of cash flows, total payment - recoveries\n",
    "    ###evenly divided and spread across the life of the loan and finally recovery and chargeoff fees\n",
    "    return ((np.irr([initial_invest]+[avg_payment]*num_payments + [last_payment_amount] +\n",
    "                    [avg_recovery]*recovery_duration)+1)**12-1)"
   ]
  },
  {
   "cell_type": "code",
   "execution_count": null,
   "metadata": {
    "code_folding": [],
    "collapsed": true,
    "scrolled": false
   },
   "outputs": [],
   "source": [
    "###Calculating at a row level, individual security IRRs. Method will be faulty for loans that didn't mature.\n",
    "###Warning: the calculation takes a fair amount of time ~few minutes\n",
    "df['irr']=df.apply(irr_calc, axis=1)"
   ]
  },
  {
   "cell_type": "code",
   "execution_count": null,
   "metadata": {
    "collapsed": true,
    "scrolled": false
   },
   "outputs": [],
   "source": [
    "##NaNs returned from IRRs with 0 payments should be -100% return \n",
    "df['irr']=df['irr'].replace(np.NaN,-1)"
   ]
  },
  {
   "cell_type": "markdown",
   "metadata": {},
   "source": [
    "### Summary Statistics on Overall Market by Year"
   ]
  },
  {
   "cell_type": "code",
   "execution_count": 53,
   "metadata": {
    "scrolled": false
   },
   "outputs": [
    {
     "data": {
      "text/html": [
       "<div>\n",
       "<style>\n",
       "    .dataframe thead tr:only-child th {\n",
       "        text-align: right;\n",
       "    }\n",
       "\n",
       "    .dataframe thead th {\n",
       "        text-align: left;\n",
       "    }\n",
       "\n",
       "    .dataframe tbody tr th {\n",
       "        vertical-align: top;\n",
       "    }\n",
       "</style>\n",
       "<table border=\"1\" class=\"dataframe\">\n",
       "  <thead>\n",
       "    <tr style=\"text-align: right;\">\n",
       "      <th></th>\n",
       "      <th>issue_yr</th>\n",
       "      <th>2007</th>\n",
       "      <th>2008</th>\n",
       "      <th>2009</th>\n",
       "      <th>2010</th>\n",
       "      <th>2011</th>\n",
       "      <th>2012</th>\n",
       "      <th>2013</th>\n",
       "      <th>2014</th>\n",
       "      <th>2015</th>\n",
       "    </tr>\n",
       "  </thead>\n",
       "  <tbody>\n",
       "    <tr>\n",
       "      <th rowspan=\"4\" valign=\"top\">mo_diff</th>\n",
       "      <th>mean</th>\n",
       "      <td>26.308458</td>\n",
       "      <td>26.661931</td>\n",
       "      <td>26.246355</td>\n",
       "      <td>29.661243</td>\n",
       "      <td>29.182174</td>\n",
       "      <td>26.310135</td>\n",
       "      <td>22.436258</td>\n",
       "      <td>15.473382</td>\n",
       "      <td>5.513693</td>\n",
       "    </tr>\n",
       "    <tr>\n",
       "      <th>len</th>\n",
       "      <td>603.000000</td>\n",
       "      <td>2393.000000</td>\n",
       "      <td>5281.000000</td>\n",
       "      <td>12537.000000</td>\n",
       "      <td>21721.000000</td>\n",
       "      <td>53367.000000</td>\n",
       "      <td>134755.000000</td>\n",
       "      <td>235628.000000</td>\n",
       "      <td>421094.000000</td>\n",
       "    </tr>\n",
       "    <tr>\n",
       "      <th>median</th>\n",
       "      <td>33.000000</td>\n",
       "      <td>32.000000</td>\n",
       "      <td>31.000000</td>\n",
       "      <td>32.000000</td>\n",
       "      <td>32.000000</td>\n",
       "      <td>29.000000</td>\n",
       "      <td>25.000000</td>\n",
       "      <td>16.000000</td>\n",
       "      <td>5.000000</td>\n",
       "    </tr>\n",
       "    <tr>\n",
       "      <th>std</th>\n",
       "      <td>11.727996</td>\n",
       "      <td>11.520294</td>\n",
       "      <td>11.445312</td>\n",
       "      <td>14.648194</td>\n",
       "      <td>14.103763</td>\n",
       "      <td>11.360228</td>\n",
       "      <td>8.804633</td>\n",
       "      <td>5.069411</td>\n",
       "      <td>3.435963</td>\n",
       "    </tr>\n",
       "    <tr>\n",
       "      <th rowspan=\"4\" valign=\"top\">funded_amnt</th>\n",
       "      <th>mean</th>\n",
       "      <td>7946.185738</td>\n",
       "      <td>8347.273297</td>\n",
       "      <td>9811.541375</td>\n",
       "      <td>10078.262343</td>\n",
       "      <td>11848.609640</td>\n",
       "      <td>13452.932055</td>\n",
       "      <td>14708.051649</td>\n",
       "      <td>14870.177462</td>\n",
       "      <td>15240.255561</td>\n",
       "    </tr>\n",
       "    <tr>\n",
       "      <th>len</th>\n",
       "      <td>603.000000</td>\n",
       "      <td>2393.000000</td>\n",
       "      <td>5281.000000</td>\n",
       "      <td>12537.000000</td>\n",
       "      <td>21721.000000</td>\n",
       "      <td>53367.000000</td>\n",
       "      <td>134755.000000</td>\n",
       "      <td>235628.000000</td>\n",
       "      <td>421094.000000</td>\n",
       "    </tr>\n",
       "    <tr>\n",
       "      <th>median</th>\n",
       "      <td>6000.000000</td>\n",
       "      <td>7000.000000</td>\n",
       "      <td>8650.000000</td>\n",
       "      <td>9000.000000</td>\n",
       "      <td>10000.000000</td>\n",
       "      <td>12000.000000</td>\n",
       "      <td>13000.000000</td>\n",
       "      <td>13000.000000</td>\n",
       "      <td>14000.000000</td>\n",
       "    </tr>\n",
       "    <tr>\n",
       "      <th>std</th>\n",
       "      <td>5897.897343</td>\n",
       "      <td>5556.902423</td>\n",
       "      <td>5987.161795</td>\n",
       "      <td>6186.399743</td>\n",
       "      <td>7895.098134</td>\n",
       "      <td>8078.326704</td>\n",
       "      <td>8099.065957</td>\n",
       "      <td>8438.330135</td>\n",
       "      <td>8571.313525</td>\n",
       "    </tr>\n",
       "    <tr>\n",
       "      <th rowspan=\"4\" valign=\"top\">fully_paid</th>\n",
       "      <th>mean</th>\n",
       "      <td>0.737977</td>\n",
       "      <td>0.792729</td>\n",
       "      <td>0.863094</td>\n",
       "      <td>0.859938</td>\n",
       "      <td>0.836763</td>\n",
       "      <td>0.836422</td>\n",
       "      <td>0.789705</td>\n",
       "      <td>0.789430</td>\n",
       "      <td>0.879131</td>\n",
       "    </tr>\n",
       "    <tr>\n",
       "      <th>len</th>\n",
       "      <td>603.000000</td>\n",
       "      <td>2393.000000</td>\n",
       "      <td>5281.000000</td>\n",
       "      <td>12537.000000</td>\n",
       "      <td>21721.000000</td>\n",
       "      <td>53367.000000</td>\n",
       "      <td>134755.000000</td>\n",
       "      <td>235628.000000</td>\n",
       "      <td>421094.000000</td>\n",
       "    </tr>\n",
       "    <tr>\n",
       "      <th>median</th>\n",
       "      <td>1.000000</td>\n",
       "      <td>1.000000</td>\n",
       "      <td>1.000000</td>\n",
       "      <td>1.000000</td>\n",
       "      <td>1.000000</td>\n",
       "      <td>1.000000</td>\n",
       "      <td>0.000000</td>\n",
       "      <td>NaN</td>\n",
       "      <td>NaN</td>\n",
       "    </tr>\n",
       "    <tr>\n",
       "      <th>std</th>\n",
       "      <td>0.440100</td>\n",
       "      <td>0.405436</td>\n",
       "      <td>0.343781</td>\n",
       "      <td>0.347065</td>\n",
       "      <td>0.369591</td>\n",
       "      <td>0.369896</td>\n",
       "      <td>0.407521</td>\n",
       "      <td>0.407717</td>\n",
       "      <td>0.325981</td>\n",
       "    </tr>\n",
       "    <tr>\n",
       "      <th rowspan=\"4\" valign=\"top\">irr</th>\n",
       "      <th>mean</th>\n",
       "      <td>-0.031609</td>\n",
       "      <td>-0.003648</td>\n",
       "      <td>0.049158</td>\n",
       "      <td>0.049033</td>\n",
       "      <td>0.040954</td>\n",
       "      <td>0.049310</td>\n",
       "      <td>-0.028577</td>\n",
       "      <td>-0.382607</td>\n",
       "      <td>-0.904201</td>\n",
       "    </tr>\n",
       "    <tr>\n",
       "      <th>len</th>\n",
       "      <td>603.000000</td>\n",
       "      <td>2393.000000</td>\n",
       "      <td>5281.000000</td>\n",
       "      <td>12537.000000</td>\n",
       "      <td>21721.000000</td>\n",
       "      <td>53367.000000</td>\n",
       "      <td>134755.000000</td>\n",
       "      <td>235628.000000</td>\n",
       "      <td>421094.000000</td>\n",
       "    </tr>\n",
       "    <tr>\n",
       "      <th>median</th>\n",
       "      <td>0.107518</td>\n",
       "      <td>0.114199</td>\n",
       "      <td>0.125278</td>\n",
       "      <td>0.112849</td>\n",
       "      <td>0.105541</td>\n",
       "      <td>0.119900</td>\n",
       "      <td>0.048285</td>\n",
       "      <td>-0.465180</td>\n",
       "      <td>-0.996545</td>\n",
       "    </tr>\n",
       "    <tr>\n",
       "      <th>std</th>\n",
       "      <td>0.303864</td>\n",
       "      <td>0.296726</td>\n",
       "      <td>0.244018</td>\n",
       "      <td>0.225909</td>\n",
       "      <td>0.227265</td>\n",
       "      <td>0.225935</td>\n",
       "      <td>0.229724</td>\n",
       "      <td>0.339233</td>\n",
       "      <td>0.261512</td>\n",
       "    </tr>\n",
       "    <tr>\n",
       "      <th rowspan=\"4\" valign=\"top\">int_rate</th>\n",
       "      <th>mean</th>\n",
       "      <td>11.825108</td>\n",
       "      <td>12.061964</td>\n",
       "      <td>12.437247</td>\n",
       "      <td>11.985268</td>\n",
       "      <td>12.223746</td>\n",
       "      <td>13.637676</td>\n",
       "      <td>14.531745</td>\n",
       "      <td>13.771245</td>\n",
       "      <td>12.601731</td>\n",
       "    </tr>\n",
       "    <tr>\n",
       "      <th>len</th>\n",
       "      <td>603.000000</td>\n",
       "      <td>2393.000000</td>\n",
       "      <td>5281.000000</td>\n",
       "      <td>12537.000000</td>\n",
       "      <td>21721.000000</td>\n",
       "      <td>53367.000000</td>\n",
       "      <td>134755.000000</td>\n",
       "      <td>235628.000000</td>\n",
       "      <td>421094.000000</td>\n",
       "    </tr>\n",
       "    <tr>\n",
       "      <th>median</th>\n",
       "      <td>11.540000</td>\n",
       "      <td>11.910000</td>\n",
       "      <td>12.530000</td>\n",
       "      <td>11.860000</td>\n",
       "      <td>11.990000</td>\n",
       "      <td>13.670000</td>\n",
       "      <td>14.330000</td>\n",
       "      <td>13.650000</td>\n",
       "      <td>12.290000</td>\n",
       "    </tr>\n",
       "    <tr>\n",
       "      <th>std</th>\n",
       "      <td>2.730695</td>\n",
       "      <td>2.528280</td>\n",
       "      <td>2.670839</td>\n",
       "      <td>3.487358</td>\n",
       "      <td>4.148980</td>\n",
       "      <td>4.371890</td>\n",
       "      <td>4.437612</td>\n",
       "      <td>4.325532</td>\n",
       "      <td>4.317873</td>\n",
       "    </tr>\n",
       "  </tbody>\n",
       "</table>\n",
       "</div>"
      ],
      "text/plain": [
       "issue_yr                   2007         2008         2009          2010  \\\n",
       "mo_diff     mean      26.308458    26.661931    26.246355     29.661243   \n",
       "            len      603.000000  2393.000000  5281.000000  12537.000000   \n",
       "            median    33.000000    32.000000    31.000000     32.000000   \n",
       "            std       11.727996    11.520294    11.445312     14.648194   \n",
       "funded_amnt mean    7946.185738  8347.273297  9811.541375  10078.262343   \n",
       "            len      603.000000  2393.000000  5281.000000  12537.000000   \n",
       "            median  6000.000000  7000.000000  8650.000000   9000.000000   \n",
       "            std     5897.897343  5556.902423  5987.161795   6186.399743   \n",
       "fully_paid  mean       0.737977     0.792729     0.863094      0.859938   \n",
       "            len      603.000000  2393.000000  5281.000000  12537.000000   \n",
       "            median     1.000000     1.000000     1.000000      1.000000   \n",
       "            std        0.440100     0.405436     0.343781      0.347065   \n",
       "irr         mean      -0.031609    -0.003648     0.049158      0.049033   \n",
       "            len      603.000000  2393.000000  5281.000000  12537.000000   \n",
       "            median     0.107518     0.114199     0.125278      0.112849   \n",
       "            std        0.303864     0.296726     0.244018      0.225909   \n",
       "int_rate    mean      11.825108    12.061964    12.437247     11.985268   \n",
       "            len      603.000000  2393.000000  5281.000000  12537.000000   \n",
       "            median    11.540000    11.910000    12.530000     11.860000   \n",
       "            std        2.730695     2.528280     2.670839      3.487358   \n",
       "\n",
       "issue_yr                    2011          2012           2013           2014  \\\n",
       "mo_diff     mean       29.182174     26.310135      22.436258      15.473382   \n",
       "            len     21721.000000  53367.000000  134755.000000  235628.000000   \n",
       "            median     32.000000     29.000000      25.000000      16.000000   \n",
       "            std        14.103763     11.360228       8.804633       5.069411   \n",
       "funded_amnt mean    11848.609640  13452.932055   14708.051649   14870.177462   \n",
       "            len     21721.000000  53367.000000  134755.000000  235628.000000   \n",
       "            median  10000.000000  12000.000000   13000.000000   13000.000000   \n",
       "            std      7895.098134   8078.326704    8099.065957    8438.330135   \n",
       "fully_paid  mean        0.836763      0.836422       0.789705       0.789430   \n",
       "            len     21721.000000  53367.000000  134755.000000  235628.000000   \n",
       "            median      1.000000      1.000000       0.000000            NaN   \n",
       "            std         0.369591      0.369896       0.407521       0.407717   \n",
       "irr         mean        0.040954      0.049310      -0.028577      -0.382607   \n",
       "            len     21721.000000  53367.000000  134755.000000  235628.000000   \n",
       "            median      0.105541      0.119900       0.048285      -0.465180   \n",
       "            std         0.227265      0.225935       0.229724       0.339233   \n",
       "int_rate    mean       12.223746     13.637676      14.531745      13.771245   \n",
       "            len     21721.000000  53367.000000  134755.000000  235628.000000   \n",
       "            median     11.990000     13.670000      14.330000      13.650000   \n",
       "            std         4.148980      4.371890       4.437612       4.325532   \n",
       "\n",
       "issue_yr                     2015  \n",
       "mo_diff     mean         5.513693  \n",
       "            len     421094.000000  \n",
       "            median       5.000000  \n",
       "            std          3.435963  \n",
       "funded_amnt mean     15240.255561  \n",
       "            len     421094.000000  \n",
       "            median   14000.000000  \n",
       "            std       8571.313525  \n",
       "fully_paid  mean         0.879131  \n",
       "            len     421094.000000  \n",
       "            median            NaN  \n",
       "            std          0.325981  \n",
       "irr         mean        -0.904201  \n",
       "            len     421094.000000  \n",
       "            median      -0.996545  \n",
       "            std          0.261512  \n",
       "int_rate    mean        12.601731  \n",
       "            len     421094.000000  \n",
       "            median      12.290000  \n",
       "            std          4.317873  "
      ]
     },
     "execution_count": 53,
     "metadata": {},
     "output_type": "execute_result"
    }
   ],
   "source": [
    "df_group = df.groupby(['issue_yr'])\n",
    "#df_group.describe(percentiles=[])[['mo_diff','loan_amnt','loan_status_flag','irr','int_rate']].loc[['count','max']]\n",
    "df_group.agg([np.mean, len, statistics.median, np.std])[['mo_diff','funded_amnt','fully_paid','irr','int_rate']].transpose()"
   ]
  },
  {
   "cell_type": "markdown",
   "metadata": {},
   "source": [
    "Few things to note here:\n",
    "    1. Market is growing(number of loans and loan size) at a healthy clip - this is a good thing for institutional investors with liquidity needs.\n",
    "    2. Standard Deviation of the IRRs are huge, likely due to defaults. Any serious investors looking for good risk/reward trade-off should mitigate the risk by pooling lots of loans.\n",
    "    3. 2007-2008 loans have unusually big negative returns accompanied with high default rates(1- fully_paid). This is likely due to market conditions, but there can be other reasons such as inefficient market and initial lack of credible borrowers. However, this may be a good indication that p2p lending maket is not recession proof.\n",
    "    4. We see that recent IRRs are in the negatives because non-defaulting loans haven't matured yet. This limits our training dataset for buy and hold strategy to just loans that are 2012 and older. An interesting follow up would be to look at buy-hold-sell strategy leveraging the note trading platform. We can then incorporate much more recent data into our model."
   ]
  },
  {
   "cell_type": "code",
   "execution_count": null,
   "metadata": {
    "code_folding": [],
    "collapsed": true,
    "scrolled": false
   },
   "outputs": [],
   "source": [
    "####Filter down to completed loans and has at least 36 months of possible history\n",
    "df_filtered = df[df['loan_status'].str.contains('|'.join(searchfor))].query(\"term == ' 36 months' and issue_yr <=2012\").copy()"
   ]
  },
  {
   "cell_type": "markdown",
   "metadata": {},
   "source": [
    "### Distribution of Matured Returns "
   ]
  },
  {
   "cell_type": "code",
   "execution_count": 52,
   "metadata": {
    "code_folding": [],
    "scrolled": true
   },
   "outputs": [
    {
     "data": {
      "image/png": "[encoded data removed]",
      "text/plain": [
       "<matplotlib.figure.Figure at 0x143809e1518>"
      ]
     },
     "metadata": {},
     "output_type": "display_data"
    }
   ],
   "source": [
    "####Histogram of returns\n",
    "plt.hist(df_filtered['irr'],bins=20) \n",
    "plt.xlabel('Return')\n",
    "plt.ylabel('Frequency')\n",
    "plt.title('Return Frequency')\n",
    "plt.show()"
   ]
  },
  {
   "cell_type": "markdown",
   "metadata": {},
   "source": [
    "There are few things to note here\n",
    "    1. Lending returns are clearly not normally distributed and very long tailed skewed to the left. \n",
    "    2. That means extreme losses are possible. Again, pooling loans to spread the default risk out is a key to a successful investment strategy.\n",
    "    3. We have some unusually high return loans. These tend to be high interest and low grade loans that were prepaid very early. An example is shown below. I don't think there is a need to remove them since they are real loans, and our IRR calculation models their performance in a reasonable manner."
   ]
  },
  {
   "cell_type": "markdown",
   "metadata": {},
   "source": [
    "###### High Return Outlier Example"
   ]
  },
  {
   "cell_type": "code",
   "execution_count": null,
   "metadata": {
    "scrolled": true
   },
   "outputs": [],
   "source": [
    "df_filtered.loc[df_filtered.irr.argmax()][['loan_status','total_pymnt','loan_amnt','last_pymnt_amnt','installment','issue_d','int_rate'\n",
    "                                                 ,'last_pymnt_d', 'total_pymnt','mo_diff','avg_pymnt','irr'\n",
    "                                               ,'collection_recovery_fee','recoveries','total_rec_late_fee','grade']]"
   ]
  },
  {
   "cell_type": "markdown",
   "metadata": {},
   "source": [
    "### Weighted Average IRR of all Completed Loans Originated from 2007-2012"
   ]
  },
  {
   "cell_type": "code",
   "execution_count": 54,
   "metadata": {
    "scrolled": false
   },
   "outputs": [
    {
     "data": {
      "text/plain": [
       "0.061408379614021645"
      ]
     },
     "execution_count": 54,
     "metadata": {},
     "output_type": "execute_result"
    }
   ],
   "source": [
    "###Weight the returns by funded amount to get more accurate representation\n",
    "weighted_avg = np.average(df_filtered['irr'], weights=df_filtered['funded_amnt'])\n",
    "weighted_avg"
   ]
  },
  {
   "cell_type": "markdown",
   "metadata": {},
   "source": [
    "it's important to note how the weighted average is higher than the raw averages. This is an indication that higher balance loans are better performing. We will investigate that next."
   ]
  },
  {
   "cell_type": "markdown",
   "metadata": {},
   "source": [
    "### Weighted Average IRR Bucketed by Size of the Loan "
   ]
  },
  {
   "cell_type": "code",
   "execution_count": null,
   "metadata": {},
   "outputs": [],
   "source": [
    "### we bucket by using 33% 66% and 100% tiles\n",
    "bucket = df_filtered['funded_amnt']\n",
    "np.percentile(bucket, [33, 66, 100])"
   ]
  },
  {
   "cell_type": "code",
   "execution_count": 58,
   "metadata": {},
   "outputs": [],
   "source": [
    "df_filtered['size_bucket'] = np.where(df_filtered['funded_amnt']<=7000 ,'small',\n",
    "                            np.where(df_filtered['funded_amnt']<=12000  ,'medium','large'))\n",
    "df_group_size = df_filtered.groupby(['size_bucket','grade'])\n",
    "# df_group_size.[np.mean, len, statistics.median, np.std]\n",
    "df_group_size_irr = df_group_size.apply(lambda x: np.average(x['irr'],weights = x['funded_amnt']))"
   ]
  },
  {
   "cell_type": "code",
   "execution_count": 59,
   "metadata": {},
   "outputs": [
    {
     "data": {
      "text/html": [
       "<div>\n",
       "<style>\n",
       "    .dataframe thead tr:only-child th {\n",
       "        text-align: right;\n",
       "    }\n",
       "\n",
       "    .dataframe thead th {\n",
       "        text-align: left;\n",
       "    }\n",
       "\n",
       "    .dataframe tbody tr th {\n",
       "        vertical-align: top;\n",
       "    }\n",
       "</style>\n",
       "<table border=\"1\" class=\"dataframe\">\n",
       "  <thead>\n",
       "    <tr>\n",
       "      <th></th>\n",
       "      <th></th>\n",
       "      <th colspan=\"3\" halign=\"left\">irr</th>\n",
       "      <th colspan=\"3\" halign=\"left\">int_rate</th>\n",
       "      <th colspan=\"3\" halign=\"left\">annual_inc</th>\n",
       "      <th colspan=\"3\" halign=\"left\">fully_paid</th>\n",
       "    </tr>\n",
       "    <tr>\n",
       "      <th></th>\n",
       "      <th></th>\n",
       "      <th>mean</th>\n",
       "      <th>len</th>\n",
       "      <th>std</th>\n",
       "      <th>mean</th>\n",
       "      <th>len</th>\n",
       "      <th>std</th>\n",
       "      <th>mean</th>\n",
       "      <th>len</th>\n",
       "      <th>std</th>\n",
       "      <th>mean</th>\n",
       "      <th>len</th>\n",
       "      <th>std</th>\n",
       "    </tr>\n",
       "    <tr>\n",
       "      <th>grade</th>\n",
       "      <th>size_bucket</th>\n",
       "      <th></th>\n",
       "      <th></th>\n",
       "      <th></th>\n",
       "      <th></th>\n",
       "      <th></th>\n",
       "      <th></th>\n",
       "      <th></th>\n",
       "      <th></th>\n",
       "      <th></th>\n",
       "      <th></th>\n",
       "      <th></th>\n",
       "      <th></th>\n",
       "    </tr>\n",
       "  </thead>\n",
       "  <tbody>\n",
       "    <tr>\n",
       "      <th rowspan=\"3\" valign=\"top\">A</th>\n",
       "      <th>large</th>\n",
       "      <td>0.048444</td>\n",
       "      <td>5018.0</td>\n",
       "      <td>0.141421</td>\n",
       "      <td>7.693300</td>\n",
       "      <td>5018.0</td>\n",
       "      <td>0.944082</td>\n",
       "      <td>90602.383147</td>\n",
       "      <td>5018.0</td>\n",
       "      <td>58693.670374</td>\n",
       "      <td>0.940016</td>\n",
       "      <td>5018.0</td>\n",
       "      <td>0.237481</td>\n",
       "    </tr>\n",
       "    <tr>\n",
       "      <th>medium</th>\n",
       "      <td>0.045590</td>\n",
       "      <td>6983.0</td>\n",
       "      <td>0.142148</td>\n",
       "      <td>7.373968</td>\n",
       "      <td>6983.0</td>\n",
       "      <td>1.024089</td>\n",
       "      <td>67438.238556</td>\n",
       "      <td>6983.0</td>\n",
       "      <td>45092.889777</td>\n",
       "      <td>0.939281</td>\n",
       "      <td>6983.0</td>\n",
       "      <td>0.238831</td>\n",
       "    </tr>\n",
       "    <tr>\n",
       "      <th>small</th>\n",
       "      <td>0.039728</td>\n",
       "      <td>8485.0</td>\n",
       "      <td>0.153291</td>\n",
       "      <td>7.427074</td>\n",
       "      <td>8485.0</td>\n",
       "      <td>1.038138</td>\n",
       "      <td>57151.060843</td>\n",
       "      <td>8485.0</td>\n",
       "      <td>45434.296782</td>\n",
       "      <td>0.926930</td>\n",
       "      <td>8485.0</td>\n",
       "      <td>0.260267</td>\n",
       "    </tr>\n",
       "    <tr>\n",
       "      <th rowspan=\"3\" valign=\"top\">B</th>\n",
       "      <th>large</th>\n",
       "      <td>0.065240</td>\n",
       "      <td>7869.0</td>\n",
       "      <td>0.194547</td>\n",
       "      <td>11.790403</td>\n",
       "      <td>7869.0</td>\n",
       "      <td>1.283790</td>\n",
       "      <td>84879.352174</td>\n",
       "      <td>7869.0</td>\n",
       "      <td>97530.479512</td>\n",
       "      <td>0.886517</td>\n",
       "      <td>7869.0</td>\n",
       "      <td>0.317203</td>\n",
       "    </tr>\n",
       "    <tr>\n",
       "      <th>medium</th>\n",
       "      <td>0.062350</td>\n",
       "      <td>9302.0</td>\n",
       "      <td>0.201307</td>\n",
       "      <td>11.819275</td>\n",
       "      <td>9302.0</td>\n",
       "      <td>1.278383</td>\n",
       "      <td>61185.170974</td>\n",
       "      <td>9302.0</td>\n",
       "      <td>37316.415127</td>\n",
       "      <td>0.881316</td>\n",
       "      <td>9302.0</td>\n",
       "      <td>0.323434</td>\n",
       "    </tr>\n",
       "    <tr>\n",
       "      <th>small</th>\n",
       "      <td>0.054472</td>\n",
       "      <td>9250.0</td>\n",
       "      <td>0.206924</td>\n",
       "      <td>11.544396</td>\n",
       "      <td>9250.0</td>\n",
       "      <td>1.292427</td>\n",
       "      <td>53153.282918</td>\n",
       "      <td>9250.0</td>\n",
       "      <td>37930.321834</td>\n",
       "      <td>0.874486</td>\n",
       "      <td>9250.0</td>\n",
       "      <td>0.331318</td>\n",
       "    </tr>\n",
       "    <tr>\n",
       "      <th rowspan=\"3\" valign=\"top\">C</th>\n",
       "      <th>large</th>\n",
       "      <td>0.074090</td>\n",
       "      <td>4875.0</td>\n",
       "      <td>0.231474</td>\n",
       "      <td>14.656297</td>\n",
       "      <td>4875.0</td>\n",
       "      <td>1.258865</td>\n",
       "      <td>83812.823778</td>\n",
       "      <td>4875.0</td>\n",
       "      <td>91729.251178</td>\n",
       "      <td>0.847795</td>\n",
       "      <td>4875.0</td>\n",
       "      <td>0.359256</td>\n",
       "    </tr>\n",
       "    <tr>\n",
       "      <th>medium</th>\n",
       "      <td>0.057088</td>\n",
       "      <td>5801.0</td>\n",
       "      <td>0.249715</td>\n",
       "      <td>14.616266</td>\n",
       "      <td>5801.0</td>\n",
       "      <td>1.292251</td>\n",
       "      <td>61514.939950</td>\n",
       "      <td>5801.0</td>\n",
       "      <td>44557.193883</td>\n",
       "      <td>0.821065</td>\n",
       "      <td>5801.0</td>\n",
       "      <td>0.383331</td>\n",
       "    </tr>\n",
       "    <tr>\n",
       "      <th>small</th>\n",
       "      <td>0.055164</td>\n",
       "      <td>5532.0</td>\n",
       "      <td>0.250642</td>\n",
       "      <td>14.294864</td>\n",
       "      <td>5532.0</td>\n",
       "      <td>1.404782</td>\n",
       "      <td>53028.110618</td>\n",
       "      <td>5532.0</td>\n",
       "      <td>87079.283111</td>\n",
       "      <td>0.831345</td>\n",
       "      <td>5532.0</td>\n",
       "      <td>0.374481</td>\n",
       "    </tr>\n",
       "    <tr>\n",
       "      <th rowspan=\"3\" valign=\"top\">D</th>\n",
       "      <th>large</th>\n",
       "      <td>0.074040</td>\n",
       "      <td>3503.0</td>\n",
       "      <td>0.274552</td>\n",
       "      <td>17.392241</td>\n",
       "      <td>3503.0</td>\n",
       "      <td>1.706903</td>\n",
       "      <td>88101.931296</td>\n",
       "      <td>3503.0</td>\n",
       "      <td>57781.109898</td>\n",
       "      <td>0.803311</td>\n",
       "      <td>3503.0</td>\n",
       "      <td>0.397552</td>\n",
       "    </tr>\n",
       "    <tr>\n",
       "      <th>medium</th>\n",
       "      <td>0.064777</td>\n",
       "      <td>2971.0</td>\n",
       "      <td>0.273546</td>\n",
       "      <td>17.004423</td>\n",
       "      <td>2971.0</td>\n",
       "      <td>1.657422</td>\n",
       "      <td>61394.401619</td>\n",
       "      <td>2971.0</td>\n",
       "      <td>38013.600075</td>\n",
       "      <td>0.793672</td>\n",
       "      <td>2971.0</td>\n",
       "      <td>0.404737</td>\n",
       "    </tr>\n",
       "    <tr>\n",
       "      <th>small</th>\n",
       "      <td>0.049571</td>\n",
       "      <td>2438.0</td>\n",
       "      <td>0.283230</td>\n",
       "      <td>16.180082</td>\n",
       "      <td>2438.0</td>\n",
       "      <td>1.813740</td>\n",
       "      <td>49065.504844</td>\n",
       "      <td>2438.0</td>\n",
       "      <td>30376.008786</td>\n",
       "      <td>0.789582</td>\n",
       "      <td>2438.0</td>\n",
       "      <td>0.407689</td>\n",
       "    </tr>\n",
       "    <tr>\n",
       "      <th rowspan=\"3\" valign=\"top\">E</th>\n",
       "      <th>large</th>\n",
       "      <td>0.087098</td>\n",
       "      <td>1042.0</td>\n",
       "      <td>0.282827</td>\n",
       "      <td>19.009012</td>\n",
       "      <td>1042.0</td>\n",
       "      <td>2.288736</td>\n",
       "      <td>97323.698436</td>\n",
       "      <td>1042.0</td>\n",
       "      <td>53568.718930</td>\n",
       "      <td>0.792706</td>\n",
       "      <td>1042.0</td>\n",
       "      <td>0.405562</td>\n",
       "    </tr>\n",
       "    <tr>\n",
       "      <th>medium</th>\n",
       "      <td>0.036175</td>\n",
       "      <td>442.0</td>\n",
       "      <td>0.321180</td>\n",
       "      <td>17.252534</td>\n",
       "      <td>442.0</td>\n",
       "      <td>2.313854</td>\n",
       "      <td>67983.985475</td>\n",
       "      <td>442.0</td>\n",
       "      <td>46817.154945</td>\n",
       "      <td>0.766968</td>\n",
       "      <td>442.0</td>\n",
       "      <td>0.423241</td>\n",
       "    </tr>\n",
       "    <tr>\n",
       "      <th>small</th>\n",
       "      <td>0.031156</td>\n",
       "      <td>607.0</td>\n",
       "      <td>0.307370</td>\n",
       "      <td>17.057166</td>\n",
       "      <td>607.0</td>\n",
       "      <td>2.463775</td>\n",
       "      <td>49151.076837</td>\n",
       "      <td>607.0</td>\n",
       "      <td>35402.053167</td>\n",
       "      <td>0.754530</td>\n",
       "      <td>607.0</td>\n",
       "      <td>0.430720</td>\n",
       "    </tr>\n",
       "    <tr>\n",
       "      <th rowspan=\"3\" valign=\"top\">F</th>\n",
       "      <th>large</th>\n",
       "      <td>-0.012374</td>\n",
       "      <td>259.0</td>\n",
       "      <td>0.380024</td>\n",
       "      <td>19.262201</td>\n",
       "      <td>259.0</td>\n",
       "      <td>2.514824</td>\n",
       "      <td>107366.553900</td>\n",
       "      <td>259.0</td>\n",
       "      <td>105567.721921</td>\n",
       "      <td>0.671815</td>\n",
       "      <td>259.0</td>\n",
       "      <td>0.470462</td>\n",
       "    </tr>\n",
       "    <tr>\n",
       "      <th>medium</th>\n",
       "      <td>-0.007534</td>\n",
       "      <td>122.0</td>\n",
       "      <td>0.373955</td>\n",
       "      <td>17.852213</td>\n",
       "      <td>122.0</td>\n",
       "      <td>2.395355</td>\n",
       "      <td>67427.292377</td>\n",
       "      <td>122.0</td>\n",
       "      <td>41441.769855</td>\n",
       "      <td>0.713115</td>\n",
       "      <td>122.0</td>\n",
       "      <td>0.454173</td>\n",
       "    </tr>\n",
       "    <tr>\n",
       "      <th>small</th>\n",
       "      <td>0.047882</td>\n",
       "      <td>135.0</td>\n",
       "      <td>0.333999</td>\n",
       "      <td>18.623852</td>\n",
       "      <td>135.0</td>\n",
       "      <td>2.549009</td>\n",
       "      <td>49296.934000</td>\n",
       "      <td>135.0</td>\n",
       "      <td>34537.647878</td>\n",
       "      <td>0.777778</td>\n",
       "      <td>135.0</td>\n",
       "      <td>0.417288</td>\n",
       "    </tr>\n",
       "    <tr>\n",
       "      <th rowspan=\"3\" valign=\"top\">G</th>\n",
       "      <th>large</th>\n",
       "      <td>0.012118</td>\n",
       "      <td>130.0</td>\n",
       "      <td>0.378527</td>\n",
       "      <td>20.321923</td>\n",
       "      <td>130.0</td>\n",
       "      <td>2.486990</td>\n",
       "      <td>123393.868923</td>\n",
       "      <td>130.0</td>\n",
       "      <td>95726.491461</td>\n",
       "      <td>0.684615</td>\n",
       "      <td>130.0</td>\n",
       "      <td>0.466466</td>\n",
       "    </tr>\n",
       "    <tr>\n",
       "      <th>medium</th>\n",
       "      <td>-0.156198</td>\n",
       "      <td>44.0</td>\n",
       "      <td>0.458387</td>\n",
       "      <td>18.752273</td>\n",
       "      <td>44.0</td>\n",
       "      <td>1.287225</td>\n",
       "      <td>72324.968182</td>\n",
       "      <td>44.0</td>\n",
       "      <td>40897.392318</td>\n",
       "      <td>0.545455</td>\n",
       "      <td>44.0</td>\n",
       "      <td>0.503686</td>\n",
       "    </tr>\n",
       "    <tr>\n",
       "      <th>small</th>\n",
       "      <td>0.068759</td>\n",
       "      <td>70.0</td>\n",
       "      <td>0.251827</td>\n",
       "      <td>18.714714</td>\n",
       "      <td>70.0</td>\n",
       "      <td>1.348149</td>\n",
       "      <td>53447.454286</td>\n",
       "      <td>70.0</td>\n",
       "      <td>34845.694532</td>\n",
       "      <td>0.685714</td>\n",
       "      <td>70.0</td>\n",
       "      <td>0.467583</td>\n",
       "    </tr>\n",
       "  </tbody>\n",
       "</table>\n",
       "</div>"
      ],
      "text/plain": [
       "                        irr                     int_rate                    \\\n",
       "                       mean     len       std       mean     len       std   \n",
       "grade size_bucket                                                            \n",
       "A     large        0.048444  5018.0  0.141421   7.693300  5018.0  0.944082   \n",
       "      medium       0.045590  6983.0  0.142148   7.373968  6983.0  1.024089   \n",
       "      small        0.039728  8485.0  0.153291   7.427074  8485.0  1.038138   \n",
       "B     large        0.065240  7869.0  0.194547  11.790403  7869.0  1.283790   \n",
       "      medium       0.062350  9302.0  0.201307  11.819275  9302.0  1.278383   \n",
       "      small        0.054472  9250.0  0.206924  11.544396  9250.0  1.292427   \n",
       "C     large        0.074090  4875.0  0.231474  14.656297  4875.0  1.258865   \n",
       "      medium       0.057088  5801.0  0.249715  14.616266  5801.0  1.292251   \n",
       "      small        0.055164  5532.0  0.250642  14.294864  5532.0  1.404782   \n",
       "D     large        0.074040  3503.0  0.274552  17.392241  3503.0  1.706903   \n",
       "      medium       0.064777  2971.0  0.273546  17.004423  2971.0  1.657422   \n",
       "      small        0.049571  2438.0  0.283230  16.180082  2438.0  1.813740   \n",
       "E     large        0.087098  1042.0  0.282827  19.009012  1042.0  2.288736   \n",
       "      medium       0.036175   442.0  0.321180  17.252534   442.0  2.313854   \n",
       "      small        0.031156   607.0  0.307370  17.057166   607.0  2.463775   \n",
       "F     large       -0.012374   259.0  0.380024  19.262201   259.0  2.514824   \n",
       "      medium      -0.007534   122.0  0.373955  17.852213   122.0  2.395355   \n",
       "      small        0.047882   135.0  0.333999  18.623852   135.0  2.549009   \n",
       "G     large        0.012118   130.0  0.378527  20.321923   130.0  2.486990   \n",
       "      medium      -0.156198    44.0  0.458387  18.752273    44.0  1.287225   \n",
       "      small        0.068759    70.0  0.251827  18.714714    70.0  1.348149   \n",
       "\n",
       "                      annual_inc                        fully_paid          \\\n",
       "                            mean     len            std       mean     len   \n",
       "grade size_bucket                                                            \n",
       "A     large         90602.383147  5018.0   58693.670374   0.940016  5018.0   \n",
       "      medium        67438.238556  6983.0   45092.889777   0.939281  6983.0   \n",
       "      small         57151.060843  8485.0   45434.296782   0.926930  8485.0   \n",
       "B     large         84879.352174  7869.0   97530.479512   0.886517  7869.0   \n",
       "      medium        61185.170974  9302.0   37316.415127   0.881316  9302.0   \n",
       "      small         53153.282918  9250.0   37930.321834   0.874486  9250.0   \n",
       "C     large         83812.823778  4875.0   91729.251178   0.847795  4875.0   \n",
       "      medium        61514.939950  5801.0   44557.193883   0.821065  5801.0   \n",
       "      small         53028.110618  5532.0   87079.283111   0.831345  5532.0   \n",
       "D     large         88101.931296  3503.0   57781.109898   0.803311  3503.0   \n",
       "      medium        61394.401619  2971.0   38013.600075   0.793672  2971.0   \n",
       "      small         49065.504844  2438.0   30376.008786   0.789582  2438.0   \n",
       "E     large         97323.698436  1042.0   53568.718930   0.792706  1042.0   \n",
       "      medium        67983.985475   442.0   46817.154945   0.766968   442.0   \n",
       "      small         49151.076837   607.0   35402.053167   0.754530   607.0   \n",
       "F     large        107366.553900   259.0  105567.721921   0.671815   259.0   \n",
       "      medium        67427.292377   122.0   41441.769855   0.713115   122.0   \n",
       "      small         49296.934000   135.0   34537.647878   0.777778   135.0   \n",
       "G     large        123393.868923   130.0   95726.491461   0.684615   130.0   \n",
       "      medium        72324.968182    44.0   40897.392318   0.545455    44.0   \n",
       "      small         53447.454286    70.0   34845.694532   0.685714    70.0   \n",
       "\n",
       "                             \n",
       "                        std  \n",
       "grade size_bucket            \n",
       "A     large        0.237481  \n",
       "      medium       0.238831  \n",
       "      small        0.260267  \n",
       "B     large        0.317203  \n",
       "      medium       0.323434  \n",
       "      small        0.331318  \n",
       "C     large        0.359256  \n",
       "      medium       0.383331  \n",
       "      small        0.374481  \n",
       "D     large        0.397552  \n",
       "      medium       0.404737  \n",
       "      small        0.407689  \n",
       "E     large        0.405562  \n",
       "      medium       0.423241  \n",
       "      small        0.430720  \n",
       "F     large        0.470462  \n",
       "      medium       0.454173  \n",
       "      small        0.417288  \n",
       "G     large        0.466466  \n",
       "      medium       0.503686  \n",
       "      small        0.467583  "
      ]
     },
     "execution_count": 59,
     "metadata": {},
     "output_type": "execute_result"
    }
   ],
   "source": [
    "df_group_check = df_filtered.groupby(['grade','size_bucket'])\n",
    "df_group_check.agg([np.mean, len, np.std])[['irr','int_rate','annual_inc','fully_paid']]"
   ]
  },
  {
   "cell_type": "markdown",
   "metadata": {},
   "source": [
    "We can conclude few things\n",
    "\n",
    "    1. Larger loans perform better across all higher grade asset classes.\n",
    "    2. While there is no clear correlation between interest rates and larger loans, there is a strong correlation with average income and default rate. This is an indication that people wth higher income are more likely to be good borrowers.  \n",
    "    3. Higher annual income and size of the loan should be good predictors of low default rates and therefore higher IRR."
   ]
  },
  {
   "cell_type": "markdown",
   "metadata": {},
   "source": [
    "### Weighted Average of IRRs Bucketed by Year and Grade"
   ]
  },
  {
   "cell_type": "code",
   "execution_count": 60,
   "metadata": {
    "scrolled": false
   },
   "outputs": [
    {
     "data": {
      "text/plain": [
       "(2012, 'G')"
      ]
     },
     "execution_count": 60,
     "metadata": {},
     "output_type": "execute_result"
    }
   ],
   "source": [
    "df_group_grade = df_filtered.groupby(['issue_yr','grade'])\n",
    "df_group_irr = df_group_grade.apply(lambda x: np.average(x['irr'],weights = x['funded_amnt']))\n",
    "df_group_irr.argmax()"
   ]
  },
  {
   "cell_type": "markdown",
   "metadata": {},
   "source": [
    "G Grade in 2012 were the most profitable in terms of returns. Next in line were grade E loans in 2011."
   ]
  },
  {
   "cell_type": "code",
   "execution_count": 64,
   "metadata": {},
   "outputs": [
    {
     "data": {
      "text/plain": [
       "issue_yr  grade\n",
       "2007      A        0.079712\n",
       "          B       -0.011396\n",
       "          C       -0.019417\n",
       "          D       -0.067096\n",
       "          E       -0.084850\n",
       "          F       -0.199889\n",
       "          G       -0.139833\n",
       "2008      A        0.055883\n",
       "          B       -0.004535\n",
       "          C       -0.030417\n",
       "          D       -0.071440\n",
       "          E       -0.000634\n",
       "          F       -0.132702\n",
       "          G       -0.086513\n",
       "2009      A        0.053644\n",
       "          B        0.043685\n",
       "          C        0.045890\n",
       "          D        0.048454\n",
       "          E        0.032890\n",
       "          F       -0.000887\n",
       "          G        0.046063\n",
       "2010      A        0.054654\n",
       "          B        0.065036\n",
       "          C        0.068223\n",
       "          D        0.063619\n",
       "          E        0.063012\n",
       "          F       -0.023619\n",
       "          G        0.030864\n",
       "2011      A        0.044842\n",
       "          B        0.067759\n",
       "          C        0.065826\n",
       "          D        0.087835\n",
       "          E        0.110945\n",
       "          F        0.072805\n",
       "          G       -0.079724\n",
       "2012      A        0.045479\n",
       "          B        0.066229\n",
       "          C        0.075211\n",
       "          D        0.085971\n",
       "          E        0.106208\n",
       "          F        0.119820\n",
       "          G        0.164098\n",
       "dtype: float64"
      ]
     },
     "execution_count": 64,
     "metadata": {},
     "output_type": "execute_result"
    }
   ],
   "source": [
    "df_group_irr"
   ]
  },
  {
   "cell_type": "markdown",
   "metadata": {},
   "source": [
    "Except in 2009, there is a general trend of lower grade loans performing better than the higher grade loans. However, we will later dispute this claim in our modeling section."
   ]
  },
  {
   "cell_type": "markdown",
   "metadata": {},
   "source": [
    "### Distribution of Returns of Pool of Loans "
   ]
  },
  {
   "cell_type": "markdown",
   "metadata": {},
   "source": [
    "So far we just looked at the distribution of returns. However, to measure risk-adjusted returns, we can look at the distribution of holding a pool of loans. With this methodology, we can ask questions such as had we held 100 loans over the duration of its maturity, what would the distribution of those returns would have looked like, and finding the x% confidence interval of those returns."
   ]
  },
  {
   "cell_type": "code",
   "execution_count": null,
   "metadata": {
    "collapsed": true
   },
   "outputs": [],
   "source": [
    "def cash_flow(row,max_n):\n",
    "    initial_invest = -row['funded_amnt']\n",
    "    avg_payment = row['avg_pymnt']\n",
    "    num_payments = np.max(int(row['mo_diff'])-1,0)\n",
    "    recovery = row['recoveries'] -row['collection_recovery_fee']\n",
    "    recovery_duration = np.maximum(36 - num_payments + 1 + 12,12)\n",
    "    avg_recovery = recovery/recovery_duration\n",
    "    last_payment_amount = row['last_pymnt_amnt']\n",
    "    dummy_cfs = int(max_n -(1+num_payments+recovery_duration))\n",
    "    return [initial_invest]+[avg_payment]*num_payments+[last_payment_amount]+[avg_recovery]*recovery_duration+ [0]*dummy_cfs"
   ]
  },
  {
   "cell_type": "code",
   "execution_count": null,
   "metadata": {
    "collapsed": true
   },
   "outputs": [],
   "source": [
    "def irr_pool(df):\n",
    "    list_length = df['mo_diff'].max()+12\n",
    "    cfs=[]\n",
    "    for index, row in df.iterrows(): \n",
    "        cfs.append(cash_flow(row,list_length))\n",
    "    result = [sum(x) for x in zip(*cfs)]\n",
    "    return (np.irr(result)+1)**12 -1"
   ]
  },
  {
   "cell_type": "code",
   "execution_count": null,
   "metadata": {
    "collapsed": true
   },
   "outputs": [],
   "source": [
    "def collect_n_random_stats(df,n,size):\n",
    "    returns_list = []\n",
    "    for x in range(0,n):\n",
    "        df_out = df.sample(size,replace=False)\n",
    "        returns_list.append(irr_pool(df_out))   \n",
    "    return [np.average(returns_list)] +[math.sqrt(np.var(returns_list))]"
   ]
  },
  {
   "cell_type": "code",
   "execution_count": null,
   "metadata": {},
   "outputs": [],
   "source": [
    "####Collect 100 samples of 100 loans(~1M in exposure)\n",
    "out=collect_n_random_stats(df_filtered,100,100)\n",
    "out"
   ]
  },
  {
   "cell_type": "markdown",
   "metadata": {},
   "source": [
    "Risk-adjusted return of 100 loan(~1M in exposure) samples.\n",
    "It should be acknowledged that risk-adjusted returns are probably a big function of time,\n",
    "and our method randomizes across time but there are smaller number of earlier loans. So this approach will be biased towards favoring the recent data."
   ]
  },
  {
   "cell_type": "code",
   "execution_count": 65,
   "metadata": {},
   "outputs": [
    {
     "data": {
      "text/plain": [
       "3.3249664913967347"
      ]
     },
     "execution_count": 65,
     "metadata": {},
     "output_type": "execute_result"
    }
   ],
   "source": [
    "out[0]/out[1]"
   ]
  },
  {
   "cell_type": "code",
   "execution_count": 66,
   "metadata": {
    "scrolled": true
   },
   "outputs": [
    {
     "data": {
      "image/png": "[encoded data removed]",
      "text/plain": [
       "<matplotlib.figure.Figure at 0x143807a0dd8>"
      ]
     },
     "metadata": {},
     "output_type": "display_data"
    }
   ],
   "source": [
    "mu = out[0]\n",
    "sigma = out[1]\n",
    "x = np.linspace(mu - 3*sigma, mu + 3*sigma, 100)\n",
    "plt.plot(x,mlab.normpdf(x, mu, sigma))\n",
    "plt.xlabel('Return')\n",
    "plt.ylabel('Frequency')\n",
    "plt.title('Return Frequency')\n",
    "plt.show()"
   ]
  },
  {
   "cell_type": "markdown",
   "metadata": {},
   "source": [
    "To account for the time variable, we should see how the risk-adjusted returns have changed over the years"
   ]
  },
  {
   "cell_type": "code",
   "execution_count": 67,
   "metadata": {
    "collapsed": true
   },
   "outputs": [],
   "source": [
    "##### See how the risk-adjusted returns have changed over the years\n",
    "cust = lambda g: collect_n_random_stats\n",
    "df_group = df_filtered.groupby(['issue_yr'])\n",
    "df_group.count()\n",
    "df_sharpe =df_group.apply(lambda x: collect_n_random_stats(x,100,100))\n",
    "#df_group_irr = df_group.apply(lambda x:collect_n_random_stats(x,10,np.min(1000, x.count().loc[0]/10)))"
   ]
  },
  {
   "cell_type": "code",
   "execution_count": 245,
   "metadata": {},
   "outputs": [
    {
     "data": {
      "image/png": "[encoded data removed]",
      "text/plain": [
       "<matplotlib.figure.Figure at 0x14382ac7c50>"
      ]
     },
     "metadata": {},
     "output_type": "display_data"
    }
   ],
   "source": [
    "x = df_sharpe.index\n",
    "y = [sublist[0] for sublist in df_sharpe.values]\n",
    "yerr = [sublist[1]*2 for sublist in df_sharpe.values]\n",
    "fig, ax = plt.subplots()\n",
    "ax.errorbar(x, y,  yerr=yerr)\n",
    "plt.xlabel('Year')\n",
    "plt.ylabel('Return Distribution')\n",
    "plt.title('Return Distribution of 100 Loan Baskets Across Time, 100 Trials')\n",
    "plt.show()"
   ]
  },
  {
   "cell_type": "markdown",
   "metadata": {},
   "source": [
    "This thought exercise tells us a few things\n",
    "    1. Had we bought and held 100 loans, from 2009 - 2012, we would have almost surely made a positive return because we were effectively diversifying out the default rates.\n",
    "    2. However, we need to acknowledge that based on market conditions, this can change. For example in 2007 and 2008, you could have lost a lot of money.\n",
    "    3. To try to diversify out the uncertainties of p2p lending market as a whole, we need to look at other asset classes that are negatively correlated to p2p lending market."
   ]
  },
  {
   "cell_type": "markdown",
   "metadata": {},
   "source": [
    "## EDA Summary "
   ]
  },
  {
   "cell_type": "markdown",
   "metadata": {},
   "source": [
    "##### Highlights"
   ]
  },
  {
   "cell_type": "markdown",
   "metadata": {},
   "source": [
    "    1. P2P lending market is highly volatile due to high default rates. It is recommended that an investor diversify this default rate away by pooling large number of loans.\n",
    "    2. Larger loans tend to yield higher returns - there seems to be no correlation between larger loans and interest rates, but there seems to be correlation between larger loans and higher income and low default rates. \n",
    "    3. Lower grade assets commanded higher returns. However, we will explain in the modeling section later why this isn't necessarily true. \n",
    "    4. While we can diversify out the systematic risk of individual loan defaults by pooling loans, we can't diversfiy away systematic risk of a whole industry. To do that, we need to look at other asset classes that are negatively correlated with p2p lending market."
   ]
  },
  {
   "cell_type": "markdown",
   "metadata": {},
   "source": [
    "##### Overall Market Assessment"
   ]
  },
  {
   "cell_type": "code",
   "execution_count": 69,
   "metadata": {},
   "outputs": [
    {
     "data": {
      "text/html": [
       "<div>\n",
       "<style>\n",
       "    .dataframe thead tr:only-child th {\n",
       "        text-align: right;\n",
       "    }\n",
       "\n",
       "    .dataframe thead th {\n",
       "        text-align: left;\n",
       "    }\n",
       "\n",
       "    .dataframe tbody tr th {\n",
       "        vertical-align: top;\n",
       "    }\n",
       "</style>\n",
       "<table border=\"1\" class=\"dataframe\">\n",
       "  <thead>\n",
       "    <tr style=\"text-align: right;\">\n",
       "      <th></th>\n",
       "      <th>issue_yr</th>\n",
       "      <th>2007</th>\n",
       "      <th>2008</th>\n",
       "      <th>2009</th>\n",
       "      <th>2010</th>\n",
       "      <th>2011</th>\n",
       "      <th>2012</th>\n",
       "      <th>2013</th>\n",
       "      <th>2014</th>\n",
       "      <th>2015</th>\n",
       "    </tr>\n",
       "  </thead>\n",
       "  <tbody>\n",
       "    <tr>\n",
       "      <th rowspan=\"4\" valign=\"top\">mo_diff</th>\n",
       "      <th>mean</th>\n",
       "      <td>26.308458</td>\n",
       "      <td>26.661931</td>\n",
       "      <td>26.246355</td>\n",
       "      <td>29.661243</td>\n",
       "      <td>29.182174</td>\n",
       "      <td>26.310135</td>\n",
       "      <td>22.436258</td>\n",
       "      <td>15.473382</td>\n",
       "      <td>5.513693</td>\n",
       "    </tr>\n",
       "    <tr>\n",
       "      <th>len</th>\n",
       "      <td>603.000000</td>\n",
       "      <td>2393.000000</td>\n",
       "      <td>5281.000000</td>\n",
       "      <td>12537.000000</td>\n",
       "      <td>21721.000000</td>\n",
       "      <td>53367.000000</td>\n",
       "      <td>134755.000000</td>\n",
       "      <td>235628.000000</td>\n",
       "      <td>421094.000000</td>\n",
       "    </tr>\n",
       "    <tr>\n",
       "      <th>median</th>\n",
       "      <td>33.000000</td>\n",
       "      <td>32.000000</td>\n",
       "      <td>31.000000</td>\n",
       "      <td>32.000000</td>\n",
       "      <td>32.000000</td>\n",
       "      <td>29.000000</td>\n",
       "      <td>25.000000</td>\n",
       "      <td>16.000000</td>\n",
       "      <td>5.000000</td>\n",
       "    </tr>\n",
       "    <tr>\n",
       "      <th>std</th>\n",
       "      <td>11.727996</td>\n",
       "      <td>11.520294</td>\n",
       "      <td>11.445312</td>\n",
       "      <td>14.648194</td>\n",
       "      <td>14.103763</td>\n",
       "      <td>11.360228</td>\n",
       "      <td>8.804633</td>\n",
       "      <td>5.069411</td>\n",
       "      <td>3.435963</td>\n",
       "    </tr>\n",
       "    <tr>\n",
       "      <th rowspan=\"4\" valign=\"top\">funded_amnt</th>\n",
       "      <th>mean</th>\n",
       "      <td>7946.185738</td>\n",
       "      <td>8347.273297</td>\n",
       "      <td>9811.541375</td>\n",
       "      <td>10078.262343</td>\n",
       "      <td>11848.609640</td>\n",
       "      <td>13452.932055</td>\n",
       "      <td>14708.051649</td>\n",
       "      <td>14870.177462</td>\n",
       "      <td>15240.255561</td>\n",
       "    </tr>\n",
       "    <tr>\n",
       "      <th>len</th>\n",
       "      <td>603.000000</td>\n",
       "      <td>2393.000000</td>\n",
       "      <td>5281.000000</td>\n",
       "      <td>12537.000000</td>\n",
       "      <td>21721.000000</td>\n",
       "      <td>53367.000000</td>\n",
       "      <td>134755.000000</td>\n",
       "      <td>235628.000000</td>\n",
       "      <td>421094.000000</td>\n",
       "    </tr>\n",
       "    <tr>\n",
       "      <th>median</th>\n",
       "      <td>6000.000000</td>\n",
       "      <td>7000.000000</td>\n",
       "      <td>8650.000000</td>\n",
       "      <td>9000.000000</td>\n",
       "      <td>10000.000000</td>\n",
       "      <td>12000.000000</td>\n",
       "      <td>13000.000000</td>\n",
       "      <td>13000.000000</td>\n",
       "      <td>14000.000000</td>\n",
       "    </tr>\n",
       "    <tr>\n",
       "      <th>std</th>\n",
       "      <td>5897.897343</td>\n",
       "      <td>5556.902423</td>\n",
       "      <td>5987.161795</td>\n",
       "      <td>6186.399743</td>\n",
       "      <td>7895.098134</td>\n",
       "      <td>8078.326704</td>\n",
       "      <td>8099.065957</td>\n",
       "      <td>8438.330135</td>\n",
       "      <td>8571.313525</td>\n",
       "    </tr>\n",
       "    <tr>\n",
       "      <th rowspan=\"4\" valign=\"top\">fully_paid</th>\n",
       "      <th>mean</th>\n",
       "      <td>0.737977</td>\n",
       "      <td>0.792729</td>\n",
       "      <td>0.863094</td>\n",
       "      <td>0.859938</td>\n",
       "      <td>0.836763</td>\n",
       "      <td>0.836422</td>\n",
       "      <td>0.789705</td>\n",
       "      <td>0.789430</td>\n",
       "      <td>0.879131</td>\n",
       "    </tr>\n",
       "    <tr>\n",
       "      <th>len</th>\n",
       "      <td>603.000000</td>\n",
       "      <td>2393.000000</td>\n",
       "      <td>5281.000000</td>\n",
       "      <td>12537.000000</td>\n",
       "      <td>21721.000000</td>\n",
       "      <td>53367.000000</td>\n",
       "      <td>134755.000000</td>\n",
       "      <td>235628.000000</td>\n",
       "      <td>421094.000000</td>\n",
       "    </tr>\n",
       "    <tr>\n",
       "      <th>median</th>\n",
       "      <td>1.000000</td>\n",
       "      <td>1.000000</td>\n",
       "      <td>1.000000</td>\n",
       "      <td>1.000000</td>\n",
       "      <td>1.000000</td>\n",
       "      <td>1.000000</td>\n",
       "      <td>0.000000</td>\n",
       "      <td>NaN</td>\n",
       "      <td>NaN</td>\n",
       "    </tr>\n",
       "    <tr>\n",
       "      <th>std</th>\n",
       "      <td>0.440100</td>\n",
       "      <td>0.405436</td>\n",
       "      <td>0.343781</td>\n",
       "      <td>0.347065</td>\n",
       "      <td>0.369591</td>\n",
       "      <td>0.369896</td>\n",
       "      <td>0.407521</td>\n",
       "      <td>0.407717</td>\n",
       "      <td>0.325981</td>\n",
       "    </tr>\n",
       "    <tr>\n",
       "      <th rowspan=\"4\" valign=\"top\">irr</th>\n",
       "      <th>mean</th>\n",
       "      <td>-0.031609</td>\n",
       "      <td>-0.003648</td>\n",
       "      <td>0.049158</td>\n",
       "      <td>0.049033</td>\n",
       "      <td>0.040954</td>\n",
       "      <td>0.049310</td>\n",
       "      <td>-0.028577</td>\n",
       "      <td>-0.382607</td>\n",
       "      <td>-0.904201</td>\n",
       "    </tr>\n",
       "    <tr>\n",
       "      <th>len</th>\n",
       "      <td>603.000000</td>\n",
       "      <td>2393.000000</td>\n",
       "      <td>5281.000000</td>\n",
       "      <td>12537.000000</td>\n",
       "      <td>21721.000000</td>\n",
       "      <td>53367.000000</td>\n",
       "      <td>134755.000000</td>\n",
       "      <td>235628.000000</td>\n",
       "      <td>421094.000000</td>\n",
       "    </tr>\n",
       "    <tr>\n",
       "      <th>median</th>\n",
       "      <td>0.107518</td>\n",
       "      <td>0.114199</td>\n",
       "      <td>0.125278</td>\n",
       "      <td>0.112849</td>\n",
       "      <td>0.105541</td>\n",
       "      <td>0.119900</td>\n",
       "      <td>0.048285</td>\n",
       "      <td>-0.465180</td>\n",
       "      <td>-0.996545</td>\n",
       "    </tr>\n",
       "    <tr>\n",
       "      <th>std</th>\n",
       "      <td>0.303864</td>\n",
       "      <td>0.296726</td>\n",
       "      <td>0.244018</td>\n",
       "      <td>0.225909</td>\n",
       "      <td>0.227265</td>\n",
       "      <td>0.225935</td>\n",
       "      <td>0.229724</td>\n",
       "      <td>0.339233</td>\n",
       "      <td>0.261512</td>\n",
       "    </tr>\n",
       "    <tr>\n",
       "      <th rowspan=\"4\" valign=\"top\">int_rate</th>\n",
       "      <th>mean</th>\n",
       "      <td>11.825108</td>\n",
       "      <td>12.061964</td>\n",
       "      <td>12.437247</td>\n",
       "      <td>11.985268</td>\n",
       "      <td>12.223746</td>\n",
       "      <td>13.637676</td>\n",
       "      <td>14.531745</td>\n",
       "      <td>13.771245</td>\n",
       "      <td>12.601731</td>\n",
       "    </tr>\n",
       "    <tr>\n",
       "      <th>len</th>\n",
       "      <td>603.000000</td>\n",
       "      <td>2393.000000</td>\n",
       "      <td>5281.000000</td>\n",
       "      <td>12537.000000</td>\n",
       "      <td>21721.000000</td>\n",
       "      <td>53367.000000</td>\n",
       "      <td>134755.000000</td>\n",
       "      <td>235628.000000</td>\n",
       "      <td>421094.000000</td>\n",
       "    </tr>\n",
       "    <tr>\n",
       "      <th>median</th>\n",
       "      <td>11.540000</td>\n",
       "      <td>11.910000</td>\n",
       "      <td>12.530000</td>\n",
       "      <td>11.860000</td>\n",
       "      <td>11.990000</td>\n",
       "      <td>13.670000</td>\n",
       "      <td>14.330000</td>\n",
       "      <td>13.650000</td>\n",
       "      <td>12.290000</td>\n",
       "    </tr>\n",
       "    <tr>\n",
       "      <th>std</th>\n",
       "      <td>2.730695</td>\n",
       "      <td>2.528280</td>\n",
       "      <td>2.670839</td>\n",
       "      <td>3.487358</td>\n",
       "      <td>4.148980</td>\n",
       "      <td>4.371890</td>\n",
       "      <td>4.437612</td>\n",
       "      <td>4.325532</td>\n",
       "      <td>4.317873</td>\n",
       "    </tr>\n",
       "  </tbody>\n",
       "</table>\n",
       "</div>"
      ],
      "text/plain": [
       "issue_yr                   2007         2008         2009          2010  \\\n",
       "mo_diff     mean      26.308458    26.661931    26.246355     29.661243   \n",
       "            len      603.000000  2393.000000  5281.000000  12537.000000   \n",
       "            median    33.000000    32.000000    31.000000     32.000000   \n",
       "            std       11.727996    11.520294    11.445312     14.648194   \n",
       "funded_amnt mean    7946.185738  8347.273297  9811.541375  10078.262343   \n",
       "            len      603.000000  2393.000000  5281.000000  12537.000000   \n",
       "            median  6000.000000  7000.000000  8650.000000   9000.000000   \n",
       "            std     5897.897343  5556.902423  5987.161795   6186.399743   \n",
       "fully_paid  mean       0.737977     0.792729     0.863094      0.859938   \n",
       "            len      603.000000  2393.000000  5281.000000  12537.000000   \n",
       "            median     1.000000     1.000000     1.000000      1.000000   \n",
       "            std        0.440100     0.405436     0.343781      0.347065   \n",
       "irr         mean      -0.031609    -0.003648     0.049158      0.049033   \n",
       "            len      603.000000  2393.000000  5281.000000  12537.000000   \n",
       "            median     0.107518     0.114199     0.125278      0.112849   \n",
       "            std        0.303864     0.296726     0.244018      0.225909   \n",
       "int_rate    mean      11.825108    12.061964    12.437247     11.985268   \n",
       "            len      603.000000  2393.000000  5281.000000  12537.000000   \n",
       "            median    11.540000    11.910000    12.530000     11.860000   \n",
       "            std        2.730695     2.528280     2.670839      3.487358   \n",
       "\n",
       "issue_yr                    2011          2012           2013           2014  \\\n",
       "mo_diff     mean       29.182174     26.310135      22.436258      15.473382   \n",
       "            len     21721.000000  53367.000000  134755.000000  235628.000000   \n",
       "            median     32.000000     29.000000      25.000000      16.000000   \n",
       "            std        14.103763     11.360228       8.804633       5.069411   \n",
       "funded_amnt mean    11848.609640  13452.932055   14708.051649   14870.177462   \n",
       "            len     21721.000000  53367.000000  134755.000000  235628.000000   \n",
       "            median  10000.000000  12000.000000   13000.000000   13000.000000   \n",
       "            std      7895.098134   8078.326704    8099.065957    8438.330135   \n",
       "fully_paid  mean        0.836763      0.836422       0.789705       0.789430   \n",
       "            len     21721.000000  53367.000000  134755.000000  235628.000000   \n",
       "            median      1.000000      1.000000       0.000000            NaN   \n",
       "            std         0.369591      0.369896       0.407521       0.407717   \n",
       "irr         mean        0.040954      0.049310      -0.028577      -0.382607   \n",
       "            len     21721.000000  53367.000000  134755.000000  235628.000000   \n",
       "            median      0.105541      0.119900       0.048285      -0.465180   \n",
       "            std         0.227265      0.225935       0.229724       0.339233   \n",
       "int_rate    mean       12.223746     13.637676      14.531745      13.771245   \n",
       "            len     21721.000000  53367.000000  134755.000000  235628.000000   \n",
       "            median     11.990000     13.670000      14.330000      13.650000   \n",
       "            std         4.148980      4.371890       4.437612       4.325532   \n",
       "\n",
       "issue_yr                     2015  \n",
       "mo_diff     mean         5.513693  \n",
       "            len     421094.000000  \n",
       "            median       5.000000  \n",
       "            std          3.435963  \n",
       "funded_amnt mean     15240.255561  \n",
       "            len     421094.000000  \n",
       "            median   14000.000000  \n",
       "            std       8571.313525  \n",
       "fully_paid  mean         0.879131  \n",
       "            len     421094.000000  \n",
       "            median            NaN  \n",
       "            std          0.325981  \n",
       "irr         mean        -0.904201  \n",
       "            len     421094.000000  \n",
       "            median      -0.996545  \n",
       "            std          0.261512  \n",
       "int_rate    mean        12.601731  \n",
       "            len     421094.000000  \n",
       "            median      12.290000  \n",
       "            std          4.317873  "
      ]
     },
     "execution_count": 69,
     "metadata": {},
     "output_type": "execute_result"
    }
   ],
   "source": [
    "df_group = df.groupby(['issue_yr'])\n",
    "#df_group.describe(percentiles=[])[['mo_diff','loan_amnt','loan_status_flag','irr','int_rate']].loc[['count','max']]\n",
    "df_group.agg([np.mean, len, statistics.median, np.std])[['mo_diff','funded_amnt','fully_paid','irr','int_rate']].transpose()"
   ]
  },
  {
   "cell_type": "markdown",
   "metadata": {},
   "source": [
    "    1. Market is growing(number of loans and loan size) at a healthy clip - this is good for institutional investors with liquidity needs.\n",
    "    2. Standard Deviation of the IRRs are huge likely due to defaults. So any serious investors looking for good risk/reward trade-off should mitigate the risk by pooling lots of loans."
   ]
  },
  {
   "cell_type": "markdown",
   "metadata": {},
   "source": [
    "##### IRR by Grade and Loan Size Buckets"
   ]
  },
  {
   "cell_type": "code",
   "execution_count": 70,
   "metadata": {},
   "outputs": [
    {
     "data": {
      "text/html": [
       "<div>\n",
       "<style>\n",
       "    .dataframe thead tr:only-child th {\n",
       "        text-align: right;\n",
       "    }\n",
       "\n",
       "    .dataframe thead th {\n",
       "        text-align: left;\n",
       "    }\n",
       "\n",
       "    .dataframe tbody tr th {\n",
       "        vertical-align: top;\n",
       "    }\n",
       "</style>\n",
       "<table border=\"1\" class=\"dataframe\">\n",
       "  <thead>\n",
       "    <tr>\n",
       "      <th></th>\n",
       "      <th></th>\n",
       "      <th colspan=\"3\" halign=\"left\">irr</th>\n",
       "      <th colspan=\"3\" halign=\"left\">int_rate</th>\n",
       "      <th colspan=\"3\" halign=\"left\">annual_inc</th>\n",
       "      <th colspan=\"3\" halign=\"left\">fully_paid</th>\n",
       "    </tr>\n",
       "    <tr>\n",
       "      <th></th>\n",
       "      <th></th>\n",
       "      <th>mean</th>\n",
       "      <th>len</th>\n",
       "      <th>std</th>\n",
       "      <th>mean</th>\n",
       "      <th>len</th>\n",
       "      <th>std</th>\n",
       "      <th>mean</th>\n",
       "      <th>len</th>\n",
       "      <th>std</th>\n",
       "      <th>mean</th>\n",
       "      <th>len</th>\n",
       "      <th>std</th>\n",
       "    </tr>\n",
       "    <tr>\n",
       "      <th>grade</th>\n",
       "      <th>size_bucket</th>\n",
       "      <th></th>\n",
       "      <th></th>\n",
       "      <th></th>\n",
       "      <th></th>\n",
       "      <th></th>\n",
       "      <th></th>\n",
       "      <th></th>\n",
       "      <th></th>\n",
       "      <th></th>\n",
       "      <th></th>\n",
       "      <th></th>\n",
       "      <th></th>\n",
       "    </tr>\n",
       "  </thead>\n",
       "  <tbody>\n",
       "    <tr>\n",
       "      <th rowspan=\"3\" valign=\"top\">A</th>\n",
       "      <th>large</th>\n",
       "      <td>0.048444</td>\n",
       "      <td>5018.0</td>\n",
       "      <td>0.141421</td>\n",
       "      <td>7.693300</td>\n",
       "      <td>5018.0</td>\n",
       "      <td>0.944082</td>\n",
       "      <td>90602.383147</td>\n",
       "      <td>5018.0</td>\n",
       "      <td>58693.670374</td>\n",
       "      <td>0.940016</td>\n",
       "      <td>5018.0</td>\n",
       "      <td>0.237481</td>\n",
       "    </tr>\n",
       "    <tr>\n",
       "      <th>medium</th>\n",
       "      <td>0.045590</td>\n",
       "      <td>6983.0</td>\n",
       "      <td>0.142148</td>\n",
       "      <td>7.373968</td>\n",
       "      <td>6983.0</td>\n",
       "      <td>1.024089</td>\n",
       "      <td>67438.238556</td>\n",
       "      <td>6983.0</td>\n",
       "      <td>45092.889777</td>\n",
       "      <td>0.939281</td>\n",
       "      <td>6983.0</td>\n",
       "      <td>0.238831</td>\n",
       "    </tr>\n",
       "    <tr>\n",
       "      <th>small</th>\n",
       "      <td>0.039728</td>\n",
       "      <td>8485.0</td>\n",
       "      <td>0.153291</td>\n",
       "      <td>7.427074</td>\n",
       "      <td>8485.0</td>\n",
       "      <td>1.038138</td>\n",
       "      <td>57151.060843</td>\n",
       "      <td>8485.0</td>\n",
       "      <td>45434.296782</td>\n",
       "      <td>0.926930</td>\n",
       "      <td>8485.0</td>\n",
       "      <td>0.260267</td>\n",
       "    </tr>\n",
       "    <tr>\n",
       "      <th rowspan=\"3\" valign=\"top\">B</th>\n",
       "      <th>large</th>\n",
       "      <td>0.065240</td>\n",
       "      <td>7869.0</td>\n",
       "      <td>0.194547</td>\n",
       "      <td>11.790403</td>\n",
       "      <td>7869.0</td>\n",
       "      <td>1.283790</td>\n",
       "      <td>84879.352174</td>\n",
       "      <td>7869.0</td>\n",
       "      <td>97530.479512</td>\n",
       "      <td>0.886517</td>\n",
       "      <td>7869.0</td>\n",
       "      <td>0.317203</td>\n",
       "    </tr>\n",
       "    <tr>\n",
       "      <th>medium</th>\n",
       "      <td>0.062350</td>\n",
       "      <td>9302.0</td>\n",
       "      <td>0.201307</td>\n",
       "      <td>11.819275</td>\n",
       "      <td>9302.0</td>\n",
       "      <td>1.278383</td>\n",
       "      <td>61185.170974</td>\n",
       "      <td>9302.0</td>\n",
       "      <td>37316.415127</td>\n",
       "      <td>0.881316</td>\n",
       "      <td>9302.0</td>\n",
       "      <td>0.323434</td>\n",
       "    </tr>\n",
       "    <tr>\n",
       "      <th>small</th>\n",
       "      <td>0.054472</td>\n",
       "      <td>9250.0</td>\n",
       "      <td>0.206924</td>\n",
       "      <td>11.544396</td>\n",
       "      <td>9250.0</td>\n",
       "      <td>1.292427</td>\n",
       "      <td>53153.282918</td>\n",
       "      <td>9250.0</td>\n",
       "      <td>37930.321834</td>\n",
       "      <td>0.874486</td>\n",
       "      <td>9250.0</td>\n",
       "      <td>0.331318</td>\n",
       "    </tr>\n",
       "    <tr>\n",
       "      <th rowspan=\"3\" valign=\"top\">C</th>\n",
       "      <th>large</th>\n",
       "      <td>0.074090</td>\n",
       "      <td>4875.0</td>\n",
       "      <td>0.231474</td>\n",
       "      <td>14.656297</td>\n",
       "      <td>4875.0</td>\n",
       "      <td>1.258865</td>\n",
       "      <td>83812.823778</td>\n",
       "      <td>4875.0</td>\n",
       "      <td>91729.251178</td>\n",
       "      <td>0.847795</td>\n",
       "      <td>4875.0</td>\n",
       "      <td>0.359256</td>\n",
       "    </tr>\n",
       "    <tr>\n",
       "      <th>medium</th>\n",
       "      <td>0.057088</td>\n",
       "      <td>5801.0</td>\n",
       "      <td>0.249715</td>\n",
       "      <td>14.616266</td>\n",
       "      <td>5801.0</td>\n",
       "      <td>1.292251</td>\n",
       "      <td>61514.939950</td>\n",
       "      <td>5801.0</td>\n",
       "      <td>44557.193883</td>\n",
       "      <td>0.821065</td>\n",
       "      <td>5801.0</td>\n",
       "      <td>0.383331</td>\n",
       "    </tr>\n",
       "    <tr>\n",
       "      <th>small</th>\n",
       "      <td>0.055164</td>\n",
       "      <td>5532.0</td>\n",
       "      <td>0.250642</td>\n",
       "      <td>14.294864</td>\n",
       "      <td>5532.0</td>\n",
       "      <td>1.404782</td>\n",
       "      <td>53028.110618</td>\n",
       "      <td>5532.0</td>\n",
       "      <td>87079.283111</td>\n",
       "      <td>0.831345</td>\n",
       "      <td>5532.0</td>\n",
       "      <td>0.374481</td>\n",
       "    </tr>\n",
       "    <tr>\n",
       "      <th rowspan=\"3\" valign=\"top\">D</th>\n",
       "      <th>large</th>\n",
       "      <td>0.074040</td>\n",
       "      <td>3503.0</td>\n",
       "      <td>0.274552</td>\n",
       "      <td>17.392241</td>\n",
       "      <td>3503.0</td>\n",
       "      <td>1.706903</td>\n",
       "      <td>88101.931296</td>\n",
       "      <td>3503.0</td>\n",
       "      <td>57781.109898</td>\n",
       "      <td>0.803311</td>\n",
       "      <td>3503.0</td>\n",
       "      <td>0.397552</td>\n",
       "    </tr>\n",
       "    <tr>\n",
       "      <th>medium</th>\n",
       "      <td>0.064777</td>\n",
       "      <td>2971.0</td>\n",
       "      <td>0.273546</td>\n",
       "      <td>17.004423</td>\n",
       "      <td>2971.0</td>\n",
       "      <td>1.657422</td>\n",
       "      <td>61394.401619</td>\n",
       "      <td>2971.0</td>\n",
       "      <td>38013.600075</td>\n",
       "      <td>0.793672</td>\n",
       "      <td>2971.0</td>\n",
       "      <td>0.404737</td>\n",
       "    </tr>\n",
       "    <tr>\n",
       "      <th>small</th>\n",
       "      <td>0.049571</td>\n",
       "      <td>2438.0</td>\n",
       "      <td>0.283230</td>\n",
       "      <td>16.180082</td>\n",
       "      <td>2438.0</td>\n",
       "      <td>1.813740</td>\n",
       "      <td>49065.504844</td>\n",
       "      <td>2438.0</td>\n",
       "      <td>30376.008786</td>\n",
       "      <td>0.789582</td>\n",
       "      <td>2438.0</td>\n",
       "      <td>0.407689</td>\n",
       "    </tr>\n",
       "    <tr>\n",
       "      <th rowspan=\"3\" valign=\"top\">E</th>\n",
       "      <th>large</th>\n",
       "      <td>0.087098</td>\n",
       "      <td>1042.0</td>\n",
       "      <td>0.282827</td>\n",
       "      <td>19.009012</td>\n",
       "      <td>1042.0</td>\n",
       "      <td>2.288736</td>\n",
       "      <td>97323.698436</td>\n",
       "      <td>1042.0</td>\n",
       "      <td>53568.718930</td>\n",
       "      <td>0.792706</td>\n",
       "      <td>1042.0</td>\n",
       "      <td>0.405562</td>\n",
       "    </tr>\n",
       "    <tr>\n",
       "      <th>medium</th>\n",
       "      <td>0.036175</td>\n",
       "      <td>442.0</td>\n",
       "      <td>0.321180</td>\n",
       "      <td>17.252534</td>\n",
       "      <td>442.0</td>\n",
       "      <td>2.313854</td>\n",
       "      <td>67983.985475</td>\n",
       "      <td>442.0</td>\n",
       "      <td>46817.154945</td>\n",
       "      <td>0.766968</td>\n",
       "      <td>442.0</td>\n",
       "      <td>0.423241</td>\n",
       "    </tr>\n",
       "    <tr>\n",
       "      <th>small</th>\n",
       "      <td>0.031156</td>\n",
       "      <td>607.0</td>\n",
       "      <td>0.307370</td>\n",
       "      <td>17.057166</td>\n",
       "      <td>607.0</td>\n",
       "      <td>2.463775</td>\n",
       "      <td>49151.076837</td>\n",
       "      <td>607.0</td>\n",
       "      <td>35402.053167</td>\n",
       "      <td>0.754530</td>\n",
       "      <td>607.0</td>\n",
       "      <td>0.430720</td>\n",
       "    </tr>\n",
       "    <tr>\n",
       "      <th rowspan=\"3\" valign=\"top\">F</th>\n",
       "      <th>large</th>\n",
       "      <td>-0.012374</td>\n",
       "      <td>259.0</td>\n",
       "      <td>0.380024</td>\n",
       "      <td>19.262201</td>\n",
       "      <td>259.0</td>\n",
       "      <td>2.514824</td>\n",
       "      <td>107366.553900</td>\n",
       "      <td>259.0</td>\n",
       "      <td>105567.721921</td>\n",
       "      <td>0.671815</td>\n",
       "      <td>259.0</td>\n",
       "      <td>0.470462</td>\n",
       "    </tr>\n",
       "    <tr>\n",
       "      <th>medium</th>\n",
       "      <td>-0.007534</td>\n",
       "      <td>122.0</td>\n",
       "      <td>0.373955</td>\n",
       "      <td>17.852213</td>\n",
       "      <td>122.0</td>\n",
       "      <td>2.395355</td>\n",
       "      <td>67427.292377</td>\n",
       "      <td>122.0</td>\n",
       "      <td>41441.769855</td>\n",
       "      <td>0.713115</td>\n",
       "      <td>122.0</td>\n",
       "      <td>0.454173</td>\n",
       "    </tr>\n",
       "    <tr>\n",
       "      <th>small</th>\n",
       "      <td>0.047882</td>\n",
       "      <td>135.0</td>\n",
       "      <td>0.333999</td>\n",
       "      <td>18.623852</td>\n",
       "      <td>135.0</td>\n",
       "      <td>2.549009</td>\n",
       "      <td>49296.934000</td>\n",
       "      <td>135.0</td>\n",
       "      <td>34537.647878</td>\n",
       "      <td>0.777778</td>\n",
       "      <td>135.0</td>\n",
       "      <td>0.417288</td>\n",
       "    </tr>\n",
       "    <tr>\n",
       "      <th rowspan=\"3\" valign=\"top\">G</th>\n",
       "      <th>large</th>\n",
       "      <td>0.012118</td>\n",
       "      <td>130.0</td>\n",
       "      <td>0.378527</td>\n",
       "      <td>20.321923</td>\n",
       "      <td>130.0</td>\n",
       "      <td>2.486990</td>\n",
       "      <td>123393.868923</td>\n",
       "      <td>130.0</td>\n",
       "      <td>95726.491461</td>\n",
       "      <td>0.684615</td>\n",
       "      <td>130.0</td>\n",
       "      <td>0.466466</td>\n",
       "    </tr>\n",
       "    <tr>\n",
       "      <th>medium</th>\n",
       "      <td>-0.156198</td>\n",
       "      <td>44.0</td>\n",
       "      <td>0.458387</td>\n",
       "      <td>18.752273</td>\n",
       "      <td>44.0</td>\n",
       "      <td>1.287225</td>\n",
       "      <td>72324.968182</td>\n",
       "      <td>44.0</td>\n",
       "      <td>40897.392318</td>\n",
       "      <td>0.545455</td>\n",
       "      <td>44.0</td>\n",
       "      <td>0.503686</td>\n",
       "    </tr>\n",
       "    <tr>\n",
       "      <th>small</th>\n",
       "      <td>0.068759</td>\n",
       "      <td>70.0</td>\n",
       "      <td>0.251827</td>\n",
       "      <td>18.714714</td>\n",
       "      <td>70.0</td>\n",
       "      <td>1.348149</td>\n",
       "      <td>53447.454286</td>\n",
       "      <td>70.0</td>\n",
       "      <td>34845.694532</td>\n",
       "      <td>0.685714</td>\n",
       "      <td>70.0</td>\n",
       "      <td>0.467583</td>\n",
       "    </tr>\n",
       "  </tbody>\n",
       "</table>\n",
       "</div>"
      ],
      "text/plain": [
       "                        irr                     int_rate                    \\\n",
       "                       mean     len       std       mean     len       std   \n",
       "grade size_bucket                                                            \n",
       "A     large        0.048444  5018.0  0.141421   7.693300  5018.0  0.944082   \n",
       "      medium       0.045590  6983.0  0.142148   7.373968  6983.0  1.024089   \n",
       "      small        0.039728  8485.0  0.153291   7.427074  8485.0  1.038138   \n",
       "B     large        0.065240  7869.0  0.194547  11.790403  7869.0  1.283790   \n",
       "      medium       0.062350  9302.0  0.201307  11.819275  9302.0  1.278383   \n",
       "      small        0.054472  9250.0  0.206924  11.544396  9250.0  1.292427   \n",
       "C     large        0.074090  4875.0  0.231474  14.656297  4875.0  1.258865   \n",
       "      medium       0.057088  5801.0  0.249715  14.616266  5801.0  1.292251   \n",
       "      small        0.055164  5532.0  0.250642  14.294864  5532.0  1.404782   \n",
       "D     large        0.074040  3503.0  0.274552  17.392241  3503.0  1.706903   \n",
       "      medium       0.064777  2971.0  0.273546  17.004423  2971.0  1.657422   \n",
       "      small        0.049571  2438.0  0.283230  16.180082  2438.0  1.813740   \n",
       "E     large        0.087098  1042.0  0.282827  19.009012  1042.0  2.288736   \n",
       "      medium       0.036175   442.0  0.321180  17.252534   442.0  2.313854   \n",
       "      small        0.031156   607.0  0.307370  17.057166   607.0  2.463775   \n",
       "F     large       -0.012374   259.0  0.380024  19.262201   259.0  2.514824   \n",
       "      medium      -0.007534   122.0  0.373955  17.852213   122.0  2.395355   \n",
       "      small        0.047882   135.0  0.333999  18.623852   135.0  2.549009   \n",
       "G     large        0.012118   130.0  0.378527  20.321923   130.0  2.486990   \n",
       "      medium      -0.156198    44.0  0.458387  18.752273    44.0  1.287225   \n",
       "      small        0.068759    70.0  0.251827  18.714714    70.0  1.348149   \n",
       "\n",
       "                      annual_inc                        fully_paid          \\\n",
       "                            mean     len            std       mean     len   \n",
       "grade size_bucket                                                            \n",
       "A     large         90602.383147  5018.0   58693.670374   0.940016  5018.0   \n",
       "      medium        67438.238556  6983.0   45092.889777   0.939281  6983.0   \n",
       "      small         57151.060843  8485.0   45434.296782   0.926930  8485.0   \n",
       "B     large         84879.352174  7869.0   97530.479512   0.886517  7869.0   \n",
       "      medium        61185.170974  9302.0   37316.415127   0.881316  9302.0   \n",
       "      small         53153.282918  9250.0   37930.321834   0.874486  9250.0   \n",
       "C     large         83812.823778  4875.0   91729.251178   0.847795  4875.0   \n",
       "      medium        61514.939950  5801.0   44557.193883   0.821065  5801.0   \n",
       "      small         53028.110618  5532.0   87079.283111   0.831345  5532.0   \n",
       "D     large         88101.931296  3503.0   57781.109898   0.803311  3503.0   \n",
       "      medium        61394.401619  2971.0   38013.600075   0.793672  2971.0   \n",
       "      small         49065.504844  2438.0   30376.008786   0.789582  2438.0   \n",
       "E     large         97323.698436  1042.0   53568.718930   0.792706  1042.0   \n",
       "      medium        67983.985475   442.0   46817.154945   0.766968   442.0   \n",
       "      small         49151.076837   607.0   35402.053167   0.754530   607.0   \n",
       "F     large        107366.553900   259.0  105567.721921   0.671815   259.0   \n",
       "      medium        67427.292377   122.0   41441.769855   0.713115   122.0   \n",
       "      small         49296.934000   135.0   34537.647878   0.777778   135.0   \n",
       "G     large        123393.868923   130.0   95726.491461   0.684615   130.0   \n",
       "      medium        72324.968182    44.0   40897.392318   0.545455    44.0   \n",
       "      small         53447.454286    70.0   34845.694532   0.685714    70.0   \n",
       "\n",
       "                             \n",
       "                        std  \n",
       "grade size_bucket            \n",
       "A     large        0.237481  \n",
       "      medium       0.238831  \n",
       "      small        0.260267  \n",
       "B     large        0.317203  \n",
       "      medium       0.323434  \n",
       "      small        0.331318  \n",
       "C     large        0.359256  \n",
       "      medium       0.383331  \n",
       "      small        0.374481  \n",
       "D     large        0.397552  \n",
       "      medium       0.404737  \n",
       "      small        0.407689  \n",
       "E     large        0.405562  \n",
       "      medium       0.423241  \n",
       "      small        0.430720  \n",
       "F     large        0.470462  \n",
       "      medium       0.454173  \n",
       "      small        0.417288  \n",
       "G     large        0.466466  \n",
       "      medium       0.503686  \n",
       "      small        0.467583  "
      ]
     },
     "execution_count": 70,
     "metadata": {},
     "output_type": "execute_result"
    }
   ],
   "source": [
    "df_group_check = df_filtered.groupby(['grade','size_bucket'])\n",
    "df_group_check.agg([np.mean, len, np.std])[['irr','int_rate','annual_inc','fully_paid']]"
   ]
  },
  {
   "cell_type": "markdown",
   "metadata": {},
   "source": [
    "We can conclude few things\n",
    "\n",
    "    1. Larger loans perform better across all higher grade asset classes.\n",
    "    2. While there is no clear correlation between interest rates and larger loans, there is a strong correlation between larger loans and higher average income and also between larger loans and lower default rates. We will watch out for this in our modeling section."
   ]
  },
  {
   "cell_type": "markdown",
   "metadata": {},
   "source": [
    "##### Return Distribution"
   ]
  },
  {
   "cell_type": "code",
   "execution_count": 71,
   "metadata": {},
   "outputs": [
    {
     "data": {
      "image/png": "[encoded data removed]",
      "text/plain": [
       "<matplotlib.figure.Figure at 0x14382f3ebe0>"
      ]
     },
     "metadata": {},
     "output_type": "display_data"
    }
   ],
   "source": [
    "####Histogram of returns\n",
    "plt.hist(df_filtered['irr'],bins=20) \n",
    "plt.xlabel('Return')\n",
    "plt.ylabel('Frequency')\n",
    "plt.title('Return Frequency')\n",
    "plt.show()"
   ]
  },
  {
   "cell_type": "markdown",
   "metadata": {},
   "source": [
    "    1. Lending returns are clearly not normally distributed and very long tailed skewed to the left. \n",
    "    2. That means extreme losses are frequent due to defaults. Again, pooling loans to spread the default risk out is key to a successful investment strategy."
   ]
  },
  {
   "cell_type": "markdown",
   "metadata": {},
   "source": [
    "##### Distribution of Pool of 100 Loans and 100 Trials"
   ]
  },
  {
   "cell_type": "code",
   "execution_count": 244,
   "metadata": {},
   "outputs": [
    {
     "data": {
      "image/png": "[encoded data removed]",
      "text/plain": [
       "<matplotlib.figure.Figure at 0x1438098b0b8>"
      ]
     },
     "metadata": {},
     "output_type": "display_data"
    }
   ],
   "source": [
    "x = df_sharpe.index\n",
    "y = [sublist[0] for sublist in df_sharpe.values]\n",
    "yerr = [sublist[1]*2 for sublist in df_sharpe.values]\n",
    "fig, ax = plt.subplots()\n",
    "ax.errorbar(x, y,  yerr=yerr)\n",
    "plt.xlabel('Year')\n",
    "plt.ylabel('Return Distribution')\n",
    "plt.title('Return Distribution of 100 Loan Baskets Across Time, 100 Trials')\n",
    "plt.show()"
   ]
  },
  {
   "cell_type": "markdown",
   "metadata": {},
   "source": [
    "This exercise of collecting 100 loan baskets tells us a few things\n",
    "    1. Had we bought and held 100 loans, from 2009 - 2012, we would have almost surely made a positive return because we were effectively diversifying out the default rates. Result is even more favorable with bigger baskets.\n",
    "    2. However, while we can diversify out the systematic risk of loan defaults, we can't diversfiy away systematic risk of a whole industry. To do that, we need to look at other asset classes that are negatively correlated to p2p lending market."
   ]
  },
  {
   "cell_type": "markdown",
   "metadata": {},
   "source": [
    "##### Overall Market IRR"
   ]
  },
  {
   "cell_type": "code",
   "execution_count": 73,
   "metadata": {},
   "outputs": [
    {
     "data": {
      "text/plain": [
       "0.061408379614021645"
      ]
     },
     "execution_count": 73,
     "metadata": {},
     "output_type": "execute_result"
    }
   ],
   "source": [
    "weighted_avg"
   ]
  },
  {
   "cell_type": "markdown",
   "metadata": {},
   "source": [
    "##### Highest IRR Bucket by Year and Grade"
   ]
  },
  {
   "cell_type": "code",
   "execution_count": 74,
   "metadata": {},
   "outputs": [
    {
     "data": {
      "text/plain": [
       "(2012, 'G')"
      ]
     },
     "execution_count": 74,
     "metadata": {},
     "output_type": "execute_result"
    }
   ],
   "source": [
    "df_group_irr.argmax()"
   ]
  },
  {
   "cell_type": "markdown",
   "metadata": {},
   "source": [
    "## Model for Portfolio Construction"
   ]
  },
  {
   "cell_type": "markdown",
   "metadata": {},
   "source": [
    "### Linear Regression Model"
   ]
  },
  {
   "cell_type": "markdown",
   "metadata": {},
   "source": [
    "In our EDA, we noticed that there are some characteristics of loans that gave us insights onto how profitable a loan might be. We will explore whether we can build a model that can help us capture this alpha. We will be fitting a linear regression for simplicity and interpretability. If our model proves successful we can dive deeper with a more rigorous model. Process is as follows.\n",
    "\n",
    "    1. Split our data into training and test sets\n",
    "    2. Train our model on a training set and make predictions on a test set\n",
    "    3. We will compare a performance of two portfolios\n",
    "        a. One built using top 1000 loans with highest return predictions\n",
    "        b. A portfolio consisting of 1000 randomly selected loans\n",
    "   \n",
    "Our model's accuracy was low using traditional forecasting accuracy metrics such as RMSE. However, this doesn't discredit our model much because our asset class has very polarizing returns. Any model that yields a point estimate will have bad accuracy since real data will either overshoot(fully paid) or undershoot(default) our predictions. So, for our purposes, our goal is to create a basket of loans, that on average, will yield a higher return over a basket of randomly chosen loans\n",
    "\n"
   ]
  },
  {
   "cell_type": "code",
   "execution_count": 110,
   "metadata": {
    "collapsed": true
   },
   "outputs": [],
   "source": [
    "###splitting our data to test and train sets\n",
    "msk = np.random.rand(len(df_filtered)) < 0.8\n",
    "train = df_filtered[msk].copy()\n",
    "test = df_filtered[~msk].copy()"
   ]
  },
  {
   "cell_type": "code",
   "execution_count": 111,
   "metadata": {
    "collapsed": true
   },
   "outputs": [],
   "source": [
    "train_sub = train[np.isfinite(train['annual_inc'])]"
   ]
  },
  {
   "cell_type": "markdown",
   "metadata": {},
   "source": [
    "##### Feature Selection Using Nested Model Testing"
   ]
  },
  {
   "cell_type": "markdown",
   "metadata": {},
   "source": [
    "We carefully vet our features using nested model testing. We start with a very simple model with just an interest rate, then as we add variables, we either accept it or reject it using F-statistics of two fits. If p<.05 we will keep the predictor."
   ]
  },
  {
   "cell_type": "code",
   "execution_count": 112,
   "metadata": {},
   "outputs": [
    {
     "name": "stdout",
     "output_type": "stream",
     "text": [
      "                            OLS Regression Results                            \n",
      "==============================================================================\n",
      "Dep. Variable:                    irr   R-squared:                       0.002\n",
      "Model:                            OLS   Adj. R-squared:                  0.002\n",
      "Method:                 Least Squares   F-statistic:                     116.3\n",
      "Date:                Wed, 27 Jun 2018   Prob (F-statistic):           4.25e-27\n",
      "Time:                        20:45:06   Log-Likelihood:                 7021.5\n",
      "No. Observations:               59921   AIC:                        -1.404e+04\n",
      "Df Residuals:                   59919   BIC:                        -1.402e+04\n",
      "Df Model:                           1                                         \n",
      "Covariance Type:            nonrobust                                         \n",
      "==============================================================================\n",
      "                 coef    std err          t      P>|t|      [0.025      0.975]\n",
      "------------------------------------------------------------------------------\n",
      "const          0.0245      0.003      8.074      0.000       0.019       0.030\n",
      "int_rate       0.0026      0.000     10.786      0.000       0.002       0.003\n",
      "==============================================================================\n",
      "Omnibus:                    38409.160   Durbin-Watson:                   1.980\n",
      "Prob(Omnibus):                  0.000   Jarque-Bera (JB):           329655.077\n",
      "Skew:                          -3.148   Prob(JB):                         0.00\n",
      "Kurtosis:                      12.613   Cond. No.                         43.6\n",
      "==============================================================================\n",
      "\n",
      "Warnings:\n",
      "[1] Standard Errors assume that the covariance matrix of the errors is correctly specified.\n"
     ]
    }
   ],
   "source": [
    "y =  train_sub.irr\n",
    "X = train_sub.int_rate\n",
    "X1 = sm.add_constant(X)\n",
    "est = sm.OLS(y, X1)\n",
    "est1 = est.fit()\n",
    "print(est1.summary())"
   ]
  },
  {
   "cell_type": "markdown",
   "metadata": {},
   "source": [
    "We see that the p-value for both variables are significant. We keep this model and test the next logical predictor."
   ]
  },
  {
   "cell_type": "code",
   "execution_count": 113,
   "metadata": {
    "collapsed": true
   },
   "outputs": [],
   "source": [
    "###Fitting funded amount\n",
    "y =  train_sub.irr\n",
    "X = train_sub[['int_rate','funded_amnt']]"
   ]
  },
  {
   "cell_type": "code",
   "execution_count": 114,
   "metadata": {},
   "outputs": [
    {
     "name": "stdout",
     "output_type": "stream",
     "text": [
      "                            OLS Regression Results                            \n",
      "==============================================================================\n",
      "Dep. Variable:                    irr   R-squared:                       0.003\n",
      "Model:                            OLS   Adj. R-squared:                  0.003\n",
      "Method:                 Least Squares   F-statistic:                     95.52\n",
      "Date:                Wed, 27 Jun 2018   Prob (F-statistic):           3.82e-42\n",
      "Time:                        20:45:11   Log-Likelihood:                 7058.8\n",
      "No. Observations:               59921   AIC:                        -1.411e+04\n",
      "Df Residuals:                   59918   BIC:                        -1.408e+04\n",
      "Df Model:                           2                                         \n",
      "Covariance Type:            nonrobust                                         \n",
      "===============================================================================\n",
      "                  coef    std err          t      P>|t|      [0.025      0.975]\n",
      "-------------------------------------------------------------------------------\n",
      "const           0.0168      0.003      5.329      0.000       0.011       0.023\n",
      "int_rate        0.0022      0.000      9.107      0.000       0.002       0.003\n",
      "funded_amnt  1.129e-06   1.31e-07      8.635      0.000    8.73e-07    1.39e-06\n",
      "==============================================================================\n",
      "Omnibus:                    38362.607   Durbin-Watson:                   1.981\n",
      "Prob(Omnibus):                  0.000   Jarque-Bera (JB):           328664.688\n",
      "Skew:                          -3.143   Prob(JB):                         0.00\n",
      "Kurtosis:                      12.598   Cond. No.                     4.58e+04\n",
      "==============================================================================\n",
      "\n",
      "Warnings:\n",
      "[1] Standard Errors assume that the covariance matrix of the errors is correctly specified.\n",
      "[2] The condition number is large, 4.58e+04. This might indicate that there are\n",
      "strong multicollinearity or other numerical problems.\n"
     ]
    }
   ],
   "source": [
    "X2 = sm.add_constant(X)\n",
    "est = sm.OLS(y, X2)\n",
    "est2 = est.fit()\n",
    "print(est2.summary())"
   ]
  },
  {
   "cell_type": "code",
   "execution_count": 115,
   "metadata": {},
   "outputs": [
    {
     "name": "stdout",
     "output_type": "stream",
     "text": [
      "   df_resid          ssr  df_diff   ss_diff          F        Pr(>F)\n",
      "0   59919.0  2775.387679      0.0       NaN        NaN           NaN\n",
      "1   59918.0  2771.938280      1.0  3.449398  74.561923  6.018088e-18\n"
     ]
    }
   ],
   "source": [
    "anovaResults = anova_lm(est1, est2)\n",
    "print(anovaResults)"
   ]
  },
  {
   "cell_type": "markdown",
   "metadata": {},
   "source": [
    "Our nested model test shows that including the funded amount predictor is significant. Also the variables are significant. We will move onto the next variable. We will repeat this process until we have a final model."
   ]
  },
  {
   "cell_type": "code",
   "execution_count": 116,
   "metadata": {
    "collapsed": true
   },
   "outputs": [],
   "source": [
    "y =  train_sub.irr\n",
    "X = train_sub[['int_rate','funded_amnt','annual_inc']]"
   ]
  },
  {
   "cell_type": "markdown",
   "metadata": {},
   "source": [
    "Annual Income makes the cut."
   ]
  },
  {
   "cell_type": "code",
   "execution_count": 118,
   "metadata": {},
   "outputs": [],
   "source": [
    "X3 = sm.add_constant(X)\n",
    "est = sm.OLS(y, X3)\n",
    "est3= est.fit()\n",
    "print(est3.summary())"
   ]
  },
  {
   "cell_type": "code",
   "execution_count": 119,
   "metadata": {},
   "outputs": [
    {
     "name": "stdout",
     "output_type": "stream",
     "text": [
      "   df_resid          ssr  df_diff   ss_diff        F        Pr(>F)\n",
      "0   59918.0  2771.938280      0.0       NaN      NaN           NaN\n",
      "1   59917.0  2768.043828      1.0  3.894452  84.2992  4.383805e-20\n"
     ]
    }
   ],
   "source": [
    "anovaResults = anova_lm(est2, est3)\n",
    "print(anovaResults)"
   ]
  },
  {
   "cell_type": "code",
   "execution_count": 120,
   "metadata": {
    "collapsed": true
   },
   "outputs": [],
   "source": [
    "###Creating 0 or 1 dummy variables for loan grades\n",
    "grade_predictors=pd.get_dummies(train_sub['grade'])\n",
    "train_sub['a_flag'] = grade_predictors['A']\n",
    "train_sub['b_flag'] = grade_predictors['B']\n",
    "train_sub['c_flag'] = grade_predictors['C']\n",
    "train_sub['d_flag'] = grade_predictors['D']\n",
    "train_sub['e_flag'] = grade_predictors['E']\n",
    "train_sub['f_flag'] = grade_predictors['F']\n",
    "train_sub['g_flag'] = grade_predictors['G']"
   ]
  },
  {
   "cell_type": "code",
   "execution_count": 121,
   "metadata": {
    "collapsed": true
   },
   "outputs": [],
   "source": [
    "y =  train_sub.irr\n",
    "X = train_sub[['int_rate','funded_amnt','annual_inc','a_flag']]"
   ]
  },
  {
   "cell_type": "code",
   "execution_count": 123,
   "metadata": {},
   "outputs": [],
   "source": [
    "X4 = sm.add_constant(X)\n",
    "est = sm.OLS(y, X4)\n",
    "est4= est.fit()"
   ]
  },
  {
   "cell_type": "code",
   "execution_count": 124,
   "metadata": {},
   "outputs": [
    {
     "name": "stdout",
     "output_type": "stream",
     "text": [
      "   df_resid          ssr  df_diff   ss_diff         F    Pr(>F)\n",
      "0   59917.0  2768.043828      0.0       NaN       NaN       NaN\n",
      "1   59916.0  2768.024184      1.0  0.019645  0.425227  0.514343\n"
     ]
    }
   ],
   "source": [
    "anovaResults = anova_lm(est3, est4)\n",
    "print(anovaResults)"
   ]
  },
  {
   "cell_type": "markdown",
   "metadata": {},
   "source": [
    "Nested Model Test Suggests including a flag for A grade is unnecessary. Also, the p-value is insignifcant."
   ]
  },
  {
   "cell_type": "markdown",
   "metadata": {},
   "source": [
    "B-Flag makes the cut."
   ]
  },
  {
   "cell_type": "code",
   "execution_count": 125,
   "metadata": {
    "collapsed": true
   },
   "outputs": [],
   "source": [
    "y =  train_sub.irr\n",
    "X = train_sub[['int_rate','funded_amnt','annual_inc','b_flag']]"
   ]
  },
  {
   "cell_type": "code",
   "execution_count": 127,
   "metadata": {},
   "outputs": [],
   "source": [
    "X5 = sm.add_constant(X)\n",
    "est = sm.OLS(y, X5)\n",
    "est5= est.fit()"
   ]
  },
  {
   "cell_type": "code",
   "execution_count": 128,
   "metadata": {},
   "outputs": [
    {
     "name": "stdout",
     "output_type": "stream",
     "text": [
      "   df_resid          ssr  df_diff   ss_diff          F        Pr(>F)\n",
      "0   59917.0  2768.043828      0.0       NaN        NaN           NaN\n",
      "1   59916.0  2766.815830      1.0  1.227998  26.592572  2.520049e-07\n"
     ]
    }
   ],
   "source": [
    "anovaResults = anova_lm(est3, est5)\n",
    "print(anovaResults)"
   ]
  },
  {
   "cell_type": "markdown",
   "metadata": {},
   "source": [
    "C-Flag does not make the cut."
   ]
  },
  {
   "cell_type": "code",
   "execution_count": 129,
   "metadata": {},
   "outputs": [],
   "source": [
    "y =  train_sub.irr\n",
    "X = train_sub[['int_rate','funded_amnt','annual_inc','b_flag','c_flag']]\n",
    "X6 = sm.add_constant(X)\n",
    "est = sm.OLS(y, X6)\n",
    "est6= est.fit()"
   ]
  },
  {
   "cell_type": "code",
   "execution_count": 130,
   "metadata": {},
   "outputs": [
    {
     "name": "stdout",
     "output_type": "stream",
     "text": [
      "   df_resid          ssr  df_diff   ss_diff         F    Pr(>F)\n",
      "0   59916.0  2766.815830      0.0       NaN       NaN       NaN\n",
      "1   59915.0  2766.783922      1.0  0.031908  0.690982  0.405834\n"
     ]
    }
   ],
   "source": [
    "anovaResults = anova_lm(est5, est6)\n",
    "print(anovaResults)"
   ]
  },
  {
   "cell_type": "markdown",
   "metadata": {},
   "source": [
    "D-Flag does not make the cut."
   ]
  },
  {
   "cell_type": "code",
   "execution_count": 131,
   "metadata": {},
   "outputs": [
    {
     "name": "stdout",
     "output_type": "stream",
     "text": [
      "   df_resid         ssr  df_diff  ss_diff       F    Pr(>F)\n",
      "0   59916.0  2766.81583      0.0      NaN     NaN       NaN\n",
      "1   59915.0  2766.79118      1.0  0.02465  0.5338  0.465017\n"
     ]
    }
   ],
   "source": [
    "y =  train_sub.irr\n",
    "X = train_sub[['int_rate','funded_amnt','annual_inc','b_flag','d_flag']]\n",
    "X7 = sm.add_constant(X)\n",
    "est = sm.OLS(y, X7)\n",
    "est7= est.fit()\n",
    "anovaResults = anova_lm(est5,est7)\n",
    "print(anovaResults)"
   ]
  },
  {
   "cell_type": "markdown",
   "metadata": {},
   "source": [
    "E-Flag does not make the cut."
   ]
  },
  {
   "cell_type": "code",
   "execution_count": 135,
   "metadata": {},
   "outputs": [],
   "source": [
    "y =  train_sub.irr\n",
    "X = train_sub[['int_rate','funded_amnt','annual_inc','b_flag','e_flag']]\n",
    "X8 = sm.add_constant(X)\n",
    "est = sm.OLS(y, X8)\n",
    "est8= est.fit()\n",
    "print(est8.summary())"
   ]
  },
  {
   "cell_type": "code",
   "execution_count": 137,
   "metadata": {},
   "outputs": [
    {
     "name": "stdout",
     "output_type": "stream",
     "text": [
      "   df_resid          ssr  df_diff   ss_diff         F    Pr(>F)\n",
      "0   59916.0  2766.815830      0.0       NaN       NaN       NaN\n",
      "1   59915.0  2766.639563      1.0  0.176267  3.817289  0.050731\n"
     ]
    }
   ],
   "source": [
    "anovaResults = anova_lm(est5,est8)\n",
    "print(anovaResults)"
   ]
  },
  {
   "cell_type": "markdown",
   "metadata": {},
   "source": [
    "F-Flag makes the cut."
   ]
  },
  {
   "cell_type": "code",
   "execution_count": 147,
   "metadata": {},
   "outputs": [],
   "source": [
    "y =  train_sub.irr\n",
    "X = train_sub[['int_rate','funded_amnt','annual_inc','b_flag','f_flag']]\n",
    "X9 = sm.add_constant(X)\n",
    "est = sm.OLS(y, X9)\n",
    "est9= est.fit()\n",
    "print(est9.summary())"
   ]
  },
  {
   "cell_type": "code",
   "execution_count": 144,
   "metadata": {},
   "outputs": [
    {
     "name": "stdout",
     "output_type": "stream",
     "text": [
      "   df_resid          ssr  df_diff   ss_diff          F        Pr(>F)\n",
      "0   59916.0  2766.815830      0.0       NaN        NaN           NaN\n",
      "1   59915.0  2765.281622      1.0  1.534208  33.241497  8.179329e-09\n"
     ]
    }
   ],
   "source": [
    "anovaResults = anova_lm(est5,est9)\n",
    "print(anovaResults)"
   ]
  },
  {
   "cell_type": "markdown",
   "metadata": {},
   "source": [
    "G-Flag makes the cut."
   ]
  },
  {
   "cell_type": "code",
   "execution_count": 156,
   "metadata": {},
   "outputs": [],
   "source": [
    "y =  train_sub.irr\n",
    "X = train_sub[['int_rate','funded_amnt','annual_inc','b_flag','f_flag','g_flag']]\n",
    "X10 = sm.add_constant(X)\n",
    "est = sm.OLS(y, X10)\n",
    "est10= est.fit()\n",
    "print(est10.summary())"
   ]
  },
  {
   "cell_type": "code",
   "execution_count": 152,
   "metadata": {},
   "outputs": [
    {
     "name": "stdout",
     "output_type": "stream",
     "text": [
      "   df_resid          ssr  df_diff   ss_diff          F        Pr(>F)\n",
      "0   59915.0  2765.281622      0.0       NaN        NaN           NaN\n",
      "1   59914.0  2763.859319      1.0  1.422303  30.832195  2.825209e-08\n"
     ]
    }
   ],
   "source": [
    "anovaResults = anova_lm(est9,est10)\n",
    "print(anovaResults)"
   ]
  },
  {
   "cell_type": "markdown",
   "metadata": {},
   "source": [
    "We notice our constant is no longer significant. We will conduct a nested model testing on a model with the constant against the model without the constant. "
   ]
  },
  {
   "cell_type": "code",
   "execution_count": 153,
   "metadata": {},
   "outputs": [
    {
     "name": "stdout",
     "output_type": "stream",
     "text": [
      "   df_resid          ssr  df_diff   ss_diff         F    Pr(>F)\n",
      "0   59915.0  2763.886738      0.0       NaN       NaN       NaN\n",
      "1   59914.0  2763.859319      1.0  0.027419  0.594379  0.440734\n"
     ]
    }
   ],
   "source": [
    "y =  train_sub.irr\n",
    "X11 = train_sub[['int_rate','funded_amnt','annual_inc','b_flag','f_flag','g_flag']]\n",
    "est = sm.OLS(y, X11)\n",
    "est11= est.fit()\n",
    "anovaResults = anova_lm(est11, est10)\n",
    "print(anovaResults)"
   ]
  },
  {
   "cell_type": "markdown",
   "metadata": {},
   "source": [
    "Nested model suggests that our y-intercept constant has little significance. We will go ahead without the constant"
   ]
  },
  {
   "cell_type": "code",
   "execution_count": 160,
   "metadata": {},
   "outputs": [
    {
     "data": {
      "text/html": [
       "<table class=\"simpletable\">\n",
       "<caption>OLS Regression Results</caption>\n",
       "<tr>\n",
       "  <th>Dep. Variable:</th>           <td>irr</td>       <th>  R-squared:         </th>  <td>   0.068</td> \n",
       "</tr>\n",
       "<tr>\n",
       "  <th>Model:</th>                   <td>OLS</td>       <th>  Adj. R-squared:    </th>  <td>   0.068</td> \n",
       "</tr>\n",
       "<tr>\n",
       "  <th>Method:</th>             <td>Least Squares</td>  <th>  F-statistic:       </th>  <td>   733.7</td> \n",
       "</tr>\n",
       "<tr>\n",
       "  <th>Date:</th>             <td>Wed, 27 Jun 2018</td> <th>  Prob (F-statistic):</th>   <td>  0.00</td>  \n",
       "</tr>\n",
       "<tr>\n",
       "  <th>Time:</th>                 <td>20:53:30</td>     <th>  Log-Likelihood:    </th>  <td>  7145.9</td> \n",
       "</tr>\n",
       "<tr>\n",
       "  <th>No. Observations:</th>      <td> 59921</td>      <th>  AIC:               </th> <td>-1.428e+04</td>\n",
       "</tr>\n",
       "<tr>\n",
       "  <th>Df Residuals:</th>          <td> 59915</td>      <th>  BIC:               </th> <td>-1.423e+04</td>\n",
       "</tr>\n",
       "<tr>\n",
       "  <th>Df Model:</th>              <td>     6</td>      <th>                     </th>      <td> </td>    \n",
       "</tr>\n",
       "<tr>\n",
       "  <th>Covariance Type:</th>      <td>nonrobust</td>    <th>                     </th>      <td> </td>    \n",
       "</tr>\n",
       "</table>\n",
       "<table class=\"simpletable\">\n",
       "<tr>\n",
       "       <td></td>          <th>coef</th>     <th>std err</th>      <th>t</th>      <th>P>|t|</th>  <th>[0.025</th>    <th>0.975]</th>  \n",
       "</tr>\n",
       "<tr>\n",
       "  <th>int_rate</th>    <td>    0.0029</td> <td>    0.000</td> <td>   21.289</td> <td> 0.000</td> <td>    0.003</td> <td>    0.003</td>\n",
       "</tr>\n",
       "<tr>\n",
       "  <th>funded_amnt</th> <td>  8.07e-07</td> <td> 1.33e-07</td> <td>    6.059</td> <td> 0.000</td> <td> 5.46e-07</td> <td> 1.07e-06</td>\n",
       "</tr>\n",
       "<tr>\n",
       "  <th>annual_inc</th>  <td>  1.36e-07</td> <td> 1.38e-08</td> <td>    9.823</td> <td> 0.000</td> <td> 1.09e-07</td> <td> 1.63e-07</td>\n",
       "</tr>\n",
       "<tr>\n",
       "  <th>b_flag</th>      <td>    0.0089</td> <td>    0.002</td> <td>    4.999</td> <td> 0.000</td> <td>    0.005</td> <td>    0.012</td>\n",
       "</tr>\n",
       "<tr>\n",
       "  <th>f_flag</th>      <td>   -0.0643</td> <td>    0.011</td> <td>   -6.018</td> <td> 0.000</td> <td>   -0.085</td> <td>   -0.043</td>\n",
       "</tr>\n",
       "<tr>\n",
       "  <th>g_flag</th>      <td>   -0.0905</td> <td>    0.016</td> <td>   -5.635</td> <td> 0.000</td> <td>   -0.122</td> <td>   -0.059</td>\n",
       "</tr>\n",
       "</table>\n",
       "<table class=\"simpletable\">\n",
       "<tr>\n",
       "  <th>Omnibus:</th>       <td>38290.759</td> <th>  Durbin-Watson:     </th>  <td>   1.984</td> \n",
       "</tr>\n",
       "<tr>\n",
       "  <th>Prob(Omnibus):</th>  <td> 0.000</td>   <th>  Jarque-Bera (JB):  </th> <td>327317.436</td>\n",
       "</tr>\n",
       "<tr>\n",
       "  <th>Skew:</th>           <td>-3.136</td>   <th>  Prob(JB):          </th>  <td>    0.00</td> \n",
       "</tr>\n",
       "<tr>\n",
       "  <th>Kurtosis:</th>       <td>12.579</td>   <th>  Cond. No.          </th>  <td>1.71e+06</td> \n",
       "</tr>\n",
       "</table>"
      ],
      "text/plain": [
       "<class 'statsmodels.iolib.summary.Summary'>\n",
       "\"\"\"\n",
       "                            OLS Regression Results                            \n",
       "==============================================================================\n",
       "Dep. Variable:                    irr   R-squared:                       0.068\n",
       "Model:                            OLS   Adj. R-squared:                  0.068\n",
       "Method:                 Least Squares   F-statistic:                     733.7\n",
       "Date:                Wed, 27 Jun 2018   Prob (F-statistic):               0.00\n",
       "Time:                        20:53:30   Log-Likelihood:                 7145.9\n",
       "No. Observations:               59921   AIC:                        -1.428e+04\n",
       "Df Residuals:                   59915   BIC:                        -1.423e+04\n",
       "Df Model:                           6                                         \n",
       "Covariance Type:            nonrobust                                         \n",
       "===============================================================================\n",
       "                  coef    std err          t      P>|t|      [0.025      0.975]\n",
       "-------------------------------------------------------------------------------\n",
       "int_rate        0.0029      0.000     21.289      0.000       0.003       0.003\n",
       "funded_amnt   8.07e-07   1.33e-07      6.059      0.000    5.46e-07    1.07e-06\n",
       "annual_inc    1.36e-07   1.38e-08      9.823      0.000    1.09e-07    1.63e-07\n",
       "b_flag          0.0089      0.002      4.999      0.000       0.005       0.012\n",
       "f_flag         -0.0643      0.011     -6.018      0.000      -0.085      -0.043\n",
       "g_flag         -0.0905      0.016     -5.635      0.000      -0.122      -0.059\n",
       "==============================================================================\n",
       "Omnibus:                    38290.759   Durbin-Watson:                   1.984\n",
       "Prob(Omnibus):                  0.000   Jarque-Bera (JB):           327317.436\n",
       "Skew:                          -3.136   Prob(JB):                         0.00\n",
       "Kurtosis:                      12.579   Cond. No.                     1.71e+06\n",
       "==============================================================================\n",
       "\n",
       "Warnings:\n",
       "[1] Standard Errors assume that the covariance matrix of the errors is correctly specified.\n",
       "[2] The condition number is large, 1.71e+06. This might indicate that there are\n",
       "strong multicollinearity or other numerical problems.\n",
       "\"\"\""
      ]
     },
     "execution_count": 160,
     "metadata": {},
     "output_type": "execute_result"
    }
   ],
   "source": [
    "est11.summary()"
   ]
  },
  {
   "cell_type": "markdown",
   "metadata": {},
   "source": [
    "Here is what our final model sugggets. These coefficient interpretations assume that all other variables are HELD CONSTANT.\n",
    "    1. Every 1% increase in interest rate correlates to .29% increase in irr\n",
    "    2. Every $10000 dollar increase in loan size correlates to .807% increase in irr\n",
    "    3. Every $10000 dollar increase in average annual income correlates to .136% increase in irr\n",
    "    4. B grades on average have .89% higher irr \n",
    "    5. F grades on average have 6.43% less irr \n",
    "    6. G Grades on average have 9.05% less irr\n",
    "    7. All of our variables are significant. However, our R^2 isn't great. Our model doesn't explain much of the variability in the dataset. This is understandable since our model is a point estimate, but our data is polarized. Therefore, our residuals will be large."
   ]
  },
  {
   "cell_type": "markdown",
   "metadata": {},
   "source": [
    "Here are additional insights from our model\n",
    "    1. We notice that the lower grades actually yield lower returns while our averages suggested otherwise. This is an effect so called the Simpson's Paradox. A directional influence of a predictor can change or decrease significantly, when explanatory effects of other significant predictors are taken away.\n",
    "    2. Funded amount still stands as a significant predictor. Also, annual income proved to be significant as well. Potential explanation is that higher incomed individuals as well as indivduals who can command a higher loan amount are better financially positioned to meet their payments.\n",
    "    3. It is likely that Lending Club's grade system is not efficient. Theoretically, if their grading system is perfect, there shouldn't be any explanatory effects we can get from variables that are factors into their grading system, i.e. annual income.\n",
    "    4. We should be choosing high interest rate, high principal and high grade loans. "
   ]
  },
  {
   "cell_type": "code",
   "execution_count": 161,
   "metadata": {
    "collapsed": true
   },
   "outputs": [],
   "source": [
    "test_sub = test[np.isfinite(test['annual_inc'])]"
   ]
  },
  {
   "cell_type": "code",
   "execution_count": 162,
   "metadata": {
    "collapsed": true
   },
   "outputs": [],
   "source": [
    "grade_predictors=pd.get_dummies(test_sub['grade'])\n",
    "test_sub['a_flag'] = grade_predictors['A']\n",
    "test_sub['b_flag'] = grade_predictors['B']\n",
    "test_sub['c_flag'] = grade_predictors['C']\n",
    "test_sub['d_flag'] = grade_predictors['D']\n",
    "test_sub['e_flag'] = grade_predictors['E']\n",
    "test_sub['f_flag'] = grade_predictors['F']\n",
    "test_sub['g_flag'] = grade_predictors['G']"
   ]
  },
  {
   "cell_type": "code",
   "execution_count": 163,
   "metadata": {
    "collapsed": true
   },
   "outputs": [],
   "source": [
    "predictions = est11.predict(test_sub[['int_rate','funded_amnt','annual_inc','b_flag','f_flag','g_flag']])"
   ]
  },
  {
   "cell_type": "code",
   "execution_count": 164,
   "metadata": {},
   "outputs": [
    {
     "data": {
      "text/plain": [
       "26.050264183457809"
      ]
     },
     "execution_count": 164,
     "metadata": {},
     "output_type": "execute_result"
    }
   ],
   "source": [
    "RMSE = sum((predictions - test_sub['irr'])**2)**(1/2)\n",
    "RMSE"
   ]
  },
  {
   "cell_type": "markdown",
   "metadata": {},
   "source": [
    "For a model that forecasts IRRs which generally ranges from -1 to 1, this RMSE is quite bad. \n",
    "Also as shown in summary above, R^2 is very low at .07."
   ]
  },
  {
   "cell_type": "markdown",
   "metadata": {},
   "source": [
    "However, let's see our model performs when it comes to returns. We will take top 1000 loans from our model's prediction and compare that against a random sample of 1000 loans both from our test set."
   ]
  },
  {
   "cell_type": "code",
   "execution_count": 165,
   "metadata": {
    "collapsed": true
   },
   "outputs": [],
   "source": [
    "test_sub['predictions'] = predictions\n",
    "top1000= predictions.nlargest(n=10, keep='first')"
   ]
  },
  {
   "cell_type": "markdown",
   "metadata": {},
   "source": [
    "Actual returns of top 1000 loans that our model predicted."
   ]
  },
  {
   "cell_type": "code",
   "execution_count": 167,
   "metadata": {},
   "outputs": [
    {
     "data": {
      "text/plain": [
       "0.12818116544372413"
      ]
     },
     "execution_count": 167,
     "metadata": {},
     "output_type": "execute_result"
    }
   ],
   "source": [
    "np.mean(test_sub[test_sub['predictions'].isin(top1000)]['irr'])"
   ]
  },
  {
   "cell_type": "markdown",
   "metadata": {},
   "source": [
    "Actual returns of 1000 randomly selected returns as well as its standard deviation after 100 trials."
   ]
  },
  {
   "cell_type": "code",
   "execution_count": 168,
   "metadata": {},
   "outputs": [
    {
     "data": {
      "text/plain": [
       "[0.072281513838226438, 0.006317205141019704]"
      ]
     },
     "execution_count": 168,
     "metadata": {},
     "output_type": "execute_result"
    }
   ],
   "source": [
    "###We collect 100 random samples of 1000 loans\n",
    "collect_n_random_stats(test_sub,100,1000)"
   ]
  },
  {
   "cell_type": "markdown",
   "metadata": {},
   "source": [
    "We see a very significant 5.6% lift in returns. We are more confident with our model if it is able to generate higher returns at a lower basket size. It means we are effectively able to pick out the best performing loans and therefore subsequent selections are eating away at our alpha since we are forced to pick the next best loans."
   ]
  },
  {
   "cell_type": "code",
   "execution_count": 169,
   "metadata": {},
   "outputs": [
    {
     "data": {
      "image/png": "[encoded data removed]",
      "text/plain": [
       "<matplotlib.figure.Figure at 0x143c4a4c438>"
      ]
     },
     "metadata": {},
     "output_type": "display_data"
    }
   ],
   "source": [
    "results = []\n",
    "for size in np.arange(50,15000,50):\n",
    "    topn= predictions.nlargest(n=size, keep='first')\n",
    "    results.append(np.mean(test_sub[test_sub['predictions'].isin(topn)]['irr']))\n",
    "x = np.arange(50,15000,50)\n",
    "y = results\n",
    "fig, ax = plt.subplots()\n",
    "plt.xlabel('Number of Loans Chosen')\n",
    "plt.ylabel('Portfolio Returns')\n",
    "plt.title('Portfolio Returns over Number of Loans Chosen')\n",
    "ax.errorbar(x, y)\n",
    "plt.show()"
   ]
  },
  {
   "cell_type": "markdown",
   "metadata": {},
   "source": [
    "We see a strong reversion to mean and lower returns as we increase the top number of loans we choose. This is a strong indication that our the model has good predictive powers and therefore, as we pick out the low hanging fruits, we start losing our alpha that our model generated. \n",
    "\n",
    "As an illustration, had we chosen all the loans in our test set, we would just have a simple average, and our model wouldn't have any voice as to which loans should be chosen."
   ]
  },
  {
   "cell_type": "markdown",
   "metadata": {},
   "source": [
    "However, we need to be careful of following things\n",
    "    1. We are constructing our strategy with information we would not have had(we wouldn't know in 2012 how 2011 loans would have performed since they didn't fully mature yet). This is otherwise called a look-ahead bias. Again, a better method would be to explore a buy-hold-sell strategy or we should be using only data that would have been completely available at the time of purchase.\n",
    "    2. We are quiet sure about how 1000 randomly chosen loans would have performed because we can sample that arbitrairly many times. However, we were only able to test our model once on a test set. We can try splitting our test set down into smaller chunks. However, this will definitely reduce our model's alpha since we aren't able to capture as many outliers per smaller sample.\n"
   ]
  },
  {
   "cell_type": "markdown",
   "metadata": {},
   "source": [
    "##### Building Confidence on the Model Performance"
   ]
  },
  {
   "cell_type": "markdown",
   "metadata": {},
   "source": [
    "To help us build confidence on our model and avoid the possibility that we \"struck gold\" by getting lucky with our selection, we will condudct some trials.\n",
    "\n",
    "We will take our test set and collect 100 random samples of 1000 loans. From this sub-population of 1000 loans, we will find 100 best performing loans from our model and 100 randomly chosen models. We will collect this data 1000 times to see which method performs better."
   ]
  },
  {
   "cell_type": "code",
   "execution_count": 176,
   "metadata": {
    "collapsed": true
   },
   "outputs": [],
   "source": [
    "def predict(df,size):\n",
    "    predict_sub = est11.predict(df[['int_rate','funded_amnt','annual_inc','b_flag','f_flag','g_flag']])\n",
    "    df['predictions'] = predict_sub\n",
    "    top_size= predict_sub.nlargest(n=size, keep='first')\n",
    "    return np.mean(df[df['predictions'].isin(top_size)]['irr'])"
   ]
  },
  {
   "cell_type": "code",
   "execution_count": 193,
   "metadata": {
    "collapsed": true
   },
   "outputs": [],
   "source": [
    "def collect_n_random_stats_compare(df,n,size,sub):\n",
    "    returns_list = []\n",
    "    models_list=[]\n",
    "    for x in range(0,n):\n",
    "        df_sub = df.sample(size, replace=False)\n",
    "        df_out = df.sample(sub,replace=False)\n",
    "        returns_list.append(irr_pool(df_out)) \n",
    "        models_list.append(predict(df_sub,sub))\n",
    "    return [[returns_list], [models_list]]"
   ]
  },
  {
   "cell_type": "code",
   "execution_count": 229,
   "metadata": {},
   "outputs": [],
   "source": [
    "compare_many = collect_n_random_stats_compare(test_sub,1000,1000,100)"
   ]
  },
  {
   "cell_type": "code",
   "execution_count": 230,
   "metadata": {},
   "outputs": [
    {
     "data": {
      "text/plain": [
       "0.07139759294165722"
      ]
     },
     "execution_count": 230,
     "metadata": {},
     "output_type": "execute_result"
    }
   ],
   "source": [
    "np.mean(compare_many[0])"
   ]
  },
  {
   "cell_type": "code",
   "execution_count": 231,
   "metadata": {},
   "outputs": [
    {
     "data": {
      "text/plain": [
       "0.091499383085116903"
      ]
     },
     "execution_count": 231,
     "metadata": {},
     "output_type": "execute_result"
    }
   ],
   "source": [
    "np.mean(compare_many[1])"
   ]
  },
  {
   "cell_type": "code",
   "execution_count": 232,
   "metadata": {},
   "outputs": [
    {
     "data": {
      "text/plain": [
       "0.020816348984374559"
      ]
     },
     "execution_count": 232,
     "metadata": {},
     "output_type": "execute_result"
    }
   ],
   "source": [
    "np.std(compare_many[0])"
   ]
  },
  {
   "cell_type": "code",
   "execution_count": 233,
   "metadata": {},
   "outputs": [
    {
     "data": {
      "text/plain": [
       "0.022011981807351536"
      ]
     },
     "execution_count": 233,
     "metadata": {},
     "output_type": "execute_result"
    }
   ],
   "source": [
    "np.std(compare_many[1])"
   ]
  },
  {
   "cell_type": "code",
   "execution_count": 242,
   "metadata": {
    "scrolled": true
   },
   "outputs": [
    {
     "data": {
      "image/png": "[encoded data removed]",
      "text/plain": [
       "<matplotlib.figure.Figure at 0x14417e61588>"
      ]
     },
     "metadata": {},
     "output_type": "display_data"
    }
   ],
   "source": [
    "def solve(m1,m2,std1,std2):\n",
    "  a = 1/(2*std1**2) - 1/(2*std2**2)\n",
    "  b = m2/(std2**2) - m1/(std1**2)\n",
    "  c = m1**2 /(2*std1**2) - m2**2 / (2*std2**2) - np.log(std2/std1)\n",
    "  return np.roots([a,b,c])\n",
    "\n",
    "m1 = np.mean(compare_many[0])\n",
    "std1 = np.std(compare_many[0])\n",
    "m2 = np.mean(compare_many[1])\n",
    "std2 = np.std(compare_many[1])\n",
    "\n",
    "#Get point of intersect\n",
    "result = solve(m1,m2,std1,std2)\n",
    "\n",
    "#Get point on surface\n",
    "x = np.linspace(0,.2,100)\n",
    "plot1=plt.plot(x,norm.pdf(x,m1,std1))\n",
    "plot2=plt.plot(x,norm.pdf(x,m2,std2))\n",
    "plt.xlabel('Returns')\n",
    "plt.ylabel('Frequency')\n",
    "plt.title('Model vs Random Sample Strategy 1000 trials, sub_population = 1000, n=100')\n",
    "plt.legend(['Random Sample','Model'])\n",
    "# integrate\n",
    "area = norm.cdf(r,m2,std2) + (1.-norm.cdf(r,m1,std1))\n",
    "plt.show()"
   ]
  },
  {
   "cell_type": "markdown",
   "metadata": {},
   "source": [
    "We can see that our model still outperforms at mu = 9.27% vs 7.178%. Drop in our return is expected since we are working with a much smaller population, and thus it will be harder to pick out outperformers. We can expand our population so our model can have stronger alpha but we want to be careful and not sample too large % of the actual population."
   ]
  },
  {
   "cell_type": "markdown",
   "metadata": {},
   "source": [
    "## Modeling Summary"
   ]
  },
  {
   "cell_type": "markdown",
   "metadata": {},
   "source": [
    "##### Key Insights from the Model"
   ]
  },
  {
   "cell_type": "markdown",
   "metadata": {},
   "source": [
    "We fit a linear regression model for its simplicity and interpretability to help us pick out the best loans in our test set. Here are key insights from our model. \n",
    "    1. Our linear regression model was effective in picking out high performing loans in our test set. IRR of the 1000 loans from our model was 5% higher than IRR of 1000 randomly chosen loans. \n",
    "    \n",
    "    2. Our accuracy(RMSE) and R2, however, were not good. This makes sense because our model is a point estimate but our asset class's return is often polarized(default or fully paid). \n",
    "    \n",
    "    3. As we increase the number of loans we picked, we started losing our alpha. This is a positive indication that we  were able to pick out the low hanging fruits effectively, and as we increase our selection size, we were forced to pick the next best loan.\n",
    "    \n",
    "    4. Our model suggests that low grade loans actually yield lower return than high grade loans. This is different than what the simple averages showed us. This is an example of a Simpson's Paradox.\n",
    "    \n",
    "    5. To gain confidence and avoid the possibility that we got lucky with our model, we conduct trials. It basically shows that our model still performed better than random selection.\n",
    "    \n",
    "    6. There may be a look ahead bias in our dataset since we are picking out loans using information(performance over its full life) that we would not have had otherwise.\n",
    "    \n",
    "    7. Therefore, I recommend exploring a buy-hold-sell strategy using the note trading platform. This way we can model a shorter term strategy that can leverage more recent data."
   ]
  },
  {
   "cell_type": "markdown",
   "metadata": {},
   "source": [
    "##### Model Output"
   ]
  },
  {
   "cell_type": "code",
   "execution_count": 170,
   "metadata": {},
   "outputs": [
    {
     "data": {
      "text/html": [
       "<table class=\"simpletable\">\n",
       "<caption>OLS Regression Results</caption>\n",
       "<tr>\n",
       "  <th>Dep. Variable:</th>           <td>irr</td>       <th>  R-squared:         </th>  <td>   0.068</td> \n",
       "</tr>\n",
       "<tr>\n",
       "  <th>Model:</th>                   <td>OLS</td>       <th>  Adj. R-squared:    </th>  <td>   0.068</td> \n",
       "</tr>\n",
       "<tr>\n",
       "  <th>Method:</th>             <td>Least Squares</td>  <th>  F-statistic:       </th>  <td>   733.7</td> \n",
       "</tr>\n",
       "<tr>\n",
       "  <th>Date:</th>             <td>Wed, 27 Jun 2018</td> <th>  Prob (F-statistic):</th>   <td>  0.00</td>  \n",
       "</tr>\n",
       "<tr>\n",
       "  <th>Time:</th>                 <td>21:12:49</td>     <th>  Log-Likelihood:    </th>  <td>  7145.9</td> \n",
       "</tr>\n",
       "<tr>\n",
       "  <th>No. Observations:</th>      <td> 59921</td>      <th>  AIC:               </th> <td>-1.428e+04</td>\n",
       "</tr>\n",
       "<tr>\n",
       "  <th>Df Residuals:</th>          <td> 59915</td>      <th>  BIC:               </th> <td>-1.423e+04</td>\n",
       "</tr>\n",
       "<tr>\n",
       "  <th>Df Model:</th>              <td>     6</td>      <th>                     </th>      <td> </td>    \n",
       "</tr>\n",
       "<tr>\n",
       "  <th>Covariance Type:</th>      <td>nonrobust</td>    <th>                     </th>      <td> </td>    \n",
       "</tr>\n",
       "</table>\n",
       "<table class=\"simpletable\">\n",
       "<tr>\n",
       "       <td></td>          <th>coef</th>     <th>std err</th>      <th>t</th>      <th>P>|t|</th>  <th>[0.025</th>    <th>0.975]</th>  \n",
       "</tr>\n",
       "<tr>\n",
       "  <th>int_rate</th>    <td>    0.0029</td> <td>    0.000</td> <td>   21.289</td> <td> 0.000</td> <td>    0.003</td> <td>    0.003</td>\n",
       "</tr>\n",
       "<tr>\n",
       "  <th>funded_amnt</th> <td>  8.07e-07</td> <td> 1.33e-07</td> <td>    6.059</td> <td> 0.000</td> <td> 5.46e-07</td> <td> 1.07e-06</td>\n",
       "</tr>\n",
       "<tr>\n",
       "  <th>annual_inc</th>  <td>  1.36e-07</td> <td> 1.38e-08</td> <td>    9.823</td> <td> 0.000</td> <td> 1.09e-07</td> <td> 1.63e-07</td>\n",
       "</tr>\n",
       "<tr>\n",
       "  <th>b_flag</th>      <td>    0.0089</td> <td>    0.002</td> <td>    4.999</td> <td> 0.000</td> <td>    0.005</td> <td>    0.012</td>\n",
       "</tr>\n",
       "<tr>\n",
       "  <th>f_flag</th>      <td>   -0.0643</td> <td>    0.011</td> <td>   -6.018</td> <td> 0.000</td> <td>   -0.085</td> <td>   -0.043</td>\n",
       "</tr>\n",
       "<tr>\n",
       "  <th>g_flag</th>      <td>   -0.0905</td> <td>    0.016</td> <td>   -5.635</td> <td> 0.000</td> <td>   -0.122</td> <td>   -0.059</td>\n",
       "</tr>\n",
       "</table>\n",
       "<table class=\"simpletable\">\n",
       "<tr>\n",
       "  <th>Omnibus:</th>       <td>38290.759</td> <th>  Durbin-Watson:     </th>  <td>   1.984</td> \n",
       "</tr>\n",
       "<tr>\n",
       "  <th>Prob(Omnibus):</th>  <td> 0.000</td>   <th>  Jarque-Bera (JB):  </th> <td>327317.436</td>\n",
       "</tr>\n",
       "<tr>\n",
       "  <th>Skew:</th>           <td>-3.136</td>   <th>  Prob(JB):          </th>  <td>    0.00</td> \n",
       "</tr>\n",
       "<tr>\n",
       "  <th>Kurtosis:</th>       <td>12.579</td>   <th>  Cond. No.          </th>  <td>1.71e+06</td> \n",
       "</tr>\n",
       "</table>"
      ],
      "text/plain": [
       "<class 'statsmodels.iolib.summary.Summary'>\n",
       "\"\"\"\n",
       "                            OLS Regression Results                            \n",
       "==============================================================================\n",
       "Dep. Variable:                    irr   R-squared:                       0.068\n",
       "Model:                            OLS   Adj. R-squared:                  0.068\n",
       "Method:                 Least Squares   F-statistic:                     733.7\n",
       "Date:                Wed, 27 Jun 2018   Prob (F-statistic):               0.00\n",
       "Time:                        21:12:49   Log-Likelihood:                 7145.9\n",
       "No. Observations:               59921   AIC:                        -1.428e+04\n",
       "Df Residuals:                   59915   BIC:                        -1.423e+04\n",
       "Df Model:                           6                                         \n",
       "Covariance Type:            nonrobust                                         \n",
       "===============================================================================\n",
       "                  coef    std err          t      P>|t|      [0.025      0.975]\n",
       "-------------------------------------------------------------------------------\n",
       "int_rate        0.0029      0.000     21.289      0.000       0.003       0.003\n",
       "funded_amnt   8.07e-07   1.33e-07      6.059      0.000    5.46e-07    1.07e-06\n",
       "annual_inc    1.36e-07   1.38e-08      9.823      0.000    1.09e-07    1.63e-07\n",
       "b_flag          0.0089      0.002      4.999      0.000       0.005       0.012\n",
       "f_flag         -0.0643      0.011     -6.018      0.000      -0.085      -0.043\n",
       "g_flag         -0.0905      0.016     -5.635      0.000      -0.122      -0.059\n",
       "==============================================================================\n",
       "Omnibus:                    38290.759   Durbin-Watson:                   1.984\n",
       "Prob(Omnibus):                  0.000   Jarque-Bera (JB):           327317.436\n",
       "Skew:                          -3.136   Prob(JB):                         0.00\n",
       "Kurtosis:                      12.579   Cond. No.                     1.71e+06\n",
       "==============================================================================\n",
       "\n",
       "Warnings:\n",
       "[1] Standard Errors assume that the covariance matrix of the errors is correctly specified.\n",
       "[2] The condition number is large, 1.71e+06. This might indicate that there are\n",
       "strong multicollinearity or other numerical problems.\n",
       "\"\"\""
      ]
     },
     "execution_count": 170,
     "metadata": {},
     "output_type": "execute_result"
    }
   ],
   "source": [
    "est11.summary()"
   ]
  },
  {
   "cell_type": "markdown",
   "metadata": {},
   "source": [
    "Model output confirms a lot of our initial assumptions on how loan size, income and interest rate might help us predict returns. On the contrary, it also tells us that lower grade loans actually DECREASE our returns unlike what we saw with averages earlier. This is an example of a Simpson's Paradox where your predictors that initially seemed significant changes direction or loses its significance as we fit other truly predictive variables."
   ]
  },
  {
   "cell_type": "markdown",
   "metadata": {},
   "source": [
    "Higher int_rate, funded_amnt, annual income and B grade loans are positively correlated with higher returns. F grade and G Grade loans are negatively correlated with higher returns."
   ]
  },
  {
   "cell_type": "markdown",
   "metadata": {},
   "source": [
    "###### Model Performance "
   ]
  },
  {
   "cell_type": "markdown",
   "metadata": {},
   "source": [
    "Actual returns of top 1000 loans that our model predicted."
   ]
  },
  {
   "cell_type": "code",
   "execution_count": 172,
   "metadata": {},
   "outputs": [
    {
     "data": {
      "text/plain": [
       "0.12818116544372413"
      ]
     },
     "execution_count": 172,
     "metadata": {},
     "output_type": "execute_result"
    }
   ],
   "source": [
    "np.mean(test_sub[test_sub['predictions'].isin(top1000)]['irr'])"
   ]
  },
  {
   "cell_type": "markdown",
   "metadata": {},
   "source": [
    "Actual returns of top randomly chosen 1000 loans, and its standard deviation over 100 trials."
   ]
  },
  {
   "cell_type": "code",
   "execution_count": 173,
   "metadata": {},
   "outputs": [
    {
     "data": {
      "text/plain": [
       "[0.071735084502116561, 0.006717519240826731]"
      ]
     },
     "execution_count": 173,
     "metadata": {},
     "output_type": "execute_result"
    }
   ],
   "source": [
    "collect_n_random_stats(test_sub,100,1000)"
   ]
  },
  {
   "cell_type": "markdown",
   "metadata": {},
   "source": [
    "We can see that our model outperformed vs the random sampling method as large as 5.7%."
   ]
  },
  {
   "cell_type": "code",
   "execution_count": 174,
   "metadata": {},
   "outputs": [
    {
     "data": {
      "image/png": "[encoded data removed]",
      "text/plain": [
       "<matplotlib.figure.Figure at 0x14382a967f0>"
      ]
     },
     "metadata": {},
     "output_type": "display_data"
    }
   ],
   "source": [
    "results = []\n",
    "for size in np.arange(50,15000,50):\n",
    "    topn= predictions.nlargest(n=size, keep='first')\n",
    "    results.append(np.mean(test_sub[test_sub['predictions'].isin(topn)]['irr']))\n",
    "x = np.arange(50,15000,50)\n",
    "y = results\n",
    "fig, ax = plt.subplots()\n",
    "plt.xlabel('Number of Loans Chosen')\n",
    "plt.ylabel('Portfolio Returns')\n",
    "plt.title('Portfolio Returns over Number of Loans Chosen')\n",
    "ax.errorbar(x, y)\n",
    "plt.show()"
   ]
  },
  {
   "cell_type": "markdown",
   "metadata": {},
   "source": [
    "As we increase our number of loans, we see that our returns revert to mean. This is a strong indication that we are choosing the right loans and we are identifying the low hanging fruits effectively. As an illustration, if we take all the loans, we will just have a simple average of all the loans and our model would not have told us anything."
   ]
  },
  {
   "cell_type": "code",
   "execution_count": 243,
   "metadata": {},
   "outputs": [
    {
     "data": {
      "image/png": "[encoded data removed]",
      "text/plain": [
       "<matplotlib.figure.Figure at 0x14382b63198>"
      ]
     },
     "metadata": {},
     "output_type": "display_data"
    }
   ],
   "source": [
    "def solve(m1,m2,std1,std2):\n",
    "  a = 1/(2*std1**2) - 1/(2*std2**2)\n",
    "  b = m2/(std2**2) - m1/(std1**2)\n",
    "  c = m1**2 /(2*std1**2) - m2**2 / (2*std2**2) - np.log(std2/std1)\n",
    "  return np.roots([a,b,c])\n",
    "\n",
    "m1 = np.mean(compare_many[0])\n",
    "std1 = np.std(compare_many[0])\n",
    "m2 = np.mean(compare_many[1])\n",
    "std2 = np.std(compare_many[1])\n",
    "\n",
    "#Get point of intersect\n",
    "result = solve(m1,m2,std1,std2)\n",
    "\n",
    "#Get point on surface\n",
    "x = np.linspace(0,.2,100)\n",
    "plot1=plt.plot(x,norm.pdf(x,m1,std1))\n",
    "plot2=plt.plot(x,norm.pdf(x,m2,std2))\n",
    "plt.xlabel('Returns')\n",
    "plt.ylabel('Frequency')\n",
    "plt.title('Model vs Random Sample Strategy 1000 trials, sub_population = 1000, n=100')\n",
    "plt.legend(['Random Sample','Model'])\n",
    "# integrate\n",
    "area = norm.cdf(r,m2,std2) + (1.-norm.cdf(r,m1,std1))\n",
    "plt.show()"
   ]
  },
  {
   "cell_type": "markdown",
   "metadata": {},
   "source": [
    "We can see that even with lots of trials, our model outperforms the random sample strategy. We can gain more confidence by increasing the sub population (more number of potential outperformers). However, we lack the proper data size and we want to make sure we don't sample too large of a  % of the actual population. "
   ]
  }
 ],
 "metadata": {
  "kernelspec": {
   "display_name": "Python 3",
   "language": "python",
   "name": "python3"
  },
  "language_info": {
   "codemirror_mode": {
    "name": "ipython",
    "version": 3
   },
   "file_extension": ".py",
   "mimetype": "text/x-python",
   "name": "python",
   "nbconvert_exporter": "python",
   "pygments_lexer": "ipython3",
   "version": "3.6.1"
  }
 },
 "nbformat": 4,
 "nbformat_minor": 2
}
