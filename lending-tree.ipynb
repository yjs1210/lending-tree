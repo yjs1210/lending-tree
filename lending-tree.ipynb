{
 "cells": [
  {
   "cell_type": "code",
   "execution_count": 253,
   "metadata": {
    "collapsed": true
   },
   "outputs": [],
   "source": [
    "import pandas as pd\n",
    "import numpy as np\n",
    "import matplotlib.pyplot as plt\n",
    "import matplotlib.mlab as mlab\n",
    "from IPython.display import Image\n",
    "from IPython.core.display import HTML \n",
    "import datetime\n",
    "import math\n"
   ]
  },
  {
   "cell_type": "markdown",
   "metadata": {
    "collapsed": true
   },
   "source": [
    "# Premise\n",
    "\n",
    "We approach EDA from a perspective of an investor, whose interests are maximizing risk-adjusted returns. Here we will look at interest rate vs default rate, and then calculate a net adjusted annual return separated by the loan grade.\n",
    "\n",
    "Next, we answer the question, are 36 month loans \n",
    "\n",
    "\n",
    "Lastly, we will build a model that can create a basket of investments that can outperform the market basket. These are the steps done and assumptions made.\n",
    "\n",
    "    1. We first calculate the sharpe ratio using net adjusted return on all historical basket of loans. \n",
    "    2. We will build a regression model, using features chosen carefully through nested model testing, that will forecast the returns of all the loans in a validation dataset\n",
    "    3. We will then use linear programming to set constraint and build a portfolio that maximizes the sharpe ratio with 10% of market liquidity\n",
    "    4. We will then compare our model vs actual result to get a sense of whether we were able to outperform or not \n",
    "\n",
    "Additional analysis that can be done is accounting for changes in the risk free rate, and rebalancing of the portfolio year over year."
   ]
  },
  {
   "cell_type": "markdown",
   "metadata": {
    "collapsed": true
   },
   "source": []
  },
  {
   "cell_type": "markdown",
   "metadata": {},
   "source": [
    "# Assumptions & Discussions"
   ]
  },
  {
   "cell_type": "markdown",
   "metadata": {},
   "source": [
    "1. Funded Amount vs Funded Amount Inv: Where there are differences, lending tree stepped in to make up for the differences between loan amount and funed amount invested by investors. We will go ahead and use funded amount as a basis for all our analysis.\n",
    "2. We assume all cash is deployed on year of x(has the most data) to reduce cash drag. We calculate IRR-> assuming we can reinvest at this rate \n",
    "3. Returns on the loans are most likely not normally distributed but a pool of randomly sampled loans should be"
   ]
  },
  {
   "cell_type": "markdown",
   "metadata": {},
   "source": [
    "# Data Cleansing"
   ]
  },
  {
   "cell_type": "code",
   "execution_count": null,
   "metadata": {
    "collapsed": true
   },
   "outputs": [],
   "source": [
    "https://www.lendingclub.com/public/images/0180344/content/aboutNAR/NAR.png"
   ]
  },
  {
   "cell_type": "code",
   "execution_count": 129,
   "metadata": {},
   "outputs": [
    {
     "data": {
      "text/html": [
       "<img src=\"https://www.lendingclub.com/public/images/0180344/content/aboutNAR/NAR.png\"/>"
      ],
      "text/plain": [
       "<IPython.core.display.Image object>"
      ]
     },
     "execution_count": 129,
     "metadata": {},
     "output_type": "execute_result"
    }
   ],
   "source": [
    "Image(url= \"https://www.lendingclub.com/public/images/0180344/content/aboutNAR/NAR.png\")"
   ]
  },
  {
   "cell_type": "markdown",
   "metadata": {},
   "source": [
    "As an investor, you want to get a good grasp of two things of any investments, risk and reward. This analyis will mainly focus on that. "
   ]
  },
  {
   "cell_type": "markdown",
   "metadata": {},
   "source": [
    "Dissecting the data to too many categorical values can "
   ]
  },
  {
   "cell_type": "markdown",
   "metadata": {},
   "source": [
    "First we calculat the default percentage, we will include the \"does not meet...\" rows as valid loans, and throw out rest of the data that we don't have complete information on."
   ]
  },
  {
   "cell_type": "markdown",
   "metadata": {},
   "source": [
    "###data call outs\n",
    "You can't trade on information that is not there yet.... \n"
   ]
  },
  {
   "cell_type": "code",
   "execution_count": 2,
   "metadata": {
    "collapsed": true
   },
   "outputs": [],
   "source": [
    "###data load\n",
    "df = pd.read_csv('./data/loan.csv', low_memory=False)"
   ]
  },
  {
   "cell_type": "code",
   "execution_count": 3,
   "metadata": {
    "collapsed": true
   },
   "outputs": [],
   "source": [
    "###cleaning data \n",
    "df['last_pymnt_d']=pd.to_datetime(df.last_pymnt_d)\n",
    "df['issue_d']=pd.to_datetime(df.issue_d)"
   ]
  },
  {
   "cell_type": "code",
   "execution_count": 4,
   "metadata": {
    "collapsed": true
   },
   "outputs": [],
   "source": [
    "###fill missing last_payments(no payments) with issue date, may want a separete column for this treatme\n",
    "###This is for calculation of IRRs later\n",
    "df['last_pymnt_d'].fillna(df.issue_d,inplace=True)"
   ]
  },
  {
   "cell_type": "code",
   "execution_count": 5,
   "metadata": {
    "collapsed": true
   },
   "outputs": [],
   "source": [
    "###Some pre-processing for ease of calculations\n",
    "df['issue_yr'] = df.issue_d.dt.year\n",
    "df['issue_mo']= df.issue_d.dt.month\n",
    "df['last_pymnt_yr'] = df.last_pymnt_d.dt.year\n",
    "df['last_pymnt_mo']= df.last_pymnt_d.dt.month"
   ]
  },
  {
   "cell_type": "code",
   "execution_count": 6,
   "metadata": {
    "collapsed": true
   },
   "outputs": [],
   "source": [
    "###filter to loans we have complete data only\n",
    "searchfor = ['Fully Paid', 'Charged Off', 'Default']\n",
    "df_filtered = df[df['loan_status'].str.contains('|'.join(searchfor))].query(\"term == ' 36 months' and issue_yr <=2012\")"
   ]
  },
  {
   "cell_type": "code",
   "execution_count": 7,
   "metadata": {
    "collapsed": true
   },
   "outputs": [],
   "source": [
    "###default flag \n",
    "df_filtered['loan_status_flag'] = np.where(df_filtered['loan_status'].str.contains('Fully Paid') ,1,0)"
   ]
  },
  {
   "cell_type": "markdown",
   "metadata": {},
   "source": [
    "### Overall Default Percentage"
   ]
  },
  {
   "cell_type": "code",
   "execution_count": 8,
   "metadata": {},
   "outputs": [
    {
     "data": {
      "text/plain": [
       "0.12997142017682095"
      ]
     },
     "execution_count": 8,
     "metadata": {},
     "output_type": "execute_result"
    }
   ],
   "source": [
    "1- df_filtered['loan_status_flag'].mean()"
   ]
  },
  {
   "cell_type": "markdown",
   "metadata": {},
   "source": [
    "### Overall Interest Rate"
   ]
  },
  {
   "cell_type": "code",
   "execution_count": 9,
   "metadata": {
    "scrolled": true
   },
   "outputs": [
    {
     "data": {
      "text/plain": [
       "12.033947888569795"
      ]
     },
     "execution_count": 9,
     "metadata": {},
     "output_type": "execute_result"
    }
   ],
   "source": [
    "df_filtered['int_rate'].mean()"
   ]
  },
  {
   "cell_type": "code",
   "execution_count": 10,
   "metadata": {
    "collapsed": true
   },
   "outputs": [],
   "source": [
    "### IRR Calculations\n",
    "###calculate differences in months for total duration of the loan \n",
    "df_filtered['mo_diff'] = pd.to_numeric((df_filtered['last_pymnt_yr'] - \n",
    "                          df_filtered['issue_yr'])*12 + df['last_pymnt_mo'] -df['issue_mo'])\n",
    "df_filtered['avg_pymnt'] = (df_filtered['total_pymnt']+ df_filtered['total_rec_late_fee'])/(df_filtered['mo_diff']-1)"
   ]
  },
  {
   "cell_type": "code",
   "execution_count": 101,
   "metadata": {},
   "outputs": [
    {
     "data": {
      "text/plain": [
       "[1]"
      ]
     },
     "execution_count": 101,
     "metadata": {},
     "output_type": "execute_result"
    }
   ],
   "source": [
    "x=[-10,1,1,2] \n",
    "y=[-10,2,2,2]\n",
    "l=[]\n",
    "l\n",
    "l.append(1)\n",
    "l"
   ]
  },
  {
   "cell_type": "code",
   "execution_count": null,
   "metadata": {
    "collapsed": true
   },
   "outputs": [],
   "source": [
    "##we calculate return using a pool of cash flows \n",
    "##avoids IRR's drastic treatment of negative IRR \n",
    "##automatically does weighted adjustment based on size of the loan\n",
    "##we later can take many pools of data using functions built to effectively creat a derivative that is a pool of loans\n",
    "##Pool of loans returns should be normally distributed, allowing us to do interesting analysis around normality\n",
    "##and calculate things such as sharpe ratio\n",
    "##More representative for institutional investors who will have a set of funds for an asset class and not\n",
    "##investing in individual loans\n",
    "##Diversification"
   ]
  },
  {
   "cell_type": "code",
   "execution_count": 108,
   "metadata": {},
   "outputs": [],
   "source": [
    "def cash_flow(row,max_n):\n",
    "    initial_invest = -row['funded_amnt'] \n",
    "    avg_payment = row['avg_pymnt'] or 0 \n",
    "    num_payments = int(row['mo_diff']-1) \n",
    "    fully_paid =row['loan_status_flag'] or 0 \n",
    "    recovery = row['recoveries'] or 0 \n",
    "    chargeoff_fee = -row['collection_recovery_fee'] or 0 \n",
    "    dummy_cfs = int(max_n - row['mo_diff'])\n",
    "    return [initial_invest]+[avg_payment]*num_payments + [recovery+chargeoff_fee]+ [0]*dummy_cfs"
   ]
  },
  {
   "cell_type": "code",
   "execution_count": 142,
   "metadata": {
    "collapsed": true
   },
   "outputs": [],
   "source": [
    "def irr_pool(df):\n",
    "    list_length = df['mo_diff'].max()\n",
    "    cfs=[]\n",
    "    for index, row in df.iterrows(): \n",
    "        cfs.append(cash_flow(row,list_length))\n",
    "    result = [sum(x) for x in zip(*cfs)]\n",
    "    return (np.irr(result)+1)**12 -1"
   ]
  },
  {
   "cell_type": "code",
   "execution_count": 134,
   "metadata": {
    "collapsed": true
   },
   "outputs": [],
   "source": [
    "###IRR calculations at an indiviudal loans proved to be a bad exercise, because the bad loans were\n",
    "###a lot more pronounced. \n",
    "def irr_calc(x):  \n",
    "    ##varible initialization\n",
    "    initial_invest = -x['funded_amnt']\n",
    "    avg_payment = x['avg_pymnt']\n",
    "    num_payments = int(x['mo_diff'])-1    \n",
    "    fully_paid = x['loan_status_flag']\n",
    "    recovery = x['recoveries']\n",
    "    chargeoff_fee = -x['collection_recovery_fee']\n",
    "    ##IRR calculation, input: series of cash flows, total payment evenly divided and spread across the life of the loan \n",
    "    if(fully_paid==1):\n",
    "        return ((np.mirr([initial_invest]+[avg_payment]*num_payments + [recovery+chargeoff_fee])+1)**12-1)"
   ]
  },
  {
   "cell_type": "code",
   "execution_count": 460,
   "metadata": {
    "scrolled": true
   },
   "outputs": [
    {
     "name": "stdout",
     "output_type": "stream",
     "text": [
      "Month: 1 \n",
      " Minimum monthly payment: 168.52 \n",
      " Remaining balance: 4111.89\n",
      "Month: 2 \n",
      " Minimum monthly payment: 164.48 \n",
      " Remaining balance: 4013.2\n",
      "Month: 3 \n",
      " Minimum monthly payment: 160.53 \n",
      " Remaining balance: 3916.89\n",
      "Month: 4 \n",
      " Minimum monthly payment: 156.68 \n",
      " Remaining balance: 3822.88\n",
      "Month: 5 \n",
      " Minimum monthly payment: 152.92 \n",
      " Remaining balance: 3731.13\n",
      "Month: 6 \n",
      " Minimum monthly payment: 149.25 \n",
      " Remaining balance: 3641.58\n",
      "Month: 7 \n",
      " Minimum monthly payment: 145.66 \n",
      " Remaining balance: 3554.19\n",
      "Month: 8 \n",
      " Minimum monthly payment: 142.17 \n",
      " Remaining balance: 3468.89\n",
      "Month: 9 \n",
      " Minimum monthly payment: 138.76 \n",
      " Remaining balance: 3385.63\n",
      "Month: 10 \n",
      " Minimum monthly payment: 135.43 \n",
      " Remaining balance: 3304.38\n",
      "Month: 11 \n",
      " Minimum monthly payment: 132.18 \n",
      " Remaining balance: 3225.07\n",
      "Month: 12 \n",
      " Minimum monthly payment: 129 \n",
      " Remaining balance: 3147.67\n"
     ]
    }
   ],
   "source": [
    "balance = 4213\n",
    "annual_interest_rate = 0.2\n",
    "monthly_payment_rate =0.04\n",
    "monthly_interest_rate = annual_interest_rate / 12\n",
    "monthly_payment = monthly_payment_rate * balance\n",
    "new_balance= (balance - monthly_payment) * (1 + monthly_interest_rate)\n",
    "\n",
    "for month in range(1, 13):\n",
    "    monthly_payment = monthly_payment_rate * balance\n",
    "    balance = (balance - monthly_payment) * (1 + monthly_interest_rate)\n",
    "    print('Month: %d \\n Minimum monthly payment: %g \\n Remaining balance: %g'\\\n",
    "          % (month, round(monthly_payment, 2), round(balance,2)))"
   ]
  },
  {
   "cell_type": "code",
   "execution_count": 144,
   "metadata": {},
   "outputs": [
    {
     "data": {
      "text/plain": [
       "0.08340469799236261"
      ]
     },
     "execution_count": 144,
     "metadata": {},
     "output_type": "execute_result"
    }
   ],
   "source": [
    "irr_pool(df_filtered)"
   ]
  },
  {
   "cell_type": "code",
   "execution_count": null,
   "metadata": {
    "collapsed": true
   },
   "outputs": [],
   "source": [
    "df_filtered['irr']=df_filtered.apply(irr_calc, axis=1)"
   ]
  },
  {
   "cell_type": "code",
   "execution_count": 426,
   "metadata": {},
   "outputs": [
    {
     "data": {
      "text/html": [
       "<div>\n",
       "<style>\n",
       "    .dataframe thead tr:only-child th {\n",
       "        text-align: right;\n",
       "    }\n",
       "\n",
       "    .dataframe thead th {\n",
       "        text-align: left;\n",
       "    }\n",
       "\n",
       "    .dataframe tbody tr th {\n",
       "        vertical-align: top;\n",
       "    }\n",
       "</style>\n",
       "<table border=\"1\" class=\"dataframe\">\n",
       "  <thead>\n",
       "    <tr style=\"text-align: right;\">\n",
       "      <th></th>\n",
       "      <th>loan_amnt</th>\n",
       "      <th>last_pymnt_amnt</th>\n",
       "      <th>installment</th>\n",
       "      <th>issue_d</th>\n",
       "      <th>int_rate</th>\n",
       "      <th>last_pymnt_d</th>\n",
       "      <th>total_pymnt</th>\n",
       "      <th>mo_diff</th>\n",
       "      <th>avg_pymnt</th>\n",
       "      <th>irr</th>\n",
       "      <th>collection_recovery_fee</th>\n",
       "      <th>recoveries</th>\n",
       "      <th>total_rec_late_fee</th>\n",
       "    </tr>\n",
       "  </thead>\n",
       "  <tbody>\n",
       "    <tr>\n",
       "      <th>12</th>\n",
       "      <td>9000.0</td>\n",
       "      <td>305.38</td>\n",
       "      <td>305.38</td>\n",
       "      <td>2011-12-01</td>\n",
       "      <td>13.49</td>\n",
       "      <td>2012-07-01</td>\n",
       "      <td>2270.70</td>\n",
       "      <td>7.0</td>\n",
       "      <td>378.450000</td>\n",
       "      <td>-0.956653</td>\n",
       "      <td>4.1600</td>\n",
       "      <td>444.30</td>\n",
       "      <td>0.0</td>\n",
       "    </tr>\n",
       "    <tr>\n",
       "      <th>14</th>\n",
       "      <td>10000.0</td>\n",
       "      <td>325.74</td>\n",
       "      <td>325.74</td>\n",
       "      <td>2011-12-01</td>\n",
       "      <td>10.65</td>\n",
       "      <td>2013-10-01</td>\n",
       "      <td>7471.99</td>\n",
       "      <td>22.0</td>\n",
       "      <td>355.809048</td>\n",
       "      <td>-0.185724</td>\n",
       "      <td>6.3145</td>\n",
       "      <td>645.10</td>\n",
       "      <td>0.0</td>\n",
       "    </tr>\n",
       "    <tr>\n",
       "      <th>21</th>\n",
       "      <td>21000.0</td>\n",
       "      <td>701.73</td>\n",
       "      <td>701.73</td>\n",
       "      <td>2011-12-01</td>\n",
       "      <td>12.42</td>\n",
       "      <td>2013-09-01</td>\n",
       "      <td>14025.40</td>\n",
       "      <td>21.0</td>\n",
       "      <td>701.270000</td>\n",
       "      <td>-0.353582</td>\n",
       "      <td>0.0000</td>\n",
       "      <td>0.00</td>\n",
       "      <td>0.0</td>\n",
       "    </tr>\n",
       "    <tr>\n",
       "      <th>24</th>\n",
       "      <td>6000.0</td>\n",
       "      <td>198.46</td>\n",
       "      <td>198.46</td>\n",
       "      <td>2011-12-01</td>\n",
       "      <td>11.71</td>\n",
       "      <td>2012-10-01</td>\n",
       "      <td>2050.14</td>\n",
       "      <td>10.0</td>\n",
       "      <td>227.793333</td>\n",
       "      <td>-0.841043</td>\n",
       "      <td>2.5700</td>\n",
       "      <td>269.31</td>\n",
       "      <td>0.0</td>\n",
       "    </tr>\n",
       "    <tr>\n",
       "      <th>26</th>\n",
       "      <td>15000.0</td>\n",
       "      <td>0.00</td>\n",
       "      <td>514.64</td>\n",
       "      <td>2011-12-01</td>\n",
       "      <td>14.27</td>\n",
       "      <td>2011-12-01</td>\n",
       "      <td>0.00</td>\n",
       "      <td>0.0</td>\n",
       "      <td>-0.000000</td>\n",
       "      <td>NaN</td>\n",
       "      <td>0.0000</td>\n",
       "      <td>0.00</td>\n",
       "      <td>0.0</td>\n",
       "    </tr>\n",
       "  </tbody>\n",
       "</table>\n",
       "</div>"
      ],
      "text/plain": [
       "    loan_amnt  last_pymnt_amnt  installment    issue_d  int_rate last_pymnt_d  \\\n",
       "12     9000.0           305.38       305.38 2011-12-01     13.49   2012-07-01   \n",
       "14    10000.0           325.74       325.74 2011-12-01     10.65   2013-10-01   \n",
       "21    21000.0           701.73       701.73 2011-12-01     12.42   2013-09-01   \n",
       "24     6000.0           198.46       198.46 2011-12-01     11.71   2012-10-01   \n",
       "26    15000.0             0.00       514.64 2011-12-01     14.27   2011-12-01   \n",
       "\n",
       "    total_pymnt  mo_diff   avg_pymnt       irr  collection_recovery_fee  \\\n",
       "12      2270.70      7.0  378.450000 -0.956653                   4.1600   \n",
       "14      7471.99     22.0  355.809048 -0.185724                   6.3145   \n",
       "21     14025.40     21.0  701.270000 -0.353582                   0.0000   \n",
       "24      2050.14     10.0  227.793333 -0.841043                   2.5700   \n",
       "26         0.00      0.0   -0.000000       NaN                   0.0000   \n",
       "\n",
       "    recoveries  total_rec_late_fee  \n",
       "12      444.30                 0.0  \n",
       "14      645.10                 0.0  \n",
       "21        0.00                 0.0  \n",
       "24      269.31                 0.0  \n",
       "26        0.00                 0.0  "
      ]
     },
     "execution_count": 426,
     "metadata": {},
     "output_type": "execute_result"
    }
   ],
   "source": [
    "df_filtered[df_filtered['loan_status_flag']==0][['loan_amnt','last_pymnt_amnt','installment','issue_d','int_rate'\n",
    "                                                 ,'last_pymnt_d', 'total_pymnt','mo_diff','avg_pymnt','irr'\n",
    "                                                ,'collection_recovery_fee','recoveries','total_rec_late_fee']].head(5)"
   ]
  },
  {
   "cell_type": "code",
   "execution_count": 136,
   "metadata": {},
   "outputs": [
    {
     "data": {
      "text/plain": [
       "0.08340469799236261"
      ]
     },
     "execution_count": 136,
     "metadata": {},
     "output_type": "execute_result"
    }
   ],
   "source": [
    "##Overall Returns\n",
    "irr_pool(df_filtered)"
   ]
  },
  {
   "cell_type": "code",
   "execution_count": 150,
   "metadata": {},
   "outputs": [],
   "source": [
    "df_group = df_filtered.groupby(['grade','issue_yr'])\n",
    "df_group_irr = df_group.apply(irr_pool)"
   ]
  },
  {
   "cell_type": "code",
   "execution_count": 154,
   "metadata": {},
   "outputs": [
    {
     "data": {
      "text/plain": [
       "grade  issue_yr\n",
       "A      2007        0.088281\n",
       "       2008        0.054380\n",
       "       2009        0.070308\n",
       "       2010        0.064148\n",
       "       2011        0.054260\n",
       "       2012        0.054254\n",
       "B      2007       -0.000761\n",
       "       2008        0.030727\n",
       "       2009        0.061708\n",
       "       2010        0.080252\n",
       "       2011        0.086192\n",
       "       2012        0.087931\n",
       "C      2007        0.023781\n",
       "       2008        0.011068\n",
       "       2009        0.071269\n",
       "       2010        0.095979\n",
       "       2011        0.094416\n",
       "       2012        0.100975\n",
       "D      2007       -0.002429\n",
       "       2008       -0.012732\n",
       "       2009        0.084631\n",
       "       2010        0.098472\n",
       "       2011        0.118209\n",
       "       2012        0.121596\n",
       "E      2007       -0.014091\n",
       "       2008        0.033269\n",
       "       2009        0.065725\n",
       "       2010        0.104855\n",
       "       2011        0.147104\n",
       "       2012        0.147320\n",
       "F      2007       -0.134242\n",
       "       2008       -0.028533\n",
       "       2009        0.047471\n",
       "       2010        0.036370\n",
       "       2011        0.117092\n",
       "       2012        0.136313\n",
       "G      2007        0.021357\n",
       "       2008        0.012482\n",
       "       2009        0.038450\n",
       "       2010        0.117783\n",
       "       2011       -0.025790\n",
       "       2012        0.226161\n",
       "dtype: float64"
      ]
     },
     "execution_count": 154,
     "metadata": {},
     "output_type": "execute_result"
    }
   ],
   "source": [
    "df_group_irr"
   ]
  },
  {
   "cell_type": "code",
   "execution_count": 151,
   "metadata": {},
   "outputs": [
    {
     "data": {
      "text/plain": [
       "('G', 2012)"
      ]
     },
     "execution_count": 151,
     "metadata": {},
     "output_type": "execute_result"
    }
   ],
   "source": [
    "df_group_irr.argmax()"
   ]
  },
  {
   "cell_type": "code",
   "execution_count": 152,
   "metadata": {},
   "outputs": [
    {
     "data": {
      "text/plain": [
       "0.22616072008394794"
      ]
     },
     "execution_count": 152,
     "metadata": {},
     "output_type": "execute_result"
    }
   ],
   "source": [
    "df_group_irr.max()"
   ]
  },
  {
   "cell_type": "code",
   "execution_count": 153,
   "metadata": {},
   "outputs": [
    {
     "data": {
      "text/plain": [
       "grade  issue_yr\n",
       "A      2007        0.088281\n",
       "       2008        0.054380\n",
       "       2009        0.070308\n",
       "       2010        0.064148\n",
       "       2011        0.054260\n",
       "       2012        0.054254\n",
       "B      2007       -0.000761\n",
       "       2008        0.030727\n",
       "       2009        0.061708\n",
       "       2010        0.080252\n",
       "       2011        0.086192\n",
       "       2012        0.087931\n",
       "C      2007        0.023781\n",
       "       2008        0.011068\n",
       "       2009        0.071269\n",
       "       2010        0.095979\n",
       "       2011        0.094416\n",
       "       2012        0.100975\n",
       "D      2007       -0.002429\n",
       "       2008       -0.012732\n",
       "       2009        0.084631\n",
       "       2010        0.098472\n",
       "       2011        0.118209\n",
       "       2012        0.121596\n",
       "E      2007       -0.014091\n",
       "       2008        0.033269\n",
       "       2009        0.065725\n",
       "       2010        0.104855\n",
       "       2011        0.147104\n",
       "       2012        0.147320\n",
       "F      2007       -0.134242\n",
       "       2008       -0.028533\n",
       "       2009        0.047471\n",
       "       2010        0.036370\n",
       "       2011        0.117092\n",
       "       2012        0.136313\n",
       "G      2007        0.021357\n",
       "       2008        0.012482\n",
       "       2009        0.038450\n",
       "       2010        0.117783\n",
       "       2011       -0.025790\n",
       "       2012        0.226161\n",
       "dtype: float64"
      ]
     },
     "execution_count": 153,
     "metadata": {},
     "output_type": "execute_result"
    }
   ],
   "source": [
    "####Pooling Methodology to calculate risk-adjusted returns on basket of loans\n",
    "df_group_irr"
   ]
  },
  {
   "cell_type": "code",
   "execution_count": null,
   "metadata": {
    "collapsed": true
   },
   "outputs": [],
   "source": [
    "###may want to pool by size of portfolio not n random "
   ]
  },
  {
   "cell_type": "code",
   "execution_count": 223,
   "metadata": {},
   "outputs": [],
   "source": [
    "def pool(df,pool_size):  \n",
    "    pool_running = 0 \n",
    "    df_pool = df \n",
    "    df_out = pd.DataFrame()\n",
    "    while (pool_running < pool_size):\n",
    "        df_subset = df_pool.sample(1)\n",
    "        ###no replacement\n",
    "        df_pool = df_pool.drop(df_subset.index)\n",
    "        pool_running += df_subset.iloc[0]['funded_amnt']\n",
    "        df_out = df_out.append(df_subset)\n",
    "    return df_out"
   ]
  },
  {
   "cell_type": "code",
   "execution_count": 237,
   "metadata": {},
   "outputs": [],
   "source": [
    "def collect_n(df,n,pool_size):\n",
    "    returns_list = []\n",
    "    for x in range(0,n):\n",
    "        df_out = pool(df,pool_size)\n",
    "        returns_list.append(irr_pool(df_out))   \n",
    "    return returns_list"
   ]
  },
  {
   "cell_type": "code",
   "execution_count": 240,
   "metadata": {
    "collapsed": true
   },
   "outputs": [],
   "source": [
    "def collect_n_random(df,n,size):\n",
    "    returns_list = []\n",
    "    for x in range(0,n):\n",
    "        df_out = df.sample(size)\n",
    "        returns_list.append(irr_pool(df_out))   \n",
    "    return returns_list"
   ]
  },
  {
   "cell_type": "code",
   "execution_count": null,
   "metadata": {
    "collapsed": true
   },
   "outputs": [],
   "source": [
    "out=collect_n(df_filtered,100,10000000)"
   ]
  },
  {
   "cell_type": "code",
   "execution_count": 244,
   "metadata": {},
   "outputs": [],
   "source": [
    "out=collect_n_random(df_filtered,100,1000)"
   ]
  },
  {
   "cell_type": "code",
   "execution_count": 254,
   "metadata": {},
   "outputs": [
    {
     "data": {
      "image/png": "[encoded data removed]",
      "text/plain": [
       "<matplotlib.figure.Figure at 0x251b5708588>"
      ]
     },
     "metadata": {},
     "output_type": "display_data"
    }
   ],
   "source": [
    "mu = np.average(out)\n",
    "variance = np.var(out)\n",
    "sigma = math.sqrt(variance)\n",
    "x = np.linspace(mu - 3*sigma, mu + 3*sigma, 100)\n",
    "plt.plot(x,mlab.normpdf(x, mu, sigma))\n",
    "plt.show()"
   ]
  },
  {
   "cell_type": "code",
   "execution_count": 256,
   "metadata": {},
   "outputs": [
    {
     "data": {
      "text/plain": [
       "5.521572252206104e-05"
      ]
     },
     "execution_count": 256,
     "metadata": {},
     "output_type": "execute_result"
    }
   ],
   "source": [
    "variance"
   ]
  },
  {
   "cell_type": "code",
   "execution_count": 221,
   "metadata": {},
   "outputs": [
    {
     "data": {
      "text/html": [
       "<div>\n",
       "<style>\n",
       "    .dataframe thead tr:only-child th {\n",
       "        text-align: right;\n",
       "    }\n",
       "\n",
       "    .dataframe thead th {\n",
       "        text-align: left;\n",
       "    }\n",
       "\n",
       "    .dataframe tbody tr th {\n",
       "        vertical-align: top;\n",
       "    }\n",
       "</style>\n",
       "<table border=\"1\" class=\"dataframe\">\n",
       "  <thead>\n",
       "    <tr style=\"text-align: right;\">\n",
       "      <th></th>\n",
       "      <th>id</th>\n",
       "      <th>member_id</th>\n",
       "      <th>loan_amnt</th>\n",
       "      <th>funded_amnt</th>\n",
       "      <th>funded_amnt_inv</th>\n",
       "      <th>term</th>\n",
       "      <th>int_rate</th>\n",
       "      <th>installment</th>\n",
       "      <th>grade</th>\n",
       "      <th>sub_grade</th>\n",
       "      <th>...</th>\n",
       "      <th>inq_fi</th>\n",
       "      <th>total_cu_tl</th>\n",
       "      <th>inq_last_12m</th>\n",
       "      <th>issue_yr</th>\n",
       "      <th>issue_mo</th>\n",
       "      <th>last_pymnt_yr</th>\n",
       "      <th>last_pymnt_mo</th>\n",
       "      <th>loan_status_flag</th>\n",
       "      <th>mo_diff</th>\n",
       "      <th>avg_pymnt</th>\n",
       "    </tr>\n",
       "  </thead>\n",
       "  <tbody>\n",
       "    <tr>\n",
       "      <th>225943</th>\n",
       "      <td>1147568</td>\n",
       "      <td>1388564</td>\n",
       "      <td>10000.0</td>\n",
       "      <td>10000.0</td>\n",
       "      <td>10000.0</td>\n",
       "      <td>36 months</td>\n",
       "      <td>15.81</td>\n",
       "      <td>350.64</td>\n",
       "      <td>C</td>\n",
       "      <td>C4</td>\n",
       "      <td>...</td>\n",
       "      <td>NaN</td>\n",
       "      <td>NaN</td>\n",
       "      <td>NaN</td>\n",
       "      <td>2012</td>\n",
       "      <td>2</td>\n",
       "      <td>2013</td>\n",
       "      <td>12</td>\n",
       "      <td>1</td>\n",
       "      <td>22.0</td>\n",
       "      <td>579.2</td>\n",
       "    </tr>\n",
       "    <tr>\n",
       "      <th>225943</th>\n",
       "      <td>1147568</td>\n",
       "      <td>1388564</td>\n",
       "      <td>10000.0</td>\n",
       "      <td>10000.0</td>\n",
       "      <td>10000.0</td>\n",
       "      <td>36 months</td>\n",
       "      <td>15.81</td>\n",
       "      <td>350.64</td>\n",
       "      <td>C</td>\n",
       "      <td>C4</td>\n",
       "      <td>...</td>\n",
       "      <td>NaN</td>\n",
       "      <td>NaN</td>\n",
       "      <td>NaN</td>\n",
       "      <td>2012</td>\n",
       "      <td>2</td>\n",
       "      <td>2013</td>\n",
       "      <td>12</td>\n",
       "      <td>1</td>\n",
       "      <td>22.0</td>\n",
       "      <td>579.2</td>\n",
       "    </tr>\n",
       "  </tbody>\n",
       "</table>\n",
       "<p>2 rows × 81 columns</p>\n",
       "</div>"
      ],
      "text/plain": [
       "             id  member_id  loan_amnt  funded_amnt  funded_amnt_inv  \\\n",
       "225943  1147568    1388564    10000.0      10000.0          10000.0   \n",
       "225943  1147568    1388564    10000.0      10000.0          10000.0   \n",
       "\n",
       "              term  int_rate  installment grade sub_grade    ...    inq_fi  \\\n",
       "225943   36 months     15.81       350.64     C        C4    ...       NaN   \n",
       "225943   36 months     15.81       350.64     C        C4    ...       NaN   \n",
       "\n",
       "       total_cu_tl inq_last_12m  issue_yr issue_mo last_pymnt_yr  \\\n",
       "225943         NaN          NaN      2012        2          2013   \n",
       "225943         NaN          NaN      2012        2          2013   \n",
       "\n",
       "       last_pymnt_mo loan_status_flag mo_diff avg_pymnt  \n",
       "225943            12                1    22.0     579.2  \n",
       "225943            12                1    22.0     579.2  \n",
       "\n",
       "[2 rows x 81 columns]"
      ]
     },
     "execution_count": 221,
     "metadata": {},
     "output_type": "execute_result"
    }
   ],
   "source": [
    "df_out.append(df_subset).append(df_subset)"
   ]
  },
  {
   "cell_type": "code",
   "execution_count": 170,
   "metadata": {},
   "outputs": [
    {
     "data": {
      "text/plain": [
       "id                                                                     1120146\n",
       "member_id                                                              1358165\n",
       "loan_amnt                                                                25000\n",
       "funded_amnt                                                              25000\n",
       "funded_amnt_inv                                                          25000\n",
       "term                                                                 36 months\n",
       "int_rate                                                                 16.29\n",
       "installment                                                             882.51\n",
       "grade                                                                        D\n",
       "sub_grade                                                                   D1\n",
       "emp_title                                                         Patton's Inc\n",
       "emp_length                                                             6 years\n",
       "home_ownership                                                             OWN\n",
       "annual_inc                                                              134000\n",
       "verification_status                                                   Verified\n",
       "issue_d                                                    2012-02-01 00:00:00\n",
       "loan_status                                                         Fully Paid\n",
       "pymnt_plan                                                                   n\n",
       "url                          https://www.lendingclub.com/browse/loanDetail....\n",
       "desc                           Borrower added on 01/24/12 > I am wanting to...\n",
       "purpose                                                       home_improvement\n",
       "title                                  Debt consolidation and home improvement\n",
       "zip_code                                                                 296xx\n",
       "addr_state                                                                  SC\n",
       "dti                                                                      20.24\n",
       "delinq_2yrs                                                                  0\n",
       "earliest_cr_line                                                      Jan-1994\n",
       "inq_last_6mths                                                               3\n",
       "mths_since_last_delinq                                                      59\n",
       "mths_since_last_record                                                     NaN\n",
       "                                                   ...                        \n",
       "policy_code                                                                  1\n",
       "application_type                                                    INDIVIDUAL\n",
       "annual_inc_joint                                                           NaN\n",
       "dti_joint                                                                  NaN\n",
       "verification_status_joint                                                  NaN\n",
       "acc_now_delinq                                                               0\n",
       "tot_coll_amt                                                               NaN\n",
       "tot_cur_bal                                                                NaN\n",
       "open_acc_6m                                                                NaN\n",
       "open_il_6m                                                                 NaN\n",
       "open_il_12m                                                                NaN\n",
       "open_il_24m                                                                NaN\n",
       "mths_since_rcnt_il                                                         NaN\n",
       "total_bal_il                                                               NaN\n",
       "il_util                                                                    NaN\n",
       "open_rv_12m                                                                NaN\n",
       "open_rv_24m                                                                NaN\n",
       "max_bal_bc                                                                 NaN\n",
       "all_util                                                                   NaN\n",
       "total_rev_hi_lim                                                           NaN\n",
       "inq_fi                                                                     NaN\n",
       "total_cu_tl                                                                NaN\n",
       "inq_last_12m                                                               NaN\n",
       "issue_yr                                                                  2012\n",
       "issue_mo                                                                     2\n",
       "last_pymnt_yr                                                             2014\n",
       "last_pymnt_mo                                                                8\n",
       "loan_status_flag                                                             1\n",
       "mo_diff                                                                     30\n",
       "avg_pymnt                                                              1087.02\n",
       "Name: 227572, Length: 81, dtype: object"
      ]
     },
     "execution_count": 170,
     "metadata": {},
     "output_type": "execute_result"
    }
   ],
   "source": [
    "df_subset.loc[227572]\n",
    "####MAKE A TABLUARRRR from random table\n",
    "### risk-adj return /// features \n"
   ]
  },
  {
   "cell_type": "code",
   "execution_count": 401,
   "metadata": {},
   "outputs": [
    {
     "data": {
      "image/png": "[encoded data removed]",
      "text/plain": [
       "<Figure size 432x288 with 1 Axes>"
      ]
     },
     "metadata": {},
     "output_type": "display_data"
    }
   ],
   "source": [
    "####Confidence Intervals on IRR of overall market\n",
    "df_conf_int = df_filtered.groupby(['issue_yr'])['irr'].describe()\n",
    "# example data\n",
    "x = df_conf_int.index\n",
    "y = df_conf_int.mean\n",
    "yerr = df_conf_int.std\n",
    "\n",
    "fig, ax = plt.subplots()\n",
    "ax.errorbar(x, y, xerr=0.2, yerr=0.4)\n",
    "plt.show()\n",
    "\n",
    "\n",
    "\n",
    "\n",
    "\n",
    "\n"
   ]
  },
  {
   "cell_type": "code",
   "execution_count": null,
   "metadata": {
    "collapsed": true
   },
   "outputs": [],
   "source": [
    "####DO A POOLED T-TEST of NEW PORTFOLIO vs RANdOM PORTFOLIO"
   ]
  },
  {
   "cell_type": "code",
   "execution_count": null,
   "metadata": {
    "collapsed": true
   },
   "outputs": [],
   "source": [
    "###appendix\n",
    "\n",
    "##limitation of individual IRR"
   ]
  }
 ],
 "metadata": {
  "kernelspec": {
   "display_name": "Python 3",
   "language": "python",
   "name": "python3"
  },
  "language_info": {
   "codemirror_mode": {
    "name": "ipython",
    "version": 3
   },
   "file_extension": ".py",
   "mimetype": "text/x-python",
   "name": "python",
   "nbconvert_exporter": "python",
   "pygments_lexer": "ipython3",
   "version": "3.6.1"
  }
 },
 "nbformat": 4,
 "nbformat_minor": 2
}
