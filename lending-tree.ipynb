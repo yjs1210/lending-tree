{
 "cells": [
  {
   "cell_type": "code",
   "execution_count": 150,
   "metadata": {
    "collapsed": true
   },
   "outputs": [],
   "source": [
    "import pandas as pd\n",
    "import numpy as np\n",
    "import matplotlib.pyplot as plt\n",
    "import matplotlib.mlab as mlab\n",
    "from IPython.display import Image\n",
    "from IPython.core.display import HTML \n",
    "import datetime\n",
    "import math\n",
    "import scipy.optimize as optimize\n",
    "plt.style.use('ggplot')\n"
   ]
  },
  {
   "cell_type": "markdown",
   "metadata": {},
   "source": [
    "To Dos: ML on number of loans pulled form each grade\n",
    "Show individual security by grade - talk about its limitations\n",
    "Talk about pooling method & show CI graph = CLT -> approaches normality & easier for us to conduct tests\n",
    "End with market volume graph on entire dataset\n",
    "\n",
    "Answer questions using both approaches\n",
    "\n",
    "Present the simplest method - take the best sharpe ratio class for 2009-2011 and use that for 2012\n",
    "Present couple other approaches\n",
    "\n",
    "\n",
    "Rational for taking out the bad classes - we may be trading on noises rather than confident signals\n",
    "We may be violating the assumptions of t-test, so we can try a non-parametric test\n",
    "import scipy.optimize as optimize\n",
    "\n",
    "\n",
    "import scipy.optimize as optimize\n",
    "\n",
    "\n",
    "def f(params):\n",
    "    # print(params)  # <-- you'll see that params is a NumPy array\n",
    "    a, b, c = params # <-- for readability you may wish to assign names to the component variables\n",
    "    return a**2 + b**2 + c**2\n",
    "\n",
    "initial_guess = [1, 1, 1]\n",
    "result = optimize.minimize(f, initial_guess, bounds = [(.25, 1), (-1, 20),(0,1)])\n",
    "if result.success:\n",
    "    fitted_params = result.x\n",
    "    print(fitted_params)\n",
    "else:\n",
    "    raise ValueError(result.message)\n",
    "\n",
    "May want to check average sizes of loans and change proportions accordingly\n",
    "\n",
    "https://towardsdatascience.com/efficient-frontier-portfolio-optimisation-in-python-e7844051e7f"
   ]
  },
  {
   "cell_type": "markdown",
   "metadata": {},
   "source": [
    "Still include the IRR calcs "
   ]
  },
  {
   "cell_type": "markdown",
   "metadata": {},
   "source": [
    "Weighted average rather than just raw average for the IRR calcs using individual loans\n"
   ]
  },
  {
   "cell_type": "markdown",
   "metadata": {
    "collapsed": true
   },
   "source": [
    "# Premise\n",
    "\n",
    "We approach EDA from a perspective of an investor, whose interests are maximizing risk-adjusted returns. Here we will look at interest rate vs default rate, and then calculate a net adjusted annual return separated by the loan grade.\n",
    "\n",
    "Next, we answer the question, are 36 month loans \n",
    "\n",
    "\n",
    "Lastly, we will build a model that can create a basket of investments that can outperform the market basket. These are the steps done and assumptions made.\n",
    "\n",
    "    1. We first calculate the sharpe ratio using net adjusted return on all historical basket of loans. \n",
    "    2. We will build a regression model, using features chosen carefully through nested model testing, that will forecast the returns of all the loans in a validation dataset\n",
    "    3. We will then use linear programming to set constraint and build a portfolio that maximizes the sharpe ratio with 10% of market liquidity\n",
    "    4. We will then compare our model vs actual result to get a sense of whether we were able to outperform or not \n",
    "\n",
    "Additional analysis that can be done is accounting for changes in the risk free rate, and rebalancing of the portfolio year over year."
   ]
  },
  {
   "cell_type": "markdown",
   "metadata": {
    "collapsed": true
   },
   "source": []
  },
  {
   "cell_type": "markdown",
   "metadata": {},
   "source": [
    "# Assumptions & Discussions"
   ]
  },
  {
   "cell_type": "markdown",
   "metadata": {},
   "source": [
    "1. Funded Amount vs Funded Amount Inv: Where there are differences, lending tree stepped in to make up for the differences between loan amount and funed amount invested by investors. We will go ahead and use funded amount as a basis for all our analysis.\n",
    "2. We assume all cash is deployed on year of x(has the most data) to reduce cash drag. We calculate IRR-> assuming we can reinvest at this rate \n",
    "3. Returns on the loans are most likely not normally distributed but a pool of randomly sampled loans should be"
   ]
  },
  {
   "cell_type": "markdown",
   "metadata": {},
   "source": [
    "# Data Cleansing"
   ]
  },
  {
   "cell_type": "markdown",
   "metadata": {},
   "source": [
    "As an investor, you want to get a good grasp of two things of any investments, risk and reward. This analyis will mainly focus on that. "
   ]
  },
  {
   "cell_type": "markdown",
   "metadata": {},
   "source": [
    "Dissecting the data to too many categorical values can "
   ]
  },
  {
   "cell_type": "markdown",
   "metadata": {},
   "source": [
    "First we calculat the default percentage, we will include the \"does not meet...\" rows as valid loans, and throw out rest of the data that we don't have complete information on."
   ]
  },
  {
   "cell_type": "markdown",
   "metadata": {},
   "source": [
    "###data call outs\n",
    "You can't trade on information that is not there yet.... \n"
   ]
  },
  {
   "cell_type": "code",
   "execution_count": 2,
   "metadata": {
    "collapsed": true
   },
   "outputs": [],
   "source": [
    "###data load\n",
    "df = pd.read_csv('./data/loan.csv', low_memory=False)"
   ]
  },
  {
   "cell_type": "code",
   "execution_count": 3,
   "metadata": {
    "collapsed": true
   },
   "outputs": [],
   "source": [
    "###cleaning data \n",
    "df['last_pymnt_d']=pd.to_datetime(df.last_pymnt_d)\n",
    "df['issue_d']=pd.to_datetime(df.issue_d)"
   ]
  },
  {
   "cell_type": "code",
   "execution_count": 4,
   "metadata": {
    "collapsed": true
   },
   "outputs": [],
   "source": [
    "###fill missing last_payments(no payments) with issue date, may want a separete column for this treatmet\n",
    "###This is for calculation of IRRs later\n",
    "df['last_pymnt_d'].fillna(df.issue_d,inplace=True)"
   ]
  },
  {
   "cell_type": "code",
   "execution_count": 5,
   "metadata": {
    "collapsed": true
   },
   "outputs": [],
   "source": [
    "###Some pre-processing for ease of calculations\n",
    "df['issue_yr'] = df.issue_d.dt.year\n",
    "df['issue_mo']= df.issue_d.dt.month\n",
    "df['last_pymnt_yr'] = df.last_pymnt_d.dt.year\n",
    "df['last_pymnt_mo']= df.last_pymnt_d.dt.month"
   ]
  },
  {
   "cell_type": "code",
   "execution_count": 6,
   "metadata": {
    "collapsed": true
   },
   "outputs": [],
   "source": [
    "###filter to loans we have complete data only\n",
    "searchfor = ['Fully Paid', 'Charged Off', 'Default']\n",
    "df_filtered = df[df['loan_status'].str.contains('|'.join(searchfor))].query(\"term == ' 36 months' and issue_yr <=2012\").copy()"
   ]
  },
  {
   "cell_type": "code",
   "execution_count": 7,
   "metadata": {
    "collapsed": true
   },
   "outputs": [],
   "source": [
    "###default flag \n",
    "df_filtered['loan_status_flag'] = np.where(df_filtered['loan_status'].str.contains('Fully Paid') ,1,0)"
   ]
  },
  {
   "cell_type": "markdown",
   "metadata": {},
   "source": [
    "### Overall Default Percentage"
   ]
  },
  {
   "cell_type": "code",
   "execution_count": 8,
   "metadata": {},
   "outputs": [
    {
     "data": {
      "text/plain": [
       "0.12997142017682095"
      ]
     },
     "execution_count": 8,
     "metadata": {},
     "output_type": "execute_result"
    }
   ],
   "source": [
    "1- df_filtered['loan_status_flag'].mean()"
   ]
  },
  {
   "cell_type": "markdown",
   "metadata": {},
   "source": [
    "### Overall Interest Rate"
   ]
  },
  {
   "cell_type": "code",
   "execution_count": 9,
   "metadata": {
    "scrolled": true
   },
   "outputs": [
    {
     "data": {
      "text/plain": [
       "12.033947888569795"
      ]
     },
     "execution_count": 9,
     "metadata": {},
     "output_type": "execute_result"
    }
   ],
   "source": [
    "df_filtered['int_rate'].mean()"
   ]
  },
  {
   "cell_type": "code",
   "execution_count": 10,
   "metadata": {
    "collapsed": true
   },
   "outputs": [],
   "source": [
    "### IRR Calculations\n",
    "###calculate differences in months for total duration of the loan \n",
    "df_filtered['mo_diff'] = pd.to_numeric((df_filtered['last_pymnt_yr'] - \n",
    "                          df_filtered['issue_yr'])*12 + df['last_pymnt_mo'] -df['issue_mo'])\n",
    "df_filtered['avg_pymnt'] = (df_filtered['total_pymnt']-df_filtered['recoveries'])/(df_filtered['mo_diff']-1)"
   ]
  },
  {
   "cell_type": "code",
   "execution_count": null,
   "metadata": {
    "collapsed": true
   },
   "outputs": [],
   "source": [
    "##we calculate return using a pool of cash flows \n",
    "##avoids IRR's drastic treatment of negative IRR \n",
    "##automatically does weighted adjustment based on size of the loan\n",
    "##we later can take many pools of data using functions built to effectively creat a derivative that is a pool of loans\n",
    "##Pool of loans returns should be normally distributed, allowing us to do interesting analysis around normality\n",
    "##and calculate things such as sharpe ratio\n",
    "##More representative for institutional investors who will have a set of funds for an asset class and not\n",
    "##investing in individual loans\n",
    "##Diversification"
   ]
  },
  {
   "cell_type": "code",
   "execution_count": 11,
   "metadata": {
    "collapsed": true
   },
   "outputs": [],
   "source": [
    "def cash_flow(row,max_n):\n",
    "    initial_invest = -row['funded_amnt'] \n",
    "    avg_payment = row['avg_pymnt'] or 0 \n",
    "    num_payments = int(row['mo_diff'])-1 \n",
    "    fully_paid =row['loan_status_flag'] or 0 \n",
    "    recovery = row['recoveries'] or 0 \n",
    "    chargeoff_fee = -row['collection_recovery_fee'] or 0 \n",
    "    dummy_cfs = int(max_n - row['mo_diff'])+2\n",
    "    return [initial_invest]+[avg_payment]*num_payments + [recovery+chargeoff_fee]+ [0]*dummy_cfs"
   ]
  },
  {
   "cell_type": "code",
   "execution_count": 12,
   "metadata": {
    "collapsed": true
   },
   "outputs": [],
   "source": [
    "def irr_pool(df):\n",
    "    list_length = df['mo_diff'].max()\n",
    "    cfs=[]\n",
    "    for index, row in df.iterrows(): \n",
    "        cfs.append(cash_flow(row,list_length))\n",
    "    result = [sum(x) for x in zip(*cfs)]\n",
    "    return (np.irr(result)+1)**12 -1"
   ]
  },
  {
   "cell_type": "code",
   "execution_count": 13,
   "metadata": {
    "collapsed": true
   },
   "outputs": [],
   "source": [
    "###IRR calculations at an indiviudal loans proved to be a bad exercise, because the bad loans were\n",
    "###a lot more pronounced. \n",
    "def irr_calc(x):  \n",
    "    ##varible initialization\n",
    "    initial_invest = -x['funded_amnt']\n",
    "    avg_payment = x['avg_pymnt']\n",
    "    num_payments = int(x['mo_diff'])-1\n",
    "    fully_paid = x['loan_status_flag']\n",
    "    recovery = x['recoveries']\n",
    "    chargeoff_fee = -x['collection_recovery_fee']\n",
    "    ##IRR calculation, input: series of cash flows, total payment evenly divided and spread across the life of the loan \n",
    "    return ((np.irr([initial_invest]+[avg_payment]*num_payments + [recovery+chargeoff_fee])+1)**12-1)"
   ]
  },
  {
   "cell_type": "code",
   "execution_count": 14,
   "metadata": {
    "collapsed": true
   },
   "outputs": [],
   "source": [
    "def nar_calc(x):\n",
    "\n",
    "    initial_invest = -x['funded_amnt']\n",
    "    avg_payment = x['avg_pymnt']\n",
    "    num_payments = int(x['mo_diff'])   \n",
    "    fully_paid = x['loan_status_flag']\n",
    "    charge_off = x['funded_amnt_inv'] - x['total_rec_prncp'] - x['recoveries'] + x['collection_recovery_fee']\n",
    "    chargeoff_fee = -x['collection_recovery_fee']\n",
    "    \n",
    "    balance = x['funded_amnt']\n",
    "    annual_interest_rate = x['int_rate']/100\n",
    "    monthly_interest_rate = annual_interest_rate / 12\n",
    "    monthly_payment = x['installment']\n",
    "    \n",
    "    for month in range(1, num_payments):\n",
    "        if(month != num_payments-1):\n",
    "            balance = (balance - monthly_payment) * (1 + monthly_interest_rate)\n",
    "        else: \n",
    "            balance = 0\n",
    "        print('Month: %d \\n Minimum monthly payment: %g \\n Remaining balance: %g'\\\n",
    "              % (month, round(monthly_payment, 2), round(balance,2)))"
   ]
  },
  {
   "cell_type": "markdown",
   "metadata": {},
   "source": [
    "### Pooled Method Overall IRR"
   ]
  },
  {
   "cell_type": "code",
   "execution_count": 15,
   "metadata": {},
   "outputs": [
    {
     "data": {
      "text/plain": [
       "0.07708614688635329"
      ]
     },
     "execution_count": 15,
     "metadata": {},
     "output_type": "execute_result"
    }
   ],
   "source": [
    "irr_pool(df_filtered)"
   ]
  },
  {
   "cell_type": "code",
   "execution_count": 16,
   "metadata": {
    "collapsed": true
   },
   "outputs": [],
   "source": [
    "##NaNs returned from IRRs with 0 payments should be -100% return \n",
    "df_filtered['irr']=df_filtered.apply(irr_calc, axis=1)"
   ]
  },
  {
   "cell_type": "markdown",
   "metadata": {},
   "source": [
    "### Weighed Average of security level IRRs"
   ]
  },
  {
   "cell_type": "code",
   "execution_count": 17,
   "metadata": {
    "collapsed": true
   },
   "outputs": [],
   "source": [
    "##NaNs returned from IRRs with 0 payments should be -100% return \n",
    "df_filtered['irr']=df_filtered['irr'].replace(np.NaN,-1)"
   ]
  },
  {
   "cell_type": "code",
   "execution_count": 18,
   "metadata": {},
   "outputs": [
    {
     "data": {
      "text/plain": [
       "0.068881413393099555"
      ]
     },
     "execution_count": 18,
     "metadata": {},
     "output_type": "execute_result"
    }
   ],
   "source": [
    "weighted_avg = np.average(df_filtered['irr'], weights=df_filtered['funded_amnt'])\n",
    "weighted_avg"
   ]
  },
  {
   "cell_type": "code",
   "execution_count": 19,
   "metadata": {},
   "outputs": [
    {
     "data": {
      "text/html": [
       "<div>\n",
       "<style>\n",
       "    .dataframe thead tr:only-child th {\n",
       "        text-align: right;\n",
       "    }\n",
       "\n",
       "    .dataframe thead th {\n",
       "        text-align: left;\n",
       "    }\n",
       "\n",
       "    .dataframe tbody tr th {\n",
       "        vertical-align: top;\n",
       "    }\n",
       "</style>\n",
       "<table border=\"1\" class=\"dataframe\">\n",
       "  <thead>\n",
       "    <tr style=\"text-align: right;\">\n",
       "      <th></th>\n",
       "      <th>loan_amnt</th>\n",
       "      <th>last_pymnt_amnt</th>\n",
       "      <th>installment</th>\n",
       "      <th>issue_d</th>\n",
       "      <th>int_rate</th>\n",
       "      <th>last_pymnt_d</th>\n",
       "      <th>total_pymnt</th>\n",
       "      <th>mo_diff</th>\n",
       "      <th>avg_pymnt</th>\n",
       "      <th>irr</th>\n",
       "      <th>collection_recovery_fee</th>\n",
       "      <th>recoveries</th>\n",
       "      <th>total_rec_late_fee</th>\n",
       "    </tr>\n",
       "  </thead>\n",
       "  <tbody>\n",
       "    <tr>\n",
       "      <th>0</th>\n",
       "      <td>5000.0</td>\n",
       "      <td>171.62</td>\n",
       "      <td>162.87</td>\n",
       "      <td>2011-12-01</td>\n",
       "      <td>10.65</td>\n",
       "      <td>2015-01-01</td>\n",
       "      <td>5861.071414</td>\n",
       "      <td>37.0</td>\n",
       "      <td>162.807539</td>\n",
       "      <td>0.111582</td>\n",
       "      <td>0.0</td>\n",
       "      <td>0.0</td>\n",
       "      <td>0.00</td>\n",
       "    </tr>\n",
       "    <tr>\n",
       "      <th>2</th>\n",
       "      <td>2400.0</td>\n",
       "      <td>649.91</td>\n",
       "      <td>84.33</td>\n",
       "      <td>2011-12-01</td>\n",
       "      <td>15.96</td>\n",
       "      <td>2014-06-01</td>\n",
       "      <td>3003.653644</td>\n",
       "      <td>30.0</td>\n",
       "      <td>103.574264</td>\n",
       "      <td>0.204687</td>\n",
       "      <td>0.0</td>\n",
       "      <td>0.0</td>\n",
       "      <td>0.00</td>\n",
       "    </tr>\n",
       "    <tr>\n",
       "      <th>3</th>\n",
       "      <td>10000.0</td>\n",
       "      <td>357.48</td>\n",
       "      <td>339.31</td>\n",
       "      <td>2011-12-01</td>\n",
       "      <td>13.49</td>\n",
       "      <td>2015-01-01</td>\n",
       "      <td>12226.302212</td>\n",
       "      <td>37.0</td>\n",
       "      <td>339.619506</td>\n",
       "      <td>0.144298</td>\n",
       "      <td>0.0</td>\n",
       "      <td>0.0</td>\n",
       "      <td>16.97</td>\n",
       "    </tr>\n",
       "    <tr>\n",
       "      <th>5</th>\n",
       "      <td>5000.0</td>\n",
       "      <td>161.03</td>\n",
       "      <td>156.46</td>\n",
       "      <td>2011-12-01</td>\n",
       "      <td>7.90</td>\n",
       "      <td>2015-01-01</td>\n",
       "      <td>5631.377753</td>\n",
       "      <td>37.0</td>\n",
       "      <td>156.427160</td>\n",
       "      <td>0.081812</td>\n",
       "      <td>0.0</td>\n",
       "      <td>0.0</td>\n",
       "      <td>0.00</td>\n",
       "    </tr>\n",
       "    <tr>\n",
       "      <th>7</th>\n",
       "      <td>3000.0</td>\n",
       "      <td>111.34</td>\n",
       "      <td>109.43</td>\n",
       "      <td>2011-12-01</td>\n",
       "      <td>18.64</td>\n",
       "      <td>2015-01-01</td>\n",
       "      <td>3938.144334</td>\n",
       "      <td>37.0</td>\n",
       "      <td>109.392898</td>\n",
       "      <td>0.202945</td>\n",
       "      <td>0.0</td>\n",
       "      <td>0.0</td>\n",
       "      <td>0.00</td>\n",
       "    </tr>\n",
       "    <tr>\n",
       "      <th>11</th>\n",
       "      <td>12000.0</td>\n",
       "      <td>6315.30</td>\n",
       "      <td>402.54</td>\n",
       "      <td>2011-12-01</td>\n",
       "      <td>12.69</td>\n",
       "      <td>2013-09-01</td>\n",
       "      <td>13943.080000</td>\n",
       "      <td>21.0</td>\n",
       "      <td>697.154000</td>\n",
       "      <td>0.191938</td>\n",
       "      <td>0.0</td>\n",
       "      <td>0.0</td>\n",
       "      <td>0.00</td>\n",
       "    </tr>\n",
       "    <tr>\n",
       "      <th>13</th>\n",
       "      <td>3000.0</td>\n",
       "      <td>102.43</td>\n",
       "      <td>96.68</td>\n",
       "      <td>2011-12-01</td>\n",
       "      <td>9.91</td>\n",
       "      <td>2015-01-01</td>\n",
       "      <td>3478.981915</td>\n",
       "      <td>37.0</td>\n",
       "      <td>96.638387</td>\n",
       "      <td>0.103444</td>\n",
       "      <td>0.0</td>\n",
       "      <td>0.0</td>\n",
       "      <td>0.00</td>\n",
       "    </tr>\n",
       "    <tr>\n",
       "      <th>15</th>\n",
       "      <td>1000.0</td>\n",
       "      <td>36.32</td>\n",
       "      <td>35.31</td>\n",
       "      <td>2011-12-01</td>\n",
       "      <td>16.29</td>\n",
       "      <td>2015-01-01</td>\n",
       "      <td>1270.171106</td>\n",
       "      <td>37.0</td>\n",
       "      <td>35.282531</td>\n",
       "      <td>0.175212</td>\n",
       "      <td>0.0</td>\n",
       "      <td>0.0</td>\n",
       "      <td>0.00</td>\n",
       "    </tr>\n",
       "    <tr>\n",
       "      <th>16</th>\n",
       "      <td>10000.0</td>\n",
       "      <td>370.46</td>\n",
       "      <td>347.98</td>\n",
       "      <td>2011-12-01</td>\n",
       "      <td>15.27</td>\n",
       "      <td>2015-01-01</td>\n",
       "      <td>12519.260450</td>\n",
       "      <td>37.0</td>\n",
       "      <td>347.757235</td>\n",
       "      <td>0.163339</td>\n",
       "      <td>0.0</td>\n",
       "      <td>0.0</td>\n",
       "      <td>0.00</td>\n",
       "    </tr>\n",
       "    <tr>\n",
       "      <th>17</th>\n",
       "      <td>3600.0</td>\n",
       "      <td>583.45</td>\n",
       "      <td>109.57</td>\n",
       "      <td>2011-12-01</td>\n",
       "      <td>6.03</td>\n",
       "      <td>2013-05-01</td>\n",
       "      <td>3785.020000</td>\n",
       "      <td>17.0</td>\n",
       "      <td>236.563750</td>\n",
       "      <td>0.073885</td>\n",
       "      <td>0.0</td>\n",
       "      <td>0.0</td>\n",
       "      <td>0.00</td>\n",
       "    </tr>\n",
       "    <tr>\n",
       "      <th>18</th>\n",
       "      <td>6000.0</td>\n",
       "      <td>16.98</td>\n",
       "      <td>198.46</td>\n",
       "      <td>2011-12-01</td>\n",
       "      <td>11.71</td>\n",
       "      <td>2015-02-01</td>\n",
       "      <td>7164.499852</td>\n",
       "      <td>38.0</td>\n",
       "      <td>193.635131</td>\n",
       "      <td>0.122268</td>\n",
       "      <td>0.0</td>\n",
       "      <td>0.0</td>\n",
       "      <td>15.00</td>\n",
       "    </tr>\n",
       "    <tr>\n",
       "      <th>19</th>\n",
       "      <td>9200.0</td>\n",
       "      <td>8061.10</td>\n",
       "      <td>280.01</td>\n",
       "      <td>2011-12-01</td>\n",
       "      <td>6.03</td>\n",
       "      <td>2012-07-01</td>\n",
       "      <td>9459.960000</td>\n",
       "      <td>7.0</td>\n",
       "      <td>1576.660000</td>\n",
       "      <td>0.100600</td>\n",
       "      <td>0.0</td>\n",
       "      <td>0.0</td>\n",
       "      <td>0.00</td>\n",
       "    </tr>\n",
       "    <tr>\n",
       "      <th>22</th>\n",
       "      <td>10000.0</td>\n",
       "      <td>349.21</td>\n",
       "      <td>330.76</td>\n",
       "      <td>2011-12-01</td>\n",
       "      <td>11.71</td>\n",
       "      <td>2015-01-01</td>\n",
       "      <td>11902.561575</td>\n",
       "      <td>37.0</td>\n",
       "      <td>330.626710</td>\n",
       "      <td>0.123283</td>\n",
       "      <td>0.0</td>\n",
       "      <td>0.0</td>\n",
       "      <td>0.00</td>\n",
       "    </tr>\n",
       "    <tr>\n",
       "      <th>23</th>\n",
       "      <td>10000.0</td>\n",
       "      <td>4942.63</td>\n",
       "      <td>330.76</td>\n",
       "      <td>2011-12-01</td>\n",
       "      <td>11.71</td>\n",
       "      <td>2013-10-01</td>\n",
       "      <td>11536.310000</td>\n",
       "      <td>22.0</td>\n",
       "      <td>549.348095</td>\n",
       "      <td>0.172848</td>\n",
       "      <td>0.0</td>\n",
       "      <td>0.0</td>\n",
       "      <td>0.00</td>\n",
       "    </tr>\n",
       "    <tr>\n",
       "      <th>25</th>\n",
       "      <td>15000.0</td>\n",
       "      <td>2447.05</td>\n",
       "      <td>483.38</td>\n",
       "      <td>2011-12-01</td>\n",
       "      <td>9.91</td>\n",
       "      <td>2012-09-01</td>\n",
       "      <td>15823.480000</td>\n",
       "      <td>9.0</td>\n",
       "      <td>1977.935000</td>\n",
       "      <td>0.154330</td>\n",
       "      <td>0.0</td>\n",
       "      <td>0.0</td>\n",
       "      <td>0.00</td>\n",
       "    </tr>\n",
       "    <tr>\n",
       "      <th>28</th>\n",
       "      <td>4000.0</td>\n",
       "      <td>2638.77</td>\n",
       "      <td>132.31</td>\n",
       "      <td>2011-12-01</td>\n",
       "      <td>11.71</td>\n",
       "      <td>2013-04-01</td>\n",
       "      <td>4484.790000</td>\n",
       "      <td>16.0</td>\n",
       "      <td>298.986000</td>\n",
       "      <td>0.190719</td>\n",
       "      <td>0.0</td>\n",
       "      <td>0.0</td>\n",
       "      <td>0.00</td>\n",
       "    </tr>\n",
       "    <tr>\n",
       "      <th>29</th>\n",
       "      <td>8500.0</td>\n",
       "      <td>581.59</td>\n",
       "      <td>281.15</td>\n",
       "      <td>2011-12-01</td>\n",
       "      <td>11.71</td>\n",
       "      <td>2014-12-01</td>\n",
       "      <td>10122.208614</td>\n",
       "      <td>36.0</td>\n",
       "      <td>289.205960</td>\n",
       "      <td>0.127306</td>\n",
       "      <td>0.0</td>\n",
       "      <td>0.0</td>\n",
       "      <td>0.00</td>\n",
       "    </tr>\n",
       "    <tr>\n",
       "      <th>30</th>\n",
       "      <td>4375.0</td>\n",
       "      <td>144.94</td>\n",
       "      <td>136.11</td>\n",
       "      <td>2011-12-01</td>\n",
       "      <td>7.51</td>\n",
       "      <td>2015-01-01</td>\n",
       "      <td>4898.543558</td>\n",
       "      <td>37.0</td>\n",
       "      <td>136.070654</td>\n",
       "      <td>0.077531</td>\n",
       "      <td>0.0</td>\n",
       "      <td>0.0</td>\n",
       "      <td>0.00</td>\n",
       "    </tr>\n",
       "    <tr>\n",
       "      <th>31</th>\n",
       "      <td>31825.0</td>\n",
       "      <td>16966.70</td>\n",
       "      <td>995.82</td>\n",
       "      <td>2011-12-01</td>\n",
       "      <td>7.90</td>\n",
       "      <td>2013-08-01</td>\n",
       "      <td>34886.080000</td>\n",
       "      <td>20.0</td>\n",
       "      <td>1836.109474</td>\n",
       "      <td>0.118249</td>\n",
       "      <td>0.0</td>\n",
       "      <td>0.0</td>\n",
       "      <td>0.00</td>\n",
       "    </tr>\n",
       "    <tr>\n",
       "      <th>33</th>\n",
       "      <td>5000.0</td>\n",
       "      <td>163.64</td>\n",
       "      <td>158.77</td>\n",
       "      <td>2011-12-01</td>\n",
       "      <td>8.90</td>\n",
       "      <td>2015-01-01</td>\n",
       "      <td>5714.592129</td>\n",
       "      <td>37.0</td>\n",
       "      <td>158.738670</td>\n",
       "      <td>0.092594</td>\n",
       "      <td>0.0</td>\n",
       "      <td>0.0</td>\n",
       "      <td>0.00</td>\n",
       "    </tr>\n",
       "    <tr>\n",
       "      <th>34</th>\n",
       "      <td>7000.0</td>\n",
       "      <td>260.74</td>\n",
       "      <td>245.97</td>\n",
       "      <td>2011-12-01</td>\n",
       "      <td>15.96</td>\n",
       "      <td>2015-01-01</td>\n",
       "      <td>8848.940430</td>\n",
       "      <td>37.0</td>\n",
       "      <td>245.803901</td>\n",
       "      <td>0.171282</td>\n",
       "      <td>0.0</td>\n",
       "      <td>0.0</td>\n",
       "      <td>0.00</td>\n",
       "    </tr>\n",
       "    <tr>\n",
       "      <th>35</th>\n",
       "      <td>12400.0</td>\n",
       "      <td>417.61</td>\n",
       "      <td>403.91</td>\n",
       "      <td>2011-12-01</td>\n",
       "      <td>10.65</td>\n",
       "      <td>2015-01-01</td>\n",
       "      <td>14537.459527</td>\n",
       "      <td>37.0</td>\n",
       "      <td>403.818320</td>\n",
       "      <td>0.111687</td>\n",
       "      <td>0.0</td>\n",
       "      <td>0.0</td>\n",
       "      <td>0.00</td>\n",
       "    </tr>\n",
       "    <tr>\n",
       "      <th>36</th>\n",
       "      <td>10800.0</td>\n",
       "      <td>3483.79</td>\n",
       "      <td>348.03</td>\n",
       "      <td>2011-12-01</td>\n",
       "      <td>9.91</td>\n",
       "      <td>2013-11-01</td>\n",
       "      <td>12157.200000</td>\n",
       "      <td>23.0</td>\n",
       "      <td>552.600000</td>\n",
       "      <td>0.134090</td>\n",
       "      <td>0.0</td>\n",
       "      <td>0.0</td>\n",
       "      <td>0.00</td>\n",
       "    </tr>\n",
       "    <tr>\n",
       "      <th>37</th>\n",
       "      <td>15000.0</td>\n",
       "      <td>5872.80</td>\n",
       "      <td>469.36</td>\n",
       "      <td>2011-12-01</td>\n",
       "      <td>7.90</td>\n",
       "      <td>2014-01-01</td>\n",
       "      <td>16662.600000</td>\n",
       "      <td>25.0</td>\n",
       "      <td>694.275000</td>\n",
       "      <td>0.108040</td>\n",
       "      <td>0.0</td>\n",
       "      <td>0.0</td>\n",
       "      <td>0.00</td>\n",
       "    </tr>\n",
       "    <tr>\n",
       "      <th>38</th>\n",
       "      <td>6000.0</td>\n",
       "      <td>1923.53</td>\n",
       "      <td>200.50</td>\n",
       "      <td>2011-12-01</td>\n",
       "      <td>12.42</td>\n",
       "      <td>2014-04-01</td>\n",
       "      <td>7125.283165</td>\n",
       "      <td>28.0</td>\n",
       "      <td>263.899376</td>\n",
       "      <td>0.163547</td>\n",
       "      <td>0.0</td>\n",
       "      <td>0.0</td>\n",
       "      <td>0.00</td>\n",
       "    </tr>\n",
       "  </tbody>\n",
       "</table>\n",
       "</div>"
      ],
      "text/plain": [
       "    loan_amnt  last_pymnt_amnt  installment    issue_d  int_rate last_pymnt_d  \\\n",
       "0      5000.0           171.62       162.87 2011-12-01     10.65   2015-01-01   \n",
       "2      2400.0           649.91        84.33 2011-12-01     15.96   2014-06-01   \n",
       "3     10000.0           357.48       339.31 2011-12-01     13.49   2015-01-01   \n",
       "5      5000.0           161.03       156.46 2011-12-01      7.90   2015-01-01   \n",
       "7      3000.0           111.34       109.43 2011-12-01     18.64   2015-01-01   \n",
       "11    12000.0          6315.30       402.54 2011-12-01     12.69   2013-09-01   \n",
       "13     3000.0           102.43        96.68 2011-12-01      9.91   2015-01-01   \n",
       "15     1000.0            36.32        35.31 2011-12-01     16.29   2015-01-01   \n",
       "16    10000.0           370.46       347.98 2011-12-01     15.27   2015-01-01   \n",
       "17     3600.0           583.45       109.57 2011-12-01      6.03   2013-05-01   \n",
       "18     6000.0            16.98       198.46 2011-12-01     11.71   2015-02-01   \n",
       "19     9200.0          8061.10       280.01 2011-12-01      6.03   2012-07-01   \n",
       "22    10000.0           349.21       330.76 2011-12-01     11.71   2015-01-01   \n",
       "23    10000.0          4942.63       330.76 2011-12-01     11.71   2013-10-01   \n",
       "25    15000.0          2447.05       483.38 2011-12-01      9.91   2012-09-01   \n",
       "28     4000.0          2638.77       132.31 2011-12-01     11.71   2013-04-01   \n",
       "29     8500.0           581.59       281.15 2011-12-01     11.71   2014-12-01   \n",
       "30     4375.0           144.94       136.11 2011-12-01      7.51   2015-01-01   \n",
       "31    31825.0         16966.70       995.82 2011-12-01      7.90   2013-08-01   \n",
       "33     5000.0           163.64       158.77 2011-12-01      8.90   2015-01-01   \n",
       "34     7000.0           260.74       245.97 2011-12-01     15.96   2015-01-01   \n",
       "35    12400.0           417.61       403.91 2011-12-01     10.65   2015-01-01   \n",
       "36    10800.0          3483.79       348.03 2011-12-01      9.91   2013-11-01   \n",
       "37    15000.0          5872.80       469.36 2011-12-01      7.90   2014-01-01   \n",
       "38     6000.0          1923.53       200.50 2011-12-01     12.42   2014-04-01   \n",
       "\n",
       "     total_pymnt  mo_diff    avg_pymnt       irr  collection_recovery_fee  \\\n",
       "0    5861.071414     37.0   162.807539  0.111582                      0.0   \n",
       "2    3003.653644     30.0   103.574264  0.204687                      0.0   \n",
       "3   12226.302212     37.0   339.619506  0.144298                      0.0   \n",
       "5    5631.377753     37.0   156.427160  0.081812                      0.0   \n",
       "7    3938.144334     37.0   109.392898  0.202945                      0.0   \n",
       "11  13943.080000     21.0   697.154000  0.191938                      0.0   \n",
       "13   3478.981915     37.0    96.638387  0.103444                      0.0   \n",
       "15   1270.171106     37.0    35.282531  0.175212                      0.0   \n",
       "16  12519.260450     37.0   347.757235  0.163339                      0.0   \n",
       "17   3785.020000     17.0   236.563750  0.073885                      0.0   \n",
       "18   7164.499852     38.0   193.635131  0.122268                      0.0   \n",
       "19   9459.960000      7.0  1576.660000  0.100600                      0.0   \n",
       "22  11902.561575     37.0   330.626710  0.123283                      0.0   \n",
       "23  11536.310000     22.0   549.348095  0.172848                      0.0   \n",
       "25  15823.480000      9.0  1977.935000  0.154330                      0.0   \n",
       "28   4484.790000     16.0   298.986000  0.190719                      0.0   \n",
       "29  10122.208614     36.0   289.205960  0.127306                      0.0   \n",
       "30   4898.543558     37.0   136.070654  0.077531                      0.0   \n",
       "31  34886.080000     20.0  1836.109474  0.118249                      0.0   \n",
       "33   5714.592129     37.0   158.738670  0.092594                      0.0   \n",
       "34   8848.940430     37.0   245.803901  0.171282                      0.0   \n",
       "35  14537.459527     37.0   403.818320  0.111687                      0.0   \n",
       "36  12157.200000     23.0   552.600000  0.134090                      0.0   \n",
       "37  16662.600000     25.0   694.275000  0.108040                      0.0   \n",
       "38   7125.283165     28.0   263.899376  0.163547                      0.0   \n",
       "\n",
       "    recoveries  total_rec_late_fee  \n",
       "0          0.0                0.00  \n",
       "2          0.0                0.00  \n",
       "3          0.0               16.97  \n",
       "5          0.0                0.00  \n",
       "7          0.0                0.00  \n",
       "11         0.0                0.00  \n",
       "13         0.0                0.00  \n",
       "15         0.0                0.00  \n",
       "16         0.0                0.00  \n",
       "17         0.0                0.00  \n",
       "18         0.0               15.00  \n",
       "19         0.0                0.00  \n",
       "22         0.0                0.00  \n",
       "23         0.0                0.00  \n",
       "25         0.0                0.00  \n",
       "28         0.0                0.00  \n",
       "29         0.0                0.00  \n",
       "30         0.0                0.00  \n",
       "31         0.0                0.00  \n",
       "33         0.0                0.00  \n",
       "34         0.0                0.00  \n",
       "35         0.0                0.00  \n",
       "36         0.0                0.00  \n",
       "37         0.0                0.00  \n",
       "38         0.0                0.00  "
      ]
     },
     "execution_count": 19,
     "metadata": {},
     "output_type": "execute_result"
    }
   ],
   "source": [
    "df_filtered[(df_filtered['loan_status_flag']==1) ][['loan_amnt','last_pymnt_amnt','installment','issue_d','int_rate'\n",
    "                                                 ,'last_pymnt_d', 'total_pymnt','mo_diff','avg_pymnt','irr'\n",
    "                                                ,'collection_recovery_fee','recoveries','total_rec_late_fee']].head(25)"
   ]
  },
  {
   "cell_type": "code",
   "execution_count": 20,
   "metadata": {
    "collapsed": true
   },
   "outputs": [],
   "source": [
    "df_group = df_filtered.groupby(['grade','issue_yr'])\n",
    "df_group_irr = df_group.apply(irr_pool)"
   ]
  },
  {
   "cell_type": "markdown",
   "metadata": {},
   "source": [
    "### Pooled Method IRR Buckets"
   ]
  },
  {
   "cell_type": "code",
   "execution_count": 21,
   "metadata": {
    "scrolled": true
   },
   "outputs": [
    {
     "data": {
      "text/plain": [
       "grade  issue_yr\n",
       "A      2007        0.085894\n",
       "       2008        0.052998\n",
       "       2009        0.066634\n",
       "       2010        0.061765\n",
       "       2011        0.052406\n",
       "       2012        0.051728\n",
       "B      2007       -0.018204\n",
       "       2008        0.022719\n",
       "       2009        0.057404\n",
       "       2010        0.076873\n",
       "       2011        0.082959\n",
       "       2012        0.082088\n",
       "C      2007        0.007516\n",
       "       2008        0.004002\n",
       "       2009        0.063086\n",
       "       2010        0.089088\n",
       "       2011        0.086319\n",
       "       2012        0.092011\n",
       "D      2007       -0.016531\n",
       "       2008       -0.021723\n",
       "       2009        0.073915\n",
       "       2010        0.090750\n",
       "       2011        0.111342\n",
       "       2012        0.110619\n",
       "E      2007       -0.019496\n",
       "       2008        0.022313\n",
       "       2009        0.053603\n",
       "       2010        0.094466\n",
       "       2011        0.140383\n",
       "       2012        0.133457\n",
       "F      2007       -0.143671\n",
       "       2008       -0.055813\n",
       "       2009        0.017345\n",
       "       2010        0.007917\n",
       "       2011        0.104254\n",
       "       2012        0.118903\n",
       "G      2007       -0.064915\n",
       "       2008       -0.001756\n",
       "       2009        0.020980\n",
       "       2010        0.058417\n",
       "       2011       -0.038284\n",
       "       2012        0.221485\n",
       "dtype: float64"
      ]
     },
     "execution_count": 21,
     "metadata": {},
     "output_type": "execute_result"
    }
   ],
   "source": [
    "df_group_irr"
   ]
  },
  {
   "cell_type": "code",
   "execution_count": 22,
   "metadata": {},
   "outputs": [
    {
     "data": {
      "text/plain": [
       "('G', 2012)"
      ]
     },
     "execution_count": 22,
     "metadata": {},
     "output_type": "execute_result"
    }
   ],
   "source": [
    "df_group_irr.argmax()"
   ]
  },
  {
   "cell_type": "code",
   "execution_count": 23,
   "metadata": {},
   "outputs": [
    {
     "data": {
      "text/plain": [
       "0.22148499252234632"
      ]
     },
     "execution_count": 23,
     "metadata": {},
     "output_type": "execute_result"
    }
   ],
   "source": [
    "df_group_irr.max()"
   ]
  },
  {
   "cell_type": "markdown",
   "metadata": {},
   "source": [
    "### Individual Security IRR Weighted Average Method"
   ]
  },
  {
   "cell_type": "code",
   "execution_count": 24,
   "metadata": {},
   "outputs": [
    {
     "data": {
      "text/plain": [
       "('G', 2012)"
      ]
     },
     "execution_count": 24,
     "metadata": {},
     "output_type": "execute_result"
    }
   ],
   "source": [
    "df_group_irr = df_group.apply(lambda x: np.average(x['irr'],weights = x['funded_amnt']))\n",
    "df_group_irr.argmax()"
   ]
  },
  {
   "cell_type": "code",
   "execution_count": 25,
   "metadata": {},
   "outputs": [
    {
     "data": {
      "text/plain": [
       "0.22895176203851611"
      ]
     },
     "execution_count": 25,
     "metadata": {},
     "output_type": "execute_result"
    }
   ],
   "source": [
    "df_group_irr.max()"
   ]
  },
  {
   "cell_type": "code",
   "execution_count": null,
   "metadata": {
    "collapsed": true
   },
   "outputs": [],
   "source": [
    "###may want to pool by size of portfolio not n random "
   ]
  },
  {
   "cell_type": "code",
   "execution_count": 26,
   "metadata": {
    "collapsed": true
   },
   "outputs": [],
   "source": [
    "def pool(df,pool_size):  \n",
    "    pool_running = 0 \n",
    "    df_pool = df.copy()\n",
    "    df_out = pd.DataFrame()\n",
    "    while (pool_running < pool_size):\n",
    "        df_subset = df_pool.sample(1)\n",
    "        ###no replacement\n",
    "        df_pool = df_pool.drop(df_subset.index)\n",
    "        pool_running += df_subset.iloc[0]['funded_amnt']\n",
    "        df_out = df_out.append(df_subset)\n",
    "    return df_out"
   ]
  },
  {
   "cell_type": "code",
   "execution_count": 27,
   "metadata": {
    "collapsed": true
   },
   "outputs": [],
   "source": [
    "def collect_n(df,n,pool_size):\n",
    "    returns_list = []\n",
    "    for x in range(0,n):\n",
    "        df_out = pool(df,pool_size)\n",
    "        returns_list.append(irr_pool(df_out))   \n",
    "    return returns_list"
   ]
  },
  {
   "cell_type": "code",
   "execution_count": 28,
   "metadata": {
    "collapsed": true
   },
   "outputs": [],
   "source": [
    "def collect_n_random(df,n,size):\n",
    "    returns_list = []\n",
    "    for x in range(0,n):\n",
    "        df_out = df.sample(size)\n",
    "        returns_list.append(irr_pool(df_out))   \n",
    "    return returns_list"
   ]
  },
  {
   "cell_type": "code",
   "execution_count": 29,
   "metadata": {
    "collapsed": true
   },
   "outputs": [],
   "source": [
    "def collect_n_random_stats(df,n,size):\n",
    "    returns_list = []\n",
    "    for x in range(0,n):\n",
    "        df_out = df.sample(size)\n",
    "        returns_list.append(irr_pool(df_out))   \n",
    "    return [np.average(returns_list)] +[math.sqrt(np.var(returns_list))]"
   ]
  },
  {
   "cell_type": "code",
   "execution_count": 31,
   "metadata": {
    "collapsed": true
   },
   "outputs": [],
   "source": [
    "#out=collect_n(df_filtered,100,10000000)"
   ]
  },
  {
   "cell_type": "code",
   "execution_count": 32,
   "metadata": {
    "collapsed": true
   },
   "outputs": [],
   "source": [
    "out=collect_n_random(df_filtered,100,1000)"
   ]
  },
  {
   "cell_type": "code",
   "execution_count": 34,
   "metadata": {
    "collapsed": true
   },
   "outputs": [],
   "source": [
    "out=collect_n_random_stats(df_filtered,100,1000)"
   ]
  },
  {
   "cell_type": "code",
   "execution_count": 38,
   "metadata": {},
   "outputs": [
    {
     "data": {
      "text/plain": [
       "[0.07742042070855211, 0.007487511760440712]"
      ]
     },
     "execution_count": 38,
     "metadata": {},
     "output_type": "execute_result"
    }
   ],
   "source": [
    "out"
   ]
  },
  {
   "cell_type": "code",
   "execution_count": 135,
   "metadata": {},
   "outputs": [
    {
     "data": {
      "text/html": [
       "<div>\n",
       "<style>\n",
       "    .dataframe thead tr:only-child th {\n",
       "        text-align: right;\n",
       "    }\n",
       "\n",
       "    .dataframe thead th {\n",
       "        text-align: left;\n",
       "    }\n",
       "\n",
       "    .dataframe tbody tr th {\n",
       "        vertical-align: top;\n",
       "    }\n",
       "</style>\n",
       "<table border=\"1\" class=\"dataframe\">\n",
       "  <thead>\n",
       "    <tr style=\"text-align: right;\">\n",
       "      <th></th>\n",
       "      <th></th>\n",
       "      <th>count</th>\n",
       "      <th>mean</th>\n",
       "      <th>std</th>\n",
       "      <th>min</th>\n",
       "      <th>25%</th>\n",
       "      <th>50%</th>\n",
       "      <th>75%</th>\n",
       "      <th>max</th>\n",
       "    </tr>\n",
       "    <tr>\n",
       "      <th>issue_yr</th>\n",
       "      <th>grade</th>\n",
       "      <th></th>\n",
       "      <th></th>\n",
       "      <th></th>\n",
       "      <th></th>\n",
       "      <th></th>\n",
       "      <th></th>\n",
       "      <th></th>\n",
       "      <th></th>\n",
       "    </tr>\n",
       "  </thead>\n",
       "  <tbody>\n",
       "    <tr>\n",
       "      <th rowspan=\"7\" valign=\"top\">2007</th>\n",
       "      <th>A</th>\n",
       "      <td>78.0</td>\n",
       "      <td>0.088713</td>\n",
       "      <td>0.079546</td>\n",
       "      <td>-0.500594</td>\n",
       "      <td>0.079421</td>\n",
       "      <td>0.086102</td>\n",
       "      <td>0.125100</td>\n",
       "      <td>0.173158</td>\n",
       "    </tr>\n",
       "    <tr>\n",
       "      <th>B</th>\n",
       "      <td>98.0</td>\n",
       "      <td>-0.006549</td>\n",
       "      <td>0.320001</td>\n",
       "      <td>-1.000000</td>\n",
       "      <td>0.093338</td>\n",
       "      <td>0.102290</td>\n",
       "      <td>0.116177</td>\n",
       "      <td>0.198256</td>\n",
       "    </tr>\n",
       "    <tr>\n",
       "      <th>C</th>\n",
       "      <td>141.0</td>\n",
       "      <td>-0.021995</td>\n",
       "      <td>0.324978</td>\n",
       "      <td>-1.000000</td>\n",
       "      <td>0.102903</td>\n",
       "      <td>0.117951</td>\n",
       "      <td>0.125394</td>\n",
       "      <td>0.241789</td>\n",
       "    </tr>\n",
       "    <tr>\n",
       "      <th>D</th>\n",
       "      <td>99.0</td>\n",
       "      <td>-0.054633</td>\n",
       "      <td>0.371228</td>\n",
       "      <td>-0.997184</td>\n",
       "      <td>-0.119874</td>\n",
       "      <td>0.136134</td>\n",
       "      <td>0.150054</td>\n",
       "      <td>0.260987</td>\n",
       "    </tr>\n",
       "    <tr>\n",
       "      <th>E</th>\n",
       "      <td>100.0</td>\n",
       "      <td>-0.055435</td>\n",
       "      <td>0.397073</td>\n",
       "      <td>-0.999364</td>\n",
       "      <td>-0.230600</td>\n",
       "      <td>0.150825</td>\n",
       "      <td>0.159527</td>\n",
       "      <td>0.311236</td>\n",
       "    </tr>\n",
       "    <tr>\n",
       "      <th>F</th>\n",
       "      <td>52.0</td>\n",
       "      <td>-0.208138</td>\n",
       "      <td>0.486583</td>\n",
       "      <td>-1.000000</td>\n",
       "      <td>-0.677446</td>\n",
       "      <td>0.161972</td>\n",
       "      <td>0.177556</td>\n",
       "      <td>0.316515</td>\n",
       "    </tr>\n",
       "    <tr>\n",
       "      <th>G</th>\n",
       "      <td>35.0</td>\n",
       "      <td>-0.123116</td>\n",
       "      <td>0.479978</td>\n",
       "      <td>-0.999264</td>\n",
       "      <td>-0.696737</td>\n",
       "      <td>0.187460</td>\n",
       "      <td>0.210372</td>\n",
       "      <td>0.487778</td>\n",
       "    </tr>\n",
       "    <tr>\n",
       "      <th rowspan=\"7\" valign=\"top\">2008</th>\n",
       "      <th>A</th>\n",
       "      <td>318.0</td>\n",
       "      <td>0.051919</td>\n",
       "      <td>0.212556</td>\n",
       "      <td>-1.000000</td>\n",
       "      <td>0.085216</td>\n",
       "      <td>0.092391</td>\n",
       "      <td>0.115504</td>\n",
       "      <td>0.208588</td>\n",
       "    </tr>\n",
       "    <tr>\n",
       "      <th>B</th>\n",
       "      <td>594.0</td>\n",
       "      <td>0.000464</td>\n",
       "      <td>0.315904</td>\n",
       "      <td>-1.000000</td>\n",
       "      <td>0.101580</td>\n",
       "      <td>0.113053</td>\n",
       "      <td>0.133019</td>\n",
       "      <td>0.456843</td>\n",
       "    </tr>\n",
       "    <tr>\n",
       "      <th>C</th>\n",
       "      <td>580.0</td>\n",
       "      <td>-0.015033</td>\n",
       "      <td>0.352817</td>\n",
       "      <td>-1.000000</td>\n",
       "      <td>0.115918</td>\n",
       "      <td>0.129273</td>\n",
       "      <td>0.144625</td>\n",
       "      <td>0.276075</td>\n",
       "    </tr>\n",
       "    <tr>\n",
       "      <th>D</th>\n",
       "      <td>419.0</td>\n",
       "      <td>-0.045971</td>\n",
       "      <td>0.396158</td>\n",
       "      <td>-1.000000</td>\n",
       "      <td>0.006673</td>\n",
       "      <td>0.144893</td>\n",
       "      <td>0.157520</td>\n",
       "      <td>0.301284</td>\n",
       "    </tr>\n",
       "    <tr>\n",
       "      <th>E</th>\n",
       "      <td>285.0</td>\n",
       "      <td>-0.015584</td>\n",
       "      <td>0.390134</td>\n",
       "      <td>-1.000000</td>\n",
       "      <td>-0.024199</td>\n",
       "      <td>0.162566</td>\n",
       "      <td>0.183181</td>\n",
       "      <td>0.353325</td>\n",
       "    </tr>\n",
       "    <tr>\n",
       "      <th>F</th>\n",
       "      <td>111.0</td>\n",
       "      <td>-0.091713</td>\n",
       "      <td>0.467851</td>\n",
       "      <td>-1.000000</td>\n",
       "      <td>-0.429206</td>\n",
       "      <td>0.174563</td>\n",
       "      <td>0.195775</td>\n",
       "      <td>0.364033</td>\n",
       "    </tr>\n",
       "    <tr>\n",
       "      <th>G</th>\n",
       "      <td>86.0</td>\n",
       "      <td>-0.016267</td>\n",
       "      <td>0.419798</td>\n",
       "      <td>-1.000000</td>\n",
       "      <td>-0.197372</td>\n",
       "      <td>0.200943</td>\n",
       "      <td>0.212628</td>\n",
       "      <td>0.376854</td>\n",
       "    </tr>\n",
       "    <tr>\n",
       "      <th rowspan=\"7\" valign=\"top\">2009</th>\n",
       "      <th>A</th>\n",
       "      <td>1203.0</td>\n",
       "      <td>0.061541</td>\n",
       "      <td>0.198972</td>\n",
       "      <td>-1.000000</td>\n",
       "      <td>0.087710</td>\n",
       "      <td>0.099746</td>\n",
       "      <td>0.121434</td>\n",
       "      <td>0.231552</td>\n",
       "    </tr>\n",
       "    <tr>\n",
       "      <th>B</th>\n",
       "      <td>1445.0</td>\n",
       "      <td>0.046640</td>\n",
       "      <td>0.300500</td>\n",
       "      <td>-1.000000</td>\n",
       "      <td>0.122036</td>\n",
       "      <td>0.132508</td>\n",
       "      <td>0.164182</td>\n",
       "      <td>0.278252</td>\n",
       "    </tr>\n",
       "    <tr>\n",
       "      <th>C</th>\n",
       "      <td>1348.0</td>\n",
       "      <td>0.047080</td>\n",
       "      <td>0.327412</td>\n",
       "      <td>-1.000000</td>\n",
       "      <td>0.138711</td>\n",
       "      <td>0.149275</td>\n",
       "      <td>0.186184</td>\n",
       "      <td>0.322359</td>\n",
       "    </tr>\n",
       "    <tr>\n",
       "      <th>D</th>\n",
       "      <td>817.0</td>\n",
       "      <td>0.054980</td>\n",
       "      <td>0.337789</td>\n",
       "      <td>-1.000000</td>\n",
       "      <td>0.154649</td>\n",
       "      <td>0.165910</td>\n",
       "      <td>0.199441</td>\n",
       "      <td>0.350979</td>\n",
       "    </tr>\n",
       "    <tr>\n",
       "      <th>E</th>\n",
       "      <td>308.0</td>\n",
       "      <td>0.026366</td>\n",
       "      <td>0.404015</td>\n",
       "      <td>-1.000000</td>\n",
       "      <td>0.168587</td>\n",
       "      <td>0.184987</td>\n",
       "      <td>0.224467</td>\n",
       "      <td>0.404152</td>\n",
       "    </tr>\n",
       "    <tr>\n",
       "      <th>F</th>\n",
       "      <td>105.0</td>\n",
       "      <td>0.025176</td>\n",
       "      <td>0.415514</td>\n",
       "      <td>-1.000000</td>\n",
       "      <td>0.131947</td>\n",
       "      <td>0.207951</td>\n",
       "      <td>0.255871</td>\n",
       "      <td>0.400695</td>\n",
       "    </tr>\n",
       "    <tr>\n",
       "      <th>G</th>\n",
       "      <td>55.0</td>\n",
       "      <td>0.020261</td>\n",
       "      <td>0.427598</td>\n",
       "      <td>-1.000000</td>\n",
       "      <td>-0.065891</td>\n",
       "      <td>0.220651</td>\n",
       "      <td>0.247237</td>\n",
       "      <td>0.461984</td>\n",
       "    </tr>\n",
       "    <tr>\n",
       "      <th rowspan=\"7\" valign=\"top\">2010</th>\n",
       "      <th>A</th>\n",
       "      <td>2567.0</td>\n",
       "      <td>0.057046</td>\n",
       "      <td>0.164388</td>\n",
       "      <td>-1.000000</td>\n",
       "      <td>0.073332</td>\n",
       "      <td>0.081749</td>\n",
       "      <td>0.100077</td>\n",
       "      <td>0.182788</td>\n",
       "    </tr>\n",
       "    <tr>\n",
       "      <th>B</th>\n",
       "      <td>2805.0</td>\n",
       "      <td>0.066571</td>\n",
       "      <td>0.242776</td>\n",
       "      <td>-1.000000</td>\n",
       "      <td>0.108856</td>\n",
       "      <td>0.122915</td>\n",
       "      <td>0.148935</td>\n",
       "      <td>0.261952</td>\n",
       "    </tr>\n",
       "    <tr>\n",
       "      <th>C</th>\n",
       "      <td>2070.0</td>\n",
       "      <td>0.072541</td>\n",
       "      <td>0.291635</td>\n",
       "      <td>-1.000000</td>\n",
       "      <td>0.139917</td>\n",
       "      <td>0.152833</td>\n",
       "      <td>0.186736</td>\n",
       "      <td>0.536967</td>\n",
       "    </tr>\n",
       "    <tr>\n",
       "      <th>D</th>\n",
       "      <td>1253.0</td>\n",
       "      <td>0.056088</td>\n",
       "      <td>0.342713</td>\n",
       "      <td>-1.000000</td>\n",
       "      <td>0.158380</td>\n",
       "      <td>0.169487</td>\n",
       "      <td>0.212360</td>\n",
       "      <td>0.340166</td>\n",
       "    </tr>\n",
       "    <tr>\n",
       "      <th>E</th>\n",
       "      <td>336.0</td>\n",
       "      <td>0.059441</td>\n",
       "      <td>0.365993</td>\n",
       "      <td>-1.000000</td>\n",
       "      <td>0.175016</td>\n",
       "      <td>0.191473</td>\n",
       "      <td>0.240909</td>\n",
       "      <td>0.411213</td>\n",
       "    </tr>\n",
       "    <tr>\n",
       "      <th>F</th>\n",
       "      <td>91.0</td>\n",
       "      <td>0.007993</td>\n",
       "      <td>0.436437</td>\n",
       "      <td>-1.000000</td>\n",
       "      <td>-0.052855</td>\n",
       "      <td>0.208944</td>\n",
       "      <td>0.265309</td>\n",
       "      <td>0.400453</td>\n",
       "    </tr>\n",
       "    <tr>\n",
       "      <th>G</th>\n",
       "      <td>34.0</td>\n",
       "      <td>-0.026133</td>\n",
       "      <td>0.475982</td>\n",
       "      <td>-1.000000</td>\n",
       "      <td>-0.255133</td>\n",
       "      <td>0.229336</td>\n",
       "      <td>0.286425</td>\n",
       "      <td>0.440127</td>\n",
       "    </tr>\n",
       "    <tr>\n",
       "      <th rowspan=\"7\" valign=\"top\">2011</th>\n",
       "      <th>A</th>\n",
       "      <td>5579.0</td>\n",
       "      <td>0.040826</td>\n",
       "      <td>0.199763</td>\n",
       "      <td>-1.000000</td>\n",
       "      <td>0.069236</td>\n",
       "      <td>0.081777</td>\n",
       "      <td>0.099010</td>\n",
       "      <td>0.185176</td>\n",
       "    </tr>\n",
       "    <tr>\n",
       "      <th>B</th>\n",
       "      <td>4722.0</td>\n",
       "      <td>0.067668</td>\n",
       "      <td>0.246652</td>\n",
       "      <td>-1.000000</td>\n",
       "      <td>0.111112</td>\n",
       "      <td>0.126696</td>\n",
       "      <td>0.156993</td>\n",
       "      <td>0.276742</td>\n",
       "    </tr>\n",
       "    <tr>\n",
       "      <th>C</th>\n",
       "      <td>2203.0</td>\n",
       "      <td>0.061429</td>\n",
       "      <td>0.315587</td>\n",
       "      <td>-1.000000</td>\n",
       "      <td>0.141732</td>\n",
       "      <td>0.156778</td>\n",
       "      <td>0.198094</td>\n",
       "      <td>0.365941</td>\n",
       "    </tr>\n",
       "    <tr>\n",
       "      <th>D</th>\n",
       "      <td>1261.0</td>\n",
       "      <td>0.077752</td>\n",
       "      <td>0.331987</td>\n",
       "      <td>-1.000000</td>\n",
       "      <td>0.163948</td>\n",
       "      <td>0.182590</td>\n",
       "      <td>0.233720</td>\n",
       "      <td>0.419001</td>\n",
       "    </tr>\n",
       "    <tr>\n",
       "      <th>E</th>\n",
       "      <td>272.0</td>\n",
       "      <td>0.079617</td>\n",
       "      <td>0.358213</td>\n",
       "      <td>-1.000000</td>\n",
       "      <td>0.177130</td>\n",
       "      <td>0.210615</td>\n",
       "      <td>0.251032</td>\n",
       "      <td>0.421759</td>\n",
       "    </tr>\n",
       "    <tr>\n",
       "      <th>F</th>\n",
       "      <td>54.0</td>\n",
       "      <td>0.090646</td>\n",
       "      <td>0.369825</td>\n",
       "      <td>-1.000000</td>\n",
       "      <td>0.199155</td>\n",
       "      <td>0.232893</td>\n",
       "      <td>0.268176</td>\n",
       "      <td>0.423205</td>\n",
       "    </tr>\n",
       "    <tr>\n",
       "      <th>G</th>\n",
       "      <td>10.0</td>\n",
       "      <td>-0.037985</td>\n",
       "      <td>0.482569</td>\n",
       "      <td>-0.982824</td>\n",
       "      <td>-0.251553</td>\n",
       "      <td>0.223436</td>\n",
       "      <td>0.310939</td>\n",
       "      <td>0.388935</td>\n",
       "    </tr>\n",
       "    <tr>\n",
       "      <th rowspan=\"7\" valign=\"top\">2012</th>\n",
       "      <th>A</th>\n",
       "      <td>10741.0</td>\n",
       "      <td>0.043223</td>\n",
       "      <td>0.215096</td>\n",
       "      <td>-1.000000</td>\n",
       "      <td>0.077788</td>\n",
       "      <td>0.090497</td>\n",
       "      <td>0.109663</td>\n",
       "      <td>1.581646</td>\n",
       "    </tr>\n",
       "    <tr>\n",
       "      <th>B</th>\n",
       "      <td>16757.0</td>\n",
       "      <td>0.071294</td>\n",
       "      <td>0.268929</td>\n",
       "      <td>-1.000000</td>\n",
       "      <td>0.120703</td>\n",
       "      <td>0.143327</td>\n",
       "      <td>0.176297</td>\n",
       "      <td>0.367076</td>\n",
       "    </tr>\n",
       "    <tr>\n",
       "      <th>C</th>\n",
       "      <td>9866.0</td>\n",
       "      <td>0.075351</td>\n",
       "      <td>0.330121</td>\n",
       "      <td>-1.000000</td>\n",
       "      <td>0.156624</td>\n",
       "      <td>0.176174</td>\n",
       "      <td>0.230788</td>\n",
       "      <td>0.620535</td>\n",
       "    </tr>\n",
       "    <tr>\n",
       "      <th>D</th>\n",
       "      <td>5063.0</td>\n",
       "      <td>0.090002</td>\n",
       "      <td>0.365960</td>\n",
       "      <td>-1.000000</td>\n",
       "      <td>0.190087</td>\n",
       "      <td>0.210613</td>\n",
       "      <td>0.273580</td>\n",
       "      <td>0.468313</td>\n",
       "    </tr>\n",
       "    <tr>\n",
       "      <th>E</th>\n",
       "      <td>790.0</td>\n",
       "      <td>0.114368</td>\n",
       "      <td>0.385105</td>\n",
       "      <td>-1.000000</td>\n",
       "      <td>0.213854</td>\n",
       "      <td>0.243862</td>\n",
       "      <td>0.315593</td>\n",
       "      <td>0.548657</td>\n",
       "    </tr>\n",
       "    <tr>\n",
       "      <th>F</th>\n",
       "      <td>103.0</td>\n",
       "      <td>0.110739</td>\n",
       "      <td>0.458496</td>\n",
       "      <td>-1.000000</td>\n",
       "      <td>0.241808</td>\n",
       "      <td>0.267296</td>\n",
       "      <td>0.356516</td>\n",
       "      <td>0.571724</td>\n",
       "    </tr>\n",
       "    <tr>\n",
       "      <th>G</th>\n",
       "      <td>24.0</td>\n",
       "      <td>0.200639</td>\n",
       "      <td>0.454886</td>\n",
       "      <td>-0.999928</td>\n",
       "      <td>0.278873</td>\n",
       "      <td>0.314731</td>\n",
       "      <td>0.440822</td>\n",
       "      <td>0.571553</td>\n",
       "    </tr>\n",
       "  </tbody>\n",
       "</table>\n",
       "</div>"
      ],
      "text/plain": [
       "                  count      mean       std       min       25%       50%  \\\n",
       "issue_yr grade                                                              \n",
       "2007     A         78.0  0.088713  0.079546 -0.500594  0.079421  0.086102   \n",
       "         B         98.0 -0.006549  0.320001 -1.000000  0.093338  0.102290   \n",
       "         C        141.0 -0.021995  0.324978 -1.000000  0.102903  0.117951   \n",
       "         D         99.0 -0.054633  0.371228 -0.997184 -0.119874  0.136134   \n",
       "         E        100.0 -0.055435  0.397073 -0.999364 -0.230600  0.150825   \n",
       "         F         52.0 -0.208138  0.486583 -1.000000 -0.677446  0.161972   \n",
       "         G         35.0 -0.123116  0.479978 -0.999264 -0.696737  0.187460   \n",
       "2008     A        318.0  0.051919  0.212556 -1.000000  0.085216  0.092391   \n",
       "         B        594.0  0.000464  0.315904 -1.000000  0.101580  0.113053   \n",
       "         C        580.0 -0.015033  0.352817 -1.000000  0.115918  0.129273   \n",
       "         D        419.0 -0.045971  0.396158 -1.000000  0.006673  0.144893   \n",
       "         E        285.0 -0.015584  0.390134 -1.000000 -0.024199  0.162566   \n",
       "         F        111.0 -0.091713  0.467851 -1.000000 -0.429206  0.174563   \n",
       "         G         86.0 -0.016267  0.419798 -1.000000 -0.197372  0.200943   \n",
       "2009     A       1203.0  0.061541  0.198972 -1.000000  0.087710  0.099746   \n",
       "         B       1445.0  0.046640  0.300500 -1.000000  0.122036  0.132508   \n",
       "         C       1348.0  0.047080  0.327412 -1.000000  0.138711  0.149275   \n",
       "         D        817.0  0.054980  0.337789 -1.000000  0.154649  0.165910   \n",
       "         E        308.0  0.026366  0.404015 -1.000000  0.168587  0.184987   \n",
       "         F        105.0  0.025176  0.415514 -1.000000  0.131947  0.207951   \n",
       "         G         55.0  0.020261  0.427598 -1.000000 -0.065891  0.220651   \n",
       "2010     A       2567.0  0.057046  0.164388 -1.000000  0.073332  0.081749   \n",
       "         B       2805.0  0.066571  0.242776 -1.000000  0.108856  0.122915   \n",
       "         C       2070.0  0.072541  0.291635 -1.000000  0.139917  0.152833   \n",
       "         D       1253.0  0.056088  0.342713 -1.000000  0.158380  0.169487   \n",
       "         E        336.0  0.059441  0.365993 -1.000000  0.175016  0.191473   \n",
       "         F         91.0  0.007993  0.436437 -1.000000 -0.052855  0.208944   \n",
       "         G         34.0 -0.026133  0.475982 -1.000000 -0.255133  0.229336   \n",
       "2011     A       5579.0  0.040826  0.199763 -1.000000  0.069236  0.081777   \n",
       "         B       4722.0  0.067668  0.246652 -1.000000  0.111112  0.126696   \n",
       "         C       2203.0  0.061429  0.315587 -1.000000  0.141732  0.156778   \n",
       "         D       1261.0  0.077752  0.331987 -1.000000  0.163948  0.182590   \n",
       "         E        272.0  0.079617  0.358213 -1.000000  0.177130  0.210615   \n",
       "         F         54.0  0.090646  0.369825 -1.000000  0.199155  0.232893   \n",
       "         G         10.0 -0.037985  0.482569 -0.982824 -0.251553  0.223436   \n",
       "2012     A      10741.0  0.043223  0.215096 -1.000000  0.077788  0.090497   \n",
       "         B      16757.0  0.071294  0.268929 -1.000000  0.120703  0.143327   \n",
       "         C       9866.0  0.075351  0.330121 -1.000000  0.156624  0.176174   \n",
       "         D       5063.0  0.090002  0.365960 -1.000000  0.190087  0.210613   \n",
       "         E        790.0  0.114368  0.385105 -1.000000  0.213854  0.243862   \n",
       "         F        103.0  0.110739  0.458496 -1.000000  0.241808  0.267296   \n",
       "         G         24.0  0.200639  0.454886 -0.999928  0.278873  0.314731   \n",
       "\n",
       "                     75%       max  \n",
       "issue_yr grade                      \n",
       "2007     A      0.125100  0.173158  \n",
       "         B      0.116177  0.198256  \n",
       "         C      0.125394  0.241789  \n",
       "         D      0.150054  0.260987  \n",
       "         E      0.159527  0.311236  \n",
       "         F      0.177556  0.316515  \n",
       "         G      0.210372  0.487778  \n",
       "2008     A      0.115504  0.208588  \n",
       "         B      0.133019  0.456843  \n",
       "         C      0.144625  0.276075  \n",
       "         D      0.157520  0.301284  \n",
       "         E      0.183181  0.353325  \n",
       "         F      0.195775  0.364033  \n",
       "         G      0.212628  0.376854  \n",
       "2009     A      0.121434  0.231552  \n",
       "         B      0.164182  0.278252  \n",
       "         C      0.186184  0.322359  \n",
       "         D      0.199441  0.350979  \n",
       "         E      0.224467  0.404152  \n",
       "         F      0.255871  0.400695  \n",
       "         G      0.247237  0.461984  \n",
       "2010     A      0.100077  0.182788  \n",
       "         B      0.148935  0.261952  \n",
       "         C      0.186736  0.536967  \n",
       "         D      0.212360  0.340166  \n",
       "         E      0.240909  0.411213  \n",
       "         F      0.265309  0.400453  \n",
       "         G      0.286425  0.440127  \n",
       "2011     A      0.099010  0.185176  \n",
       "         B      0.156993  0.276742  \n",
       "         C      0.198094  0.365941  \n",
       "         D      0.233720  0.419001  \n",
       "         E      0.251032  0.421759  \n",
       "         F      0.268176  0.423205  \n",
       "         G      0.310939  0.388935  \n",
       "2012     A      0.109663  1.581646  \n",
       "         B      0.176297  0.367076  \n",
       "         C      0.230788  0.620535  \n",
       "         D      0.273580  0.468313  \n",
       "         E      0.315593  0.548657  \n",
       "         F      0.356516  0.571724  \n",
       "         G      0.440822  0.571553  "
      ]
     },
     "execution_count": 135,
     "metadata": {},
     "output_type": "execute_result"
    }
   ],
   "source": [
    "df_conf_int = df_filtered.groupby(['issue_yr','grade'])['irr'].describe()\n",
    "df_conf_int\n"
   ]
  },
  {
   "cell_type": "code",
   "execution_count": 33,
   "metadata": {},
   "outputs": [
    {
     "data": {
      "image/png": "[encoded data removed]",
      "text/plain": [
       "<matplotlib.figure.Figure at 0x2dfccf3e240>"
      ]
     },
     "metadata": {},
     "output_type": "display_data"
    }
   ],
   "source": [
    "mu = np.average(out)\n",
    "variance = np.var(out)\n",
    "sigma = math.sqrt(variance)\n",
    "x = np.linspace(mu - 3*sigma, mu + 3*sigma, 100)\n",
    "plt.plot(x,mlab.normpdf(x, mu, sigma))\n",
    "plt.show()"
   ]
  },
  {
   "cell_type": "code",
   "execution_count": null,
   "metadata": {
    "collapsed": true
   },
   "outputs": [],
   "source": [
    "cust = lambda g: collect_n_random_stats"
   ]
  },
  {
   "cell_type": "code",
   "execution_count": 85,
   "metadata": {},
   "outputs": [
    {
     "ename": "AttributeError",
     "evalue": "'Series' object has no attribute 'columns'",
     "output_type": "error",
     "traceback": [
      "\u001b[1;31m---------------------------------------------------------------------------\u001b[0m",
      "\u001b[1;31mAttributeError\u001b[0m                            Traceback (most recent call last)",
      "\u001b[1;32m<ipython-input-85-e014a1a6e0dd>\u001b[0m in \u001b[0;36m<module>\u001b[1;34m()\u001b[0m\n\u001b[0;32m      2\u001b[0m \u001b[0mdf_group\u001b[0m\u001b[1;33m.\u001b[0m\u001b[0mcount\u001b[0m\u001b[1;33m(\u001b[0m\u001b[1;33m)\u001b[0m\u001b[1;33m\u001b[0m\u001b[0m\n\u001b[0;32m      3\u001b[0m \u001b[0mdf_sharpe\u001b[0m \u001b[1;33m=\u001b[0m\u001b[0mdf_group\u001b[0m\u001b[1;33m.\u001b[0m\u001b[0mapply\u001b[0m\u001b[1;33m(\u001b[0m\u001b[1;32mlambda\u001b[0m \u001b[0mx\u001b[0m\u001b[1;33m:\u001b[0m \u001b[0mcollect_n_random_stats\u001b[0m\u001b[1;33m(\u001b[0m\u001b[0mx\u001b[0m\u001b[1;33m,\u001b[0m\u001b[1;36m100\u001b[0m\u001b[1;33m,\u001b[0m\u001b[1;36m100\u001b[0m\u001b[1;33m)\u001b[0m\u001b[1;33m)\u001b[0m\u001b[1;33m\u001b[0m\u001b[0m\n\u001b[1;32m----> 4\u001b[1;33m \u001b[0mdf_sharpe\u001b[0m\u001b[1;33m.\u001b[0m\u001b[0mcolumns\u001b[0m\u001b[1;33m.\u001b[0m\u001b[0mdroplevel\u001b[0m\u001b[1;33m(\u001b[0m\u001b[1;36m0\u001b[0m\u001b[1;33m)\u001b[0m\u001b[1;33m\u001b[0m\u001b[0m\n\u001b[0m\u001b[0;32m      5\u001b[0m \u001b[1;31m#df_group_irr = df_group.apply(lambda x:collect_n_random_stats(x,10,np.min(1000, x.count().loc[0]/10)))\u001b[0m\u001b[1;33m\u001b[0m\u001b[1;33m\u001b[0m\u001b[0m\n",
      "\u001b[1;32mC:\\Users\\James\\Anaconda3\\lib\\site-packages\\pandas\\core\\generic.py\u001b[0m in \u001b[0;36m__getattr__\u001b[1;34m(self, name)\u001b[0m\n\u001b[0;32m   2964\u001b[0m         if (name in self._internal_names_set or name in self._metadata or\n\u001b[0;32m   2965\u001b[0m                 name in self._accessors):\n\u001b[1;32m-> 2966\u001b[1;33m             \u001b[1;32mreturn\u001b[0m \u001b[0mobject\u001b[0m\u001b[1;33m.\u001b[0m\u001b[0m__getattribute__\u001b[0m\u001b[1;33m(\u001b[0m\u001b[0mself\u001b[0m\u001b[1;33m,\u001b[0m \u001b[0mname\u001b[0m\u001b[1;33m)\u001b[0m\u001b[1;33m\u001b[0m\u001b[0m\n\u001b[0m\u001b[0;32m   2967\u001b[0m         \u001b[1;32melse\u001b[0m\u001b[1;33m:\u001b[0m\u001b[1;33m\u001b[0m\u001b[0m\n\u001b[0;32m   2968\u001b[0m             \u001b[1;32mif\u001b[0m \u001b[0mname\u001b[0m \u001b[1;32min\u001b[0m \u001b[0mself\u001b[0m\u001b[1;33m.\u001b[0m\u001b[0m_info_axis\u001b[0m\u001b[1;33m:\u001b[0m\u001b[1;33m\u001b[0m\u001b[0m\n",
      "\u001b[1;31mAttributeError\u001b[0m: 'Series' object has no attribute 'columns'"
     ]
    }
   ],
   "source": [
    "df_group = df_filtered.groupby(['issue_yr'])\n",
    "df_group.count()\n",
    "df_sharpe =df_group.apply(lambda x: collect_n_random_stats(x,100,100))\n",
    "#df_group_irr = df_group.apply(lambda x:collect_n_random_stats(x,10,np.min(1000, x.count().loc[0]/10)))"
   ]
  },
  {
   "cell_type": "code",
   "execution_count": 102,
   "metadata": {
    "collapsed": true
   },
   "outputs": [],
   "source": [
    "mean = [sublist[0] for sublist in df_sharpe.values]\n",
    "stdev = [sublist[1] for sublist in df_sharpe.values]"
   ]
  },
  {
   "cell_type": "code",
   "execution_count": 101,
   "metadata": {},
   "outputs": [
    {
     "data": {
      "text/plain": [
       "array([list([-0.021994030681171541, 0.035105320861345504]),\n",
       "       list([0.012029604236237019, 0.03750651742601825]),\n",
       "       list([0.065858730807501459, 0.026245380469597266]),\n",
       "       list([0.077805637952297529, 0.022353631333799848]),\n",
       "       list([0.075162485450149502, 0.021103132367924656]),\n",
       "       list([0.083078250625224129, 0.025157282018253565])], dtype=object)"
      ]
     },
     "execution_count": 101,
     "metadata": {},
     "output_type": "execute_result"
    }
   ],
   "source": [
    "df_sharpe.values"
   ]
  },
  {
   "cell_type": "code",
   "execution_count": 107,
   "metadata": {},
   "outputs": [
    {
     "data": {
      "image/png": "[encoded data removed]",
      "text/plain": [
       "<matplotlib.figure.Figure at 0x2df81f5eef0>"
      ]
     },
     "metadata": {},
     "output_type": "display_data"
    }
   ],
   "source": [
    "####Confidence Intervals on IRR of overall market\n",
    "df_conf_int = df_filtered.groupby(['issue_yr'])['irr'].describe()\n",
    "# example data\n",
    "x = df_conf_int.index\n",
    "y = df_conf_int['mean']\n",
    "yerr = df_conf_int['std']*2\n",
    "fig, ax = plt.subplots()\n",
    "ax.errorbar(x, y, yerr=yerr)\n",
    "plt.show()\n",
    "\n",
    "\n"
   ]
  },
  {
   "cell_type": "code",
   "execution_count": 68,
   "metadata": {
    "collapsed": true
   },
   "outputs": [],
   "source": [
    "df_group = df_filtered.groupby(['issue_yr'])\n",
    "df_sharpe =df_group.apply(lambda x: collect_n_random_stats(x,100,100))\n",
    "#df_group_irr = df_group.apply(lambda x:collect_n_random_stats(x,10,np.min(1000, x.count().loc[0]/10)))"
   ]
  },
  {
   "cell_type": "code",
   "execution_count": 84,
   "metadata": {},
   "outputs": [
    {
     "data": {
      "text/plain": [
       "[0.0069959368306351296, 0.03490798222429893]"
      ]
     },
     "execution_count": 84,
     "metadata": {},
     "output_type": "execute_result"
    }
   ],
   "source": [
    "mean = [sublist[0] for sublist in df_sharpe.values]\n",
    "stdev = [sublist[1] for sublist in df_sharpe.values]"
   ]
  },
  {
   "cell_type": "code",
   "execution_count": 124,
   "metadata": {},
   "outputs": [
    {
     "data": {
      "image/png": "[encoded data removed]",
      "text/plain": [
       "<matplotlib.figure.Figure at 0x2df80fa6cc0>"
      ]
     },
     "metadata": {},
     "output_type": "display_data"
    }
   ],
   "source": [
    "x = df_sharpe.index\n",
    "y = [sublist[0] for sublist in df_sharpe.values]\n",
    "yerr = [sublist[1]*2 for sublist in df_sharpe.values]\n",
    "fig, ax = plt.subplots()\n",
    "ax.errorbar(x, y,  yerr=yerr)\n",
    "\n",
    "\n",
    "\n",
    "\n"
   ]
  },
  {
   "cell_type": "code",
   "execution_count": 148,
   "metadata": {},
   "outputs": [],
   "source": [
    "df_filtered_year = df_filtered[(df_filtered['issue_yr'] >=2009) & (~df_filtered['grade'].isin(['F','G']))].copy()\n",
    "df_group_grade = df_filtered_year.groupby(['issue_yr','grade'])\n",
    "df_sharpe_grade =df_group_grade.apply(lambda x: collect_n_random_stats(x,100,100))\n"
   ]
  },
  {
   "cell_type": "code",
   "execution_count": 149,
   "metadata": {},
   "outputs": [
    {
     "data": {
      "text/plain": [
       "issue_yr  grade\n",
       "2009      A        [0.0688505576663, 0.015858195765848362]\n",
       "          B        [0.0573407476198, 0.028003886412191543]\n",
       "          C        [0.0657707165657, 0.028113362135889605]\n",
       "          D        [0.0758069795791, 0.025504547667911808]\n",
       "          E        [0.0522236834097, 0.029799445884017478]\n",
       "2010      A        [0.0622168833716, 0.011475527085663262]\n",
       "          B        [0.0768044736296, 0.020938987098078548]\n",
       "          C        [0.0899831129427, 0.023518947934158346]\n",
       "          D         [0.089723306613, 0.027768986640094567]\n",
       "          E        [0.0922577087941, 0.025426155245442464]\n",
       "2011      A         [0.0501762758909, 0.01705806443081306]\n",
       "          B         [0.0821554139735, 0.01946972545873796]\n",
       "          C         [0.0803901872347, 0.02584361105208549]\n",
       "          D         [0.114915744066, 0.023029188479757153]\n",
       "          E          [0.13938548677, 0.016054701323236338]\n",
       "2012      A        [0.0480873066226, 0.021059367227982663]\n",
       "          B         [0.0824232125945, 0.02292744421482524]\n",
       "          C        [0.0898075549011, 0.028150889005493784]\n",
       "          D         [0.108430136233, 0.025435235745734277]\n",
       "          E         [0.134440419516, 0.028721311158189638]\n",
       "dtype: object"
      ]
     },
     "execution_count": 149,
     "metadata": {},
     "output_type": "execute_result"
    }
   ],
   "source": [
    "df_sharpe_grade"
   ]
  },
  {
   "cell_type": "code",
   "execution_count": 140,
   "metadata": {},
   "outputs": [
    {
     "data": {
      "text/plain": [
       "1516.3800000000001"
      ]
     },
     "execution_count": 140,
     "metadata": {},
     "output_type": "execute_result"
    }
   ],
   "source": [
    "x=df_filtered.loc[df_filtered['irr'].argmax()]\n",
    "initial_invest = -x['funded_amnt']\n",
    "avg_payment = x['avg_pymnt']\n",
    "num_payments = int(x['mo_diff'])-1    \n",
    "fully_paid = x['loan_status_flag']\n",
    "recovery = x['recoveries']\n",
    "chargeoff_fee = -x['collection_recovery_fee']\n",
    "x['total_pymnt']\n",
    "x['recoveries']"
   ]
  },
  {
   "cell_type": "code",
   "execution_count": null,
   "metadata": {
    "collapsed": true
   },
   "outputs": [],
   "source": [
    "##Portfolio Optimization\n"
   ]
  },
  {
   "cell_type": "code",
   "execution_count": null,
   "metadata": {
    "collapsed": true
   },
   "outputs": [],
   "source": [
    "def f(params):\n",
    "    # print(params)  # <-- you'll see that params is a NumPy array\n",
    "    a, b, c = params # <-- for readability you may wish to assign names to the component variables\n",
    "    return a**2 + b**2 + c**2\n",
    "\n",
    "initial_guess = [1, 1, 1]\n",
    "result = optimize.minimize(f, initial_guess, bounds = [(.25, 1), (-1, 20),(0,1)])\n",
    "if result.success:\n",
    "    fitted_params = result.x\n",
    "    print(fitted_params)\n",
    "else:\n",
    "    raise ValueError(result.message)"
   ]
  },
  {
   "cell_type": "code",
   "execution_count": null,
   "metadata": {
    "collapsed": true
   },
   "outputs": [],
   "source": []
  },
  {
   "cell_type": "code",
   "execution_count": null,
   "metadata": {
    "collapsed": true
   },
   "outputs": [],
   "source": []
  },
  {
   "cell_type": "code",
   "execution_count": null,
   "metadata": {
    "collapsed": true
   },
   "outputs": [],
   "source": []
  },
  {
   "cell_type": "code",
   "execution_count": null,
   "metadata": {
    "collapsed": true
   },
   "outputs": [],
   "source": []
  },
  {
   "cell_type": "code",
   "execution_count": null,
   "metadata": {
    "collapsed": true
   },
   "outputs": [],
   "source": [
    "###appendix\n",
    "\n",
    "##limitation of individual IRR\n",
    "### 3 years is too much of a delay, cosnider a strategy where you hold for 12 months & sell.\n",
    "### This allows better modeling\n"
   ]
  }
 ],
 "metadata": {
  "kernelspec": {
   "display_name": "Python 3",
   "language": "python",
   "name": "python3"
  },
  "language_info": {
   "codemirror_mode": {
    "name": "ipython",
    "version": 3
   },
   "file_extension": ".py",
   "mimetype": "text/x-python",
   "name": "python",
   "nbconvert_exporter": "python",
   "pygments_lexer": "ipython3",
   "version": "3.6.1"
  }
 },
 "nbformat": 4,
 "nbformat_minor": 2
}
