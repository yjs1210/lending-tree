{
 "cells": [
  {
   "cell_type": "code",
   "execution_count": 541,
   "metadata": {
    "collapsed": true
   },
   "outputs": [],
   "source": [
    "###Packages\n",
    "import pandas as pd\n",
    "import numpy as np\n",
    "import matplotlib.pyplot as plt\n",
    "import matplotlib.mlab as mlab\n",
    "from IPython.display import Image\n",
    "from IPython.core.display import HTML\n",
    "import datetime\n",
    "import math\n",
    "import scipy.optimize as optimize\n",
    "import statistics\n",
    "from sklearn.linear_model import LinearRegression\n",
    "import statsmodels.api as sm\n",
    "from statsmodels.formula.api import ols\n",
    "from statsmodels.stats.anova import anova_lm\n",
    "from scipy import stats\n",
    "import scipy\n",
    "import warnings\n",
    "from scipy.stats import norm\n",
    "from sklearn import datasets, linear_model\n",
    "from sklearn.model_selection import train_test_split, KFold\n",
    "from sklearn import ensemble\n",
    "from sklearn import datasets\n",
    "from sklearn.utils import shuffle\n",
    "from sklearn.metrics import mean_squared_error\n",
    "from sklearn.neural_network import MLPRegressor\n",
    "from sklearn.model_selection import KFold \n",
    "warnings.filterwarnings('ignore')\n",
    "plt.style.use('ggplot')\n",
    "from IPython.display import Image\n",
    "from IPython.core.display import HTML "
   ]
  },
  {
   "cell_type": "code",
   "execution_count": 327,
   "metadata": {
    "collapsed": true
   },
   "outputs": [],
   "source": [
    "### data loading \n",
    "df = pd.read_csv('./data/loan.csv', low_memory=False)"
   ]
  },
  {
   "cell_type": "code",
   "execution_count": 307,
   "metadata": {
    "collapsed": true
   },
   "outputs": [],
   "source": [
    "### data loading & cleaning\n",
    "df = pd.read_csv('./data/loan.csv', low_memory=False)\n",
    "df = df.drop_duplicates(subset='id').reset_index(drop=True)\n",
    "df.replace([np.inf, -np.inf], np.nan)\n",
    "df = df.dropna(subset=['id', 'funded_amnt','int_rate','installment','grade'])\n",
    "df = df[np.isfinite(df['annual_inc']) & np.isfinite(df['int_rate']) &  np.isfinite(df['funded_amnt'])].copy()"
   ]
  },
  {
   "cell_type": "code",
   "execution_count": 308,
   "metadata": {
    "collapsed": true
   },
   "outputs": [],
   "source": [
    "###changing data type to appropriate date type \n",
    "df['last_pymnt_d']=pd.to_datetime(df.last_pymnt_d)\n",
    "df['issue_d']=pd.to_datetime(df.issue_d)"
   ]
  },
  {
   "cell_type": "code",
   "execution_count": 309,
   "metadata": {
    "collapsed": true
   },
   "outputs": [],
   "source": [
    "###fill missing last_payments(no payments) with issue date, may want a separete column for this treatment\n",
    "###This is for calculation of IRRs later\n",
    "df['last_pymnt_d'].fillna(df.issue_d,inplace=True)"
   ]
  },
  {
   "cell_type": "code",
   "execution_count": 310,
   "metadata": {
    "collapsed": true
   },
   "outputs": [],
   "source": [
    "###Some pre-processing for ease of calculations\n",
    "df['issue_yr'] = df.issue_d.dt.year\n",
    "df['issue_mo']= df.issue_d.dt.month\n",
    "df['last_pymnt_yr'] = df.last_pymnt_d.dt.year\n",
    "df['last_pymnt_mo']= df.last_pymnt_d.dt.month\n",
    "df['mo_diff'] = pd.to_numeric((df['last_pymnt_yr'] - \n",
    "                          df['issue_yr'])*12 + df['last_pymnt_mo'] -df['issue_mo'])"
   ]
  },
  {
   "cell_type": "code",
   "execution_count": 311,
   "metadata": {
    "collapsed": true
   },
   "outputs": [],
   "source": [
    "###Flag for completed loans\n",
    "searchfor = ['Fully Paid', 'Charged Off', 'Default']\n",
    "defaults = ['Charged Off', 'Default']\n",
    "df['loan_completion_flag']=  np.where(df['loan_status'].str.contains('|'.join(searchfor)) ,1, np.nan)\n",
    "###Flag for fully paid loans\n",
    "df['fully_paid'] = np.where(df['loan_status'].str.contains('Fully Paid') ,1, \n",
    "                                  np.where(df['loan_status'].str.contains('|'.join(defaults)) ,0,np.nan))\n"
   ]
  },
  {
   "cell_type": "code",
   "execution_count": 312,
   "metadata": {
    "collapsed": true
   },
   "outputs": [],
   "source": [
    "###Average payment = Total payment - recoveries - last payment amount over the life -1 month of the investment\n",
    "df['avg_pymnt'] = (df['total_pymnt']-df['recoveries']-df['last_pymnt_amnt'])/(np.maximum((df['mo_diff']-1),0))\n",
    "###Treating infinites that appear when there is no payment or only 1 payment \n",
    "df['avg_pymnt'] = (df['avg_pymnt']).replace(np.Inf,0)\n",
    "df['avg_pymnt'] = (df['avg_pymnt']).replace(-np.Inf,0)"
   ]
  },
  {
   "cell_type": "code",
   "execution_count": 313,
   "metadata": {
    "collapsed": true
   },
   "outputs": [],
   "source": [
    "###IRR calculations\n",
    "###Input: a row of a dataframe with lending data \n",
    "def irr_calc(x):  \n",
    "    ##varible initialization\n",
    "    initial_invest = -x['funded_amnt']\n",
    "    avg_payment = x['avg_pymnt']\n",
    "    num_payments = np.max(int(x['mo_diff'])-1,0)\n",
    "    recovery = x['recoveries'] -x['collection_recovery_fee']\n",
    "    recovery_duration = np.maximum(36 - num_payments + 1 + 12,12)\n",
    "    avg_recovery = recovery/recovery_duration\n",
    "    last_payment_amount = x['last_pymnt_amnt']\n",
    "    ###IRR calculation, input: series of cash flows, total payment - recoveries\n",
    "    ###evenly divided and spread across the life of the loan and finally recovery and chargeoff fees\n",
    "    return ((np.irr([initial_invest]+[avg_payment]*num_payments + [last_payment_amount] +\n",
    "                    [avg_recovery]*recovery_duration)+1)**12-1)"
   ]
  },
  {
   "cell_type": "code",
   "execution_count": 314,
   "metadata": {
    "collapsed": true
   },
   "outputs": [],
   "source": [
    "###Calculating at a row level, individual security IRRs. Method will be faulty for loans that didn't mature.\n",
    "###Warning: the calculation takes a fair amount of time ~few minutes\n",
    "df['irr']=df.apply(irr_calc, axis=1)"
   ]
  },
  {
   "cell_type": "code",
   "execution_count": 315,
   "metadata": {
    "collapsed": true
   },
   "outputs": [],
   "source": [
    "##NaNs returned from IRRs with 0 payments should be -100% return \n",
    "df['irr']=df['irr'].replace(np.NaN,-1)"
   ]
  },
  {
   "cell_type": "code",
   "execution_count": 316,
   "metadata": {
    "collapsed": true
   },
   "outputs": [],
   "source": [
    "####Filter down to completed loans and has at least 36 months of possible history\n",
    "df_filtered = df[df['loan_status'].str.contains('|'.join(searchfor))].query(\"term == ' 36 months' and issue_yr <=2012\").copy()"
   ]
  },
  {
   "cell_type": "code",
   "execution_count": 317,
   "metadata": {
    "collapsed": true
   },
   "outputs": [],
   "source": [
    "##making grade flags\n",
    "grade_flags = pd.get_dummies(df_filtered.grade) \n",
    "home_flag = pd.get_dummies(df_filtered.home_ownership) \n",
    "df_filtered=pd.concat([df_filtered,grade_flags,home_flag], axis=1)"
   ]
  },
  {
   "cell_type": "markdown",
   "metadata": {},
   "source": [
    "# Model Testing"
   ]
  },
  {
   "cell_type": "code",
   "execution_count": 470,
   "metadata": {
    "collapsed": true
   },
   "outputs": [],
   "source": [
    "columns= [\"int_rate\",\"annual_inc\",\"funded_amnt\",\"F\",\"G\"]"
   ]
  },
  {
   "cell_type": "code",
   "execution_count": 471,
   "metadata": {},
   "outputs": [
    {
     "name": "stdout",
     "output_type": "stream",
     "text": [
      "KFold(n_splits=10, random_state=None, shuffle=False)\n"
     ]
    }
   ],
   "source": [
    "kf = KFold(n_splits=10) # Define the split - into 2 folds \n",
    "kf.get_n_splits(df_filtered) # returns the number of splitting iterations in the cross-validator\n",
    "print(kf) "
   ]
  },
  {
   "cell_type": "markdown",
   "metadata": {},
   "source": [
    "In the last [post](http://jameslee.posthaven.com/peer-to-peer-lending-markets-part-1-using-simple-random-sampling-to-gain-insight-on-investment-returns), we looked at the how random sampling can give good insights on portfolio return distributions using the principles of Central Limit Theorem. We saw that an arbitrarily more number of loans would have improved the risk-adjusted returns by diversifying the default risk away. In this post, we will answer the question - given that we want to invest into some number of loans, how can we select these loans in a way that they will maximize our portfolio returns.\n",
    "\n",
    "For this exercise, we will employ linear regression and gradient boosting regression. [Gradient boosting regression](https://medium.com/mlreview/gradient-boosting-from-scratch-1e317ae4587d) essentially builds a set of weak models that sequentially improves upon the errors of the previous models. Then, an ensemble of these models is used to make a prediction.\n",
    "\n",
    "We will compare these two models using [k-fold cross validation](https://machinelearningmastery.com/k-fold-cross-validation/). Image below does a much better job than I can in explaining this method, but essentially, we split our data several times, and each split is further split into a validation set and a training set. We then build our model on a training set and measure its accruacy on a validation set and repeat this for each split we made. The outcome is a distribution of accuracy and performance metrics we can compare across different models."
   ]
  },
  {
   "cell_type": "code",
   "execution_count": 558,
   "metadata": {},
   "outputs": [
    {
     "data": {
      "text/html": [
       "<img src=\"https://cdn-images-1.medium.com/max/1080/1*4G__SV580CxFj78o9yUXuQ.png\"/>"
      ],
      "text/plain": [
       "<IPython.core.display.Image object>"
      ]
     },
     "execution_count": 558,
     "metadata": {},
     "output_type": "execute_result"
    }
   ],
   "source": [
    "Image(url= \"https://cdn-images-1.medium.com/max/1080/1*4G__SV580CxFj78o9yUXuQ.png\")"
   ]
  },
  {
   "cell_type": "markdown",
   "metadata": {},
   "source": [
    "Credits to Josephn Nelson for the helpful image. "
   ]
  },
  {
   "cell_type": "markdown",
   "metadata": {},
   "source": [
    "Above approach can be implemented rather simply using many of the black box functions available in python. Below is my implementation. For each step, we make our models and predictions, then measure their accuracy. Additionally, we choose 100 loans that our model thinks will perform the best in terms of IRR, and then look at its actual returns in a validation set. We also collect 100 randomly selected loans from the same validation set as our control to compare our models against. Features for the model were selected using a nested model testing and F-statistics. More detailed code can be found in my GitHub [repo](https://github.com/yjs1210/lending-tree)."
   ]
  },
  {
   "cell_type": "code",
   "execution_count": null,
   "metadata": {
    "collapsed": true
   },
   "outputs": [],
   "source": [
    "kf = KFold(n_splits=10) # Define the split - into 10 folds \n",
    "kf.get_n_splits(df_filtered) # returns the number of splitting iterations in the cross-validator"
   ]
  },
  {
   "cell_type": "code",
   "execution_count": null,
   "metadata": {
    "collapsed": true
   },
   "outputs": [],
   "source": [
    "all_trials = []\n",
    "for index, (train, test) in enumerate(kf.split(df_filtered)):\n",
    "    x_train = df_filtered.iloc[train][columns]\n",
    "    y_train = df_filtered.iloc[train]['irr']\n",
    "    y_test = df_filtered.iloc[test]['irr']\n",
    "    x_test = df_filtered.iloc[test][columns]\n",
    "    ###GBM\n",
    "    params = {'n_estimators': 500, 'max_depth': 4, 'min_samples_split': 2,\n",
    "          'learning_rate': 0.01, 'loss': 'ls'}\n",
    "    clf = ensemble.GradientBoostingRegressor(**params)\n",
    "    clf.fit(x_train, y_train)\n",
    "    gbm_predictions = clf.predict(x_test)\n",
    "    gbm_mse = mean_squared_error(y_test, gbm_predictions)\n",
    "    \n",
    "    ##Linear Model\n",
    "    lm = linear_model.LinearRegression()\n",
    "    lm.fit(x_train, y_train)\n",
    "    lm_predictions = lm.predict(x_test)\n",
    "    lm_mse = mean_squared_error(y_test, lm_predictions)\n",
    "    df_temp = pd.DataFrame({'irr':y_test, 'gbm_predictions':gbm_predictions, 'lm_predictions':lm_predictions})\n",
    "    lm_returns = np.mean(df_temp.nlargest(100, 'gbm_predictions')['irr'])\n",
    "    gbm_returns= np.mean(df_temp.nlargest(100, 'lm_predictions')['irr'])\n",
    "    \n",
    "    ##Random Sampling\n",
    "    rs_returns = np.mean(y_test.sample(100,replace=False))\n",
    "\n",
    "    all_trials.append({\n",
    "        'index': index,\n",
    "        'gbm_mse': gbm_mse,\n",
    "        'gbm_returns': gbm_returns,\n",
    "        'lm_mse': lm_mse,\n",
    "        'lm_returns': lm_returns,\n",
    "        'rs_returns': rs_returns\n",
    "    })\n",
    "    \n",
    "output=pd.DataFrame.from_records(all_trials)"
   ]
  },
  {
   "cell_type": "markdown",
   "metadata": {},
   "source": [
    "Below are the average accuracies(mean squared error) and returns over our 10 validation sets. It seems that linear regression won out on both metrics. "
   ]
  },
  {
   "cell_type": "code",
   "execution_count": 556,
   "metadata": {},
   "outputs": [
    {
     "name": "stdout",
     "output_type": "stream",
     "text": [
      "gbm_returns: 0.04659642356214374 , linear regression accuracy: 0.04608982579757738\n"
     ]
    }
   ],
   "source": [
    "print('gbm_returns:', np.mean(output['gbm_mse']),', linear regression accuracy:' ,np.mean(output['lm_mse']))"
   ]
  },
  {
   "cell_type": "code",
   "execution_count": 557,
   "metadata": {},
   "outputs": [
    {
     "name": "stdout",
     "output_type": "stream",
     "text": [
      "gbm_returns: 0.10226936194421943 , linear regression returns: 0.1084010800601943\n"
     ]
    }
   ],
   "source": [
    "print('gbm_returns:', np.mean(output['gbm_returns']),', linear regression returns:' ,np.mean(output['lm_returns']))"
   ]
  },
  {
   "cell_type": "markdown",
   "metadata": {},
   "source": [
    "Since we collected 10 trials across 10 validation sets, we can plot these accuracy and return measures. "
   ]
  },
  {
   "cell_type": "code",
   "execution_count": 555,
   "metadata": {},
   "outputs": [
    {
     "data": {
      "image/png": "[encoded data removed]",
      "text/plain": [
       "<Figure size 432x288 with 1 Axes>"
      ]
     },
     "metadata": {},
     "output_type": "display_data"
    }
   ],
   "source": [
    "output[['gbm_mse', 'lm_mse']].boxplot(vert=False)\n",
    "plt.title('Model MSE Distribution')\n",
    "plt.show()"
   ]
  },
  {
   "cell_type": "code",
   "execution_count": 548,
   "metadata": {},
   "outputs": [
    {
     "data": {
      "image/png": "[encoded data removed]",
      "text/plain": [
       "<Figure size 432x288 with 1 Axes>"
      ]
     },
     "metadata": {},
     "output_type": "display_data"
    }
   ],
   "source": [
    "output[['gbm_returns', 'lm_returns','rs_returns']].boxplot(vert=False)\n",
    "plt.title('Model Return Distributions')\n",
    "plt.show()"
   ]
  },
  {
   "cell_type": "markdown",
   "metadata": {},
   "source": [
    "Both of our models far outperformed the random sampling method, almost doubling the returns. This is a strong indication that our model can garner insights from the features to select loans that are less likely to default, and yield higher returns. Should you invest into a peer-to-peer lending market, I would advise using signals to try to get a better return rather than using one of the platform's proprietary automated investment strategy. One thing we must be cognizant of is that even though we applied cross validation to minimize bias, there may be some look ahead bias in our dataset in a sense that we are using complete information of the loans that would otherwise not be available at the time of investment. So further testing would be required by employing these models on new loans, and then observing its returns over its life time. However, that would be an unrealistic effort.\n",
    "\n",
    "In terms of the models, Linear regression not only yields consistently better accuracies but also yields higher returns than the GBM method. However, we chose our features using nested model testing on linear regression models and then used the same features for the GBM method. In the next post, we will investigate hyperparameter tuning and feature selection to try to build a GBM model that can outperform the linear regression model.\n"
   ]
  }
 ],
 "metadata": {
  "kernelspec": {
   "display_name": "Python 3",
   "language": "python",
   "name": "python3"
  },
  "language_info": {
   "codemirror_mode": {
    "name": "ipython",
    "version": 3
   },
   "file_extension": ".py",
   "mimetype": "text/x-python",
   "name": "python",
   "nbconvert_exporter": "python",
   "pygments_lexer": "ipython3",
   "version": "3.6.3"
  }
 },
 "nbformat": 4,
 "nbformat_minor": 2
}
